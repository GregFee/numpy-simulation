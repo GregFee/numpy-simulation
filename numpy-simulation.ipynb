{
 "cells": [
  {
   "cell_type": "markdown",
   "metadata": {},
   "source": [
    "# Numpy Simulation of the Effect of NFQ Levels on Weekly Salary"
   ]
  },
  {
   "cell_type": "markdown",
   "metadata": {},
   "source": [
    "![title](img/nfq.png)"
   ]
  },
  {
   "cell_type": "markdown",
   "metadata": {
    "collapsed": true
   },
   "source": [
    "#### What is NFQ Level:\n",
    "\n",
    "The National Framework of Qualifications describe the qualification and of the education and training system in Ireland and how they interlink [1]. The levels are organised by hierachy. The levels considered here were from level 6 to level 10 which is advanced certificate through to doctoral degree level. The data was measured at 3 intervals which were one year, three years and five years after receiving the qualification and the weekly wages received at this time by graduates"
   ]
  },
  {
   "cell_type": "markdown",
   "metadata": {},
   "source": [
    "![title](img/cso.png)\n",
    "\n",
    "The simulation is based on generating some\n",
    "data this graphical image represents. There is no access to the raw data and the data is simulated to obtain the results of the this part of the study. The overall study was an investigation into Higher Eduaction \n",
    "Outcomes of graduates by the Central Statistics Office. It is visually apparent from figure 6.4 that the higher the qualification the higher the weekly wage that is obtained.\n",
    "\n",
    "https://www.cso.ie/en/media/csoie/releasespublications/documents/education/2014/Higher_Education_Outcomes_book_-_web.pdf"
   ]
  },
  {
   "cell_type": "markdown",
   "metadata": {},
   "source": [
    "### Other Areas of Study Showing Levels of Qualifications Relationship With Salary\n",
    "\n",
    "In data from the U.S census it was  found that those with Bacheloers Degree(NFQ Level 8) earned 66% more than those just a highschool graduation and this increases with 97% with a Master Degree [2]. This level increases the more qualifications are advanced advanced. More data from the U.S Census Bureau showed that those with a doctorate(NFQ10) in physical sciences earned 20% more than masters(NFQ9) graduates in physical science [3].There is definetly a positive correlation with qulaification level and salary. \n"
   ]
  },
  {
   "cell_type": "code",
   "execution_count": 1,
   "metadata": {
    "collapsed": true
   },
   "outputs": [],
   "source": [
    "#import libraries\n",
    "import matplotlib.pyplot as plt\n",
    "import numpy as np\n",
    "import pylab\n",
    "Polynomial = np.polynomial.Polynomial\n",
    "import matplotlib.patches as mpatches\n",
    "import pandas as pd"
   ]
  },
  {
   "cell_type": "code",
   "execution_count": 2,
   "metadata": {
    "collapsed": true
   },
   "outputs": [],
   "source": [
    "#assign value for years after graduation \n",
    "y1 = 1\n",
    "y2 = 3\n",
    "y3 = 5"
   ]
  },
  {
   "cell_type": "code",
   "execution_count": 3,
   "metadata": {},
   "outputs": [
    {
     "name": "stdout",
     "output_type": "stream",
     "text": [
      "Salaries Year1 NFQ6 [[248 240 240 242 244]\n",
      " [244 249 249 247 246]\n",
      " [249 246 248 247 247]\n",
      " [246 245 246 247 241]\n",
      " [248 241 243 240 244]\n",
      " [246 249 240 241 240]\n",
      " [242 245 240 249 246]\n",
      " [248 247 245 248 246]\n",
      " [244 249 242 245 246]\n",
      " [242 240 247 242 243]\n",
      " [245 240 247 245 245]\n",
      " [241 244 248 240 245]\n",
      " [241 241 247 246 241]\n",
      " [243 247 245 244 241]\n",
      " [247 249 249 240 241]\n",
      " [241 246 241 246 247]\n",
      " [249 244 242 243 240]\n",
      " [240 242 248 242 245]\n",
      " [244 241 244 244 248]\n",
      " [247 240 243 244 247]]\n",
      "Salaries Year3 NFQ6 [[364 350 354 367 355]\n",
      " [367 368 367 367 358]\n",
      " [355 368 350 366 360]\n",
      " [360 359 364 351 359]\n",
      " [366 358 359 352 357]\n",
      " [357 366 359 352 367]\n",
      " [366 360 366 350 353]\n",
      " [364 352 350 363 351]\n",
      " [357 366 364 369 352]\n",
      " [352 364 356 363 359]\n",
      " [351 353 368 356 355]\n",
      " [369 369 351 364 362]\n",
      " [353 362 364 368 369]\n",
      " [367 356 362 360 351]\n",
      " [366 366 364 350 359]\n",
      " [359 351 361 367 366]\n",
      " [368 350 369 369 358]\n",
      " [361 360 365 356 366]\n",
      " [351 353 360 357 359]\n",
      " [357 352 351 368 369]]\n",
      "Salaries Year5 NFQ5 [[471 475 477 476 478]\n",
      " [479 476 479 474 475]\n",
      " [470 477 473 478 471]\n",
      " [476 478 478 476 477]\n",
      " [474 471 471 473 474]\n",
      " [477 470 475 472 479]\n",
      " [477 471 474 470 473]\n",
      " [477 474 478 472 477]\n",
      " [474 479 477 470 477]\n",
      " [476 471 473 475 471]\n",
      " [475 479 478 474 471]\n",
      " [477 479 478 475 477]\n",
      " [478 474 479 478 473]\n",
      " [475 476 471 478 472]\n",
      " [478 470 478 471 474]\n",
      " [471 474 477 479 470]\n",
      " [476 475 474 472 473]\n",
      " [476 475 478 470 471]\n",
      " [479 473 476 478 475]\n",
      " [473 477 471 474 470]]\n",
      "Dataset starting with the mean [ 245.54698675  243.7791215   245.34285587  245.11302481  245.9503997\n",
      "  246.11863638  243.6393931   245.63479835  244.56276487  244.20746221\n",
      "  245.07784202  242.59653288  244.44798938  244.00410921  245.87440003\n",
      "  245.67476455  245.33552493  244.97570417  244.2167998   243.7471546\n",
      "  246.12773616  243.33648551  245.25948224  242.94445108  246.2540457\n",
      "  245.02378141  245.17893033  244.49361614  245.90140832  244.12136299\n",
      "  244.71068489  245.30120897  244.24237096  244.67781344  244.82829076\n",
      "  246.39399767  245.95705674  244.89668314  244.1857349   244.86025256\n",
      "  245.73739835  243.72241075  244.65733614  245.13773944  246.47884396\n",
      "  246.67186586  243.82456315  243.99284814  244.94859217  243.79275281\n",
      "  243.33819582  245.33285568  244.60671591  244.29565406  243.70253542\n",
      "  244.72406261  246.51370188  244.47281108  245.56897161  245.03184492\n",
      "  244.13180705  245.50005434  245.63919755  245.17711901  243.25819566\n",
      "  246.67761567  246.70882182  243.05997121  244.85811644  245.52068198\n",
      "  244.09740145  245.64792494  243.82212054  245.89955352  244.05908049\n",
      "  243.37940278  243.29546673  244.48533923  245.19768648  245.42542843\n",
      "  244.21477461  245.27490483  243.99324274  243.97169968  245.199087\n",
      "  246.1378044   247.42392702  245.64911775  245.97132781  243.29951528\n",
      "  243.07732308  244.90890343  244.04603123  245.2972902   244.36390357\n",
      "  244.35167865  245.38679367  246.22410956  245.10503235  245.2412124 ]\n",
      "Mean of Dataset is 244.860720234 the same as NFQ6_1\n"
     ]
    }
   ],
   "source": [
    "#NFQ Level 6 and weekly salary after 1, 3, 5 years, use randint that has discrete uniform distribution. 100 Datapoints\n",
    "\n",
    "#100 samples looking to simulate mean value of 245\n",
    "NFQ6_1 = np.random.randint(240,250,(20,5))\n",
    "print('Salaries Year1 NFQ6', NFQ6_1)\n",
    "\n",
    "#100 samples looking to simulate mean value of 360\n",
    "NFQ6_3 = np.random.randint(350,370,(20,5))\n",
    "print('Salaries Year3 NFQ6', NFQ6_3)\n",
    "\n",
    "#100 samples looking to simulate mean value of 475\n",
    "NFQ6_5 = np.random.randint(470,480,(20,5))\n",
    "print('Salaries Year5 NFQ5', NFQ6_5)\n",
    "\n",
    "\n",
    "#Random numbers can also be controlled by using random seed or in this case starting with the required mean and \n",
    "#generating the the random numbers based on achieving the required mean.\n",
    "#edited from https://stackoverflow.com/questions/50177594/create-an-array-with-a-pre-determined-mean-and-standard-deviation\n",
    "#This would create the the same mean as NFQ_6 above but note there is less of a range tan the first method.\n",
    "mean = 245\n",
    "x = np.random.randn(100) + mean\n",
    "ans = np.mean(x)\n",
    "print('Dataset starting with the mean', x)\n",
    "print('Mean of Dataset is', ans, 'the same as NFQ6_1')"
   ]
  },
  {
   "cell_type": "code",
   "execution_count": 4,
   "metadata": {},
   "outputs": [
    {
     "name": "stdout",
     "output_type": "stream",
     "text": [
      "Salaries Year1 NFQ7 [[282 294 282 290 288]\n",
      " [293 292 288 283 293]\n",
      " [295 281 283 293 297]\n",
      " [280 285 294 299 283]\n",
      " [280 290 287 281 291]\n",
      " [287 284 284 292 287]\n",
      " [288 297 285 298 287]\n",
      " [297 280 286 295 289]\n",
      " [282 297 297 282 299]\n",
      " [285 296 285 289 293]\n",
      " [293 292 285 280 294]\n",
      " [282 289 288 286 284]\n",
      " [285 291 282 285 288]\n",
      " [281 297 287 286 291]\n",
      " [287 289 296 298 294]\n",
      " [296 293 283 285 285]\n",
      " [289 289 297 296 290]\n",
      " [298 292 299 283 285]\n",
      " [292 280 282 287 292]\n",
      " [297 292 299 287 298]]\n",
      "Salaries Year3 NFQ7 [[422 422 425 417 424]\n",
      " [415 417 426 429 420]\n",
      " [414 417 428 426 415]\n",
      " [415 411 425 412 429]\n",
      " [414 422 410 410 421]\n",
      " [426 414 422 423 422]\n",
      " [426 415 410 416 420]\n",
      " [417 412 415 410 420]\n",
      " [417 423 419 412 413]\n",
      " [417 412 412 425 412]\n",
      " [429 413 415 419 419]\n",
      " [414 422 426 427 418]\n",
      " [419 421 414 429 426]\n",
      " [418 419 418 426 412]\n",
      " [420 415 429 426 427]\n",
      " [426 418 410 415 411]\n",
      " [425 424 424 415 412]\n",
      " [421 421 414 413 419]\n",
      " [419 429 419 417 414]\n",
      " [428 425 424 421 421]]\n",
      "Salaries Year5 NFQ7 [[527 524 516 515 530]\n",
      " [531 527 515 527 531]\n",
      " [528 523 519 533 526]\n",
      " [531 515 522 530 523]\n",
      " [518 532 522 531 525]\n",
      " [519 523 525 534 518]\n",
      " [531 515 531 520 534]\n",
      " [530 519 519 532 522]\n",
      " [533 518 526 531 528]\n",
      " [528 522 522 529 524]\n",
      " [527 517 532 522 530]\n",
      " [521 521 520 516 515]\n",
      " [533 521 521 526 533]\n",
      " [522 531 534 518 530]\n",
      " [532 525 534 531 525]\n",
      " [527 522 515 534 515]\n",
      " [530 516 517 528 517]\n",
      " [522 529 526 520 519]\n",
      " [515 534 520 515 532]\n",
      " [528 524 524 524 529]]\n"
     ]
    }
   ],
   "source": [
    "#NFQ Level 7 and weekly salary after 1, 3, 5 years, use randint that has discrete uniform distribution. 100 Datapoints\n",
    "\n",
    "#100 samples looking to simulate mean value of 290\n",
    "NFQ7_1 = np.random.randint(280,300,(20,5))\n",
    "print('Salaries Year1 NFQ7', NFQ7_1)\n",
    "\n",
    "#100 samples looking to simulate mean value of 420\n",
    "NFQ7_3 = np.random.randint(410,430,(20,5))\n",
    "print('Salaries Year3 NFQ7', NFQ7_3)\n",
    "\n",
    "#100 samples looking to simulate mean value of 525\n",
    "NFQ7_5 = np.random.randint(515,535,(20,5))\n",
    "print('Salaries Year5 NFQ7', NFQ7_5)"
   ]
  },
  {
   "cell_type": "code",
   "execution_count": 5,
   "metadata": {},
   "outputs": [
    {
     "name": "stdout",
     "output_type": "stream",
     "text": [
      "Salaries Year1 NFQ8 [[416 432 434 430 433]\n",
      " [424 432 429 426 416]\n",
      " [428 417 422 423 417]\n",
      " [418 429 434 423 430]\n",
      " [425 434 419 419 434]\n",
      " [429 433 431 427 423]\n",
      " [421 415 428 429 429]\n",
      " [416 420 434 417 427]\n",
      " [425 430 429 427 415]\n",
      " [434 423 415 426 423]\n",
      " [426 420 424 419 431]\n",
      " [419 426 434 426 425]\n",
      " [434 417 424 417 420]\n",
      " [425 418 431 424 432]\n",
      " [431 429 429 425 434]\n",
      " [430 420 420 430 432]\n",
      " [420 419 417 422 417]\n",
      " [424 419 422 434 415]\n",
      " [424 434 421 429 432]\n",
      " [419 431 422 423 432]]\n",
      "Salaries Year3 NFQ8 [[540 536 525 532 529]\n",
      " [537 541 537 538 525]\n",
      " [526 534 533 535 530]\n",
      " [542 532 537 532 528]\n",
      " [537 528 528 534 529]\n",
      " [526 533 527 531 530]\n",
      " [532 544 534 541 527]\n",
      " [532 525 535 530 531]\n",
      " [540 543 530 526 532]\n",
      " [529 534 530 534 544]\n",
      " [536 544 537 530 542]\n",
      " [543 543 526 528 540]\n",
      " [541 539 538 525 529]\n",
      " [534 526 537 528 539]\n",
      " [527 542 533 541 540]\n",
      " [540 526 533 540 534]\n",
      " [543 535 532 525 537]\n",
      " [540 530 528 538 533]\n",
      " [525 533 541 542 535]\n",
      " [534 541 534 529 532]]\n",
      "Salaries Year5 NFQ8 [[649 646 645 657 640]\n",
      " [657 656 650 658 646]\n",
      " [643 655 645 651 654]\n",
      " [653 658 659 653 651]\n",
      " [657 655 656 650 653]\n",
      " [640 653 643 640 640]\n",
      " [644 652 653 651 640]\n",
      " [641 658 653 659 649]\n",
      " [650 646 646 659 641]\n",
      " [644 642 652 650 659]\n",
      " [650 649 649 646 648]\n",
      " [652 647 656 640 656]\n",
      " [656 642 647 640 643]\n",
      " [654 654 648 647 655]\n",
      " [651 642 643 653 642]\n",
      " [656 651 650 645 651]\n",
      " [652 656 645 657 659]\n",
      " [654 643 647 657 650]\n",
      " [641 657 642 645 646]\n",
      " [643 648 646 654 659]]\n"
     ]
    }
   ],
   "source": [
    "#NFQ Level 8 and weekly salary after 1, 3, 5 years, use randint that has discrete uniform distribution. 100 Datapoints\n",
    "\n",
    "#100 samples looking to simulate mean value of 425\n",
    "NFQ8_1 = np.random.randint(415,435,(20,5))\n",
    "print('Salaries Year1 NFQ8', NFQ8_1)\n",
    "\n",
    "#100 samples looking to simulate mean value of 535\n",
    "NFQ8_3 = np.random.randint(525,545,(20,5))\n",
    "print('Salaries Year3 NFQ8', NFQ8_3)\n",
    "\n",
    "#100 samples looking to simulate mean value of 650\n",
    "NFQ8_5 = np.random.randint(640,660,(20,5))\n",
    "print('Salaries Year5 NFQ8', NFQ8_5)"
   ]
  },
  {
   "cell_type": "code",
   "execution_count": 6,
   "metadata": {},
   "outputs": [
    {
     "name": "stdout",
     "output_type": "stream",
     "text": [
      "Salaries Year1 NFQ9 [[514 505 504 503 506]\n",
      " [516 503 516 509 508]\n",
      " [501 516 506 508 504]\n",
      " [515 508 516 513 504]\n",
      " [501 512 505 513 516]\n",
      " [513 501 510 500 503]\n",
      " [517 508 509 509 505]\n",
      " [505 512 508 510 511]\n",
      " [505 517 511 518 515]\n",
      " [508 513 511 502 505]\n",
      " [501 519 517 515 515]\n",
      " [506 506 501 507 515]\n",
      " [507 503 517 517 500]\n",
      " [508 509 516 508 519]\n",
      " [514 506 507 517 517]\n",
      " [514 514 500 516 512]\n",
      " [501 509 500 504 510]\n",
      " [513 501 509 518 500]\n",
      " [502 513 507 503 511]\n",
      " [510 505 506 518 516]]\n",
      "Salaries Year3 NFQ9 [[629 635 635 620 636]\n",
      " [633 639 629 633 637]\n",
      " [632 628 624 621 632]\n",
      " [634 635 627 632 627]\n",
      " [635 631 622 638 625]\n",
      " [624 635 624 637 626]\n",
      " [622 622 636 632 630]\n",
      " [628 626 629 635 625]\n",
      " [635 630 632 627 632]\n",
      " [630 634 625 623 636]\n",
      " [628 629 638 639 628]\n",
      " [624 621 633 632 627]\n",
      " [633 638 636 634 626]\n",
      " [631 636 631 633 632]\n",
      " [625 635 625 622 620]\n",
      " [639 625 628 628 628]\n",
      " [631 638 622 631 621]\n",
      " [634 620 630 622 638]\n",
      " [637 622 626 620 633]\n",
      " [622 631 636 639 638]]\n",
      "Salaries Year5 NFQ9 [[745 749 742 734 740]\n",
      " [741 744 730 734 745]\n",
      " [740 749 730 742 731]\n",
      " [732 741 733 744 746]\n",
      " [746 742 738 735 742]\n",
      " [733 740 740 747 731]\n",
      " [730 737 746 743 743]\n",
      " [744 735 733 735 731]\n",
      " [738 732 748 733 741]\n",
      " [735 731 736 741 740]\n",
      " [736 731 745 742 749]\n",
      " [742 730 748 742 746]\n",
      " [739 738 740 747 740]\n",
      " [732 747 743 737 734]\n",
      " [731 739 746 735 730]\n",
      " [740 737 732 742 737]\n",
      " [732 745 732 733 737]\n",
      " [736 730 738 747 734]\n",
      " [740 748 743 740 733]\n",
      " [731 738 741 744 749]]\n"
     ]
    }
   ],
   "source": [
    "#NFQ Level 9 and weekly salary after 1, 3, 5 years, use randint that has discrete uniform distribution. 100 Datapoints\n",
    "\n",
    "#100 samples looking to simulate mean value of 510\n",
    "NFQ9_1 = np.random.randint(500,520,(20,5))\n",
    "print('Salaries Year1 NFQ9', NFQ9_1)\n",
    "\n",
    "#100 samples looking to simulate mean value of 630\n",
    "NFQ9_3 = np.random.randint(620,640,(20,5))\n",
    "print('Salaries Year3 NFQ9', NFQ9_3)\n",
    "\n",
    "#100 samples looking to simulate mean value of 740\n",
    "NFQ9_5 = np.random.randint(730,750,(20,5))\n",
    "print('Salaries Year5 NFQ9', NFQ9_5)"
   ]
  },
  {
   "cell_type": "code",
   "execution_count": 7,
   "metadata": {},
   "outputs": [
    {
     "name": "stdout",
     "output_type": "stream",
     "text": [
      "Salaries Year1 NFQ10 [[700 710 697 707 701]\n",
      " [699 699 709 698 696]\n",
      " [706 705 708 712 696]\n",
      " [707 702 701 706 711]\n",
      " [702 705 698 707 713]\n",
      " [705 698 695 707 695]\n",
      " [697 702 706 703 700]\n",
      " [705 699 704 702 706]\n",
      " [707 711 706 701 700]\n",
      " [711 711 699 713 706]\n",
      " [707 708 708 711 707]\n",
      " [702 711 701 697 709]\n",
      " [705 702 705 696 710]\n",
      " [695 696 702 714 701]\n",
      " [705 698 697 710 701]\n",
      " [704 703 708 710 713]\n",
      " [696 699 710 703 709]\n",
      " [700 706 711 708 709]\n",
      " [697 696 703 706 712]\n",
      " [712 712 702 712 703]]\n",
      "Salaries Year3 NFQ10 [[809 811 808 806 814]\n",
      " [800 805 810 812 803]\n",
      " [808 809 799 796 812]\n",
      " [804 814 811 804 797]\n",
      " [814 808 807 804 801]\n",
      " [809 800 809 810 797]\n",
      " [803 812 809 808 812]\n",
      " [803 796 810 800 811]\n",
      " [813 812 808 804 807]\n",
      " [798 799 798 810 802]\n",
      " [806 795 799 807 807]\n",
      " [805 798 809 798 811]\n",
      " [800 800 814 798 795]\n",
      " [799 806 814 814 805]\n",
      " [810 809 809 812 812]\n",
      " [799 805 812 803 806]\n",
      " [804 796 806 799 799]\n",
      " [810 805 798 806 811]\n",
      " [814 800 806 805 806]\n",
      " [811 799 797 798 809]]\n",
      "Salaries Year5 NFQ10 [[922 918 928 920 929]\n",
      " [917 929 911 924 926]\n",
      " [912 914 929 917 919]\n",
      " [911 912 923 924 918]\n",
      " [912 920 915 912 921]\n",
      " [923 929 922 926 920]\n",
      " [910 928 910 924 911]\n",
      " [921 914 910 921 929]\n",
      " [917 912 926 928 912]\n",
      " [917 917 920 914 927]\n",
      " [929 914 923 914 924]\n",
      " [926 924 910 912 923]\n",
      " [917 919 921 926 925]\n",
      " [923 914 923 912 911]\n",
      " [913 928 911 910 914]\n",
      " [910 925 912 928 922]\n",
      " [917 919 925 922 928]\n",
      " [914 918 916 926 915]\n",
      " [925 921 914 927 928]\n",
      " [914 913 916 926 910]]\n"
     ]
    }
   ],
   "source": [
    "#NFQ Level 10 and weekly salary after 1, 3, 5 years, use randint that has discrete uniform distribution. 100 Datapoints\n",
    "\n",
    "#100 samples looking to simulate mean value of 705\n",
    "NFQ10_1 = np.random.randint(695,715,(20,5))\n",
    "print('Salaries Year1 NFQ10', NFQ10_1)\n",
    "\n",
    "#100 samples looking to simulate mean value of 805\n",
    "NFQ10_3 = np.random.randint(795,815,(20,5))\n",
    "print('Salaries Year3 NFQ10', NFQ10_3)\n",
    "\n",
    "#100 samples looking to simulate mean value of 920\n",
    "NFQ10_5 = np.random.randint(910,930,(20,5))\n",
    "print('Salaries Year5 NFQ10', NFQ10_5)"
   ]
  },
  {
   "cell_type": "markdown",
   "metadata": {},
   "source": [
    "### Calculate mean values for all NFQ Levels to see if similar to Figure 6.4"
   ]
  },
  {
   "cell_type": "code",
   "execution_count": 8,
   "metadata": {},
   "outputs": [
    {
     "name": "stdout",
     "output_type": "stream",
     "text": [
      "Mean weekly wage of NFQ6 after 1 year is 244.39\n",
      "Mean weekly wage of NFQ6 after 3 years is 359.97\n",
      "Mean weekly wage of NFQ6 after 5 years is 474.81\n"
     ]
    }
   ],
   "source": [
    "#Calculate mean of weekly salaries for each qualification after 1, 3, 5 years after graduation\n",
    "\n",
    "#NFQ level 6 after 1 year\n",
    "x1 = np.mean(NFQ6_1)\n",
    "print('Mean weekly wage of NFQ6 after 1 year is', x1)\n",
    "\n",
    "#NFQ level 6 after 3 years\n",
    "x2 = np.mean(NFQ6_3)\n",
    "print('Mean weekly wage of NFQ6 after 3 years is', x2)\n",
    "\n",
    "#NFQ level 6 after 5 years\n",
    "x3 = np.mean(NFQ6_5)\n",
    "print('Mean weekly wage of NFQ6 after 5 years is', x3)"
   ]
  },
  {
   "cell_type": "code",
   "execution_count": 9,
   "metadata": {},
   "outputs": [
    {
     "name": "stdout",
     "output_type": "stream",
     "text": [
      "Mean weekly wage of NFQ7 after 1 year is 289.21\n",
      "Mean weekly wage of NFQ7 after 3 years is 419.22\n",
      "Mean weekly wage of NFQ7 after 5 years is 524.73\n"
     ]
    }
   ],
   "source": [
    "#NFQ level 7 after 1 year\n",
    "x4 = np.mean(NFQ7_1)\n",
    "print('Mean weekly wage of NFQ7 after 1 year is', x4)\n",
    "\n",
    "#NFQ level 7 after 3 years\n",
    "x5 = np.mean(NFQ7_3)\n",
    "print('Mean weekly wage of NFQ7 after 3 years is', x5)\n",
    "\n",
    "#NFQ level 7 after 5 years\n",
    "x6 = np.mean(NFQ7_5)\n",
    "print('Mean weekly wage of NFQ7 after 5 years is', x6)"
   ]
  },
  {
   "cell_type": "code",
   "execution_count": 10,
   "metadata": {},
   "outputs": [
    {
     "name": "stdout",
     "output_type": "stream",
     "text": [
      "Mean weekly wage of NFQ8 after 1 year is 425.18\n",
      "Mean weekly wage of NFQ8 after 3 years is 533.93\n",
      "Mean weekly wage of NFQ8 after 5 years is 649.66\n"
     ]
    }
   ],
   "source": [
    "#NFQ level 8 after 1 year\n",
    "x7 = np.mean(NFQ8_1)\n",
    "print('Mean weekly wage of NFQ8 after 1 year is', x7)\n",
    "\n",
    "#NFQ level 8 after 3 years\n",
    "x8 = np.mean(NFQ8_3)\n",
    "print('Mean weekly wage of NFQ8 after 3 years is', x8)\n",
    "\n",
    "#NFQ level 8 after 5 years\n",
    "x9 = np.mean(NFQ8_5)\n",
    "print('Mean weekly wage of NFQ8 after 5 years is', x9)"
   ]
  },
  {
   "cell_type": "code",
   "execution_count": 11,
   "metadata": {},
   "outputs": [
    {
     "name": "stdout",
     "output_type": "stream",
     "text": [
      "Mean weekly wage of NFQ9 after 1 year is 509.27\n",
      "Mean weekly wage of NFQ9 after 3 years is 629.99\n",
      "Mean weekly wage of NFQ9 after 5 years is 738.86\n"
     ]
    }
   ],
   "source": [
    "#NFQ level 9 after 1 year\n",
    "x10 = np.mean(NFQ9_1)\n",
    "print('Mean weekly wage of NFQ9 after 1 year is', x10)\n",
    "\n",
    "#NFQ level 9 after 3 years\n",
    "x11 = np.mean(NFQ9_3)\n",
    "print('Mean weekly wage of NFQ9 after 3 years is', x11)\n",
    "\n",
    "#NFQ level 9 after 5 years\n",
    "x12 = np.mean(NFQ9_5)\n",
    "print('Mean weekly wage of NFQ9 after 5 years is', x12)"
   ]
  },
  {
   "cell_type": "code",
   "execution_count": 12,
   "metadata": {},
   "outputs": [
    {
     "name": "stdout",
     "output_type": "stream",
     "text": [
      "Mean weekly wage of NFQ10 after 1 year is 704.26\n",
      "Mean weekly wage of NFQ10 after 3 years is 805.42\n",
      "Mean weekly wage of NFQ10 after 5 years is 919.28\n"
     ]
    }
   ],
   "source": [
    "#NFQ level 10 after 1 year\n",
    "x13 = np.mean(NFQ10_1)\n",
    "print('Mean weekly wage of NFQ10 after 1 year is', x13)\n",
    "\n",
    "#NFQ level 10 after 3 years\n",
    "x14 = np.mean(NFQ10_3)\n",
    "print('Mean weekly wage of NFQ10 after 3 years is', x14)\n",
    "\n",
    "#NFQ level 10 after 5 years\n",
    "x15 = np.mean(NFQ10_5)\n",
    "print('Mean weekly wage of NFQ10 after 5 years is', x15)"
   ]
  },
  {
   "cell_type": "code",
   "execution_count": 13,
   "metadata": {},
   "outputs": [
    {
     "data": {
      "image/png": "[encoded data removed]",
      "text/plain": [
       "<matplotlib.figure.Figure at 0x216662ad860>"
      ]
     },
     "metadata": {},
     "output_type": "display_data"
    }
   ],
   "source": [
    "#Plotting simulated data to see if result is similar to the image 6.4 above.\n",
    "fig, ax = plt.subplots()\n",
    "ax.plot(y1, x1, 'go')\n",
    "ax.plot(y2, x2, 'go')\n",
    "ax.plot(y3, x3, 'go')\n",
    "ax.plot(y1, x4, 'ko')\n",
    "ax.plot(y2, x5, 'ko')\n",
    "ax.plot(y3, x6, 'ko')\n",
    "ax.plot(y1, x7, 'bo')\n",
    "ax.plot(y2, x8, 'bo')\n",
    "ax.plot(y3, x9, 'bo')\n",
    "ax.plot(y1, x10, 'ro')\n",
    "ax.plot(y2, x11, 'ro')\n",
    "ax.plot(y3, x12, 'ro')\n",
    "ax.plot(y1, x13, 'yo')\n",
    "ax.plot(y2, x14, 'yo')\n",
    "ax.plot(y3, x15, 'yo')\n",
    "ax.set(xlabel='Years since Graduation', ylabel='wages per week(Euros)',\n",
    "       title='Weekly Salary and NFQ Levels')\n",
    "ax.grid()\n",
    "plt.show()"
   ]
  },
  {
   "cell_type": "code",
   "execution_count": 14,
   "metadata": {},
   "outputs": [
    {
     "name": "stdout",
     "output_type": "stream",
     "text": [
      "Wage difference from NFQ10 & NFQ6 5 years after graduation is € 444.47\n",
      "Wage difference from NFQ10 & NFQ7 5 years after graduation is € 394.55\n",
      "Wage difference from NFQ10 & NFQ8 5 years after graduation is € 269.62\n",
      "Wage difference from NFQ10 & NFQ9 5 years after graduation is € 180.42\n"
     ]
    }
   ],
   "source": [
    "#Calculate wage differnecs between all NFQ levels after 5 years.\n",
    "range1  = x15 -x3\n",
    "print('Wage difference from NFQ10 & NFQ6 5 years after graduation is €', range1)\n",
    "\n",
    "range2 = x15 - x6\n",
    "print('Wage difference from NFQ10 & NFQ7 5 years after graduation is €', range2)\n",
    "\n",
    "range3 = x15 - x9\n",
    "print('Wage difference from NFQ10 & NFQ8 5 years after graduation is €', range3)\n",
    "\n",
    "range4 = x15 - x12\n",
    "print('Wage difference from NFQ10 & NFQ9 5 years after graduation is €', range4)"
   ]
  },
  {
   "cell_type": "markdown",
   "metadata": {},
   "source": [
    "#### From the above data showing the ranges of wages we can see that the discrepency of wage level decreases with higher NFQ level. This is the expected result."
   ]
  },
  {
   "cell_type": "code",
   "execution_count": 15,
   "metadata": {},
   "outputs": [
    {
     "name": "stdout",
     "output_type": "stream",
     "text": [
      "      0    1    2    3    4\n",
      "0   248  240  240  242  244\n",
      "1   244  249  249  247  246\n",
      "2   249  246  248  247  247\n",
      "3   246  245  246  247  241\n",
      "4   248  241  243  240  244\n",
      "5   246  249  240  241  240\n",
      "6   242  245  240  249  246\n",
      "7   248  247  245  248  246\n",
      "8   244  249  242  245  246\n",
      "9   242  240  247  242  243\n",
      "10  245  240  247  245  245\n",
      "11  241  244  248  240  245\n",
      "12  241  241  247  246  241\n",
      "13  243  247  245  244  241\n",
      "14  247  249  249  240  241\n",
      "15  241  246  241  246  247\n",
      "16  249  244  242  243  240\n",
      "17  240  242  248  242  245\n",
      "18  244  241  244  244  248\n",
      "19  247  240  243  244  247\n",
      "      0    1    2    3    4\n",
      "0   364  350  354  367  355\n",
      "1   367  368  367  367  358\n",
      "2   355  368  350  366  360\n",
      "3   360  359  364  351  359\n",
      "4   366  358  359  352  357\n",
      "5   357  366  359  352  367\n",
      "6   366  360  366  350  353\n",
      "7   364  352  350  363  351\n",
      "8   357  366  364  369  352\n",
      "9   352  364  356  363  359\n",
      "10  351  353  368  356  355\n",
      "11  369  369  351  364  362\n",
      "12  353  362  364  368  369\n",
      "13  367  356  362  360  351\n",
      "14  366  366  364  350  359\n",
      "15  359  351  361  367  366\n",
      "16  368  350  369  369  358\n",
      "17  361  360  365  356  366\n",
      "18  351  353  360  357  359\n",
      "19  357  352  351  368  369\n",
      "      0    1    2    3    4\n",
      "0   471  475  477  476  478\n",
      "1   479  476  479  474  475\n",
      "2   470  477  473  478  471\n",
      "3   476  478  478  476  477\n",
      "4   474  471  471  473  474\n",
      "5   477  470  475  472  479\n",
      "6   477  471  474  470  473\n",
      "7   477  474  478  472  477\n",
      "8   474  479  477  470  477\n",
      "9   476  471  473  475  471\n",
      "10  475  479  478  474  471\n",
      "11  477  479  478  475  477\n",
      "12  478  474  479  478  473\n",
      "13  475  476  471  478  472\n",
      "14  478  470  478  471  474\n",
      "15  471  474  477  479  470\n",
      "16  476  475  474  472  473\n",
      "17  476  475  478  470  471\n",
      "18  479  473  476  478  475\n",
      "19  473  477  471  474  470\n"
     ]
    }
   ],
   "source": [
    "#Dataframes can be generated from the random generated and the data can be described.\n",
    "#Make dataframe for NFQ6 and look at data\n",
    "df = pd.DataFrame(NFQ6_1)\n",
    "df1 = pd.DataFrame(NFQ6_3)\n",
    "df2 = pd.DataFrame(NFQ6_5)\n",
    "print(df.head(20))\n",
    "print(df1.head(20))\n",
    "print(df2.head(20))"
   ]
  },
  {
   "cell_type": "code",
   "execution_count": 16,
   "metadata": {},
   "outputs": [
    {
     "name": "stdout",
     "output_type": "stream",
     "text": [
      "                0           1           2           3           4\n",
      "count   60.000000   60.000000   60.000000   60.000000   60.000000\n",
      "mean   360.233333  359.366667  360.216667  359.700000  359.100000\n",
      "std     95.067214   94.985809   95.217341   94.866954   94.667787\n",
      "min    240.000000  240.000000  240.000000  240.000000  240.000000\n",
      "25%    247.750000  247.000000  247.750000  246.750000  246.000000\n",
      "50%    360.500000  359.500000  361.500000  363.000000  359.000000\n",
      "75%    474.000000  471.500000  473.250000  472.000000  471.000000\n",
      "max    479.000000  479.000000  479.000000  479.000000  479.000000\n",
      "                0           1           2           3           4\n",
      "count   60.000000   60.000000   60.000000   60.000000   60.000000\n",
      "mean   411.733333  410.500000  410.233333  411.316667  411.483333\n",
      "std     98.397993   96.200973   96.966422   97.962894   96.989514\n",
      "min    280.000000  280.000000  282.000000  280.000000  283.000000\n",
      "25%    294.500000  293.750000  295.500000  294.500000  293.750000\n",
      "50%    419.000000  418.500000  419.000000  418.000000  419.500000\n",
      "75%    522.000000  518.250000  519.000000  520.000000  519.750000\n",
      "max    533.000000  534.000000  534.000000  534.000000  534.000000\n",
      "                0           1           2           3           4\n",
      "count   60.000000   60.000000   60.000000   60.000000   60.000000\n",
      "mean   536.316667  536.950000  535.816667  536.116667  536.083333\n",
      "std     92.789080   93.087971   91.891331   93.147430   92.146400\n",
      "min    416.000000  415.000000  415.000000  417.000000  415.000000\n",
      "25%    428.750000  431.750000  431.000000  428.500000  432.000000\n",
      "50%    536.500000  534.500000  533.000000  532.000000  532.000000\n",
      "75%    643.250000  646.000000  645.000000  645.250000  642.250000\n",
      "max    657.000000  658.000000  659.000000  659.000000  659.000000\n",
      "                0           1           2           3           4\n",
      "count   60.000000   60.000000   60.000000   60.000000   60.000000\n",
      "mean   625.333333  626.216667  625.800000  626.716667  626.133333\n",
      "std     94.319807   94.982441   95.044824   94.665887   94.634975\n",
      "min    501.000000  501.000000  500.000000  500.000000  500.000000\n",
      "25%    514.000000  513.000000  514.750000  516.750000  515.000000\n",
      "50%    631.000000  631.000000  629.000000  632.000000  629.000000\n",
      "75%    732.000000  732.750000  733.000000  735.000000  733.250000\n",
      "max    746.000000  749.000000  748.000000  747.000000  749.000000\n",
      "                0           1           2           3           4\n",
      "count   60.000000   60.000000   60.000000   60.000000   60.000000\n",
      "mean   808.850000  809.000000  809.466667  810.500000  810.450000\n",
      "std     88.442038   89.077951   88.605289   88.580233   89.063951\n",
      "min    695.000000  696.000000  695.000000  696.000000  695.000000\n",
      "25%    706.750000  709.500000  708.000000  710.750000  709.750000\n",
      "50%    805.500000  805.000000  808.500000  804.500000  806.500000\n",
      "75%    912.250000  914.000000  911.250000  914.000000  914.250000\n",
      "max    929.000000  929.000000  929.000000  928.000000  929.000000\n"
     ]
    }
   ],
   "source": [
    "#combine dataframes together for all NFQ levels.\n",
    "# edited from https://pandas.pydata.org/pandas-docs/stable/merging.html\n",
    "#decribe data\n",
    "data = [df, df1, df2]\n",
    "NFQ6 = pd.concat(data)\n",
    "print(NFQ6.describe())\n",
    "\n",
    "\n",
    "df3 = pd.DataFrame(NFQ7_1)\n",
    "df4 = pd.DataFrame(NFQ7_3)\n",
    "df5 = pd.DataFrame(NFQ7_5)\n",
    "data1 = [df3, df4, df5]\n",
    "NFQ7 = pd.concat(data1)\n",
    "print(NFQ7.describe())\n",
    "\n",
    "\n",
    "df6 = pd.DataFrame(NFQ8_1)\n",
    "df7 = pd.DataFrame(NFQ8_3)\n",
    "df8 = pd.DataFrame(NFQ8_5)\n",
    "data2 = [df6, df7, df8]\n",
    "NFQ8 = pd.concat(data2)\n",
    "print(NFQ8.describe())\n",
    "\n",
    "df9 = pd.DataFrame(NFQ9_1)\n",
    "df10 = pd.DataFrame(NFQ9_3)\n",
    "df11 = pd.DataFrame(NFQ9_5)\n",
    "data3 = [df9, df10, df11]\n",
    "NFQ9 = pd.concat(data3)\n",
    "print(NFQ9.describe())\n",
    "\n",
    "\n",
    "df12 = pd.DataFrame(NFQ10_1)\n",
    "df13 = pd.DataFrame(NFQ10_3)\n",
    "df14 = pd.DataFrame(NFQ10_5)\n",
    "data4 = [df12, df13, df14]\n",
    "NFQ10 = pd.concat(data4)\n",
    "print(NFQ10.describe())\n"
   ]
  },
  {
   "cell_type": "code",
   "execution_count": 27,
   "metadata": {},
   "outputs": [
    {
     "name": "stdout",
     "output_type": "stream",
     "text": [
      "Percentage of wages received for NFQ6 in relation to NFQ10 after 5 years is 51.6502045079 %\n",
      "Percentage of wages received for NFQ7 in relation to NFQ10 after 5 years is 57.0805412932 %\n",
      "Percentage of wages received for NFQ8 in relation to NFQ10 after 5 years is 70.6705247585 %\n",
      "Percentage of wages received for NFQ9 in relation to NFQ10 after 5 years is 80.3737707771 %\n",
      "Percentage of wages received for NFQ6 in relation to NFQ10 after 3 years is 44.6934518636 %\n",
      "Percentage of wages received for NFQ7 in relation to NFQ10 after 3 years is 52.0498621837 %\n",
      "Percentage of wages received for NFQ8 in relation to NFQ10 after 3 years is 66.292120881 %\n",
      "Percentage of wages received for NFQ9 in relation to NFQ10 after 3 years is 78.2188175114 %\n",
      "Percentage of wages received for NFQ6 in relation to NFQ10 after 1 years is 34.7016726777 %\n",
      "Percentage of wages received for NFQ7 in relation to NFQ10 after 1 years is 41.0657995627 %\n",
      "Percentage of wages received for NFQ8 in relation to NFQ10 after 1 years is 60.3725896686 %\n",
      "Percentage of wages received for NFQ9 in relation to NFQ10 after 1 years is 72.3127822111 %\n"
     ]
    }
   ],
   "source": [
    "#Calculate percentage difference of salary levels after 5 years experience\n",
    "Percentage1=(x3/x15) *100\n",
    "print(\"Percentage of wages received for NFQ6 in relation to NFQ10 after 5 years is\", Percentage1,\"%\")\n",
    "\n",
    "#Calculate percentage difference of salary levels after 5 years experience\n",
    "Percentage2=(x6/x15) *100\n",
    "print(\"Percentage of wages received for NFQ7 in relation to NFQ10 after 5 years is\", Percentage2,\"%\")\n",
    "\n",
    "#Calculate percentage difference of salary levels after 5 years experience\n",
    "Percentage3=(x9/x15) *100\n",
    "print(\"Percentage of wages received for NFQ8 in relation to NFQ10 after 5 years is\", Percentage3,\"%\")\n",
    "\n",
    "#Calculate percentage difference of salary levels after 5 years experience\n",
    "Percentage4=(x12/x15) *100\n",
    "print(\"Percentage of wages received for NFQ9 in relation to NFQ10 after 5 years is\", Percentage4,\"%\")\n",
    "\n",
    "#Calculate percentage difference of salary levels after 3 years experience\n",
    "Percentage5=(x2/x14) *100\n",
    "print(\"Percentage of wages received for NFQ6 in relation to NFQ10 after 3 years is\", Percentage5,\"%\")\n",
    "\n",
    "#Calculate percentage difference of salary levels after 3 years experience\n",
    "Percentage6=(x5/x14) *100\n",
    "print(\"Percentage of wages received for NFQ7 in relation to NFQ10 after 3 years is\", Percentage6,\"%\")\n",
    "\n",
    "#Calculate percentage difference of salary levels after 3 years experience\n",
    "Percentage7=(x8/x14) *100\n",
    "print(\"Percentage of wages received for NFQ8 in relation to NFQ10 after 3 years is\", Percentage7,\"%\")\n",
    "\n",
    "#Calculate percentage difference of salary levels after 3 years experience\n",
    "Percentage8=(x11/x14) *100\n",
    "print(\"Percentage of wages received for NFQ9 in relation to NFQ10 after 3 years is\", Percentage8,\"%\")\n",
    "\n",
    "#Calculate percentage difference of salary levels after 1 years experience\n",
    "Percentage9=(x1/x13) *100\n",
    "print(\"Percentage of wages received for NFQ6 in relation to NFQ10 after 1 years is\", Percentage9,\"%\")\n",
    "\n",
    "#Calculate percentage difference of salary levels after 1 years experience\n",
    "Percentage10=(x4/x13) *100\n",
    "print(\"Percentage of wages received for NFQ7 in relation to NFQ10 after 1 years is\", Percentage10,\"%\")\n",
    "\n",
    "#Calculate percentage difference of salary levels after 1 years experience\n",
    "Percentage11=(x7/x13) *100\n",
    "print(\"Percentage of wages received for NFQ8 in relation to NFQ10 after 1 years is\", Percentage11,\"%\")\n",
    "\n",
    "#Calculate percentage difference of salary levels after 1 years experience\n",
    "Percentage12=(x10/x13) *100\n",
    "print(\"Percentage of wages received for NFQ9 in relation to NFQ10 after 1 years is\", Percentage12,'%')"
   ]
  },
  {
   "cell_type": "markdown",
   "metadata": {},
   "source": [
    "The above percentages are similar to the data in the in the U.S. census highlighted above. The difference between NFQ10 and NFQ9 is 20% which is the same deviation for graduates of pysical sciences at masters and doctorate level."
   ]
  },
  {
   "cell_type": "code",
   "execution_count": 50,
   "metadata": {},
   "outputs": [
    {
     "data": {
      "image/png": "[encoded data removed]",
      "text/plain": [
       "<matplotlib.figure.Figure at 0x1d53a0239b0>"
      ]
     },
     "metadata": {},
     "output_type": "display_data"
    }
   ],
   "source": [
    "#Edited from https://bespokeblog.wordpress.com/2011/07/07/basic-data-plotting-with-matplotlib-part-2-lines-points-formatting/\n",
    "#Plot percentage difference of salary levels after 5 years experience\n",
    "percentages = (Percentage1, Percentage2, Percentage3, Percentage4,)\n",
    "plt.plot(percentages, marker='o', linestyle='--', color='r', label='Percentages')\n",
    "plt.title(\"Percentage of Salary Difference With Increased NFQ Level Comapared to NFQ Level 10.\")\n",
    "plt.ylabel(\"Percentage of Salary\")\n",
    "plt.show()"
   ]
  },
  {
   "cell_type": "code",
   "execution_count": null,
   "metadata": {
    "collapsed": true
   },
   "outputs": [],
   "source": [
    "#Calculate percentage difference of salary levels after 3 years experience"
   ]
  },
  {
   "cell_type": "markdown",
   "metadata": {},
   "source": [
    "### Conclusion:\n",
    "\n",
    "From the "
   ]
  },
  {
   "cell_type": "markdown",
   "metadata": {
    "collapsed": true
   },
   "source": [
    "### References:\n",
    "\n",
    "[1] https://www.qqi.ie/Articles/Pages/National-Framework-of-Qualifications-(NFQ).aspx\n",
    "\n",
    "[2] https://trends.collegeboard.org/education-pays/figures-tables/lifetime-earnings-education-level\n",
    "\n",
    "[3] Salary Difference Between Master’s and Ph.D. Degrees \n",
    "\n",
    "https://www.wes.org/advisor-blog/salary-difference-masters-phd/\n",
    "\n",
    "\n"
   ]
  },
  {
   "cell_type": "code",
   "execution_count": null,
   "metadata": {
    "collapsed": true
   },
   "outputs": [],
   "source": []
  }
 ],
 "metadata": {
  "kernelspec": {
   "display_name": "Python 3",
   "language": "python",
   "name": "python3"
  },
  "language_info": {
   "codemirror_mode": {
    "name": "ipython",
    "version": 3
   },
   "file_extension": ".py",
   "mimetype": "text/x-python",
   "name": "python",
   "nbconvert_exporter": "python",
   "pygments_lexer": "ipython3",
   "version": "3.6.3"
  }
 },
 "nbformat": 4,
 "nbformat_minor": 2
}
