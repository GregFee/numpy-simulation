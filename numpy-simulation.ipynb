{
 "cells": [
  {
   "cell_type": "markdown",
   "metadata": {},
   "source": [
    "# Numpy Simulation of the Effect of NFQ Levels on Weekly Salary"
   ]
  },
  {
   "cell_type": "markdown",
   "metadata": {},
   "source": [
    "##### The pupose of this project is to simulate a real world phenomenon by generating a dataset using the numpy-random. For this project the phenomenon of the effect of NFQ Level on weekly salary will be investiagted. Firstly  the NFQ system will be introduced. Then the original findings from the CSO study in question will be discussed. The data to mimic the results of the study will be generated. This data will be analysed and the relationships with the variables will be examined."
   ]
  },
  {
   "cell_type": "markdown",
   "metadata": {},
   "source": [
    "![title](img/nfq.png)"
   ]
  },
  {
   "cell_type": "markdown",
   "metadata": {
    "collapsed": true
   },
   "source": [
    "#### What is NFQ Level:\n",
    "\n",
    "The National Framework of Qualifications describe the qualification and of the education and training system in Ireland and how they interlink [1]. The levels are organised by hierachy. The levels considered here were from level 6 to level 10 which is advanced certificate through to doctoral degree level. The data was measured at 3 intervals which were one year, three years and five years after receiving the qualification and the weekly wages received at this time by graduates"
   ]
  },
  {
   "cell_type": "markdown",
   "metadata": {},
   "source": [
    "![title](img/cso.png)\n",
    "\n",
    "The simulation is based on generating some\n",
    "data this graphical image represents. There is no access to the raw data and the data is simulated to obtain the results of the this part of the study. The overall study was an investigation into Higher Eduaction \n",
    "Outcomes of graduates by the Central Statistics Office. It is visually apparent from figure 6.4 that the higher the qualification the higher the weekly wage that is obtained.\n",
    "\n",
    "https://www.cso.ie/en/media/csoie/releasespublications/documents/education/2014/Higher_Education_Outcomes_book_-_web.pdf"
   ]
  },
  {
   "cell_type": "markdown",
   "metadata": {},
   "source": [
    "### Other Areas of Study Showing Levels of Qualifications Relationship With Salary\n",
    "\n",
    "In data from the U.S census it was  found that those with Bacheloers Degree(NFQ Level 8) earned 66% more than those just a highschool graduation and this increases with 97% with a Master Degree [2]. This level increases the more qualifications are advanced advanced. More data from the U.S Census Bureau showed that those with a doctorate(NFQ10) in physical sciences earned 20% more than masters(NFQ9) graduates in physical science [3].There is definetly a positive correlation with qulaification level and salary. \n"
   ]
  },
  {
   "cell_type": "code",
   "execution_count": 116,
   "metadata": {
    "collapsed": true
   },
   "outputs": [],
   "source": [
    "#import libraries\n",
    "import matplotlib.pyplot as plt\n",
    "import numpy as np\n",
    "import pylab\n",
    "Polynomial = np.polynomial.Polynomial\n",
    "import matplotlib.patches as mpatches\n",
    "import pandas as pd\n",
    "import seaborn as sns"
   ]
  },
  {
   "cell_type": "code",
   "execution_count": 100,
   "metadata": {
    "collapsed": true
   },
   "outputs": [],
   "source": [
    "#assign value for years after graduation \n",
    "y1 = 1\n",
    "y2 = 3\n",
    "y3 = 5"
   ]
  },
  {
   "cell_type": "code",
   "execution_count": 142,
   "metadata": {},
   "outputs": [
    {
     "name": "stdout",
     "output_type": "stream",
     "text": [
      "Salaries Year1 NFQ6 [[246 241 240 247 247]\n",
      " [240 245 241 243 240]\n",
      " [241 248 244 246 245]\n",
      " [249 247 242 249 245]\n",
      " [246 246 244 243 245]\n",
      " [244 249 245 244 240]\n",
      " [243 246 242 241 247]\n",
      " [248 241 242 249 241]\n",
      " [242 249 243 244 249]\n",
      " [241 243 247 241 247]\n",
      " [244 240 245 246 246]\n",
      " [243 244 241 242 242]\n",
      " [240 246 249 241 243]\n",
      " [247 243 247 240 247]\n",
      " [248 243 249 249 249]\n",
      " [245 243 249 240 242]\n",
      " [244 246 242 249 249]\n",
      " [247 245 240 246 243]\n",
      " [249 246 243 241 246]\n",
      " [243 249 242 240 246]]\n",
      "Salaries Year3 NFQ6 [[365 360 358 369 360]\n",
      " [352 351 366 365 362]\n",
      " [353 361 362 363 363]\n",
      " [356 364 353 350 351]\n",
      " [367 350 357 361 363]\n",
      " [361 363 355 358 369]\n",
      " [360 363 365 361 350]\n",
      " [369 363 367 351 368]\n",
      " [366 365 369 365 357]\n",
      " [362 363 364 359 362]\n",
      " [350 356 366 358 367]\n",
      " [364 368 365 358 365]\n",
      " [352 353 362 365 355]\n",
      " [357 368 352 362 360]\n",
      " [364 364 351 356 363]\n",
      " [359 369 367 355 353]\n",
      " [357 355 352 369 359]\n",
      " [366 363 367 357 352]\n",
      " [353 359 365 350 362]\n",
      " [357 364 369 362 359]]\n",
      "Salaries Year5 NFQ5 [[478 473 478 477 472]\n",
      " [475 471 476 478 472]\n",
      " [472 470 474 473 475]\n",
      " [477 472 475 475 475]\n",
      " [477 470 477 478 476]\n",
      " [478 478 477 473 471]\n",
      " [472 475 477 474 474]\n",
      " [471 478 473 475 478]\n",
      " [474 477 473 479 477]\n",
      " [472 471 470 478 475]\n",
      " [478 470 476 474 474]\n",
      " [476 471 473 477 474]\n",
      " [479 473 477 479 478]\n",
      " [477 476 470 475 474]\n",
      " [475 478 477 479 476]\n",
      " [473 479 475 471 477]\n",
      " [478 470 474 477 474]\n",
      " [478 474 474 471 470]\n",
      " [470 478 479 475 470]\n",
      " [474 477 479 479 478]]\n",
      "Dataset starting with the mean [ 244.36048962  245.3169374   246.15461093  245.85091939  244.49389591\n",
      "  244.87513994  244.67956947  244.05596549  246.22607439  244.61003318\n",
      "  246.01920265  245.13249804  243.45258237  243.78478572  244.90230233\n",
      "  246.60899192  246.6066272   246.44509968  245.75872345  244.39730931\n",
      "  246.21992334  246.26308592  244.26053528  244.26793144  245.20392703\n",
      "  245.6819374   244.16722149  244.59130568  243.67328216  245.75943154\n",
      "  243.9099801   246.82801571  244.63807268  244.94793369  245.95987841\n",
      "  245.50513648  244.51260245  244.64184593  244.9029287   246.20983533\n",
      "  243.82935696  244.98892071  244.98991781  244.68109368  244.51548721\n",
      "  244.53175759  245.79286856  246.37019163  244.04046232  244.45936477\n",
      "  244.80216184  244.59680958  244.69600885  244.67241977  244.54192753\n",
      "  245.39496228  242.39308449  246.0455175   245.41869902  245.81976165\n",
      "  243.50340832  246.47283061  244.8928155   244.97699402  244.55497846\n",
      "  244.45424043  245.80213187  245.02208427  243.49976974  244.57949003\n",
      "  244.60536387  242.849225    243.63341665  245.41937746  245.56994066\n",
      "  245.10250543  245.97569788  245.08064845  245.4541092   244.61079709\n",
      "  243.88803505  245.19146759  245.83813153  243.82872127  244.933686\n",
      "  244.39022568  243.98719252  245.46874022  246.8132626   245.44458212\n",
      "  245.57312129  244.97413466  244.87140432  244.81119062  245.25382448\n",
      "  244.58382646  244.54779594  246.02259794  246.15226789  247.41768076]\n",
      "Mean of Dataset is 245.025090568\n"
     ]
    }
   ],
   "source": [
    "#NFQ Level 6 and weekly salary after 1, 3, 5 years, use randint that has discrete uniform distribution. 100 Datapoints\n",
    "\n",
    "#100 samples looking to simulate mean value of 245\n",
    "NFQ6_1 = np.random.randint(240,250,(20,5))\n",
    "print('Salaries Year1 NFQ6', NFQ6_1)\n",
    "\n",
    "#100 samples looking to simulate mean value of 360\n",
    "NFQ6_3 = np.random.randint(350,370,(20,5))\n",
    "print('Salaries Year3 NFQ6', NFQ6_3)\n",
    "\n",
    "#100 samples looking to simulate mean value of 475\n",
    "NFQ6_5 = np.random.randint(470,480,(20,5))\n",
    "print('Salaries Year5 NFQ5', NFQ6_5)\n",
    "\n",
    "\n",
    "#Random numbers can also be controlled by using random seed or in this case starting with the required mean and \n",
    "#generating the the random numbers based on achieving the required mean.\n",
    "#edited from https://stackoverflow.com/questions/50177594/create-an-array-with-a-pre-determined-mean-and-standard-deviation\n",
    "#This would create the the same mean as NFQ_6 above but note there is less of a range than the first method.\n",
    "#When considering salary the first method would be more indicative of real life salaries\n",
    "mean = 245\n",
    "x = np.random.randn(100) + mean\n",
    "ans = np.mean(x)\n",
    "print('Dataset starting with the mean', x)\n",
    "print('Mean of Dataset is', ans)"
   ]
  },
  {
   "cell_type": "code",
   "execution_count": 119,
   "metadata": {},
   "outputs": [
    {
     "name": "stdout",
     "output_type": "stream",
     "text": [
      "Salaries Year1 NFQ7 [[282 297 280 295 296]\n",
      " [294 281 295 282 295]\n",
      " [296 296 281 297 296]\n",
      " [294 294 285 284 283]\n",
      " [298 287 289 299 295]\n",
      " [290 299 284 287 299]\n",
      " [289 288 288 288 289]\n",
      " [284 289 284 296 282]\n",
      " [298 299 298 280 283]\n",
      " [293 281 294 286 299]\n",
      " [290 281 286 281 285]\n",
      " [292 293 285 297 282]\n",
      " [296 284 295 283 290]\n",
      " [282 297 283 289 298]\n",
      " [293 285 291 289 287]\n",
      " [282 298 295 287 291]\n",
      " [285 290 282 283 281]\n",
      " [286 291 283 296 297]\n",
      " [295 293 286 288 282]\n",
      " [293 281 296 296 285]]\n",
      "Salaries Year3 NFQ7 [[429 427 414 415 424]\n",
      " [414 425 413 412 427]\n",
      " [422 420 426 429 420]\n",
      " [424 415 411 424 421]\n",
      " [423 422 425 417 412]\n",
      " [414 422 417 419 426]\n",
      " [421 422 425 411 413]\n",
      " [418 414 427 415 411]\n",
      " [420 413 427 417 415]\n",
      " [429 421 410 410 428]\n",
      " [416 419 425 424 410]\n",
      " [425 425 419 422 411]\n",
      " [410 419 420 428 426]\n",
      " [413 417 411 429 422]\n",
      " [416 419 410 414 413]\n",
      " [423 414 414 429 420]\n",
      " [428 417 421 419 424]\n",
      " [410 411 417 428 429]\n",
      " [419 429 413 429 422]\n",
      " [422 429 410 421 422]]\n",
      "Salaries Year5 NFQ7 [[528 521 527 519 516]\n",
      " [534 532 530 520 532]\n",
      " [527 525 516 529 517]\n",
      " [524 524 526 515 516]\n",
      " [522 518 522 534 532]\n",
      " [526 531 517 533 528]\n",
      " [522 523 530 520 525]\n",
      " [534 520 517 524 515]\n",
      " [529 533 521 524 531]\n",
      " [532 526 527 528 522]\n",
      " [515 532 532 534 532]\n",
      " [515 523 529 519 525]\n",
      " [526 525 534 517 531]\n",
      " [533 529 518 519 524]\n",
      " [524 526 527 532 526]\n",
      " [531 518 528 529 528]\n",
      " [526 522 515 517 517]\n",
      " [518 519 521 529 520]\n",
      " [522 515 524 528 516]\n",
      " [533 533 523 528 530]]\n"
     ]
    }
   ],
   "source": [
    "#NFQ Level 7 and weekly salary after 1, 3, 5 years, use randint that has discrete uniform distribution. 100 Datapoints\n",
    "\n",
    "#100 samples looking to simulate mean value of 290\n",
    "NFQ7_1 = np.random.randint(280,300,(20,5))\n",
    "print('Salaries Year1 NFQ7', NFQ7_1)\n",
    "\n",
    "#100 samples looking to simulate mean value of 420\n",
    "NFQ7_3 = np.random.randint(410,430,(20,5))\n",
    "print('Salaries Year3 NFQ7', NFQ7_3)\n",
    "\n",
    "#100 samples looking to simulate mean value of 525\n",
    "NFQ7_5 = np.random.randint(515,535,(20,5))\n",
    "print('Salaries Year5 NFQ7', NFQ7_5)"
   ]
  },
  {
   "cell_type": "code",
   "execution_count": 120,
   "metadata": {},
   "outputs": [
    {
     "name": "stdout",
     "output_type": "stream",
     "text": [
      "Salaries Year1 NFQ8 [[429 425 429 422 434]\n",
      " [433 428 415 427 433]\n",
      " [416 416 422 433 434]\n",
      " [429 416 417 428 420]\n",
      " [432 424 418 427 431]\n",
      " [426 424 424 431 422]\n",
      " [418 416 419 426 428]\n",
      " [420 431 432 423 415]\n",
      " [415 417 424 420 416]\n",
      " [433 421 416 418 431]\n",
      " [426 433 434 434 416]\n",
      " [433 426 428 428 415]\n",
      " [432 417 416 427 420]\n",
      " [430 422 423 420 423]\n",
      " [432 418 429 429 423]\n",
      " [417 432 423 427 433]\n",
      " [433 417 434 417 431]\n",
      " [416 422 425 425 425]\n",
      " [427 427 426 434 420]\n",
      " [433 417 421 429 433]]\n",
      "Salaries Year3 NFQ8 [[531 531 534 532 535]\n",
      " [526 538 543 543 539]\n",
      " [527 536 542 531 531]\n",
      " [525 544 536 539 527]\n",
      " [529 540 544 535 542]\n",
      " [532 530 535 530 530]\n",
      " [529 532 528 538 534]\n",
      " [528 530 540 525 537]\n",
      " [535 536 540 528 535]\n",
      " [533 530 526 533 531]\n",
      " [530 543 538 532 527]\n",
      " [542 542 532 531 537]\n",
      " [529 537 544 535 532]\n",
      " [538 540 529 529 530]\n",
      " [534 539 525 534 531]\n",
      " [533 540 536 535 538]\n",
      " [542 526 527 537 535]\n",
      " [525 534 541 542 543]\n",
      " [529 539 537 544 543]\n",
      " [534 540 543 525 530]]\n",
      "Salaries Year5 NFQ8 [[645 642 644 658 648]\n",
      " [655 648 659 649 640]\n",
      " [650 649 650 652 640]\n",
      " [657 659 659 646 656]\n",
      " [657 652 646 656 640]\n",
      " [647 640 659 659 640]\n",
      " [646 659 644 657 642]\n",
      " [658 646 653 656 644]\n",
      " [640 648 653 644 651]\n",
      " [643 656 650 649 643]\n",
      " [641 648 651 659 646]\n",
      " [649 656 652 651 658]\n",
      " [657 645 643 645 648]\n",
      " [650 648 653 644 656]\n",
      " [658 645 644 654 654]\n",
      " [644 647 654 648 649]\n",
      " [651 641 640 649 647]\n",
      " [654 654 646 643 648]\n",
      " [647 641 650 652 652]\n",
      " [648 640 640 652 657]]\n"
     ]
    }
   ],
   "source": [
    "#NFQ Level 8 and weekly salary after 1, 3, 5 years, use randint that has discrete uniform distribution. 100 Datapoints\n",
    "\n",
    "#100 samples looking to simulate mean value of 425\n",
    "NFQ8_1 = np.random.randint(415,435,(20,5))\n",
    "print('Salaries Year1 NFQ8', NFQ8_1)\n",
    "\n",
    "#100 samples looking to simulate mean value of 535\n",
    "NFQ8_3 = np.random.randint(525,545,(20,5))\n",
    "print('Salaries Year3 NFQ8', NFQ8_3)\n",
    "\n",
    "#100 samples looking to simulate mean value of 650\n",
    "NFQ8_5 = np.random.randint(640,660,(20,5))\n",
    "print('Salaries Year5 NFQ8', NFQ8_5)"
   ]
  },
  {
   "cell_type": "code",
   "execution_count": 121,
   "metadata": {},
   "outputs": [
    {
     "name": "stdout",
     "output_type": "stream",
     "text": [
      "Salaries Year1 NFQ9 [[518 500 500 508 508]\n",
      " [518 504 515 506 507]\n",
      " [501 514 505 509 507]\n",
      " [514 507 500 505 501]\n",
      " [516 504 517 511 505]\n",
      " [514 503 502 507 505]\n",
      " [503 504 509 519 507]\n",
      " [504 502 509 503 512]\n",
      " [518 501 514 513 505]\n",
      " [515 517 515 509 505]\n",
      " [506 511 513 511 516]\n",
      " [512 504 507 506 510]\n",
      " [506 510 501 507 504]\n",
      " [515 517 509 510 501]\n",
      " [509 516 513 509 508]\n",
      " [507 516 502 506 503]\n",
      " [509 517 509 519 512]\n",
      " [504 519 504 516 502]\n",
      " [517 504 512 504 500]\n",
      " [508 518 502 517 504]]\n",
      "Salaries Year3 NFQ9 [[621 635 622 622 630]\n",
      " [633 630 633 637 631]\n",
      " [631 624 621 629 622]\n",
      " [638 636 630 632 623]\n",
      " [622 639 639 631 621]\n",
      " [621 623 630 635 629]\n",
      " [627 621 622 626 638]\n",
      " [637 637 626 639 634]\n",
      " [629 625 629 626 626]\n",
      " [630 634 630 622 625]\n",
      " [631 633 637 637 620]\n",
      " [623 637 635 638 637]\n",
      " [626 634 623 622 622]\n",
      " [623 633 632 635 631]\n",
      " [636 622 622 630 624]\n",
      " [639 623 636 630 631]\n",
      " [639 627 620 630 633]\n",
      " [626 624 621 631 627]\n",
      " [626 623 626 629 632]\n",
      " [632 621 629 634 632]]\n",
      "Salaries Year5 NFQ9 [[740 745 743 734 732]\n",
      " [730 741 746 747 740]\n",
      " [741 734 738 738 731]\n",
      " [749 743 740 740 749]\n",
      " [735 738 738 742 736]\n",
      " [741 734 740 746 733]\n",
      " [742 734 731 741 733]\n",
      " [746 740 749 741 749]\n",
      " [736 734 739 741 743]\n",
      " [743 735 735 732 739]\n",
      " [739 742 731 747 742]\n",
      " [739 747 736 746 735]\n",
      " [747 731 735 748 746]\n",
      " [748 743 749 748 740]\n",
      " [746 732 731 732 733]\n",
      " [745 733 737 749 737]\n",
      " [736 749 739 735 749]\n",
      " [737 743 733 730 733]\n",
      " [741 746 737 735 739]\n",
      " [746 744 741 745 730]]\n"
     ]
    }
   ],
   "source": [
    "#NFQ Level 9 and weekly salary after 1, 3, 5 years, use randint that has discrete uniform distribution. 100 Datapoints\n",
    "\n",
    "#100 samples looking to simulate mean value of 510\n",
    "NFQ9_1 = np.random.randint(500,520,(20,5))\n",
    "print('Salaries Year1 NFQ9', NFQ9_1)\n",
    "\n",
    "#100 samples looking to simulate mean value of 630\n",
    "NFQ9_3 = np.random.randint(620,640,(20,5))\n",
    "print('Salaries Year3 NFQ9', NFQ9_3)\n",
    "\n",
    "#100 samples looking to simulate mean value of 740\n",
    "NFQ9_5 = np.random.randint(730,750,(20,5))\n",
    "print('Salaries Year5 NFQ9', NFQ9_5)"
   ]
  },
  {
   "cell_type": "code",
   "execution_count": 122,
   "metadata": {},
   "outputs": [
    {
     "name": "stdout",
     "output_type": "stream",
     "text": [
      "Salaries Year1 NFQ10 [[713 709 707 704 704]\n",
      " [702 712 706 698 697]\n",
      " [703 701 703 699 702]\n",
      " [707 713 710 696 713]\n",
      " [695 705 699 714 695]\n",
      " [697 698 714 712 712]\n",
      " [707 712 710 709 704]\n",
      " [704 699 705 706 699]\n",
      " [698 695 705 707 711]\n",
      " [706 697 709 706 697]\n",
      " [706 698 696 713 711]\n",
      " [711 704 706 701 699]\n",
      " [701 695 708 698 714]\n",
      " [695 701 707 706 708]\n",
      " [696 710 696 707 706]\n",
      " [706 709 697 700 704]\n",
      " [712 701 697 709 707]\n",
      " [698 712 704 703 698]\n",
      " [701 699 710 698 708]\n",
      " [707 696 698 707 710]]\n",
      "Salaries Year3 NFQ10 [[803 805 802 801 803]\n",
      " [798 806 805 797 796]\n",
      " [797 810 810 802 804]\n",
      " [796 799 799 797 812]\n",
      " [795 800 805 805 811]\n",
      " [798 807 810 801 809]\n",
      " [804 795 810 811 807]\n",
      " [805 810 813 804 812]\n",
      " [814 810 814 800 814]\n",
      " [797 808 805 805 804]\n",
      " [811 795 801 799 813]\n",
      " [801 798 814 799 813]\n",
      " [814 811 813 802 807]\n",
      " [801 797 810 805 800]\n",
      " [796 811 806 796 798]\n",
      " [797 811 797 814 805]\n",
      " [796 809 814 809 798]\n",
      " [795 803 798 796 800]\n",
      " [805 808 799 795 810]\n",
      " [803 799 803 795 795]]\n",
      "Salaries Year5 NFQ10 [[913 922 925 915 916]\n",
      " [926 920 922 928 924]\n",
      " [911 920 925 915 925]\n",
      " [917 912 911 929 918]\n",
      " [916 915 921 914 920]\n",
      " [912 911 923 926 912]\n",
      " [919 912 913 924 917]\n",
      " [923 918 917 910 929]\n",
      " [926 913 914 916 919]\n",
      " [918 917 918 918 920]\n",
      " [922 919 920 911 919]\n",
      " [917 927 920 916 914]\n",
      " [925 925 918 924 924]\n",
      " [918 928 916 924 911]\n",
      " [911 924 918 915 917]\n",
      " [912 928 919 925 922]\n",
      " [923 922 912 925 914]\n",
      " [928 918 922 915 919]\n",
      " [927 917 912 919 923]\n",
      " [927 923 926 913 926]]\n"
     ]
    }
   ],
   "source": [
    "#NFQ Level 10 and weekly salary after 1, 3, 5 years, use randint that has discrete uniform distribution. 100 Datapoints\n",
    "\n",
    "#100 samples looking to simulate mean value of 705\n",
    "NFQ10_1 = np.random.randint(695,715,(20,5))\n",
    "print('Salaries Year1 NFQ10', NFQ10_1)\n",
    "\n",
    "#100 samples looking to simulate mean value of 805\n",
    "NFQ10_3 = np.random.randint(795,815,(20,5))\n",
    "print('Salaries Year3 NFQ10', NFQ10_3)\n",
    "\n",
    "#100 samples looking to simulate mean value of 920\n",
    "NFQ10_5 = np.random.randint(910,930,(20,5))\n",
    "print('Salaries Year5 NFQ10', NFQ10_5)"
   ]
  },
  {
   "cell_type": "markdown",
   "metadata": {},
   "source": [
    "### Calculate mean values for all NFQ Levels to see if similar to Figure 6.4"
   ]
  },
  {
   "cell_type": "code",
   "execution_count": 123,
   "metadata": {},
   "outputs": [
    {
     "name": "stdout",
     "output_type": "stream",
     "text": [
      "Mean weekly wage of NFQ6 after 1 year is 244.15\n",
      "Mean weekly wage of NFQ6 after 3 years is 359.17\n",
      "Mean weekly wage of NFQ6 after 5 years is 473.88\n"
     ]
    }
   ],
   "source": [
    "#Calculate mean of weekly salaries for each qualification after 1, 3, 5 years after graduation\n",
    "\n",
    "#NFQ level 6 after 1 year\n",
    "x1 = np.mean(NFQ6_1)\n",
    "print('Mean weekly wage of NFQ6 after 1 year is', x1)\n",
    "\n",
    "#NFQ level 6 after 3 years\n",
    "x2 = np.mean(NFQ6_3)\n",
    "print('Mean weekly wage of NFQ6 after 3 years is', x2)\n",
    "\n",
    "#NFQ level 6 after 5 years\n",
    "x3 = np.mean(NFQ6_5)\n",
    "print('Mean weekly wage of NFQ6 after 5 years is', x3)"
   ]
  },
  {
   "cell_type": "code",
   "execution_count": 124,
   "metadata": {},
   "outputs": [
    {
     "name": "stdout",
     "output_type": "stream",
     "text": [
      "Mean weekly wage of NFQ7 after 1 year is 289.54\n",
      "Mean weekly wage of NFQ7 after 3 years is 419.59\n",
      "Mean weekly wage of NFQ7 after 5 years is 524.81\n"
     ]
    }
   ],
   "source": [
    "#NFQ level 7 after 1 year\n",
    "x4 = np.mean(NFQ7_1)\n",
    "print('Mean weekly wage of NFQ7 after 1 year is', x4)\n",
    "\n",
    "#NFQ level 7 after 3 years\n",
    "x5 = np.mean(NFQ7_3)\n",
    "print('Mean weekly wage of NFQ7 after 3 years is', x5)\n",
    "\n",
    "#NFQ level 7 after 5 years\n",
    "x6 = np.mean(NFQ7_5)\n",
    "print('Mean weekly wage of NFQ7 after 5 years is', x6)"
   ]
  },
  {
   "cell_type": "code",
   "execution_count": 125,
   "metadata": {},
   "outputs": [
    {
     "name": "stdout",
     "output_type": "stream",
     "text": [
      "Mean weekly wage of NFQ8 after 1 year is 424.82\n",
      "Mean weekly wage of NFQ8 after 3 years is 534.43\n",
      "Mean weekly wage of NFQ8 after 5 years is 649.33\n"
     ]
    }
   ],
   "source": [
    "#NFQ level 8 after 1 year\n",
    "x7 = np.mean(NFQ8_1)\n",
    "print('Mean weekly wage of NFQ8 after 1 year is', x7)\n",
    "\n",
    "#NFQ level 8 after 3 years\n",
    "x8 = np.mean(NFQ8_3)\n",
    "print('Mean weekly wage of NFQ8 after 3 years is', x8)\n",
    "\n",
    "#NFQ level 8 after 5 years\n",
    "x9 = np.mean(NFQ8_5)\n",
    "print('Mean weekly wage of NFQ8 after 5 years is', x9)"
   ]
  },
  {
   "cell_type": "code",
   "execution_count": 126,
   "metadata": {},
   "outputs": [
    {
     "name": "stdout",
     "output_type": "stream",
     "text": [
      "Mean weekly wage of NFQ9 after 1 year is 508.77\n",
      "Mean weekly wage of NFQ9 after 3 years is 629.17\n",
      "Mean weekly wage of NFQ9 after 5 years is 739.69\n"
     ]
    }
   ],
   "source": [
    "#NFQ level 9 after 1 year\n",
    "x10 = np.mean(NFQ9_1)\n",
    "print('Mean weekly wage of NFQ9 after 1 year is', x10)\n",
    "\n",
    "#NFQ level 9 after 3 years\n",
    "x11 = np.mean(NFQ9_3)\n",
    "print('Mean weekly wage of NFQ9 after 3 years is', x11)\n",
    "\n",
    "#NFQ level 9 after 5 years\n",
    "x12 = np.mean(NFQ9_5)\n",
    "print('Mean weekly wage of NFQ9 after 5 years is', x12)"
   ]
  },
  {
   "cell_type": "code",
   "execution_count": 127,
   "metadata": {},
   "outputs": [
    {
     "name": "stdout",
     "output_type": "stream",
     "text": [
      "Mean weekly wage of NFQ10 after 1 year is 704.1\n",
      "Mean weekly wage of NFQ10 after 3 years is 803.9\n",
      "Mean weekly wage of NFQ10 after 5 years is 919.25\n"
     ]
    }
   ],
   "source": [
    "#NFQ level 10 after 1 year\n",
    "x13 = np.mean(NFQ10_1)\n",
    "print('Mean weekly wage of NFQ10 after 1 year is', x13)\n",
    "\n",
    "#NFQ level 10 after 3 years\n",
    "x14 = np.mean(NFQ10_3)\n",
    "print('Mean weekly wage of NFQ10 after 3 years is', x14)\n",
    "\n",
    "#NFQ level 10 after 5 years\n",
    "x15 = np.mean(NFQ10_5)\n",
    "print('Mean weekly wage of NFQ10 after 5 years is', x15)"
   ]
  },
  {
   "cell_type": "code",
   "execution_count": 128,
   "metadata": {},
   "outputs": [
    {
     "data": {
      "image/png": "[encoded data removed]",
      "text/plain": [
       "<matplotlib.figure.Figure at 0x2639a1dd160>"
      ]
     },
     "metadata": {},
     "output_type": "display_data"
    }
   ],
   "source": [
    "#Plotting simulated data to see if result is similar to the image 6.4 above.\n",
    "#Results are almost indentical to image 6.4 showing the simulation works well.\n",
    "fig, ax = plt.subplots()\n",
    "ax.plot(y1, x1, 'go')\n",
    "ax.plot(y2, x2, 'go')\n",
    "ax.plot(y3, x3, 'go')\n",
    "ax.plot(y1, x4, 'ko')\n",
    "ax.plot(y2, x5, 'ko')\n",
    "ax.plot(y3, x6, 'ko')\n",
    "ax.plot(y1, x7, 'bo')\n",
    "ax.plot(y2, x8, 'bo')\n",
    "ax.plot(y3, x9, 'bo')\n",
    "ax.plot(y1, x10, 'ro')\n",
    "ax.plot(y2, x11, 'ro')\n",
    "ax.plot(y3, x12, 'ro')\n",
    "ax.plot(y1, x13, 'yo')\n",
    "ax.plot(y2, x14, 'yo')\n",
    "ax.plot(y3, x15, 'yo')\n",
    "ax.set(xlabel='Years since Graduation', ylabel='wages per week(Euros)',\n",
    "       title='Weekly Salary and NFQ Levels')\n",
    "ax.grid()\n",
    "plt.show()"
   ]
  },
  {
   "cell_type": "code",
   "execution_count": 129,
   "metadata": {},
   "outputs": [
    {
     "name": "stdout",
     "output_type": "stream",
     "text": [
      "Wage difference from NFQ10 & NFQ6 5 years after graduation is € 445.37\n",
      "Wage difference from NFQ10 & NFQ7 5 years after graduation is € 394.44\n",
      "Wage difference from NFQ10 & NFQ8 5 years after graduation is € 269.92\n",
      "Wage difference from NFQ10 & NFQ9 5 years after graduation is € 179.56\n"
     ]
    }
   ],
   "source": [
    "#Calculate wage differnecs between all NFQ levels after 5 years.\n",
    "range1  = x15 -x3\n",
    "print('Wage difference from NFQ10 & NFQ6 5 years after graduation is €', range1)\n",
    "\n",
    "range2 = x15 - x6\n",
    "print('Wage difference from NFQ10 & NFQ7 5 years after graduation is €', range2)\n",
    "\n",
    "range3 = x15 - x9\n",
    "print('Wage difference from NFQ10 & NFQ8 5 years after graduation is €', range3)\n",
    "\n",
    "range4 = x15 - x12\n",
    "print('Wage difference from NFQ10 & NFQ9 5 years after graduation is €', range4)"
   ]
  },
  {
   "cell_type": "markdown",
   "metadata": {},
   "source": [
    "#### From the above data showing the ranges of wages we can see that the discrepency of wage level decreases with higher NFQ level. This is the expected result."
   ]
  },
  {
   "cell_type": "code",
   "execution_count": 130,
   "metadata": {},
   "outputs": [
    {
     "name": "stdout",
     "output_type": "stream",
     "text": [
      "      0    1    2    3    4\n",
      "0   249  248  247  240  245\n",
      "1   241  240  245  242  248\n",
      "2   240  244  242  246  245\n",
      "3   249  245  246  249  245\n",
      "4   242  243  244  245  243\n",
      "5   247  244  242  240  247\n",
      "6   246  241  243  240  240\n",
      "7   249  249  241  243  240\n",
      "8   241  245  245  244  246\n",
      "9   244  248  243  240  248\n",
      "10  244  241  241  241  240\n",
      "11  248  244  245  244  246\n",
      "12  247  246  245  244  240\n",
      "13  242  243  244  247  249\n",
      "14  244  247  244  244  246\n",
      "15  242  241  242  244  247\n",
      "16  240  245  240  248  244\n",
      "17  245  249  249  249  243\n",
      "18  244  249  240  246  240\n",
      "19  242  240  247  244  240\n",
      "      0    1    2    3    4\n",
      "0   360  351  368  358  351\n",
      "1   351  369  356  363  353\n",
      "2   358  364  361  360  357\n",
      "3   351  366  366  351  351\n",
      "4   353  356  350  352  352\n",
      "5   366  353  364  352  357\n",
      "6   368  356  366  351  367\n",
      "7   355  360  369  361  363\n",
      "8   369  361  353  352  367\n",
      "9   357  368  356  357  358\n",
      "10  362  361  362  355  367\n",
      "11  359  361  356  358  350\n",
      "12  368  360  358  367  366\n",
      "13  358  363  355  353  356\n",
      "14  363  366  353  363  354\n",
      "15  351  369  367  362  363\n",
      "16  366  350  360  354  355\n",
      "17  354  352  365  369  350\n",
      "18  352  369  361  360  369\n",
      "19  364  357  354  366  350\n",
      "      0    1    2    3    4\n",
      "0   473  470  476  477  472\n",
      "1   479  473  470  479  471\n",
      "2   476  472  478  473  473\n",
      "3   479  470  478  475  476\n",
      "4   472  470  473  471  476\n",
      "5   474  470  473  475  470\n",
      "6   479  471  471  470  472\n",
      "7   478  478  479  475  479\n",
      "8   472  471  471  473  477\n",
      "9   475  475  473  479  470\n",
      "10  473  478  475  470  471\n",
      "11  476  471  470  472  475\n",
      "12  472  470  476  473  471\n",
      "13  479  479  475  471  478\n",
      "14  475  478  472  471  472\n",
      "15  470  470  475  477  471\n",
      "16  472  472  471  479  470\n",
      "17  473  478  473  473  475\n",
      "18  470  474  472  475  479\n",
      "19  475  470  478  475  476\n"
     ]
    }
   ],
   "source": [
    "#Dataframes can be generated from the random generated and the data can be described.\n",
    "#Make dataframe for NFQ6 and look at data\n",
    "df = pd.DataFrame(NFQ6_1)\n",
    "df1 = pd.DataFrame(NFQ6_3)\n",
    "df2 = pd.DataFrame(NFQ6_5)\n",
    "print(df.head(20))\n",
    "print(df1.head(20))\n",
    "print(df2.head(20))"
   ]
  },
  {
   "cell_type": "code",
   "execution_count": 131,
   "metadata": {},
   "outputs": [
    {
     "name": "stdout",
     "output_type": "stream",
     "text": [
      "                0           1           2           3           4\n",
      "count   60.000000   60.000000   60.000000   60.000000   60.000000\n",
      "mean   359.383333  359.400000  359.233333  358.783333  358.533333\n",
      "std     94.909786   94.136432   94.853208   94.835467   94.636587\n",
      "min    240.000000  240.000000  240.000000  240.000000  240.000000\n",
      "25%    247.000000  247.750000  245.000000  246.000000  246.750000\n",
      "50%    358.500000  361.000000  360.500000  358.000000  356.500000\n",
      "75%    472.000000  470.000000  471.250000  471.250000  471.000000\n",
      "max    479.000000  479.000000  479.000000  479.000000  479.000000\n",
      "                0           1           2           3           4\n",
      "count   60.000000   60.000000   60.000000   60.000000   60.000000\n",
      "mean   412.150000  411.650000  409.983333  411.550000  411.233333\n",
      "std     97.249256   96.911252   97.571962   97.470452   96.899103\n",
      "min    282.000000  281.000000  280.000000  280.000000  281.000000\n",
      "25%    294.750000  296.750000  294.750000  296.000000  296.000000\n",
      "50%    420.500000  419.500000  417.000000  420.000000  421.500000\n",
      "75%    522.000000  520.250000  518.750000  519.000000  517.000000\n",
      "max    534.000000  533.000000  534.000000  534.000000  532.000000\n",
      "                0           1           2           3           4\n",
      "count   60.000000   60.000000   60.000000   60.000000   60.000000\n",
      "mean   535.966667  535.666667  536.416667  537.100000  535.816667\n",
      "std     92.189555   93.106039   93.131817   92.760252   91.924710\n",
      "min    415.000000  416.000000  415.000000  417.000000  415.000000\n",
      "25%    432.750000  426.750000  428.750000  429.000000  432.500000\n",
      "50%    530.500000  537.500000  536.500000  533.500000  534.500000\n",
      "75%    645.250000  642.750000  644.000000  646.500000  642.250000\n",
      "max    658.000000  659.000000  659.000000  659.000000  658.000000\n",
      "                0           1           2           3           4\n",
      "count   60.000000   60.000000   60.000000   60.000000   60.000000\n",
      "mean   627.183333  625.950000  624.816667  627.116667  624.316667\n",
      "std     95.130150   94.912524   95.086667   95.327463   95.843002\n",
      "min    501.000000  500.000000  500.000000  503.000000  500.000000\n",
      "25%    515.750000  516.750000  513.000000  512.500000  508.000000\n",
      "50%    629.500000  628.500000  629.000000  630.500000  629.500000\n",
      "75%    737.500000  734.000000  735.000000  735.000000  733.000000\n",
      "max    749.000000  749.000000  749.000000  749.000000  749.000000\n",
      "                0           1           2           3           4\n",
      "count   60.000000   60.000000   60.000000   60.000000   60.000000\n",
      "mean   808.033333  809.150000  809.783333  808.466667  809.983333\n",
      "std     89.363657   89.272925   88.392440   88.589984   88.540614\n",
      "min    695.000000  695.000000  696.000000  696.000000  695.000000\n",
      "25%    707.000000  709.750000  708.750000  708.500000  710.750000\n",
      "50%    799.500000  806.500000  805.500000  801.000000  806.000000\n",
      "75%    913.750000  915.500000  914.500000  915.000000  916.250000\n",
      "max    928.000000  928.000000  926.000000  929.000000  929.000000\n"
     ]
    }
   ],
   "source": [
    "#combine dataframes together for all NFQ levels.\n",
    "# edited from https://pandas.pydata.org/pandas-docs/stable/merging.html\n",
    "#decribe data\n",
    "data = [df, df1, df2]\n",
    "NFQ6 = pd.concat(data)\n",
    "print(NFQ6.describe())\n",
    "\n",
    "df3 = pd.DataFrame(NFQ7_1)\n",
    "df4 = pd.DataFrame(NFQ7_3)\n",
    "df5 = pd.DataFrame(NFQ7_5)\n",
    "data1 = [df3, df4, df5]\n",
    "NFQ7 = pd.concat(data1)\n",
    "print(NFQ7.describe())\n",
    "\n",
    "\n",
    "df6 = pd.DataFrame(NFQ8_1)\n",
    "df7 = pd.DataFrame(NFQ8_3)\n",
    "df8 = pd.DataFrame(NFQ8_5)\n",
    "data2 = [df6, df7, df8]\n",
    "NFQ8 = pd.concat(data2)\n",
    "print(NFQ8.describe())\n",
    "\n",
    "df9 = pd.DataFrame(NFQ9_1)\n",
    "df10 = pd.DataFrame(NFQ9_3)\n",
    "df11 = pd.DataFrame(NFQ9_5)\n",
    "data3 = [df9, df10, df11]\n",
    "NFQ9 = pd.concat(data3)\n",
    "print(NFQ9.describe())\n",
    "\n",
    "\n",
    "df12 = pd.DataFrame(NFQ10_1)\n",
    "df13 = pd.DataFrame(NFQ10_3)\n",
    "df14 = pd.DataFrame(NFQ10_5)\n",
    "data4 = [df12, df13, df14]\n",
    "NFQ10 = pd.concat(data4)\n",
    "print(NFQ10.describe())\n"
   ]
  },
  {
   "cell_type": "markdown",
   "metadata": {},
   "source": [
    "From the above summary statistics for NFQ Levels 6,7,8,9,10 with all experience levels combined we can see some trends. We can see the mean value of weekly salary for NFQ6 is 359, NFQ7 is 411, NFQ8 is 536, NFQ9 is 626 and NFQ10 is 810. The std for each NFQ levels are also similar. "
   ]
  },
  {
   "cell_type": "code",
   "execution_count": 132,
   "metadata": {},
   "outputs": [
    {
     "name": "stdout",
     "output_type": "stream",
     "text": [
      "Percentage of wages received for NFQ6 in relation to NFQ10 after 5 years is 51.5507206962 %\n",
      "Percentage of wages received for NFQ7 in relation to NFQ10 after 5 years is 57.0911068806 %\n",
      "Percentage of wages received for NFQ8 in relation to NFQ10 after 5 years is 70.6369322818 %\n",
      "Percentage of wages received for NFQ9 in relation to NFQ10 after 5 years is 80.4666847974 %\n",
      "Percentage of wages received for NFQ6 in relation to NFQ10 after 3 years is 44.6784425924 %\n",
      "Percentage of wages received for NFQ7 in relation to NFQ10 after 3 years is 52.194302774 %\n",
      "Percentage of wages received for NFQ8 in relation to NFQ10 after 3 years is 66.4796616495 %\n",
      "Percentage of wages received for NFQ9 in relation to NFQ10 after 3 years is 78.264709541 %\n",
      "Percentage of wages received for NFQ6 in relation to NFQ10 after 1 years is 34.6754722341 %\n",
      "Percentage of wages received for NFQ7 in relation to NFQ10 after 1 years is 41.1219997159 %\n",
      "Percentage of wages received for NFQ8 in relation to NFQ10 after 1 years is 60.335179662 %\n",
      "Percentage of wages received for NFQ9 in relation to NFQ10 after 1 years is 72.2582019599 %\n"
     ]
    }
   ],
   "source": [
    "#Calculate percentage difference of salary levels after 5 years experience\n",
    "Percentage1=(x3/x15) *100\n",
    "print(\"Percentage of wages received for NFQ6 in relation to NFQ10 after 5 years is\", Percentage1,\"%\")\n",
    "\n",
    "#Calculate percentage difference of salary levels after 5 years experience\n",
    "Percentage2=(x6/x15) *100\n",
    "print(\"Percentage of wages received for NFQ7 in relation to NFQ10 after 5 years is\", Percentage2,\"%\")\n",
    "\n",
    "#Calculate percentage difference of salary levels after 5 years experience\n",
    "Percentage3=(x9/x15) *100\n",
    "print(\"Percentage of wages received for NFQ8 in relation to NFQ10 after 5 years is\", Percentage3,\"%\")\n",
    "\n",
    "#Calculate percentage difference of salary levels after 5 years experience\n",
    "Percentage4=(x12/x15) *100\n",
    "print(\"Percentage of wages received for NFQ9 in relation to NFQ10 after 5 years is\", Percentage4,\"%\")\n",
    "\n",
    "#Calculate percentage difference of salary levels after 3 years experience\n",
    "Percentage5=(x2/x14) *100\n",
    "print(\"Percentage of wages received for NFQ6 in relation to NFQ10 after 3 years is\", Percentage5,\"%\")\n",
    "\n",
    "#Calculate percentage difference of salary levels after 3 years experience\n",
    "Percentage6=(x5/x14) *100\n",
    "print(\"Percentage of wages received for NFQ7 in relation to NFQ10 after 3 years is\", Percentage6,\"%\")\n",
    "\n",
    "#Calculate percentage difference of salary levels after 3 years experience\n",
    "Percentage7=(x8/x14) *100\n",
    "print(\"Percentage of wages received for NFQ8 in relation to NFQ10 after 3 years is\", Percentage7,\"%\")\n",
    "\n",
    "#Calculate percentage difference of salary levels after 3 years experience\n",
    "Percentage8=(x11/x14) *100\n",
    "print(\"Percentage of wages received for NFQ9 in relation to NFQ10 after 3 years is\", Percentage8,\"%\")\n",
    "\n",
    "#Calculate percentage difference of salary levels after 1 years experience\n",
    "Percentage9=(x1/x13) *100\n",
    "print(\"Percentage of wages received for NFQ6 in relation to NFQ10 after 1 years is\", Percentage9,\"%\")\n",
    "\n",
    "#Calculate percentage difference of salary levels after 1 years experience\n",
    "Percentage10=(x4/x13) *100\n",
    "print(\"Percentage of wages received for NFQ7 in relation to NFQ10 after 1 years is\", Percentage10,\"%\")\n",
    "\n",
    "#Calculate percentage difference of salary levels after 1 years experience\n",
    "Percentage11=(x7/x13) *100\n",
    "print(\"Percentage of wages received for NFQ8 in relation to NFQ10 after 1 years is\", Percentage11,\"%\")\n",
    "\n",
    "#Calculate percentage difference of salary levels after 1 years experience\n",
    "Percentage12=(x10/x13) *100\n",
    "print(\"Percentage of wages received for NFQ9 in relation to NFQ10 after 1 years is\", Percentage12,'%')"
   ]
  },
  {
   "cell_type": "markdown",
   "metadata": {},
   "source": [
    "The above percentages are similar to the data in the in the U.S. census highlighted above. The difference between NFQ10 and NFQ9 is 20% which is the same deviation for graduates of pysical sciences at masters and doctorate level. We can also see the rate of increase was highest for NFQ level 6 when considering experience and this rate declines with the higher academic levels; this isalso what the original CSO study found [4]. "
   ]
  },
  {
   "cell_type": "code",
   "execution_count": 133,
   "metadata": {},
   "outputs": [
    {
     "data": {
      "image/png": "[encoded data removed]",
      "text/plain": [
       "<matplotlib.figure.Figure at 0x2639a1e14a8>"
      ]
     },
     "metadata": {},
     "output_type": "display_data"
    },
    {
     "data": {
      "image/png": "[encoded data removed]",
      "text/plain": [
       "<matplotlib.figure.Figure at 0x2639a25e898>"
      ]
     },
     "metadata": {},
     "output_type": "display_data"
    },
    {
     "data": {
      "image/png": "[encoded data removed]",
      "text/plain": [
       "<matplotlib.figure.Figure at 0x2639a293f28>"
      ]
     },
     "metadata": {},
     "output_type": "display_data"
    }
   ],
   "source": [
    "#Edited from https://bespokeblog.wordpress.com/2011/07/07/basic-data-plotting-with-matplotlib-part-2-lines-points-formatting/\n",
    "#Plot percentage difference of salary levels after 5, 3, 1 years experience\n",
    "percentages = (Percentage1, Percentage2, Percentage3, Percentage4,)\n",
    "percentages1 = (Percentage5, Percentage6, Percentage7, Percentage8,)\n",
    "percentages2 = (Percentage9, Percentage10, Percentage11, Percentage12,)\n",
    "\n",
    "plt.plot(percentages, marker='o', linestyle='--', color='r')\n",
    "plt.title(\"Percentage of Salary Difference With Increased NFQ Level Comapared to NFQ Level 10 with 5 years experience.\")\n",
    "plt.ylabel(\"Percentage of Salary\")\n",
    "plt.show()\n",
    "\n",
    "plt.plot(percentages1, marker='o', linestyle='--', color='r')\n",
    "plt.title(\"Percentage of Salary Difference With Increased NFQ Level Comapared to NFQ Level 10 with 3 years experience.\")\n",
    "plt.ylabel(\"Percentage of Salary\")\n",
    "plt.show()\n",
    "\n",
    "plt.plot(percentages2, marker='o', linestyle='--', color='r')\n",
    "plt.title(\"Percentage of Salary Difference With Increased NFQ Level Comapared to NFQ Level 10 with 1 years experience.\")\n",
    "plt.ylabel(\"Percentage of Salary\")\n",
    "plt.show()"
   ]
  },
  {
   "cell_type": "markdown",
   "metadata": {
    "collapsed": true
   },
   "source": [
    "From the above plots we can see that the percentages of weekly wage increase of NFQ levels 6 to 9 in comparison to NFQ10 after 1, 3 and 5 years are similar."
   ]
  },
  {
   "cell_type": "markdown",
   "metadata": {},
   "source": [
    "### Conclusion:\n",
    "\n",
    "From the "
   ]
  },
  {
   "cell_type": "markdown",
   "metadata": {
    "collapsed": true
   },
   "source": [
    "### References:\n",
    "\n",
    "[1] https://www.qqi.ie/Articles/Pages/National-Framework-of-Qualifications-(NFQ).aspx\n",
    "\n",
    "[2] https://trends.collegeboard.org/education-pays/figures-tables/lifetime-earnings-education-level\n",
    "\n",
    "[3] Salary Difference Between Master’s and Ph.D. Degrees \n",
    "\n",
    "https://www.wes.org/advisor-blog/salary-difference-masters-phd/\n",
    "\n",
    "[4] Higher Education Outcomes pg. 66\n",
    "\n",
    "https://www.cso.ie/en/media/csoie/releasespublications/documents/education/2014/Higher_Education_Outcomes_book_-_web.pdf\n"
   ]
  },
  {
   "cell_type": "code",
   "execution_count": null,
   "metadata": {
    "collapsed": true
   },
   "outputs": [],
   "source": []
  }
 ],
 "metadata": {
  "kernelspec": {
   "display_name": "Python 3",
   "language": "python",
   "name": "python3"
  },
  "language_info": {
   "codemirror_mode": {
    "name": "ipython",
    "version": 3
   },
   "file_extension": ".py",
   "mimetype": "text/x-python",
   "name": "python",
   "nbconvert_exporter": "python",
   "pygments_lexer": "ipython3",
   "version": "3.6.3"
  }
 },
 "nbformat": 4,
 "nbformat_minor": 2
}
