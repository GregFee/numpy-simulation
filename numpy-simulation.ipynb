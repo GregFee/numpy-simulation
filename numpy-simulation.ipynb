{
 "cells": [
  {
   "cell_type": "markdown",
   "metadata": {},
   "source": [
    "# Numpy Simulation of the Effect of NFQ Levels on Weekly Salary"
   ]
  },
  {
   "cell_type": "markdown",
   "metadata": {},
   "source": [
    "![title](img/nfq.png)"
   ]
  },
  {
   "cell_type": "markdown",
   "metadata": {
    "collapsed": true
   },
   "source": [
    "#### What is NFQ Level:\n",
    "\n",
    "The National Framework of Qualifications describe the qualification and of the education and training system in Ireland and how they interlink [1]. The levels are organised by hierachy. The levels considered here were from level 6 to level 10 which is advanced certificate through to doctoral degree level. The data was measured at 3 intervals which were one year, three years and five years after receiving the qualification and the weekly wages received at this time."
   ]
  },
  {
   "cell_type": "markdown",
   "metadata": {},
   "source": [
    "![title](img/cso.png)\n",
    "\n",
    "The simulation is based on generating the data this graphical image represents.\n"
   ]
  },
  {
   "cell_type": "markdown",
   "metadata": {},
   "source": [
    "### Other Areas of Study Showing Levels of Qualifications Relationship With Salary"
   ]
  },
  {
   "cell_type": "code",
   "execution_count": 2,
   "metadata": {
    "collapsed": true
   },
   "outputs": [],
   "source": [
    "#import libraries\n",
    "import matplotlib.pyplot as plt\n",
    "import numpy as np\n",
    "import pylab\n",
    "Polynomial = np.polynomial.Polynomial\n",
    "import matplotlib.patches as mpatches\n",
    "import pandas as pd"
   ]
  },
  {
   "cell_type": "code",
   "execution_count": 3,
   "metadata": {
    "collapsed": true
   },
   "outputs": [],
   "source": [
    "#assign value for years after graduation \n",
    "y1 = 1\n",
    "y2 = 3\n",
    "y3 = 5"
   ]
  },
  {
   "cell_type": "code",
   "execution_count": 4,
   "metadata": {},
   "outputs": [
    {
     "name": "stdout",
     "output_type": "stream",
     "text": [
      "Salaries Year1 NFQ6 [[248 249 249 248 244]\n",
      " [246 244 242 241 245]\n",
      " [246 247 243 247 240]\n",
      " [244 245 245 242 247]\n",
      " [240 245 245 247 247]\n",
      " [245 246 249 243 246]\n",
      " [240 241 246 241 241]\n",
      " [244 248 249 248 244]\n",
      " [249 249 249 245 247]\n",
      " [246 248 247 245 247]\n",
      " [248 243 243 249 242]\n",
      " [247 241 244 247 249]\n",
      " [248 245 249 240 249]\n",
      " [249 243 244 242 240]\n",
      " [248 247 245 248 245]\n",
      " [244 242 244 240 247]\n",
      " [240 241 241 246 245]\n",
      " [244 240 244 242 247]\n",
      " [240 244 240 248 240]\n",
      " [240 244 241 243 247]]\n",
      "Salaries Year3 NFQ6 [[361 368 351 356 357]\n",
      " [358 356 350 361 358]\n",
      " [364 367 355 350 351]\n",
      " [350 361 363 368 366]\n",
      " [360 353 355 355 357]\n",
      " [366 366 357 363 357]\n",
      " [357 361 359 358 356]\n",
      " [354 361 355 362 354]\n",
      " [369 355 353 351 363]\n",
      " [369 350 355 364 356]\n",
      " [368 362 362 365 361]\n",
      " [352 366 354 360 363]\n",
      " [366 366 357 362 352]\n",
      " [357 351 357 360 360]\n",
      " [354 361 368 367 362]\n",
      " [366 357 359 369 350]\n",
      " [369 364 357 365 357]\n",
      " [352 353 364 351 367]\n",
      " [355 368 356 368 365]\n",
      " [350 358 357 355 363]]\n",
      "Salries Year5 NFQ5 [[479 471 472 476 478]\n",
      " [473 476 477 473 475]\n",
      " [471 472 472 474 472]\n",
      " [478 474 475 474 470]\n",
      " [479 479 473 470 471]\n",
      " [471 472 474 476 473]\n",
      " [472 471 471 477 473]\n",
      " [472 472 479 475 473]\n",
      " [478 474 479 470 478]\n",
      " [470 472 475 474 474]\n",
      " [476 471 478 470 479]\n",
      " [472 474 477 475 476]\n",
      " [476 470 472 478 476]\n",
      " [476 477 478 476 479]\n",
      " [479 476 477 470 471]\n",
      " [475 471 478 477 472]\n",
      " [479 470 476 476 477]\n",
      " [471 475 475 476 470]\n",
      " [470 473 478 476 476]\n",
      " [479 478 477 475 473]]\n"
     ]
    }
   ],
   "source": [
    "#NFQ Level 6 and weekly salary after 1, 3, 5 years, use randint that has discrete uniform distribution. 100 Datapoints\n",
    "\n",
    "#100 samples looking to simulate mean value of 245\n",
    "NFQ6_1 = np.random.randint(240,250,(20,5))\n",
    "print('Salaries Year1 NFQ6', NFQ6_1)\n",
    "\n",
    "#100 samples looking to simulate mean value of 360\n",
    "NFQ6_3 = np.random.randint(350,370,(20,5))\n",
    "print('Salaries Year3 NFQ6', NFQ6_3)\n",
    "\n",
    "#100 samples looking to simulate mean value of 475\n",
    "NFQ6_5 = np.random.randint(470,480,(20,5))\n",
    "print('Salries Year5 NFQ5', NFQ6_5)"
   ]
  },
  {
   "cell_type": "code",
   "execution_count": 5,
   "metadata": {},
   "outputs": [
    {
     "name": "stdout",
     "output_type": "stream",
     "text": [
      "Salaries Year1 NFQ7 [[294 282 289 289 287]\n",
      " [288 299 280 295 295]\n",
      " [285 289 288 286 287]\n",
      " [286 285 297 299 289]\n",
      " [282 286 280 298 297]\n",
      " [283 281 288 288 299]\n",
      " [288 281 280 281 285]\n",
      " [285 291 281 299 296]\n",
      " [280 284 281 291 280]\n",
      " [290 299 290 290 286]\n",
      " [296 298 297 294 280]\n",
      " [296 281 294 293 295]\n",
      " [288 281 281 299 280]\n",
      " [298 295 299 280 284]\n",
      " [288 298 299 286 289]\n",
      " [297 284 288 286 287]\n",
      " [291 284 284 287 283]\n",
      " [287 281 295 293 289]\n",
      " [294 295 283 290 299]\n",
      " [290 280 285 297 288]]\n",
      "Salaries Year3 NFQ7 [[425 420 412 412 425]\n",
      " [411 415 426 413 420]\n",
      " [410 416 410 426 411]\n",
      " [416 417 425 424 419]\n",
      " [412 425 418 429 412]\n",
      " [423 425 416 421 425]\n",
      " [415 421 422 414 425]\n",
      " [412 412 428 410 415]\n",
      " [416 412 417 427 415]\n",
      " [416 429 422 416 415]\n",
      " [414 421 418 411 417]\n",
      " [419 423 423 412 421]\n",
      " [418 416 414 424 422]\n",
      " [414 429 410 410 423]\n",
      " [421 419 429 427 422]\n",
      " [417 412 411 411 420]\n",
      " [414 422 427 418 429]\n",
      " [427 411 414 422 416]\n",
      " [411 422 412 422 423]\n",
      " [428 417 413 428 424]]\n",
      "Salaries Year5 NFQ7 [[534 522 522 531 515]\n",
      " [526 515 524 532 521]\n",
      " [527 518 527 530 530]\n",
      " [529 519 518 531 531]\n",
      " [528 526 520 516 532]\n",
      " [524 526 526 520 526]\n",
      " [529 533 520 520 515]\n",
      " [522 515 528 534 529]\n",
      " [518 518 518 521 516]\n",
      " [526 523 531 524 516]\n",
      " [518 517 534 517 526]\n",
      " [530 524 523 520 519]\n",
      " [532 525 515 532 525]\n",
      " [526 517 523 530 521]\n",
      " [532 533 534 523 533]\n",
      " [530 530 526 515 521]\n",
      " [528 529 524 530 523]\n",
      " [524 531 528 530 532]\n",
      " [521 527 525 521 525]\n",
      " [525 527 524 517 522]]\n"
     ]
    }
   ],
   "source": [
    "#NFQ Level 7 and weekly salary after 1, 3, 5 years, use randint that has discrete uniform distribution. 100 Datapoints\n",
    "\n",
    "#100 samples looking to simulate mean value of 290\n",
    "NFQ7_1 = np.random.randint(280,300,(20,5))\n",
    "print('Salaries Year1 NFQ7', NFQ7_1)\n",
    "\n",
    "#100 samples looking to simulate mean value of 420\n",
    "NFQ7_3 = np.random.randint(410,430,(20,5))\n",
    "print('Salaries Year3 NFQ7', NFQ7_3)\n",
    "\n",
    "#100 samples looking to simulate mean value of 525\n",
    "NFQ7_5 = np.random.randint(515,535,(20,5))\n",
    "print('Salaries Year5 NFQ7', NFQ7_5)"
   ]
  },
  {
   "cell_type": "code",
   "execution_count": 6,
   "metadata": {},
   "outputs": [
    {
     "name": "stdout",
     "output_type": "stream",
     "text": [
      "Salaries Year1 NFQ8 [[418 418 416 419 424]\n",
      " [427 422 432 431 428]\n",
      " [433 427 425 427 422]\n",
      " [419 419 415 421 434]\n",
      " [419 420 422 415 422]\n",
      " [424 418 434 428 418]\n",
      " [431 430 419 429 415]\n",
      " [422 416 430 415 416]\n",
      " [425 424 434 418 419]\n",
      " [430 427 426 429 434]\n",
      " [434 432 421 423 427]\n",
      " [429 424 422 431 419]\n",
      " [430 427 423 419 431]\n",
      " [417 432 429 433 434]\n",
      " [415 425 422 422 420]\n",
      " [430 415 422 434 425]\n",
      " [418 429 422 432 433]\n",
      " [425 423 429 423 421]\n",
      " [434 428 416 433 433]\n",
      " [422 427 424 422 424]]\n",
      "Salaries Year3 NFQ8 [[538 540 541 535 530]\n",
      " [528 537 525 526 544]\n",
      " [541 535 544 527 528]\n",
      " [536 530 543 541 537]\n",
      " [543 535 529 540 544]\n",
      " [533 538 541 526 533]\n",
      " [525 539 529 531 537]\n",
      " [537 538 539 536 536]\n",
      " [535 541 541 528 538]\n",
      " [535 540 542 532 538]\n",
      " [525 540 534 538 533]\n",
      " [543 531 543 542 531]\n",
      " [540 534 539 534 541]\n",
      " [533 539 544 527 535]\n",
      " [537 536 544 543 541]\n",
      " [527 536 535 539 537]\n",
      " [541 529 542 526 530]\n",
      " [528 527 531 544 532]\n",
      " [528 539 530 525 525]\n",
      " [541 538 531 539 527]]\n",
      "Salaries Year5 NFQ8 [[658 647 646 641 653]\n",
      " [648 648 657 655 641]\n",
      " [640 650 658 646 651]\n",
      " [640 641 651 648 658]\n",
      " [658 641 654 650 656]\n",
      " [643 644 651 650 651]\n",
      " [642 648 640 653 646]\n",
      " [654 644 657 643 658]\n",
      " [655 642 653 653 647]\n",
      " [658 647 652 657 650]\n",
      " [652 654 658 641 649]\n",
      " [653 655 640 646 644]\n",
      " [655 659 647 650 641]\n",
      " [655 645 651 651 640]\n",
      " [657 647 658 641 642]\n",
      " [655 654 647 654 643]\n",
      " [646 656 644 651 659]\n",
      " [653 649 652 651 654]\n",
      " [641 643 640 642 655]\n",
      " [645 643 659 654 655]]\n"
     ]
    }
   ],
   "source": [
    "#NFQ Level 8 and weekly salary after 1, 3, 5 years, use randint that has discrete uniform distribution. 100 Datapoints\n",
    "\n",
    "#100 samples looking to simulate mean value of 425\n",
    "NFQ8_1 = np.random.randint(415,435,(20,5))\n",
    "print('Salaries Year1 NFQ8', NFQ8_1)\n",
    "\n",
    "#100 samples looking to simulate mean value of 535\n",
    "NFQ8_3 = np.random.randint(525,545,(20,5))\n",
    "print('Salaries Year3 NFQ8', NFQ8_3)\n",
    "\n",
    "#100 samples looking to simulate mean value of 650\n",
    "NFQ8_5 = np.random.randint(640,660,(20,5))\n",
    "print('Salaries Year5 NFQ8', NFQ8_5)"
   ]
  },
  {
   "cell_type": "code",
   "execution_count": 7,
   "metadata": {},
   "outputs": [
    {
     "name": "stdout",
     "output_type": "stream",
     "text": [
      "Salaries Year1 NFQ9 [[516 501 502 504 511]\n",
      " [508 506 501 504 504]\n",
      " [513 512 517 515 516]\n",
      " [514 507 501 507 508]\n",
      " [509 507 502 511 504]\n",
      " [503 509 502 507 508]\n",
      " [502 502 503 501 515]\n",
      " [517 514 504 505 510]\n",
      " [518 501 505 509 515]\n",
      " [504 510 517 516 515]\n",
      " [502 505 510 506 515]\n",
      " [514 516 505 515 501]\n",
      " [504 518 511 505 506]\n",
      " [514 503 513 513 500]\n",
      " [502 511 502 511 504]\n",
      " [516 517 507 509 513]\n",
      " [514 517 517 512 506]\n",
      " [502 505 518 501 502]\n",
      " [511 504 507 504 505]\n",
      " [500 517 510 510 500]]\n",
      "Salaries Year3 NFQ9 [[631 630 639 627 620]\n",
      " [634 620 622 628 623]\n",
      " [629 624 627 637 631]\n",
      " [635 634 636 621 631]\n",
      " [621 638 631 634 621]\n",
      " [628 623 620 620 639]\n",
      " [626 623 624 628 630]\n",
      " [632 636 627 623 632]\n",
      " [624 639 637 628 625]\n",
      " [635 629 623 636 636]\n",
      " [638 620 628 628 627]\n",
      " [634 628 638 622 634]\n",
      " [631 639 631 627 627]\n",
      " [635 635 632 624 635]\n",
      " [639 626 625 627 628]\n",
      " [625 629 637 636 636]\n",
      " [624 620 632 628 620]\n",
      " [635 631 638 626 628]\n",
      " [624 628 622 637 627]\n",
      " [621 622 621 627 636]]\n",
      "Salaries Year5 NFQ9 [[746 743 745 744 746]\n",
      " [740 749 744 735 736]\n",
      " [738 731 740 730 737]\n",
      " [749 736 738 732 739]\n",
      " [732 749 735 735 733]\n",
      " [747 736 731 746 734]\n",
      " [736 739 730 744 747]\n",
      " [745 734 747 747 742]\n",
      " [745 731 732 735 743]\n",
      " [733 736 746 739 736]\n",
      " [745 732 730 739 734]\n",
      " [736 742 739 743 732]\n",
      " [742 749 749 733 734]\n",
      " [747 744 730 737 737]\n",
      " [744 731 734 734 747]\n",
      " [741 731 734 746 747]\n",
      " [749 742 730 737 732]\n",
      " [742 738 739 740 747]\n",
      " [737 735 735 731 735]\n",
      " [740 745 732 730 747]]\n"
     ]
    }
   ],
   "source": [
    "#NFQ Level 9 and weekly salary after 1, 3, 5 years, use randint that has discrete uniform distribution. 100 Datapoints\n",
    "\n",
    "#100 samples looking to simulate mean value of 510\n",
    "NFQ9_1 = np.random.randint(500,520,(20,5))\n",
    "print('Salaries Year1 NFQ9', NFQ9_1)\n",
    "\n",
    "#100 samples looking to simulate mean value of 630\n",
    "NFQ9_3 = np.random.randint(620,640,(20,5))\n",
    "print('Salaries Year3 NFQ9', NFQ9_3)\n",
    "\n",
    "#100 samples looking to simulate mean value of 740\n",
    "NFQ9_5 = np.random.randint(730,750,(20,5))\n",
    "print('Salaries Year5 NFQ9', NFQ9_5)"
   ]
  },
  {
   "cell_type": "code",
   "execution_count": 8,
   "metadata": {},
   "outputs": [
    {
     "name": "stdout",
     "output_type": "stream",
     "text": [
      "Salaries Year1 NFQ10 [[707 710 697 699 696]\n",
      " [699 700 709 705 711]\n",
      " [710 701 698 695 706]\n",
      " [702 701 714 696 705]\n",
      " [709 708 703 697 711]\n",
      " [699 697 710 697 712]\n",
      " [700 707 699 710 695]\n",
      " [703 713 706 698 696]\n",
      " [709 701 709 709 709]\n",
      " [697 711 696 698 697]\n",
      " [708 705 707 711 710]\n",
      " [712 705 705 706 707]\n",
      " [704 698 712 714 706]\n",
      " [697 712 708 702 707]\n",
      " [710 711 714 710 701]\n",
      " [703 698 697 700 701]\n",
      " [711 704 704 703 701]\n",
      " [699 695 705 701 709]\n",
      " [697 702 714 702 708]\n",
      " [707 701 700 700 700]]\n",
      "Salaries Year3 NFQ10 [[807 803 808 806 807]\n",
      " [795 807 802 807 796]\n",
      " [810 799 806 809 799]\n",
      " [804 803 799 808 795]\n",
      " [803 812 811 812 814]\n",
      " [813 802 796 814 798]\n",
      " [812 801 801 798 813]\n",
      " [803 810 802 800 812]\n",
      " [804 812 799 810 814]\n",
      " [814 796 811 800 805]\n",
      " [799 809 804 798 800]\n",
      " [807 795 803 800 796]\n",
      " [812 806 814 801 795]\n",
      " [808 799 812 798 812]\n",
      " [803 800 796 811 802]\n",
      " [808 805 797 796 808]\n",
      " [811 801 803 802 798]\n",
      " [806 805 802 803 804]\n",
      " [814 808 800 813 811]\n",
      " [807 795 800 803 806]]\n",
      "Salaries Year5 NFQ10 [[914 914 923 911 913]\n",
      " [928 920 927 922 914]\n",
      " [914 916 912 918 925]\n",
      " [927 912 923 914 914]\n",
      " [913 924 916 925 915]\n",
      " [910 910 915 911 919]\n",
      " [920 922 922 920 915]\n",
      " [924 912 924 912 916]\n",
      " [915 917 913 924 919]\n",
      " [917 929 929 915 915]\n",
      " [920 926 922 922 919]\n",
      " [927 911 928 911 924]\n",
      " [915 913 923 912 921]\n",
      " [921 924 911 910 916]\n",
      " [924 926 920 923 912]\n",
      " [910 924 929 922 929]\n",
      " [929 925 928 916 924]\n",
      " [910 917 929 916 921]\n",
      " [917 925 920 913 919]\n",
      " [912 921 919 921 929]]\n"
     ]
    }
   ],
   "source": [
    "#NFQ Level 10 and weekly salary after 1, 3, 5 years, use randint that has discrete uniform distribution. 100 Datapoints\n",
    "\n",
    "#100 samples looking to simulate mean value of 705\n",
    "NFQ10_1 = np.random.randint(695,715,(20,5))\n",
    "print('Salaries Year1 NFQ10', NFQ10_1)\n",
    "\n",
    "#100 samples looking to simulate mean value of 805\n",
    "NFQ10_3 = np.random.randint(795,815,(20,5))\n",
    "print('Salaries Year3 NFQ10', NFQ10_3)\n",
    "\n",
    "#100 samples looking to simulate mean value of 920\n",
    "NFQ10_5 = np.random.randint(910,930,(20,5))\n",
    "print('Salaries Year5 NFQ10', NFQ10_5)"
   ]
  },
  {
   "cell_type": "code",
   "execution_count": 9,
   "metadata": {},
   "outputs": [
    {
     "name": "stdout",
     "output_type": "stream",
     "text": [
      "Mean weekly wage of NFQ6 after 1 year is 244.78\n",
      "Mean weekly wage of NFQ6 after 3 years is 359.3\n",
      "Mean weekly wage of NFQ6 after 5 years is 474.51\n"
     ]
    }
   ],
   "source": [
    "#Calculate mean of weekly salaries for each qualification after 1, 3, 5 years after graduation\n",
    "\n",
    "#NFQ level 6 after 1 year\n",
    "x1 = np.mean(NFQ6_1)\n",
    "print('Mean weekly wage of NFQ6 after 1 year is', x1)\n",
    "\n",
    "#NFQ level 6 after 3 years\n",
    "x2 = np.mean(NFQ6_3)\n",
    "print('Mean weekly wage of NFQ6 after 3 years is', x2)\n",
    "\n",
    "#NFQ level 6 after 5 years\n",
    "x3 = np.mean(NFQ6_5)\n",
    "print('Mean weekly wage of NFQ6 after 5 years is', x3)"
   ]
  },
  {
   "cell_type": "code",
   "execution_count": 10,
   "metadata": {},
   "outputs": [
    {
     "name": "stdout",
     "output_type": "stream",
     "text": [
      "Mean weekly wage of NFQ7 after 1 year is 288.95\n",
      "Mean weekly wage of NFQ7 after 3 years is 418.66\n",
      "Mean weekly wage of NFQ7 after 5 years is 524.66\n"
     ]
    }
   ],
   "source": [
    "#NFQ level 7 after 1 year\n",
    "x4 = np.mean(NFQ7_1)\n",
    "print('Mean weekly wage of NFQ7 after 1 year is', x4)\n",
    "\n",
    "#NFQ level 7 after 3 years\n",
    "x5 = np.mean(NFQ7_3)\n",
    "print('Mean weekly wage of NFQ7 after 3 years is', x5)\n",
    "\n",
    "#NFQ level 7 after 5 years\n",
    "x6 = np.mean(NFQ7_5)\n",
    "print('Mean weekly wage of NFQ7 after 5 years is', x6)"
   ]
  },
  {
   "cell_type": "code",
   "execution_count": 11,
   "metadata": {},
   "outputs": [
    {
     "name": "stdout",
     "output_type": "stream",
     "text": [
      "Mean weekly wage of NFQ8 after 1 year is 424.71\n",
      "Mean weekly wage of NFQ8 after 3 years is 535.39\n",
      "Mean weekly wage of NFQ8 after 5 years is 649.5\n"
     ]
    }
   ],
   "source": [
    "#NFQ level 8 after 1 year\n",
    "x7 = np.mean(NFQ8_1)\n",
    "print('Mean weekly wage of NFQ8 after 1 year is', x7)\n",
    "\n",
    "#NFQ level 8 after 3 years\n",
    "x8 = np.mean(NFQ8_3)\n",
    "print('Mean weekly wage of NFQ8 after 3 years is', x8)\n",
    "\n",
    "#NFQ level 8 after 5 years\n",
    "x9 = np.mean(NFQ8_5)\n",
    "print('Mean weekly wage of NFQ8 after 5 years is', x9)"
   ]
  },
  {
   "cell_type": "code",
   "execution_count": 12,
   "metadata": {},
   "outputs": [
    {
     "name": "stdout",
     "output_type": "stream",
     "text": [
      "Mean weekly wage of NFQ9 after 1 year is 508.42\n",
      "Mean weekly wage of NFQ9 after 3 years is 629.15\n",
      "Mean weekly wage of NFQ9 after 5 years is 738.89\n"
     ]
    }
   ],
   "source": [
    "#NFQ level 9 after 1 year\n",
    "x10 = np.mean(NFQ9_1)\n",
    "print('Mean weekly wage of NFQ9 after 1 year is', x10)\n",
    "\n",
    "#NFQ level 9 after 3 years\n",
    "x11 = np.mean(NFQ9_3)\n",
    "print('Mean weekly wage of NFQ9 after 3 years is', x11)\n",
    "\n",
    "#NFQ level 9 after 5 years\n",
    "x12 = np.mean(NFQ9_5)\n",
    "print('Mean weekly wage of NFQ9 after 5 years is', x12)"
   ]
  },
  {
   "cell_type": "code",
   "execution_count": 13,
   "metadata": {},
   "outputs": [
    {
     "name": "stdout",
     "output_type": "stream",
     "text": [
      "Mean weekly wage of NFQ10 after 1 year is 704.11\n",
      "Mean weekly wage of NFQ10 after 3 years is 804.48\n",
      "Mean weekly wage of NFQ10 after 5 years is 919.05\n"
     ]
    }
   ],
   "source": [
    "#NFQ level 10 after 1 year\n",
    "x13 = np.mean(NFQ10_1)\n",
    "print('Mean weekly wage of NFQ10 after 1 year is', x13)\n",
    "\n",
    "#NFQ level 10 after 3 years\n",
    "x14 = np.mean(NFQ10_3)\n",
    "print('Mean weekly wage of NFQ10 after 3 years is', x14)\n",
    "\n",
    "#NFQ level 10 after 5 years\n",
    "x15 = np.mean(NFQ10_5)\n",
    "print('Mean weekly wage of NFQ10 after 5 years is', x15)"
   ]
  },
  {
   "cell_type": "code",
   "execution_count": 14,
   "metadata": {},
   "outputs": [
    {
     "data": {
      "image/png": "[encoded data removed]",
      "text/plain": [
       "<matplotlib.figure.Figure at 0x202daf82c50>"
      ]
     },
     "metadata": {},
     "output_type": "display_data"
    }
   ],
   "source": [
    "#Plotting simulated data to see if result is similar to the image 6.4 above.\n",
    "fig, ax = plt.subplots()\n",
    "ax.plot(y1, x1, 'go')\n",
    "ax.plot(y2, x2, 'go')\n",
    "ax.plot(y3, x3, 'go')\n",
    "ax.plot(y1, x4, 'ko')\n",
    "ax.plot(y2, x5, 'ko')\n",
    "ax.plot(y3, x6, 'ko')\n",
    "ax.plot(y1, x7, 'bo')\n",
    "ax.plot(y2, x8, 'bo')\n",
    "ax.plot(y3, x9, 'bo')\n",
    "ax.plot(y1, x10, 'ro')\n",
    "ax.plot(y2, x11, 'ro')\n",
    "ax.plot(y3, x12, 'ro')\n",
    "ax.plot(y1, x13, 'yo')\n",
    "ax.plot(y2, x14, 'yo')\n",
    "ax.plot(y3, x15, 'yo')\n",
    "ax.set(xlabel='Years since Graduation', ylabel='wages per week(Euros)',\n",
    "       title='Weekly Salary and NFQ Levels')\n",
    "ax.grid()\n",
    "plt.show()"
   ]
  },
  {
   "cell_type": "code",
   "execution_count": 15,
   "metadata": {},
   "outputs": [
    {
     "name": "stdout",
     "output_type": "stream",
     "text": [
      "Wage difference from NFQ10 & NFQ6 5 years after graduation is € 444.54\n",
      "Wage difference from NFQ10 & NFQ7 5 years after graduation is € 394.39\n",
      "Wage difference from NFQ10 & NFQ8 5 years after graduation is € 269.55\n",
      "Wage difference from NFQ10 & NFQ9 5 years after graduation is € 180.16\n"
     ]
    }
   ],
   "source": [
    "#Calculate wage differnecs between all NFQ levels after 5 years.\n",
    "range1  = x15 -x3\n",
    "print('Wage difference from NFQ10 & NFQ6 5 years after graduation is €', range1)\n",
    "\n",
    "range2 = x15 - x6\n",
    "print('Wage difference from NFQ10 & NFQ7 5 years after graduation is €', range2)\n",
    "\n",
    "range3 = x15 - x9\n",
    "print('Wage difference from NFQ10 & NFQ8 5 years after graduation is €', range3)\n",
    "\n",
    "range4 = x15 - x12\n",
    "print('Wage difference from NFQ10 & NFQ9 5 years after graduation is €', range4)"
   ]
  },
  {
   "cell_type": "markdown",
   "metadata": {},
   "source": [
    "#### From the above data showing the ranges of wages we can see that the discrepency of wage level decreases with higher NFQ level. This is the expected result."
   ]
  },
  {
   "cell_type": "code",
   "execution_count": 23,
   "metadata": {},
   "outputs": [
    {
     "name": "stdout",
     "output_type": "stream",
     "text": [
      "      0    1    2    3    4\n",
      "0   248  249  249  248  244\n",
      "1   246  244  242  241  245\n",
      "2   246  247  243  247  240\n",
      "3   244  245  245  242  247\n",
      "4   240  245  245  247  247\n",
      "5   245  246  249  243  246\n",
      "6   240  241  246  241  241\n",
      "7   244  248  249  248  244\n",
      "8   249  249  249  245  247\n",
      "9   246  248  247  245  247\n",
      "10  248  243  243  249  242\n",
      "11  247  241  244  247  249\n",
      "12  248  245  249  240  249\n",
      "13  249  243  244  242  240\n",
      "14  248  247  245  248  245\n",
      "15  244  242  244  240  247\n",
      "16  240  241  241  246  245\n",
      "17  244  240  244  242  247\n",
      "18  240  244  240  248  240\n",
      "19  240  244  241  243  247\n",
      "      0    1    2    3    4\n",
      "0   361  368  351  356  357\n",
      "1   358  356  350  361  358\n",
      "2   364  367  355  350  351\n",
      "3   350  361  363  368  366\n",
      "4   360  353  355  355  357\n",
      "5   366  366  357  363  357\n",
      "6   357  361  359  358  356\n",
      "7   354  361  355  362  354\n",
      "8   369  355  353  351  363\n",
      "9   369  350  355  364  356\n",
      "10  368  362  362  365  361\n",
      "11  352  366  354  360  363\n",
      "12  366  366  357  362  352\n",
      "13  357  351  357  360  360\n",
      "14  354  361  368  367  362\n",
      "15  366  357  359  369  350\n",
      "16  369  364  357  365  357\n",
      "17  352  353  364  351  367\n",
      "18  355  368  356  368  365\n",
      "19  350  358  357  355  363\n",
      "      0    1    2    3    4\n",
      "0   479  471  472  476  478\n",
      "1   473  476  477  473  475\n",
      "2   471  472  472  474  472\n",
      "3   478  474  475  474  470\n",
      "4   479  479  473  470  471\n",
      "5   471  472  474  476  473\n",
      "6   472  471  471  477  473\n",
      "7   472  472  479  475  473\n",
      "8   478  474  479  470  478\n",
      "9   470  472  475  474  474\n",
      "10  476  471  478  470  479\n",
      "11  472  474  477  475  476\n",
      "12  476  470  472  478  476\n",
      "13  476  477  478  476  479\n",
      "14  479  476  477  470  471\n",
      "15  475  471  478  477  472\n",
      "16  479  470  476  476  477\n",
      "17  471  475  475  476  470\n",
      "18  470  473  478  476  476\n",
      "19  479  478  477  475  473\n"
     ]
    }
   ],
   "source": [
    "#Make dataframe for NFQ6 and look at data\n",
    "df = pd.DataFrame(NFQ6_1)\n",
    "df1 = pd.DataFrame(NFQ6_3)\n",
    "df2 = pd.DataFrame(NFQ6_5)\n",
    "print(df.head(20))\n",
    "print(df1.head(20))\n",
    "print(df2.head(20))"
   ]
  },
  {
   "cell_type": "code",
   "execution_count": 29,
   "metadata": {},
   "outputs": [
    {
     "name": "stdout",
     "output_type": "stream",
     "text": [
      "                0           1           2           3           4\n",
      "count   60.000000   60.000000   60.000000   60.000000   60.000000\n",
      "mean   359.816667  359.400000  359.266667  359.833333  359.333333\n",
      "std     94.806760   94.280541   95.047333   94.695259   94.493775\n",
      "min    240.000000  240.000000  240.000000  240.000000  240.000000\n",
      "25%    248.000000  247.000000  248.500000  247.750000  247.000000\n",
      "50%    359.000000  361.000000  357.000000  361.500000  357.500000\n",
      "75%    471.250000  471.000000  473.250000  473.250000  472.000000\n",
      "max    479.000000  479.000000  479.000000  478.000000  479.000000\n",
      "            Wages       Wages       Wages       Wages       Wages\n",
      "count   60.000000   60.000000   60.000000   60.000000   60.000000\n",
      "mean   410.900000  410.216667  410.266667  411.533333  410.866667\n",
      "std     97.852137   97.580752   97.742981   96.535313   97.187302\n",
      "min    280.000000  280.000000  280.000000  280.000000  280.000000\n",
      "25%    294.000000  295.000000  294.750000  296.500000  295.000000\n",
      "50%    416.000000  419.500000  417.500000  419.500000  420.500000\n",
      "75%    524.000000  518.000000  520.500000  520.000000  519.500000\n",
      "max    534.000000  533.000000  534.000000  534.000000  533.000000\n",
      "            Wages       Wages       Wages      Wages       Wages\n",
      "count   60.000000   60.000000   60.000000   60.00000   60.000000\n",
      "mean   536.733333  536.033333  537.416667  536.00000  536.483333\n",
      "std     92.968532   92.220253   93.481493   92.27538   92.707027\n",
      "min    415.000000  415.000000  415.000000  415.00000  415.000000\n",
      "25%    430.000000  427.750000  429.000000  431.00000  432.500000\n",
      "50%    535.500000  537.500000  540.000000  534.50000  535.500000\n",
      "75%    643.500000  643.250000  646.250000  643.75000  643.250000\n",
      "max    658.000000  659.000000  659.000000  657.00000  659.000000\n",
      "            Wages       Wages       Wages       Wages       Wages\n",
      "count   60.000000   60.000000   60.000000   60.000000   60.000000\n",
      "mean   626.966667  625.483333  624.733333  624.766667  625.483333\n",
      "std     95.925636   94.729855   94.663161   94.692073   95.447295\n",
      "min    500.000000  501.000000  501.000000  501.000000  500.000000\n",
      "25%    514.000000  515.500000  512.500000  511.750000  514.500000\n",
      "50%    631.000000  628.500000  629.500000  627.500000  629.000000\n",
      "75%    737.250000  732.500000  731.250000  733.250000  734.000000\n",
      "max    749.000000  749.000000  749.000000  747.000000  747.000000\n",
      "            Wages       Wages       Wages      Wages       Wages\n",
      "count   60.000000   60.000000   60.000000   60.00000   60.000000\n",
      "mean   809.833333  808.933333  810.100000  808.00000  809.200000\n",
      "std     88.378072   88.935297   89.360762   88.40546   88.588709\n",
      "min    697.000000  695.000000  696.000000  695.00000  695.000000\n",
      "25%    709.000000  709.500000  709.750000  708.25000  709.000000\n",
      "50%    807.000000  803.000000  802.000000  803.00000  804.500000\n",
      "75%    913.250000  913.250000  916.750000  912.00000  915.000000\n",
      "max    929.000000  929.000000  929.000000  925.00000  929.000000\n"
     ]
    }
   ],
   "source": [
    "#combine dataframes together for all NFQ levels.\n",
    "# edited from https://pandas.pydata.org/pandas-docs/stable/merging.html\n",
    "#decribe data\n",
    "data = [df, df1, df2]\n",
    "NFQ6 = pd.concat(data)\n",
    "print(NFQ6.describe())\n",
    "\n",
    "\n",
    "df3 = pd.DataFrame(NFQ7_1)\n",
    "df4 = pd.DataFrame(NFQ7_3)\n",
    "df5 = pd.DataFrame(NFQ7_5)\n",
    "data1 = [df3, df4, df5]\n",
    "NFQ7 = pd.concat(data1)\n",
    "print(NFQ7.describe())\n",
    "\n",
    "\n",
    "df6 = pd.DataFrame(NFQ8_1)\n",
    "df7 = pd.DataFrame(NFQ8_3)\n",
    "df8 = pd.DataFrame(NFQ8_5)\n",
    "data2 = [df6, df7, df8]\n",
    "NFQ8 = pd.concat(data2)\n",
    "print(NFQ8.describe())\n",
    "\n",
    "df9 = pd.DataFrame(NFQ9_1)\n",
    "df10 = pd.DataFrame(NFQ9_3)\n",
    "df11 = pd.DataFrame(NFQ9_5)\n",
    "data3 = [df9, df10, df11]\n",
    "NFQ9 = pd.concat(data3)\n",
    "print(NFQ9.describe())\n",
    "\n",
    "\n",
    "df12 = pd.DataFrame(NFQ10_1)\n",
    "df13 = pd.DataFrame(NFQ10_3)\n",
    "df14 = pd.DataFrame(NFQ10_5)\n",
    "data4 = [df12, df13, df14]\n",
    "NFQ10 = pd.concat(data4)\n",
    "print(NFQ10.describe())\n"
   ]
  },
  {
   "cell_type": "code",
   "execution_count": 18,
   "metadata": {},
   "outputs": [
    {
     "name": "stdout",
     "output_type": "stream",
     "text": [
      "Percentage of wages received for NFQ6 in relation to NFQ10 after 5 years is 51.6304880039\n"
     ]
    }
   ],
   "source": [
    "#Calculate percentage difference of salary levels after 5 years experience\n",
    "Percentage1=(x3/x15) *100\n",
    "print(\"Percentage of wages received for NFQ6 in relation to NFQ10 after 5 years is\", Percentage1)"
   ]
  },
  {
   "cell_type": "code",
   "execution_count": 19,
   "metadata": {},
   "outputs": [
    {
     "name": "stdout",
     "output_type": "stream",
     "text": [
      "Percentage of wages received for NFQ7 in relation to NFQ10 after 5 years is 57.0872096186\n"
     ]
    }
   ],
   "source": [
    "#Calculate percentage difference of salary levels after 5 years experience\n",
    "Percentage2=(x6/x15) *100\n",
    "print(\"Percentage of wages received for NFQ7 in relation to NFQ10 after 5 years is\", Percentage2)"
   ]
  },
  {
   "cell_type": "code",
   "execution_count": 20,
   "metadata": {},
   "outputs": [
    {
     "name": "stdout",
     "output_type": "stream",
     "text": [
      "Percentage of wages received for NFQ8 in relation to NFQ10 after 5 years is 70.670801371\n"
     ]
    }
   ],
   "source": [
    "#Calculate percentage difference of salary levels after 5 years experience\n",
    "Percentage3=(x9/x15) *100\n",
    "print(\"Percentage of wages received for NFQ8 in relation to NFQ10 after 5 years is\", Percentage3)"
   ]
  },
  {
   "cell_type": "code",
   "execution_count": 21,
   "metadata": {},
   "outputs": [
    {
     "name": "stdout",
     "output_type": "stream",
     "text": [
      "Percentage of wages received for NFQ9 in relation to NFQ10 after 5 years is 80.3971492302\n"
     ]
    }
   ],
   "source": [
    "#Calculate percentage difference of salary levels after 5 years experience\n",
    "Percentage4=(x12/x15) *100\n",
    "print(\"Percentage of wages received for NFQ9 in relation to NFQ10 after 5 years is\", Percentage4)"
   ]
  },
  {
   "cell_type": "code",
   "execution_count": 30,
   "metadata": {},
   "outputs": [
    {
     "data": {
      "image/png": "[encoded data removed]",
      "text/plain": [
       "<matplotlib.figure.Figure at 0x202db2d3f28>"
      ]
     },
     "metadata": {},
     "output_type": "display_data"
    }
   ],
   "source": [
    "#Calculate percentage difference of salary levels after 5 years experience\n",
    "percentages = (Percentage1, Percentage2, Percentage3, Percentage4)\n",
    "plt.plot(percentages, 'go')\n",
    "plt.title(\"Percentage of Salary Difference With Increased NFQ Level Comapared to NFQ Level 10.\")\n",
    "plt.ylabel(\"Percentage of Salary\")\n",
    "plt.show()"
   ]
  },
  {
   "cell_type": "markdown",
   "metadata": {
    "collapsed": true
   },
   "source": [
    "### References:\n",
    "\n",
    "[1] https://www.qqi.ie/Articles/Pages/National-Framework-of-Qualifications-(NFQ).aspx\n"
   ]
  },
  {
   "cell_type": "code",
   "execution_count": null,
   "metadata": {
    "collapsed": true
   },
   "outputs": [],
   "source": []
  }
 ],
 "metadata": {
  "kernelspec": {
   "display_name": "Python 3",
   "language": "python",
   "name": "python3"
  },
  "language_info": {
   "codemirror_mode": {
    "name": "ipython",
    "version": 3
   },
   "file_extension": ".py",
   "mimetype": "text/x-python",
   "name": "python",
   "nbconvert_exporter": "python",
   "pygments_lexer": "ipython3",
   "version": "3.6.3"
  }
 },
 "nbformat": 4,
 "nbformat_minor": 2
}
