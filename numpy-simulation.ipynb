{
 "cells": [
  {
   "cell_type": "markdown",
   "metadata": {},
   "source": [
    "# Numpy Simulation"
   ]
  },
  {
   "cell_type": "markdown",
   "metadata": {
    "collapsed": true
   },
   "source": [
    "## Simulation of effect of NFQ Qulaification Level on Weekly Wages over 1, 3 and 5 years since graduation\n",
    "\n",
    "#### What is NFQ Level:"
   ]
  },
  {
   "cell_type": "markdown",
   "metadata": {},
   "source": [
    "#### Original Data from CSO study figure 6.4 \n",
    "\n",
    "https://www.cso.ie/en/media/csoie/releasespublications/documents/education/2014/Higher_Education_Outcomes_book_-_web.pdf"
   ]
  },
  {
   "cell_type": "markdown",
   "metadata": {},
   "source": [
    "Add figure 6.4"
   ]
  },
  {
   "cell_type": "code",
   "execution_count": 2,
   "metadata": {
    "collapsed": true
   },
   "outputs": [],
   "source": [
    "#import libraries\n",
    "import matplotlib.pyplot as plt\n",
    "import numpy as np\n",
    "import pylab\n",
    "Polynomial = np.polynomial.Polynomial\n",
    "import matplotlib.patches as mpatches\n",
    "import pandas as pd"
   ]
  },
  {
   "cell_type": "code",
   "execution_count": 3,
   "metadata": {},
   "outputs": [
    {
     "name": "stdout",
     "output_type": "stream",
     "text": [
      "Salaries Year1 NFQ6 [[240 242 242 249 240]\n",
      " [246 243 240 243 240]\n",
      " [241 249 240 249 240]\n",
      " [244 243 242 242 247]\n",
      " [247 249 246 245 249]\n",
      " [245 249 240 240 241]\n",
      " [248 241 241 245 243]\n",
      " [249 247 249 245 240]\n",
      " [247 246 248 244 240]\n",
      " [242 242 243 245 242]\n",
      " [248 242 242 240 242]\n",
      " [241 244 245 249 247]\n",
      " [243 243 247 240 247]\n",
      " [246 241 240 246 241]\n",
      " [245 248 241 249 249]\n",
      " [241 249 247 249 247]\n",
      " [245 241 242 240 240]\n",
      " [245 249 243 240 242]\n",
      " [248 240 244 247 240]\n",
      " [240 245 245 243 244]]\n",
      "Salaries Year3 NFQ6 [[361 369 363 350 366]\n",
      " [351 362 353 364 365]\n",
      " [359 363 358 356 354]\n",
      " [354 362 353 359 367]\n",
      " [367 369 359 369 355]\n",
      " [350 358 369 368 360]\n",
      " [360 355 351 362 366]\n",
      " [353 353 359 368 355]\n",
      " [361 361 352 368 358]\n",
      " [367 356 350 358 363]\n",
      " [356 367 353 367 355]\n",
      " [365 352 351 351 353]\n",
      " [360 363 365 359 362]\n",
      " [362 358 363 364 360]\n",
      " [350 369 369 362 358]\n",
      " [359 366 368 366 356]\n",
      " [362 364 350 368 359]\n",
      " [361 359 367 364 352]\n",
      " [369 365 361 364 356]\n",
      " [358 353 359 353 358]]\n",
      "Salries Year5 NFQ5 [[479 471 474 479 476]\n",
      " [472 474 477 474 478]\n",
      " [478 474 477 470 474]\n",
      " [479 471 476 470 472]\n",
      " [478 477 476 475 473]\n",
      " [479 472 479 473 474]\n",
      " [477 477 476 476 471]\n",
      " [470 477 476 476 477]\n",
      " [472 476 477 472 476]\n",
      " [478 475 472 470 473]\n",
      " [470 476 473 474 472]\n",
      " [473 478 477 474 479]\n",
      " [476 471 476 472 474]\n",
      " [474 471 475 472 478]\n",
      " [474 476 477 471 477]\n",
      " [478 470 474 474 479]\n",
      " [475 471 478 477 471]\n",
      " [477 473 478 477 471]\n",
      " [473 474 474 473 479]\n",
      " [479 477 472 475 474]]\n"
     ]
    }
   ],
   "source": [
    "#NFQ Level 6 and weekly salary after 1, 3, 5 years, use randint that has discrete uniform distribution. 100 Datapoints\n",
    "\n",
    "#100 samples looking to simulate mean value of 245\n",
    "NFQ6_1 = np.random.randint(240,250,(20,5))\n",
    "print('Salaries Year1 NFQ6', NFQ6_1)\n",
    "\n",
    "#100 samples looking to simulate mean value of 360\n",
    "NFQ6_3 = np.random.randint(350,370,(20,5))\n",
    "print('Salaries Year3 NFQ6', NFQ6_3)\n",
    "\n",
    "#100 samples looking to simulate mean value of 475\n",
    "NFQ6_5 = np.random.randint(470,480,(20,5))\n",
    "print('Salries Year5 NFQ5', NFQ6_5)"
   ]
  },
  {
   "cell_type": "code",
   "execution_count": 4,
   "metadata": {},
   "outputs": [
    {
     "name": "stdout",
     "output_type": "stream",
     "text": [
      "Salaries Year1 NFQ7 [[296 294 285 280 289]\n",
      " [288 288 286 286 289]\n",
      " [290 296 286 288 287]\n",
      " [292 293 289 287 293]\n",
      " [288 284 292 295 289]\n",
      " [283 299 281 290 285]\n",
      " [291 290 293 299 280]\n",
      " [295 280 286 298 287]\n",
      " [290 283 285 285 299]\n",
      " [299 289 298 289 284]\n",
      " [289 287 294 288 285]\n",
      " [282 282 296 297 287]\n",
      " [288 289 289 290 289]\n",
      " [283 290 282 296 290]\n",
      " [285 289 289 296 290]\n",
      " [286 295 283 283 299]\n",
      " [294 296 292 298 282]\n",
      " [298 291 284 282 284]\n",
      " [285 295 290 291 288]\n",
      " [291 284 297 295 282]]\n",
      "Salaries Year3 NFQ7 [[416 410 422 418 418]\n",
      " [425 421 427 429 425]\n",
      " [421 412 429 423 413]\n",
      " [422 410 425 413 413]\n",
      " [425 417 424 426 424]\n",
      " [423 422 416 420 424]\n",
      " [415 411 416 424 410]\n",
      " [423 423 418 415 410]\n",
      " [426 411 423 417 428]\n",
      " [421 413 417 423 425]\n",
      " [418 417 419 410 411]\n",
      " [429 423 418 425 421]\n",
      " [412 424 411 410 426]\n",
      " [420 411 415 415 416]\n",
      " [412 420 412 423 413]\n",
      " [412 421 419 422 421]\n",
      " [426 427 414 410 420]\n",
      " [423 427 415 411 410]\n",
      " [424 421 414 424 419]\n",
      " [429 410 422 427 422]]\n",
      "Salaries Year5 NFQ7 [[523 528 520 527 533]\n",
      " [517 531 533 528 521]\n",
      " [522 521 521 515 534]\n",
      " [517 532 532 520 525]\n",
      " [521 523 517 521 515]\n",
      " [520 533 523 524 531]\n",
      " [523 525 518 521 516]\n",
      " [533 516 522 523 520]\n",
      " [525 519 521 532 519]\n",
      " [528 531 531 525 522]\n",
      " [526 531 517 534 521]\n",
      " [522 532 532 522 516]\n",
      " [523 523 532 528 530]\n",
      " [528 519 524 531 534]\n",
      " [526 516 522 515 519]\n",
      " [521 516 519 530 532]\n",
      " [522 518 521 529 519]\n",
      " [516 526 524 533 525]\n",
      " [529 519 524 528 521]\n",
      " [518 516 528 528 521]]\n"
     ]
    }
   ],
   "source": [
    "#NFQ Level 7 and weekly salary after 1, 3, 5 years, use randint that has discrete uniform distribution. 100 Datapoints\n",
    "\n",
    "#100 samples looking to simulate mean value of 290\n",
    "NFQ7_1 = np.random.randint(280,300,(20,5))\n",
    "print('Salaries Year1 NFQ7', NFQ7_1)\n",
    "\n",
    "#100 samples looking to simulate mean value of 420\n",
    "NFQ7_3 = np.random.randint(410,430,(20,5))\n",
    "print('Salaries Year3 NFQ7', NFQ7_3)\n",
    "\n",
    "#100 samples looking to simulate mean value of 525\n",
    "NFQ7_5 = np.random.randint(515,535,(20,5))\n",
    "print('Salaries Year5 NFQ7', NFQ7_5)"
   ]
  },
  {
   "cell_type": "code",
   "execution_count": 5,
   "metadata": {},
   "outputs": [
    {
     "name": "stdout",
     "output_type": "stream",
     "text": [
      "Salaries Year1 NFQ8 [[428 434 428 429 419]\n",
      " [434 431 418 428 431]\n",
      " [416 431 415 421 418]\n",
      " [415 426 434 427 423]\n",
      " [425 431 431 427 424]\n",
      " [421 427 421 416 426]\n",
      " [427 425 418 424 424]\n",
      " [427 419 433 427 418]\n",
      " [423 425 418 426 421]\n",
      " [425 430 433 429 421]\n",
      " [430 430 432 421 418]\n",
      " [423 426 416 428 419]\n",
      " [426 428 423 418 431]\n",
      " [418 423 425 420 418]\n",
      " [417 418 419 416 424]\n",
      " [428 416 420 423 433]\n",
      " [425 417 416 415 415]\n",
      " [422 428 423 415 426]\n",
      " [417 425 427 422 433]\n",
      " [429 416 421 419 426]]\n",
      "Salaries Year3 NFQ8 [[529 532 542 540 537]\n",
      " [543 532 532 526 530]\n",
      " [539 533 530 530 532]\n",
      " [534 536 544 531 527]\n",
      " [533 534 541 542 530]\n",
      " [533 538 527 541 533]\n",
      " [536 534 540 530 539]\n",
      " [543 540 530 541 535]\n",
      " [543 527 535 533 534]\n",
      " [539 543 534 530 526]\n",
      " [534 525 538 535 536]\n",
      " [536 537 532 536 543]\n",
      " [534 541 542 526 532]\n",
      " [535 527 532 537 535]\n",
      " [539 529 526 528 528]\n",
      " [527 529 535 531 534]\n",
      " [534 539 531 533 535]\n",
      " [538 532 544 531 526]\n",
      " [526 530 535 530 540]\n",
      " [541 529 535 533 544]]\n",
      "Salaries Year5 NFQ8 [[648 655 644 655 644]\n",
      " [653 659 648 641 656]\n",
      " [648 652 643 655 654]\n",
      " [659 658 643 649 649]\n",
      " [651 651 647 652 656]\n",
      " [644 648 641 652 644]\n",
      " [647 648 657 655 658]\n",
      " [641 649 648 642 655]\n",
      " [642 657 658 650 651]\n",
      " [649 648 650 653 656]\n",
      " [649 651 652 650 646]\n",
      " [657 640 659 646 649]\n",
      " [655 647 659 657 652]\n",
      " [657 646 653 642 653]\n",
      " [641 655 659 650 659]\n",
      " [646 643 656 657 648]\n",
      " [640 643 640 645 658]\n",
      " [654 640 657 645 646]\n",
      " [656 657 644 644 654]\n",
      " [653 654 643 641 641]]\n"
     ]
    }
   ],
   "source": [
    "#NFQ Level 8 and weekly salary after 1, 3, 5 years, use randint that has discrete uniform distribution. 100 Datapoints\n",
    "\n",
    "#100 samples looking to simulate mean value of 425\n",
    "NFQ8_1 = np.random.randint(415,435,(20,5))\n",
    "print('Salaries Year1 NFQ8', NFQ8_1)\n",
    "\n",
    "#100 samples looking to simulate mean value of 535\n",
    "NFQ8_3 = np.random.randint(525,545,(20,5))\n",
    "print('Salaries Year3 NFQ8', NFQ8_3)\n",
    "\n",
    "#100 samples looking to simulate mean value of 650\n",
    "NFQ8_5 = np.random.randint(640,660,(20,5))\n",
    "print('Salaries Year5 NFQ8', NFQ8_5)"
   ]
  },
  {
   "cell_type": "code",
   "execution_count": 6,
   "metadata": {},
   "outputs": [
    {
     "name": "stdout",
     "output_type": "stream",
     "text": [
      "Salaries Year1 NFQ9 [[513 506 518 519 510]\n",
      " [503 513 514 515 514]\n",
      " [510 509 516 518 518]\n",
      " [503 508 510 510 508]\n",
      " [511 506 501 518 503]\n",
      " [507 510 515 512 509]\n",
      " [519 519 508 500 518]\n",
      " [519 504 500 515 514]\n",
      " [519 518 518 511 509]\n",
      " [505 500 514 503 513]\n",
      " [505 510 512 519 514]\n",
      " [509 515 501 500 508]\n",
      " [511 516 513 513 502]\n",
      " [514 508 502 513 514]\n",
      " [513 514 512 517 512]\n",
      " [503 511 507 513 500]\n",
      " [516 501 503 504 506]\n",
      " [507 516 509 519 500]\n",
      " [513 506 512 500 501]\n",
      " [518 504 515 512 503]]\n",
      "Salaries Year3 NFQ9 [[630 631 626 620 623]\n",
      " [629 639 630 630 624]\n",
      " [634 636 626 627 620]\n",
      " [626 622 630 626 633]\n",
      " [639 626 636 621 628]\n",
      " [631 631 633 639 631]\n",
      " [637 625 633 630 621]\n",
      " [639 621 631 629 635]\n",
      " [621 622 639 626 627]\n",
      " [624 633 620 632 636]\n",
      " [626 634 631 635 621]\n",
      " [626 638 633 629 633]\n",
      " [638 639 638 636 631]\n",
      " [621 624 632 636 624]\n",
      " [627 621 626 629 632]\n",
      " [639 624 637 624 636]\n",
      " [628 634 630 622 638]\n",
      " [638 631 623 635 635]\n",
      " [629 627 623 623 621]\n",
      " [639 636 627 631 635]]\n",
      "Salaries Year5 NFQ9 [[730 742 744 745 735]\n",
      " [748 735 745 742 742]\n",
      " [743 749 743 741 730]\n",
      " [735 746 741 736 731]\n",
      " [744 733 743 744 748]\n",
      " [734 747 731 746 746]\n",
      " [732 734 748 742 732]\n",
      " [738 740 738 749 738]\n",
      " [745 738 735 730 747]\n",
      " [740 742 740 734 732]\n",
      " [746 732 730 746 738]\n",
      " [740 742 738 734 744]\n",
      " [746 743 739 735 731]\n",
      " [739 740 731 743 741]\n",
      " [740 746 733 749 740]\n",
      " [740 748 740 730 735]\n",
      " [741 734 737 737 742]\n",
      " [738 733 735 744 741]\n",
      " [737 730 732 746 744]\n",
      " [743 742 738 739 732]]\n"
     ]
    }
   ],
   "source": [
    "#NFQ Level 9 and weekly salary after 1, 3, 5 years, use randint that has discrete uniform distribution. 100 Datapoints\n",
    "\n",
    "#100 samples looking to simulate mean value of 510\n",
    "NFQ9_1 = np.random.randint(500,520,(20,5))\n",
    "print('Salaries Year1 NFQ9', NFQ9_1)\n",
    "\n",
    "#100 samples looking to simulate mean value of 630\n",
    "NFQ9_3 = np.random.randint(620,640,(20,5))\n",
    "print('Salaries Year3 NFQ9', NFQ9_3)\n",
    "\n",
    "#100 samples looking to simulate mean value of 740\n",
    "NFQ9_5 = np.random.randint(730,750,(20,5))\n",
    "print('Salaries Year5 NFQ9', NFQ9_5)"
   ]
  },
  {
   "cell_type": "code",
   "execution_count": 7,
   "metadata": {},
   "outputs": [
    {
     "name": "stdout",
     "output_type": "stream",
     "text": [
      "Salaries Year1 NFQ10 [[714 700 711 714 703]\n",
      " [708 703 708 707 713]\n",
      " [700 696 711 700 711]\n",
      " [704 698 703 710 709]\n",
      " [704 703 699 699 701]\n",
      " [695 705 704 698 709]\n",
      " [712 704 712 713 698]\n",
      " [696 709 711 708 706]\n",
      " [703 712 708 711 702]\n",
      " [696 698 700 710 700]\n",
      " [701 695 697 699 698]\n",
      " [710 697 712 709 701]\n",
      " [704 695 706 695 707]\n",
      " [706 711 703 695 705]\n",
      " [695 695 710 695 708]\n",
      " [696 707 699 706 713]\n",
      " [704 701 704 703 708]\n",
      " [710 712 710 696 707]\n",
      " [702 708 710 712 695]\n",
      " [702 705 701 710 713]]\n",
      "Salaries Year3 NFQ10 [[811 802 795 809 807]\n",
      " [806 809 813 798 812]\n",
      " [799 796 809 796 808]\n",
      " [814 814 806 808 813]\n",
      " [807 804 811 810 814]\n",
      " [804 803 812 802 797]\n",
      " [809 799 807 812 807]\n",
      " [809 799 805 796 803]\n",
      " [795 797 812 806 806]\n",
      " [808 810 797 808 801]\n",
      " [812 805 812 795 803]\n",
      " [801 801 809 810 808]\n",
      " [797 804 806 797 808]\n",
      " [804 813 799 800 813]\n",
      " [799 808 799 803 808]\n",
      " [800 795 801 797 807]\n",
      " [807 811 804 800 810]\n",
      " [805 797 804 808 804]\n",
      " [812 804 800 810 805]\n",
      " [812 814 806 797 808]]\n",
      "Salaries Year5 NFQ10 [[919 923 925 914 927]\n",
      " [917 926 926 913 924]\n",
      " [911 923 922 915 926]\n",
      " [922 924 912 910 910]\n",
      " [924 917 926 927 918]\n",
      " [924 924 918 922 923]\n",
      " [919 920 912 913 927]\n",
      " [926 928 911 920 920]\n",
      " [918 910 926 921 916]\n",
      " [925 927 918 917 917]\n",
      " [924 910 923 924 924]\n",
      " [912 918 929 917 926]\n",
      " [921 915 914 912 926]\n",
      " [921 914 916 924 924]\n",
      " [917 912 927 918 924]\n",
      " [927 924 928 912 916]\n",
      " [917 923 926 912 925]\n",
      " [911 928 912 918 914]\n",
      " [927 925 927 912 927]\n",
      " [919 923 928 914 924]]\n"
     ]
    }
   ],
   "source": [
    "#NFQ Level 10 and weekly salary after 1, 3, 5 years, use randint that has discrete uniform distribution. 100 Datapoints\n",
    "\n",
    "#100 samples looking to simulate mean value of 705\n",
    "NFQ10_1 = np.random.randint(695,715,(20,5))\n",
    "print('Salaries Year1 NFQ10', NFQ10_1)\n",
    "\n",
    "#100 samples looking to simulate mean value of 805\n",
    "NFQ10_3 = np.random.randint(795,815,(20,5))\n",
    "print('Salaries Year3 NFQ10', NFQ10_3)\n",
    "\n",
    "#100 samples looking to simulate mean value of 920\n",
    "NFQ10_5 = np.random.randint(910,930,(20,5))\n",
    "print('Salaries Year5 NFQ10', NFQ10_5)"
   ]
  },
  {
   "cell_type": "code",
   "execution_count": 8,
   "metadata": {},
   "outputs": [
    {
     "name": "stdout",
     "output_type": "stream",
     "text": [
      "Mean weekly wage of NFQ6 after 1 year is 244.02\n",
      "Mean weekly wage of NFQ6 after 3 years is 360.0\n",
      "Mean weekly wage of NFQ6 after 5 years is 474.78\n"
     ]
    }
   ],
   "source": [
    "#Calculate mean of weekly salaries for each qualification after 1, 3, 5 years after graduation\n",
    "\n",
    "#NFQ level 6 after 1 year\n",
    "x1 = np.mean(NFQ6_1)\n",
    "print('Mean weekly wage of NFQ6 after 1 year is', x1)\n",
    "\n",
    "#NFQ level 6 after 3 years\n",
    "x2 = np.mean(NFQ6_3)\n",
    "print('Mean weekly wage of NFQ6 after 3 years is', x2)\n",
    "\n",
    "#NFQ level 6 after 5 years\n",
    "x3 = np.mean(NFQ6_5)\n",
    "print('Mean weekly wage of NFQ6 after 5 years is', x3)"
   ]
  },
  {
   "cell_type": "code",
   "execution_count": 9,
   "metadata": {},
   "outputs": [
    {
     "name": "stdout",
     "output_type": "stream",
     "text": [
      "Mean weekly wage of NFQ7 after 1 year is 289.35\n",
      "Mean weekly wage of NFQ7 after 3 years is 419.03\n",
      "Mean weekly wage of NFQ7 after 5 years is 524.04\n"
     ]
    }
   ],
   "source": [
    "#NFQ level 7 after 1 year\n",
    "x4 = np.mean(NFQ7_1)\n",
    "print('Mean weekly wage of NFQ7 after 1 year is', x4)\n",
    "\n",
    "#NFQ level 7 after 3 years\n",
    "x5 = np.mean(NFQ7_3)\n",
    "print('Mean weekly wage of NFQ7 after 3 years is', x5)\n",
    "\n",
    "#NFQ level 7 after 5 years\n",
    "x6 = np.mean(NFQ7_5)\n",
    "print('Mean weekly wage of NFQ7 after 5 years is', x6)"
   ]
  },
  {
   "cell_type": "code",
   "execution_count": 10,
   "metadata": {},
   "outputs": [
    {
     "name": "stdout",
     "output_type": "stream",
     "text": [
      "Mean weekly wage of NFQ8 after 1 year is 423.72\n",
      "Mean weekly wage of NFQ8 after 3 years is 534.28\n",
      "Mean weekly wage of NFQ8 after 5 years is 650.02\n"
     ]
    }
   ],
   "source": [
    "#NFQ level 8 after 1 year\n",
    "x7 = np.mean(NFQ8_1)\n",
    "print('Mean weekly wage of NFQ8 after 1 year is', x7)\n",
    "\n",
    "#NFQ level 8 after 3 years\n",
    "x8 = np.mean(NFQ8_3)\n",
    "print('Mean weekly wage of NFQ8 after 3 years is', x8)\n",
    "\n",
    "#NFQ level 8 after 5 years\n",
    "x9 = np.mean(NFQ8_5)\n",
    "print('Mean weekly wage of NFQ8 after 5 years is', x9)"
   ]
  },
  {
   "cell_type": "code",
   "execution_count": 11,
   "metadata": {},
   "outputs": [
    {
     "name": "stdout",
     "output_type": "stream",
     "text": [
      "Mean weekly wage of NFQ9 after 1 year is 510.19\n",
      "Mean weekly wage of NFQ9 after 3 years is 629.83\n",
      "Mean weekly wage of NFQ9 after 5 years is 739.37\n"
     ]
    }
   ],
   "source": [
    "#NFQ level 9 after 1 year\n",
    "x10 = np.mean(NFQ9_1)\n",
    "print('Mean weekly wage of NFQ9 after 1 year is', x10)\n",
    "\n",
    "#NFQ level 9 after 3 years\n",
    "x11 = np.mean(NFQ9_3)\n",
    "print('Mean weekly wage of NFQ9 after 3 years is', x11)\n",
    "\n",
    "#NFQ level 9 after 5 years\n",
    "x12 = np.mean(NFQ9_5)\n",
    "print('Mean weekly wage of NFQ9 after 5 years is', x12)"
   ]
  },
  {
   "cell_type": "code",
   "execution_count": 12,
   "metadata": {},
   "outputs": [
    {
     "name": "stdout",
     "output_type": "stream",
     "text": [
      "Mean weekly wage of NFQ10 after 1 year is 704.32\n",
      "Mean weekly wage of NFQ10 after 3 years is 805.07\n",
      "Mean weekly wage of NFQ10 after 5 years is 920.14\n"
     ]
    }
   ],
   "source": [
    "#NFQ level 10 after 1 year\n",
    "x13 = np.mean(NFQ10_1)\n",
    "print('Mean weekly wage of NFQ10 after 1 year is', x13)\n",
    "\n",
    "#NFQ level 10 after 3 years\n",
    "x14 = np.mean(NFQ10_3)\n",
    "print('Mean weekly wage of NFQ10 after 3 years is', x14)\n",
    "\n",
    "#NFQ level 10 after 5 years\n",
    "x15 = np.mean(NFQ10_5)\n",
    "print('Mean weekly wage of NFQ10 after 5 years is', x15)"
   ]
  },
  {
   "cell_type": "code",
   "execution_count": 13,
   "metadata": {},
   "outputs": [
    {
     "data": {
      "image/png": "[encoded data removed]",
      "text/plain": [
       "<matplotlib.figure.Figure at 0x1cb14a03048>"
      ]
     },
     "metadata": {},
     "output_type": "display_data"
    }
   ],
   "source": [
    "#assign value for years and then plot for mean of weekly wage for each qualification\n",
    "y1 = 1\n",
    "y2 = 3\n",
    "y3 = 5\n",
    "\n",
    "plt.plot(y1, x1, 'go')\n",
    "plt.plot(y2, x2, 'go')\n",
    "plt.plot(y3, x3, 'go')\n",
    "plt.plot(y1, x4, 'ko')\n",
    "plt.plot(y2, x5, 'ko')\n",
    "plt.plot(y3, x6, 'ko')\n",
    "plt.plot(y1, x7, 'bo')\n",
    "plt.plot(y2, x8, 'bo')\n",
    "plt.plot(y3, x9, 'bo')\n",
    "plt.plot(y1, x10, 'ro')\n",
    "plt.plot(y2, x11, 'ro')\n",
    "plt.plot(y3, x12, 'ro')\n",
    "plt.plot(y1, x13, 'yo')\n",
    "plt.plot(y2, x14, 'yo')\n",
    "plt.plot(y3, x15, 'yo')\n",
    "plt.show()\n"
   ]
  },
  {
   "cell_type": "code",
   "execution_count": 21,
   "metadata": {},
   "outputs": [
    {
     "data": {
      "image/png": "[encoded data removed]",
      "text/plain": [
       "<matplotlib.figure.Figure at 0x1cb162f02e8>"
      ]
     },
     "metadata": {},
     "output_type": "display_data"
    }
   ],
   "source": [
    "fig, ax = plt.subplots()\n",
    "ax.plot(y1, x1, 'go')\n",
    "green_patch = mpatches.Patch(color='g', label='NFQ6')\n",
    "plt.legend(handles=[green_patch])\n",
    "ax.plot(y2, x2, 'go')\n",
    "ax.plot(y3, x3, 'go')\n",
    "ax.plot(y1, x4, 'ko')\n",
    "black_patch = mpatches.Patch(color='k', label='NFQ7')\n",
    "plt.legend(handles=[black_patch])\n",
    "ax.plot(y2, x5, 'ko')\n",
    "ax.plot(y3, x6, 'ko')\n",
    "ax.plot(y1, x7, 'bo')\n",
    "blue_patch = mpatches.Patch(color='b', label='NFQ8')\n",
    "plt.legend(handles=[blue_patch])\n",
    "ax.plot(y2, x8, 'bo')\n",
    "ax.plot(y3, x9, 'bo')\n",
    "ax.plot(y1, x10, 'ro')\n",
    "red_patch = mpatches.Patch(color='r', label='NFQ9')\n",
    "plt.legend(handles=[red_patch])\n",
    "ax.plot(y2, x11, 'ro')\n",
    "ax.plot(y3, x12, 'ro')\n",
    "ax.plot(y1, x13, 'yo')\n",
    "yellow_patch = mpatches.Patch(color='y', label='NFQ10')\n",
    "plt.legend(handles=[yellow_patch])\n",
    "ax.plot(y2, x14, 'yo')\n",
    "ax.plot(y3, x15, 'yo')\n",
    "ax.set(xlabel='Years since Graduation', ylabel='wages per week',\n",
    "       title='Weekly Salary and NFQ Levels')\n",
    "ax.grid()\n",
    "plt.show()"
   ]
  },
  {
   "cell_type": "code",
   "execution_count": null,
   "metadata": {
    "collapsed": true
   },
   "outputs": [],
   "source": []
  }
 ],
 "metadata": {
  "kernelspec": {
   "display_name": "Python 3",
   "language": "python",
   "name": "python3"
  },
  "language_info": {
   "codemirror_mode": {
    "name": "ipython",
    "version": 3
   },
   "file_extension": ".py",
   "mimetype": "text/x-python",
   "name": "python",
   "nbconvert_exporter": "python",
   "pygments_lexer": "ipython3",
   "version": "3.6.3"
  }
 },
 "nbformat": 4,
 "nbformat_minor": 2
}
