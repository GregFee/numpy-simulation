{
 "cells": [
  {
   "cell_type": "markdown",
   "metadata": {},
   "source": [
    "# Numpy Simulation"
   ]
  },
  {
   "cell_type": "markdown",
   "metadata": {
    "collapsed": true
   },
   "source": [
    "## Simulation of effect of NFQ Qulaification Level on Weekly Wages over 1, 3 and 5 years since graduation\n",
    "\n",
    "#### What is NFQ Level:"
   ]
  },
  {
   "cell_type": "markdown",
   "metadata": {},
   "source": [
    "#### Original Data from CSO study figure 6.4 \n",
    "\n",
    "https://www.cso.ie/en/media/csoie/releasespublications/documents/education/2014/Higher_Education_Outcomes_book_-_web.pdf"
   ]
  },
  {
   "cell_type": "markdown",
   "metadata": {},
   "source": [
    "Add figure 6.4"
   ]
  },
  {
   "cell_type": "code",
   "execution_count": 65,
   "metadata": {
    "collapsed": true
   },
   "outputs": [],
   "source": [
    "#import libraries\n",
    "import matplotlib.pyplot as plt\n",
    "import numpy as np\n",
    "import pylab\n",
    "Polynomial = np.polynomial.Polynomial\n",
    "import matplotlib.patches as mpatches\n",
    "import pandas as pd"
   ]
  },
  {
   "cell_type": "code",
   "execution_count": 66,
   "metadata": {
    "collapsed": true
   },
   "outputs": [],
   "source": [
    "#assign value for years and then \n",
    "y1 = 1\n",
    "y2 = 3\n",
    "y3 = 5"
   ]
  },
  {
   "cell_type": "code",
   "execution_count": 67,
   "metadata": {},
   "outputs": [
    {
     "name": "stdout",
     "output_type": "stream",
     "text": [
      "Salaries Year1 NFQ6 [[242 249 247 241 247]\n",
      " [242 248 248 244 249]\n",
      " [247 241 249 249 241]\n",
      " [244 245 244 247 248]\n",
      " [243 245 244 243 243]\n",
      " [243 240 240 246 241]\n",
      " [248 247 246 249 247]\n",
      " [246 245 248 249 248]\n",
      " [241 247 240 246 242]\n",
      " [242 248 242 241 249]\n",
      " [243 243 247 243 247]\n",
      " [246 248 242 248 248]\n",
      " [247 240 249 249 245]\n",
      " [246 242 247 240 249]\n",
      " [246 246 243 249 247]\n",
      " [240 244 246 248 244]\n",
      " [241 246 241 249 247]\n",
      " [243 244 249 244 244]\n",
      " [247 246 246 248 241]\n",
      " [243 248 242 243 244]]\n",
      "Salaries Year3 NFQ6 [[367 355 362 362 361]\n",
      " [361 359 369 354 356]\n",
      " [355 369 357 368 350]\n",
      " [364 362 358 369 364]\n",
      " [360 364 351 351 354]\n",
      " [358 368 363 364 369]\n",
      " [356 360 363 362 361]\n",
      " [355 360 368 351 352]\n",
      " [357 350 367 364 352]\n",
      " [367 353 354 368 350]\n",
      " [362 359 366 357 368]\n",
      " [365 352 352 366 368]\n",
      " [358 351 360 359 350]\n",
      " [362 355 350 361 356]\n",
      " [352 360 365 350 365]\n",
      " [355 365 350 351 368]\n",
      " [351 360 369 362 360]\n",
      " [365 351 363 365 365]\n",
      " [366 366 355 356 360]\n",
      " [367 369 352 368 353]]\n",
      "Salries Year5 NFQ5 [[477 478 473 474 477]\n",
      " [473 472 478 474 473]\n",
      " [475 475 479 478 470]\n",
      " [474 470 474 470 479]\n",
      " [475 477 471 478 475]\n",
      " [478 470 473 471 475]\n",
      " [474 475 472 474 479]\n",
      " [474 476 471 478 471]\n",
      " [473 478 478 472 477]\n",
      " [473 476 474 470 470]\n",
      " [476 472 471 476 477]\n",
      " [476 471 472 477 470]\n",
      " [473 475 473 476 471]\n",
      " [475 472 478 477 475]\n",
      " [472 478 477 478 476]\n",
      " [471 475 479 475 479]\n",
      " [471 474 472 478 472]\n",
      " [479 472 477 477 478]\n",
      " [476 477 472 475 478]\n",
      " [474 474 475 472 479]]\n"
     ]
    }
   ],
   "source": [
    "#NFQ Level 6 and weekly salary after 1, 3, 5 years, use randint that has discrete uniform distribution. 100 Datapoints\n",
    "\n",
    "#100 samples looking to simulate mean value of 245\n",
    "NFQ6_1 = np.random.randint(240,250,(20,5))\n",
    "print('Salaries Year1 NFQ6', NFQ6_1)\n",
    "\n",
    "#100 samples looking to simulate mean value of 360\n",
    "NFQ6_3 = np.random.randint(350,370,(20,5))\n",
    "print('Salaries Year3 NFQ6', NFQ6_3)\n",
    "\n",
    "#100 samples looking to simulate mean value of 475\n",
    "NFQ6_5 = np.random.randint(470,480,(20,5))\n",
    "print('Salries Year5 NFQ5', NFQ6_5)"
   ]
  },
  {
   "cell_type": "code",
   "execution_count": 68,
   "metadata": {},
   "outputs": [
    {
     "name": "stdout",
     "output_type": "stream",
     "text": [
      "Salaries Year1 NFQ7 [[283 284 281 292 284]\n",
      " [280 292 282 280 298]\n",
      " [293 286 289 280 285]\n",
      " [280 298 282 286 284]\n",
      " [298 289 292 283 294]\n",
      " [297 296 295 288 284]\n",
      " [286 299 298 294 298]\n",
      " [284 296 282 291 296]\n",
      " [296 293 285 283 296]\n",
      " [287 287 298 290 297]\n",
      " [283 289 281 285 287]\n",
      " [299 285 298 295 296]\n",
      " [294 293 290 281 299]\n",
      " [286 298 293 281 290]\n",
      " [293 287 287 299 291]\n",
      " [298 281 296 292 293]\n",
      " [290 283 291 286 288]\n",
      " [280 283 292 281 299]\n",
      " [290 298 290 280 296]\n",
      " [297 285 281 295 291]]\n",
      "Salaries Year3 NFQ7 [[411 419 414 414 411]\n",
      " [428 412 423 418 425]\n",
      " [424 425 414 421 419]\n",
      " [422 410 410 427 413]\n",
      " [410 427 412 422 428]\n",
      " [429 421 414 424 428]\n",
      " [420 424 424 420 415]\n",
      " [423 424 420 429 417]\n",
      " [424 421 411 426 424]\n",
      " [428 426 419 419 424]\n",
      " [418 414 420 423 418]\n",
      " [417 420 420 426 419]\n",
      " [413 419 419 419 417]\n",
      " [429 424 424 423 423]\n",
      " [411 413 421 424 428]\n",
      " [418 424 428 422 418]\n",
      " [417 415 426 424 410]\n",
      " [411 410 418 420 427]\n",
      " [420 421 429 413 423]\n",
      " [429 429 419 421 411]]\n",
      "Salaries Year5 NFQ7 [[523 525 524 531 524]\n",
      " [528 530 527 530 517]\n",
      " [519 532 525 525 529]\n",
      " [532 524 523 526 517]\n",
      " [528 523 533 529 532]\n",
      " [529 528 533 519 521]\n",
      " [529 522 519 517 522]\n",
      " [517 534 518 527 522]\n",
      " [529 529 516 518 516]\n",
      " [516 518 528 534 525]\n",
      " [532 525 524 522 533]\n",
      " [521 529 523 533 515]\n",
      " [522 523 524 533 523]\n",
      " [533 532 521 515 525]\n",
      " [525 520 530 519 519]\n",
      " [525 532 522 521 527]\n",
      " [515 520 530 521 527]\n",
      " [519 520 527 531 526]\n",
      " [515 517 526 520 533]\n",
      " [526 532 530 519 524]]\n"
     ]
    }
   ],
   "source": [
    "#NFQ Level 7 and weekly salary after 1, 3, 5 years, use randint that has discrete uniform distribution. 100 Datapoints\n",
    "\n",
    "#100 samples looking to simulate mean value of 290\n",
    "NFQ7_1 = np.random.randint(280,300,(20,5))\n",
    "print('Salaries Year1 NFQ7', NFQ7_1)\n",
    "\n",
    "#100 samples looking to simulate mean value of 420\n",
    "NFQ7_3 = np.random.randint(410,430,(20,5))\n",
    "print('Salaries Year3 NFQ7', NFQ7_3)\n",
    "\n",
    "#100 samples looking to simulate mean value of 525\n",
    "NFQ7_5 = np.random.randint(515,535,(20,5))\n",
    "print('Salaries Year5 NFQ7', NFQ7_5)"
   ]
  },
  {
   "cell_type": "code",
   "execution_count": 69,
   "metadata": {},
   "outputs": [
    {
     "name": "stdout",
     "output_type": "stream",
     "text": [
      "Salaries Year1 NFQ8 [[429 422 423 426 430]\n",
      " [426 419 416 423 417]\n",
      " [425 421 415 427 422]\n",
      " [426 416 432 427 420]\n",
      " [434 426 432 423 417]\n",
      " [421 419 417 434 428]\n",
      " [432 416 434 419 425]\n",
      " [416 427 434 428 431]\n",
      " [426 420 433 434 431]\n",
      " [419 415 417 431 417]\n",
      " [418 417 418 426 419]\n",
      " [418 421 434 434 430]\n",
      " [421 416 425 425 422]\n",
      " [428 429 419 432 425]\n",
      " [427 427 434 415 433]\n",
      " [421 422 430 426 433]\n",
      " [422 423 425 417 419]\n",
      " [421 434 424 417 434]\n",
      " [427 433 427 426 417]\n",
      " [416 417 419 430 422]]\n",
      "Salaries Year3 NFQ8 [[526 539 541 535 544]\n",
      " [536 533 531 543 529]\n",
      " [541 533 529 528 527]\n",
      " [526 526 539 542 530]\n",
      " [540 530 525 541 527]\n",
      " [529 526 534 539 544]\n",
      " [536 539 534 542 540]\n",
      " [531 540 529 527 543]\n",
      " [540 533 531 530 539]\n",
      " [541 533 535 532 528]\n",
      " [537 525 525 537 526]\n",
      " [527 534 530 539 531]\n",
      " [531 539 526 525 539]\n",
      " [542 527 530 528 533]\n",
      " [542 527 543 543 544]\n",
      " [539 540 525 533 533]\n",
      " [542 530 526 541 541]\n",
      " [542 539 527 526 543]\n",
      " [538 534 541 529 539]\n",
      " [543 525 544 527 532]]\n",
      "Salaries Year5 NFQ8 [[646 659 648 652 653]\n",
      " [648 651 646 650 640]\n",
      " [645 644 642 650 653]\n",
      " [653 654 653 640 645]\n",
      " [645 657 647 642 643]\n",
      " [655 657 652 657 657]\n",
      " [642 654 657 643 659]\n",
      " [642 656 657 657 649]\n",
      " [657 653 646 645 643]\n",
      " [645 644 658 655 656]\n",
      " [651 643 657 644 659]\n",
      " [641 640 651 656 649]\n",
      " [655 642 647 659 653]\n",
      " [653 650 646 647 648]\n",
      " [647 650 652 659 652]\n",
      " [659 645 643 658 654]\n",
      " [657 646 648 641 651]\n",
      " [656 650 651 650 642]\n",
      " [643 655 656 649 653]\n",
      " [656 643 656 641 647]]\n"
     ]
    }
   ],
   "source": [
    "#NFQ Level 8 and weekly salary after 1, 3, 5 years, use randint that has discrete uniform distribution. 100 Datapoints\n",
    "\n",
    "#100 samples looking to simulate mean value of 425\n",
    "NFQ8_1 = np.random.randint(415,435,(20,5))\n",
    "print('Salaries Year1 NFQ8', NFQ8_1)\n",
    "\n",
    "#100 samples looking to simulate mean value of 535\n",
    "NFQ8_3 = np.random.randint(525,545,(20,5))\n",
    "print('Salaries Year3 NFQ8', NFQ8_3)\n",
    "\n",
    "#100 samples looking to simulate mean value of 650\n",
    "NFQ8_5 = np.random.randint(640,660,(20,5))\n",
    "print('Salaries Year5 NFQ8', NFQ8_5)"
   ]
  },
  {
   "cell_type": "code",
   "execution_count": 70,
   "metadata": {},
   "outputs": [
    {
     "name": "stdout",
     "output_type": "stream",
     "text": [
      "Salaries Year1 NFQ9 [[514 515 514 515 510]\n",
      " [517 502 512 511 509]\n",
      " [516 501 514 509 517]\n",
      " [509 510 518 505 504]\n",
      " [517 507 509 514 509]\n",
      " [512 515 517 503 513]\n",
      " [509 508 503 509 518]\n",
      " [505 503 502 500 513]\n",
      " [505 514 519 507 512]\n",
      " [518 506 509 509 518]\n",
      " [511 509 503 505 500]\n",
      " [516 508 515 508 519]\n",
      " [516 510 511 514 504]\n",
      " [502 504 511 505 515]\n",
      " [506 507 513 504 517]\n",
      " [504 515 517 513 506]\n",
      " [518 513 516 502 518]\n",
      " [509 513 501 516 515]\n",
      " [511 507 517 508 505]\n",
      " [517 517 510 509 502]]\n",
      "Salaries Year3 NFQ9 [[627 636 628 635 635]\n",
      " [633 628 625 622 639]\n",
      " [626 627 624 633 633]\n",
      " [621 633 628 620 637]\n",
      " [622 623 634 624 624]\n",
      " [638 621 639 631 630]\n",
      " [631 629 635 632 627]\n",
      " [626 627 630 630 631]\n",
      " [625 639 638 623 625]\n",
      " [627 638 637 632 623]\n",
      " [635 637 622 624 620]\n",
      " [633 620 629 620 636]\n",
      " [633 622 624 622 635]\n",
      " [638 633 621 620 635]\n",
      " [638 639 631 626 630]\n",
      " [636 625 620 636 630]\n",
      " [623 632 635 623 635]\n",
      " [627 633 633 624 630]\n",
      " [630 625 632 621 631]\n",
      " [633 639 622 633 628]]\n",
      "Salaries Year5 NFQ9 [[743 737 746 736 746]\n",
      " [732 744 743 738 731]\n",
      " [744 748 741 742 738]\n",
      " [736 741 743 742 744]\n",
      " [745 747 730 734 749]\n",
      " [748 747 748 739 730]\n",
      " [734 741 738 741 749]\n",
      " [747 734 733 744 743]\n",
      " [736 730 748 733 731]\n",
      " [741 737 735 741 730]\n",
      " [733 733 735 749 737]\n",
      " [733 734 732 743 749]\n",
      " [743 746 743 746 732]\n",
      " [742 746 732 733 738]\n",
      " [749 730 735 749 746]\n",
      " [732 744 740 747 738]\n",
      " [738 744 735 734 749]\n",
      " [736 734 748 732 737]\n",
      " [738 747 740 741 731]\n",
      " [748 735 733 747 733]]\n"
     ]
    }
   ],
   "source": [
    "#NFQ Level 9 and weekly salary after 1, 3, 5 years, use randint that has discrete uniform distribution. 100 Datapoints\n",
    "\n",
    "#100 samples looking to simulate mean value of 510\n",
    "NFQ9_1 = np.random.randint(500,520,(20,5))\n",
    "print('Salaries Year1 NFQ9', NFQ9_1)\n",
    "\n",
    "#100 samples looking to simulate mean value of 630\n",
    "NFQ9_3 = np.random.randint(620,640,(20,5))\n",
    "print('Salaries Year3 NFQ9', NFQ9_3)\n",
    "\n",
    "#100 samples looking to simulate mean value of 740\n",
    "NFQ9_5 = np.random.randint(730,750,(20,5))\n",
    "print('Salaries Year5 NFQ9', NFQ9_5)"
   ]
  },
  {
   "cell_type": "code",
   "execution_count": 71,
   "metadata": {},
   "outputs": [
    {
     "name": "stdout",
     "output_type": "stream",
     "text": [
      "Salaries Year1 NFQ10 [[710 704 708 706 709]\n",
      " [707 712 700 707 702]\n",
      " [710 695 702 699 712]\n",
      " [714 709 695 708 713]\n",
      " [695 712 698 708 703]\n",
      " [708 713 714 711 714]\n",
      " [704 705 712 709 700]\n",
      " [707 700 700 709 712]\n",
      " [710 698 712 714 702]\n",
      " [707 709 704 704 712]\n",
      " [697 709 701 702 713]\n",
      " [698 708 695 714 704]\n",
      " [697 697 704 709 698]\n",
      " [712 696 708 706 713]\n",
      " [708 699 700 703 696]\n",
      " [708 703 710 698 710]\n",
      " [696 697 696 698 701]\n",
      " [699 698 707 704 699]\n",
      " [701 714 696 711 700]\n",
      " [705 710 712 697 697]]\n",
      "Salaries Year3 NFQ10 [[808 810 796 806 802]\n",
      " [807 809 795 810 810]\n",
      " [804 807 805 806 799]\n",
      " [808 796 806 805 797]\n",
      " [806 796 809 807 811]\n",
      " [795 808 812 812 797]\n",
      " [810 806 799 806 803]\n",
      " [798 808 813 805 805]\n",
      " [801 799 798 811 814]\n",
      " [797 800 801 809 809]\n",
      " [809 812 804 812 798]\n",
      " [801 795 814 801 799]\n",
      " [814 799 811 814 798]\n",
      " [806 795 802 809 809]\n",
      " [812 808 808 814 800]\n",
      " [811 795 799 795 804]\n",
      " [813 808 808 797 803]\n",
      " [806 812 796 797 807]\n",
      " [799 801 795 803 797]\n",
      " [796 805 800 802 813]]\n",
      "Salaries Year5 NFQ10 [[911 929 914 911 915]\n",
      " [922 915 914 922 920]\n",
      " [919 926 912 919 911]\n",
      " [920 918 912 913 928]\n",
      " [920 913 919 919 920]\n",
      " [917 912 911 915 928]\n",
      " [922 910 929 915 925]\n",
      " [912 918 915 915 912]\n",
      " [910 927 925 929 921]\n",
      " [926 929 917 912 915]\n",
      " [929 915 921 919 928]\n",
      " [926 913 912 923 912]\n",
      " [921 914 918 922 926]\n",
      " [928 916 923 920 916]\n",
      " [928 912 924 921 916]\n",
      " [929 910 914 914 922]\n",
      " [918 915 919 929 915]\n",
      " [912 912 911 925 914]\n",
      " [928 914 917 920 910]\n",
      " [929 926 926 922 918]]\n"
     ]
    }
   ],
   "source": [
    "#NFQ Level 10 and weekly salary after 1, 3, 5 years, use randint that has discrete uniform distribution. 100 Datapoints\n",
    "\n",
    "#100 samples looking to simulate mean value of 705\n",
    "NFQ10_1 = np.random.randint(695,715,(20,5))\n",
    "print('Salaries Year1 NFQ10', NFQ10_1)\n",
    "\n",
    "#100 samples looking to simulate mean value of 805\n",
    "NFQ10_3 = np.random.randint(795,815,(20,5))\n",
    "print('Salaries Year3 NFQ10', NFQ10_3)\n",
    "\n",
    "#100 samples looking to simulate mean value of 920\n",
    "NFQ10_5 = np.random.randint(910,930,(20,5))\n",
    "print('Salaries Year5 NFQ10', NFQ10_5)"
   ]
  },
  {
   "cell_type": "code",
   "execution_count": 72,
   "metadata": {},
   "outputs": [
    {
     "name": "stdout",
     "output_type": "stream",
     "text": [
      "Mean weekly wage of NFQ6 after 1 year is 245.09\n",
      "Mean weekly wage of NFQ6 after 3 years is 359.75\n",
      "Mean weekly wage of NFQ6 after 5 years is 474.66\n"
     ]
    }
   ],
   "source": [
    "#Calculate mean of weekly salaries for each qualification after 1, 3, 5 years after graduation\n",
    "\n",
    "#NFQ level 6 after 1 year\n",
    "x1 = np.mean(NFQ6_1)\n",
    "print('Mean weekly wage of NFQ6 after 1 year is', x1)\n",
    "\n",
    "#NFQ level 6 after 3 years\n",
    "x2 = np.mean(NFQ6_3)\n",
    "print('Mean weekly wage of NFQ6 after 3 years is', x2)\n",
    "\n",
    "#NFQ level 6 after 5 years\n",
    "x3 = np.mean(NFQ6_5)\n",
    "print('Mean weekly wage of NFQ6 after 5 years is', x3)"
   ]
  },
  {
   "cell_type": "code",
   "execution_count": 73,
   "metadata": {},
   "outputs": [
    {
     "name": "stdout",
     "output_type": "stream",
     "text": [
      "Mean weekly wage of NFQ7 after 1 year is 289.67\n",
      "Mean weekly wage of NFQ7 after 3 years is 420.18\n",
      "Mean weekly wage of NFQ7 after 5 years is 524.68\n"
     ]
    }
   ],
   "source": [
    "#NFQ level 7 after 1 year\n",
    "x4 = np.mean(NFQ7_1)\n",
    "print('Mean weekly wage of NFQ7 after 1 year is', x4)\n",
    "\n",
    "#NFQ level 7 after 3 years\n",
    "x5 = np.mean(NFQ7_3)\n",
    "print('Mean weekly wage of NFQ7 after 3 years is', x5)\n",
    "\n",
    "#NFQ level 7 after 5 years\n",
    "x6 = np.mean(NFQ7_5)\n",
    "print('Mean weekly wage of NFQ7 after 5 years is', x6)"
   ]
  },
  {
   "cell_type": "code",
   "execution_count": 74,
   "metadata": {},
   "outputs": [
    {
     "name": "stdout",
     "output_type": "stream",
     "text": [
      "Mean weekly wage of NFQ8 after 1 year is 424.33\n",
      "Mean weekly wage of NFQ8 after 3 years is 534.25\n",
      "Mean weekly wage of NFQ8 after 5 years is 650.03\n"
     ]
    }
   ],
   "source": [
    "#NFQ level 8 after 1 year\n",
    "x7 = np.mean(NFQ8_1)\n",
    "print('Mean weekly wage of NFQ8 after 1 year is', x7)\n",
    "\n",
    "#NFQ level 8 after 3 years\n",
    "x8 = np.mean(NFQ8_3)\n",
    "print('Mean weekly wage of NFQ8 after 3 years is', x8)\n",
    "\n",
    "#NFQ level 8 after 5 years\n",
    "x9 = np.mean(NFQ8_5)\n",
    "print('Mean weekly wage of NFQ8 after 5 years is', x9)"
   ]
  },
  {
   "cell_type": "code",
   "execution_count": 75,
   "metadata": {},
   "outputs": [
    {
     "name": "stdout",
     "output_type": "stream",
     "text": [
      "Mean weekly wage of NFQ9 after 1 year is 510.37\n",
      "Mean weekly wage of NFQ9 after 3 years is 629.4\n",
      "Mean weekly wage of NFQ9 after 5 years is 739.67\n"
     ]
    }
   ],
   "source": [
    "#NFQ level 9 after 1 year\n",
    "x10 = np.mean(NFQ9_1)\n",
    "print('Mean weekly wage of NFQ9 after 1 year is', x10)\n",
    "\n",
    "#NFQ level 9 after 3 years\n",
    "x11 = np.mean(NFQ9_3)\n",
    "print('Mean weekly wage of NFQ9 after 3 years is', x11)\n",
    "\n",
    "#NFQ level 9 after 5 years\n",
    "x12 = np.mean(NFQ9_5)\n",
    "print('Mean weekly wage of NFQ9 after 5 years is', x12)"
   ]
  },
  {
   "cell_type": "code",
   "execution_count": 76,
   "metadata": {},
   "outputs": [
    {
     "name": "stdout",
     "output_type": "stream",
     "text": [
      "Mean weekly wage of NFQ10 after 1 year is 704.82\n",
      "Mean weekly wage of NFQ10 after 3 years is 804.37\n",
      "Mean weekly wage of NFQ10 after 5 years is 918.81\n"
     ]
    }
   ],
   "source": [
    "#NFQ level 10 after 1 year\n",
    "x13 = np.mean(NFQ10_1)\n",
    "print('Mean weekly wage of NFQ10 after 1 year is', x13)\n",
    "\n",
    "#NFQ level 10 after 3 years\n",
    "x14 = np.mean(NFQ10_3)\n",
    "print('Mean weekly wage of NFQ10 after 3 years is', x14)\n",
    "\n",
    "#NFQ level 10 after 5 years\n",
    "x15 = np.mean(NFQ10_5)\n",
    "print('Mean weekly wage of NFQ10 after 5 years is', x15)"
   ]
  },
  {
   "cell_type": "code",
   "execution_count": 77,
   "metadata": {},
   "outputs": [
    {
     "data": {
      "image/png": "[encoded data removed]",
      "text/plain": [
       "<matplotlib.figure.Figure at 0x1f641c31588>"
      ]
     },
     "metadata": {},
     "output_type": "display_data"
    }
   ],
   "source": [
    " #plot for mean of weekly wage for each qualification\n",
    "\n",
    "plt.plot(y1, x1, 'go')\n",
    "plt.plot(y2, x2, 'go')\n",
    "plt.plot(y3, x3, 'go')\n",
    "plt.plot(y1, x4, 'ko')\n",
    "plt.plot(y2, x5, 'ko')\n",
    "plt.plot(y3, x6, 'ko')\n",
    "plt.plot(y1, x7, 'bo')\n",
    "plt.plot(y2, x8, 'bo')\n",
    "plt.plot(y3, x9, 'bo')\n",
    "plt.plot(y1, x10, 'ro')\n",
    "plt.plot(y2, x11, 'ro')\n",
    "plt.plot(y3, x12, 'ro')\n",
    "plt.plot(y1, x13, 'yo')\n",
    "plt.plot(y2, x14, 'yo')\n",
    "plt.plot(y3, x15, 'yo')\n",
    "plt.show()\n"
   ]
  },
  {
   "cell_type": "code",
   "execution_count": 78,
   "metadata": {},
   "outputs": [
    {
     "data": {
      "image/png": "[encoded data removed]",
      "text/plain": [
       "<matplotlib.figure.Figure at 0x1f640233a58>"
      ]
     },
     "metadata": {},
     "output_type": "display_data"
    }
   ],
   "source": [
    "fig, ax = plt.subplots()\n",
    "ax.plot(y1, x1, 'go')\n",
    "ax.plot(y2, x2, 'go')\n",
    "ax.plot(y3, x3, 'go')\n",
    "ax.plot(y1, x4, 'ko')\n",
    "ax.plot(y2, x5, 'ko')\n",
    "ax.plot(y3, x6, 'ko')\n",
    "ax.plot(y1, x7, 'bo')\n",
    "ax.plot(y2, x8, 'bo')\n",
    "ax.plot(y3, x9, 'bo')\n",
    "ax.plot(y1, x10, 'ro')\n",
    "ax.plot(y2, x11, 'ro')\n",
    "ax.plot(y3, x12, 'ro')\n",
    "ax.plot(y1, x13, 'yo')\n",
    "ax.plot(y2, x14, 'yo')\n",
    "ax.plot(y3, x15, 'yo')\n",
    "ax.set(xlabel='Years since Graduation', ylabel='wages per week(Euros)',\n",
    "       title='Weekly Salary and NFQ Levels')\n",
    "ax.grid()\n",
    "plt.show()"
   ]
  },
  {
   "cell_type": "code",
   "execution_count": 81,
   "metadata": {},
   "outputs": [
    {
     "name": "stdout",
     "output_type": "stream",
     "text": [
      "Wage difference from NFQ10 & NFQ6 5 years after graduation is € 444.15\n"
     ]
    }
   ],
   "source": [
    "range1  = x15 -x3\n",
    "print('Wage difference from NFQ10 & NFQ6 5 years after graduation is €', range1)"
   ]
  },
  {
   "cell_type": "code",
   "execution_count": null,
   "metadata": {
    "collapsed": true
   },
   "outputs": [],
   "source": []
  },
  {
   "cell_type": "code",
   "execution_count": null,
   "metadata": {
    "collapsed": true
   },
   "outputs": [],
   "source": []
  }
 ],
 "metadata": {
  "kernelspec": {
   "display_name": "Python 3",
   "language": "python",
   "name": "python3"
  },
  "language_info": {
   "codemirror_mode": {
    "name": "ipython",
    "version": 3
   },
   "file_extension": ".py",
   "mimetype": "text/x-python",
   "name": "python",
   "nbconvert_exporter": "python",
   "pygments_lexer": "ipython3",
   "version": "3.6.3"
  }
 },
 "nbformat": 4,
 "nbformat_minor": 2
}
