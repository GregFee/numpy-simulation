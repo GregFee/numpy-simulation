{
 "cells": [
  {
   "cell_type": "markdown",
   "metadata": {},
   "source": [
    "# Numpy Simulation of the Effect of NFQ Levels on Weekly Salary"
   ]
  },
  {
   "cell_type": "markdown",
   "metadata": {},
   "source": [
    "##### The pupose of this project is to simulate a real world phenomenon by generating a dataset using the numpy-random package. For this project the phenomenon of the effect of NFQ Level on weekly salary will be investigated. Firstly  the NFQ system will be introduced. Then the original findings from the CSO study in question will be discussed.  Some research is this area outside of the CSO study will be reviewed. The data to mimic the results of the study will be generated. This data will be analysed and the relationships with the variables will also be examined."
   ]
  },
  {
   "cell_type": "markdown",
   "metadata": {},
   "source": [
    "![title](img/nfq.png)"
   ]
  },
  {
   "cell_type": "markdown",
   "metadata": {
    "collapsed": true
   },
   "source": [
    "#### What is NFQ Level:\n",
    "\n",
    "The National Framework of Qualifications describe the qualification, education and training system in Ireland and how they interlink [1]. The levels are organised by hierachy. The levels considered here were from level 6 to level 10 which is advanced certificate through to doctoral degree level. The data was measured at 3 intervals which were one year, three years and five years after receiving the qualification and the weekly wages received at this time by graduates"
   ]
  },
  {
   "cell_type": "markdown",
   "metadata": {},
   "source": [
    "![title](img/cso.png)\n",
    "\n",
    "The simulation is based on generating some\n",
    "data this graphical image represents. There is no access to the raw data and the data is simulated to obtain the results of the this part of the study. The overall study was an investigation into Higher Eduaction \n",
    "Outcomes of graduates by the Central Statistics Office. It is visually apparent from figure 6.4 that the higher the qualification the higher the weekly wage that is obtained.\n",
    "\n",
    "https://www.cso.ie/en/media/csoie/releasespublications/documents/education/2014/Higher_Education_Outcomes_book_-_web.pdf"
   ]
  },
  {
   "cell_type": "markdown",
   "metadata": {},
   "source": [
    "### Other Areas of Study Showing Levels of Qualifications Relationship With Salary\n",
    "\n",
    "In data from the U.S census it was  found that those with Bacheloers Degree(NFQ Level 8) earned 66% more than those just a highschool graduation and this increases with 97% with a Master Degree [2]. This level increases the more qualifications are advanced. More data from the U.S Census Bureau showed that those with a doctorate(NFQ10) in physical sciences earned 20% more than masters(NFQ9) graduates in physical science [3].There is definetly a positive correlation with qualification level and increasing salary. A study into the salary of social workers found those with a masters(NFQ9) earned an average of 15,000 more annualy than those with bachelor(NFQ8) qualification [4]."
   ]
  },
  {
   "cell_type": "code",
   "execution_count": 1,
   "metadata": {
    "collapsed": true
   },
   "outputs": [],
   "source": [
    "#import libraries\n",
    "import matplotlib.pyplot as plt\n",
    "import numpy as np\n",
    "import matplotlib.patches as mpatches\n",
    "import pandas as pd"
   ]
  },
  {
   "cell_type": "code",
   "execution_count": 21,
   "metadata": {
    "collapsed": true
   },
   "outputs": [],
   "source": [
    "#assign value for years after graduation \n",
    "y1 = 1\n",
    "y2 = 3\n",
    "y3 = 5"
   ]
  },
  {
   "cell_type": "code",
   "execution_count": 3,
   "metadata": {},
   "outputs": [
    {
     "name": "stdout",
     "output_type": "stream",
     "text": [
      "Salaries Year1 NFQ6 [[243 240 245 248 241]\n",
      " [244 248 242 245 249]\n",
      " [248 241 245 248 246]\n",
      " [248 240 245 246 247]\n",
      " [249 246 243 248 248]\n",
      " [241 243 245 245 247]\n",
      " [247 248 243 243 246]\n",
      " [247 241 243 247 241]\n",
      " [245 246 241 245 246]\n",
      " [243 241 248 240 249]\n",
      " [248 248 244 242 241]\n",
      " [245 247 245 247 242]\n",
      " [241 243 243 240 249]\n",
      " [249 246 244 244 247]\n",
      " [244 241 245 249 246]\n",
      " [244 241 247 246 246]\n",
      " [248 240 244 244 248]\n",
      " [240 246 240 246 244]\n",
      " [241 240 246 240 247]\n",
      " [245 240 244 248 240]]\n",
      "Salaries Year3 NFQ6 [[353 368 359 354 362]\n",
      " [365 359 366 363 361]\n",
      " [352 350 365 356 366]\n",
      " [358 357 366 364 356]\n",
      " [353 353 360 367 365]\n",
      " [361 350 351 356 356]\n",
      " [351 351 350 355 355]\n",
      " [369 367 367 362 357]\n",
      " [357 363 363 362 366]\n",
      " [352 369 354 369 358]\n",
      " [355 361 352 356 353]\n",
      " [365 368 361 350 368]\n",
      " [350 353 353 360 366]\n",
      " [367 354 367 350 369]\n",
      " [358 355 368 352 364]\n",
      " [361 358 359 361 354]\n",
      " [356 369 351 362 357]\n",
      " [367 368 357 363 359]\n",
      " [364 355 365 352 368]\n",
      " [361 353 366 357 353]]\n",
      "Salaries Year5 NFQ5 [[470 477 476 474 471]\n",
      " [470 471 472 470 474]\n",
      " [470 479 476 474 474]\n",
      " [475 472 475 473 472]\n",
      " [478 473 476 471 474]\n",
      " [478 471 473 477 478]\n",
      " [479 474 474 477 473]\n",
      " [473 470 478 477 479]\n",
      " [473 471 476 475 474]\n",
      " [471 479 470 478 471]\n",
      " [477 470 471 479 471]\n",
      " [471 475 471 470 479]\n",
      " [479 478 471 477 473]\n",
      " [473 473 470 470 473]\n",
      " [471 477 472 470 471]\n",
      " [476 471 478 477 477]\n",
      " [477 476 471 479 478]\n",
      " [475 472 474 472 476]\n",
      " [478 471 473 479 474]\n",
      " [477 472 478 479 478]]\n",
      "Dataset starting with the mean [ 247.42825471  243.03578531  246.06749168  245.32067853  245.09326189\n",
      "  244.64227305  245.32700281  244.7040539   244.60873975  247.09400743\n",
      "  244.26851534  244.10033568  244.27020143  245.19859709  244.14387213\n",
      "  244.21611196  244.46339634  244.04568383  245.07363799  245.82465386\n",
      "  243.67391671  244.29199153  244.38818873  246.46200483  243.9228419\n",
      "  245.3809287   245.35850742  244.59457611  243.46704983  245.6179188\n",
      "  246.674023    244.8604812   244.31378511  243.68534501  244.44372694\n",
      "  244.1148561   243.33095058  244.70385657  246.36739371  244.12632781\n",
      "  244.31688644  244.04619453  247.5636998   244.02769975  243.89186682\n",
      "  243.77318942  245.36805593  244.32310582  245.83152675  246.23226535\n",
      "  244.27191857  247.26557808  244.87770613  245.75450915  245.25350667\n",
      "  245.36024086  244.37465674  244.21314179  245.06679377  246.2327402\n",
      "  245.82462782  247.1891632   245.03848949  245.66062382  243.8725673\n",
      "  244.921232    244.20658607  243.41152716  245.01956302  245.15999896\n",
      "  245.12738856  245.71762805  244.93986331  244.33685115  244.47601652\n",
      "  245.19914597  243.79137208  245.53194336  244.63402038  246.14618251\n",
      "  245.29056959  244.37869146  244.28942036  244.85990224  245.58913588\n",
      "  245.43265253  245.4416231   245.35264687  245.21119767  244.7342414\n",
      "  246.95952889  244.52177197  243.81551561  245.85639916  246.35875306\n",
      "  245.22420808  246.64530947  245.28839336  246.08261833  244.20186881]\n",
      "Mean of Dataset is 245.004897464\n"
     ]
    }
   ],
   "source": [
    "#NFQ Level 6 and weekly salary after 1, 3, 5 years, use randint that has discrete uniform distribution. 100 Datapoints \n",
    "#Datapoints will be symmetric because of discrete uniform distribution.\n",
    "\n",
    "#100 samples looking to simulate mean value of 245\n",
    "NFQ6_1 = np.random.randint(240,250,(20,5))\n",
    "print('Salaries Year1 NFQ6', NFQ6_1)\n",
    "\n",
    "#100 samples looking to simulate mean value of 360\n",
    "NFQ6_3 = np.random.randint(350,370,(20,5))\n",
    "print('Salaries Year3 NFQ6', NFQ6_3)\n",
    "\n",
    "#100 samples looking to simulate mean value of 475\n",
    "NFQ6_5 = np.random.randint(470,480,(20,5))\n",
    "print('Salaries Year5 NFQ5', NFQ6_5)\n",
    "\n",
    "\n",
    "#Random numbers can also be controlled by using random seed or in below case starting with the required mean and \n",
    "#generating the random numbers based on achieving the required mean.\n",
    "#edited from https://stackoverflow.com/questions/50177594/create-an-array-with-a-pre-determined-mean-and-standard-deviation\n",
    "#This would create the the same mean as NFQ_6 above but note there is less of a range than the first method.\n",
    "#When considering salary the first method would be more indicative of variation real life salaries\n",
    "mean = 245\n",
    "x = np.random.randn(100) + mean\n",
    "ans = np.mean(x)\n",
    "print('Dataset starting with the mean', x)\n",
    "print('Mean of Dataset is', ans)"
   ]
  },
  {
   "cell_type": "code",
   "execution_count": 4,
   "metadata": {},
   "outputs": [
    {
     "name": "stdout",
     "output_type": "stream",
     "text": [
      "Salaries Year1 NFQ7 [[291 292 298 288 291]\n",
      " [295 284 288 297 280]\n",
      " [289 293 291 288 285]\n",
      " [296 294 297 292 295]\n",
      " [283 285 281 280 282]\n",
      " [284 283 281 283 296]\n",
      " [282 280 287 293 290]\n",
      " [288 282 282 292 285]\n",
      " [296 284 285 288 283]\n",
      " [283 289 293 288 286]\n",
      " [298 289 287 298 294]\n",
      " [292 290 290 294 297]\n",
      " [280 298 294 280 285]\n",
      " [297 290 287 294 288]\n",
      " [291 282 286 292 290]\n",
      " [297 299 296 291 297]\n",
      " [299 283 294 294 292]\n",
      " [289 286 292 285 280]\n",
      " [289 293 280 288 281]\n",
      " [284 296 290 281 292]]\n",
      "Salaries Year3 NFQ7 [[411 416 420 425 428]\n",
      " [411 414 425 421 421]\n",
      " [423 413 429 424 426]\n",
      " [427 411 416 411 420]\n",
      " [412 418 425 417 429]\n",
      " [422 417 416 424 411]\n",
      " [426 423 420 421 418]\n",
      " [425 424 413 427 421]\n",
      " [420 410 416 426 429]\n",
      " [419 415 414 426 420]\n",
      " [424 417 424 410 429]\n",
      " [419 422 428 411 424]\n",
      " [426 426 424 415 424]\n",
      " [417 428 418 423 412]\n",
      " [415 423 411 411 423]\n",
      " [425 419 423 413 414]\n",
      " [425 421 427 429 426]\n",
      " [426 421 412 417 418]\n",
      " [427 417 425 418 426]\n",
      " [421 421 416 411 423]]\n",
      "Salaries Year5 NFQ7 [[521 518 516 523 532]\n",
      " [528 531 525 531 516]\n",
      " [534 527 522 528 533]\n",
      " [528 519 531 529 524]\n",
      " [531 523 515 519 533]\n",
      " [527 523 525 517 521]\n",
      " [529 525 515 527 530]\n",
      " [528 534 533 516 515]\n",
      " [526 520 521 519 523]\n",
      " [530 534 515 521 522]\n",
      " [532 525 522 520 521]\n",
      " [529 516 518 516 521]\n",
      " [519 516 533 515 521]\n",
      " [520 521 518 524 528]\n",
      " [524 531 530 530 518]\n",
      " [529 525 530 526 531]\n",
      " [515 517 530 521 516]\n",
      " [533 525 518 530 523]\n",
      " [526 526 531 530 515]\n",
      " [528 534 520 533 527]]\n"
     ]
    }
   ],
   "source": [
    "#NFQ Level 7 and weekly salary after 1, 3, 5 years, use randint that has discrete uniform distribution. 100 Datapoints\n",
    "\n",
    "#100 samples looking to simulate mean value of 290\n",
    "NFQ7_1 = np.random.randint(280,300,(20,5))\n",
    "print('Salaries Year1 NFQ7', NFQ7_1)\n",
    "\n",
    "#100 samples looking to simulate mean value of 420\n",
    "NFQ7_3 = np.random.randint(410,430,(20,5))\n",
    "print('Salaries Year3 NFQ7', NFQ7_3)\n",
    "\n",
    "#100 samples looking to simulate mean value of 525\n",
    "NFQ7_5 = np.random.randint(515,535,(20,5))\n",
    "print('Salaries Year5 NFQ7', NFQ7_5)"
   ]
  },
  {
   "cell_type": "code",
   "execution_count": 5,
   "metadata": {},
   "outputs": [
    {
     "name": "stdout",
     "output_type": "stream",
     "text": [
      "Salaries Year1 NFQ8 [[415 433 417 432 415]\n",
      " [425 422 424 425 415]\n",
      " [431 419 425 422 420]\n",
      " [416 427 416 429 422]\n",
      " [429 418 425 424 433]\n",
      " [416 426 424 420 416]\n",
      " [418 416 432 418 432]\n",
      " [422 422 428 421 433]\n",
      " [428 421 429 421 421]\n",
      " [417 424 429 433 422]\n",
      " [425 432 421 421 426]\n",
      " [429 430 415 427 416]\n",
      " [429 427 418 425 431]\n",
      " [434 422 428 432 428]\n",
      " [426 432 429 424 430]\n",
      " [419 424 433 424 427]\n",
      " [419 418 415 428 418]\n",
      " [421 432 418 419 428]\n",
      " [419 432 415 424 434]\n",
      " [430 433 433 433 416]]\n",
      "Salaries Year3 NFQ8 [[544 532 526 532 540]\n",
      " [525 538 537 539 543]\n",
      " [533 526 540 539 536]\n",
      " [533 532 544 530 530]\n",
      " [529 530 529 532 542]\n",
      " [528 533 532 533 527]\n",
      " [537 527 538 528 528]\n",
      " [541 536 534 528 535]\n",
      " [543 530 541 542 531]\n",
      " [531 536 541 525 532]\n",
      " [537 533 541 527 543]\n",
      " [525 533 532 527 539]\n",
      " [540 542 542 528 526]\n",
      " [540 533 533 535 528]\n",
      " [538 542 542 540 528]\n",
      " [538 538 542 541 537]\n",
      " [537 541 541 532 535]\n",
      " [534 530 529 536 540]\n",
      " [527 538 532 540 539]\n",
      " [531 529 544 541 528]]\n",
      "Salaries Year5 NFQ8 [[654 651 651 651 640]\n",
      " [651 659 648 652 650]\n",
      " [655 647 654 640 651]\n",
      " [657 646 644 641 654]\n",
      " [655 640 646 642 650]\n",
      " [654 658 652 657 656]\n",
      " [654 656 652 648 646]\n",
      " [656 644 647 659 647]\n",
      " [658 646 645 657 655]\n",
      " [653 652 640 652 651]\n",
      " [659 651 646 650 641]\n",
      " [646 649 659 654 642]\n",
      " [656 656 647 648 641]\n",
      " [647 649 655 654 650]\n",
      " [642 654 658 650 657]\n",
      " [650 646 659 658 646]\n",
      " [653 652 641 655 652]\n",
      " [652 653 656 647 649]\n",
      " [643 657 657 651 643]\n",
      " [659 650 642 659 642]]\n"
     ]
    }
   ],
   "source": [
    "#NFQ Level 8 and weekly salary after 1, 3, 5 years, use randint that has discrete uniform distribution. 100 Datapoints\n",
    "\n",
    "#100 samples looking to simulate mean value of 425\n",
    "NFQ8_1 = np.random.randint(415,435,(20,5))\n",
    "print('Salaries Year1 NFQ8', NFQ8_1)\n",
    "\n",
    "#100 samples looking to simulate mean value of 535\n",
    "NFQ8_3 = np.random.randint(525,545,(20,5))\n",
    "print('Salaries Year3 NFQ8', NFQ8_3)\n",
    "\n",
    "#100 samples looking to simulate mean value of 650\n",
    "NFQ8_5 = np.random.randint(640,660,(20,5))\n",
    "print('Salaries Year5 NFQ8', NFQ8_5)"
   ]
  },
  {
   "cell_type": "code",
   "execution_count": 6,
   "metadata": {},
   "outputs": [
    {
     "name": "stdout",
     "output_type": "stream",
     "text": [
      "Salaries Year1 NFQ9 [[510 514 506 504 508]\n",
      " [518 506 501 500 516]\n",
      " [506 510 500 509 519]\n",
      " [518 509 509 516 511]\n",
      " [517 507 501 511 513]\n",
      " [507 519 505 505 502]\n",
      " [507 518 503 516 508]\n",
      " [515 517 518 510 518]\n",
      " [505 510 504 505 514]\n",
      " [507 500 504 504 516]\n",
      " [515 519 516 503 506]\n",
      " [518 500 514 506 508]\n",
      " [515 503 510 519 519]\n",
      " [503 517 512 506 501]\n",
      " [511 519 515 505 509]\n",
      " [514 516 515 516 514]\n",
      " [501 509 507 504 516]\n",
      " [505 518 513 501 518]\n",
      " [506 511 512 517 506]\n",
      " [510 510 516 509 501]]\n",
      "Salaries Year3 NFQ9 [[629 637 629 631 624]\n",
      " [628 629 623 637 621]\n",
      " [628 635 630 621 623]\n",
      " [624 632 625 631 636]\n",
      " [633 629 622 630 621]\n",
      " [620 626 630 639 626]\n",
      " [628 624 626 626 627]\n",
      " [620 621 628 638 626]\n",
      " [623 632 623 633 637]\n",
      " [627 624 631 633 623]\n",
      " [624 624 638 632 633]\n",
      " [632 633 625 620 639]\n",
      " [639 624 620 627 620]\n",
      " [633 622 636 629 624]\n",
      " [626 638 620 633 639]\n",
      " [635 620 620 639 625]\n",
      " [632 622 627 635 638]\n",
      " [631 635 623 622 638]\n",
      " [622 624 639 621 621]\n",
      " [630 633 620 623 623]]\n",
      "Salaries Year5 NFQ9 [[749 749 744 738 737]\n",
      " [733 745 731 747 747]\n",
      " [733 742 745 735 742]\n",
      " [733 741 743 749 739]\n",
      " [740 737 749 736 744]\n",
      " [739 737 746 740 737]\n",
      " [741 737 733 748 748]\n",
      " [745 744 742 738 738]\n",
      " [733 748 744 741 746]\n",
      " [745 738 748 736 734]\n",
      " [730 749 744 743 730]\n",
      " [748 731 743 749 730]\n",
      " [740 748 732 742 738]\n",
      " [737 744 734 744 732]\n",
      " [745 737 732 737 734]\n",
      " [749 738 749 741 730]\n",
      " [733 735 743 733 747]\n",
      " [739 737 736 734 745]\n",
      " [734 730 742 737 738]\n",
      " [746 737 741 744 740]]\n"
     ]
    }
   ],
   "source": [
    "#NFQ Level 9 and weekly salary after 1, 3, 5 years, use randint that has discrete uniform distribution. 100 Datapoints\n",
    "\n",
    "#100 samples looking to simulate mean value of 510\n",
    "NFQ9_1 = np.random.randint(500,520,(20,5))\n",
    "print('Salaries Year1 NFQ9', NFQ9_1)\n",
    "\n",
    "#100 samples looking to simulate mean value of 630\n",
    "NFQ9_3 = np.random.randint(620,640,(20,5))\n",
    "print('Salaries Year3 NFQ9', NFQ9_3)\n",
    "\n",
    "#100 samples looking to simulate mean value of 740\n",
    "NFQ9_5 = np.random.randint(730,750,(20,5))\n",
    "print('Salaries Year5 NFQ9', NFQ9_5)"
   ]
  },
  {
   "cell_type": "code",
   "execution_count": 7,
   "metadata": {},
   "outputs": [
    {
     "name": "stdout",
     "output_type": "stream",
     "text": [
      "Salaries Year1 NFQ10 [[702 697 711 711 704]\n",
      " [700 699 699 695 700]\n",
      " [707 696 711 710 712]\n",
      " [699 702 701 701 703]\n",
      " [713 705 709 698 700]\n",
      " [698 705 698 700 700]\n",
      " [706 702 705 710 703]\n",
      " [699 704 711 699 712]\n",
      " [705 703 701 707 699]\n",
      " [706 713 703 698 699]\n",
      " [701 710 702 706 704]\n",
      " [702 710 710 696 695]\n",
      " [696 708 700 701 713]\n",
      " [707 705 698 709 700]\n",
      " [708 697 714 704 705]\n",
      " [709 713 703 706 714]\n",
      " [705 706 699 710 695]\n",
      " [695 711 703 705 704]\n",
      " [695 704 712 713 699]\n",
      " [708 710 706 707 712]]\n",
      "Salaries Year3 NFQ10 [[802 808 800 799 814]\n",
      " [796 795 802 809 802]\n",
      " [799 810 803 798 805]\n",
      " [802 805 801 795 795]\n",
      " [795 797 800 807 805]\n",
      " [800 800 805 808 800]\n",
      " [798 811 798 804 811]\n",
      " [810 804 809 814 795]\n",
      " [795 800 809 799 807]\n",
      " [808 797 809 806 799]\n",
      " [806 801 809 812 813]\n",
      " [796 801 799 807 802]\n",
      " [799 802 811 796 802]\n",
      " [813 804 802 804 811]\n",
      " [810 804 805 801 808]\n",
      " [797 796 808 795 797]\n",
      " [797 802 795 801 810]\n",
      " [805 795 801 798 805]\n",
      " [799 803 808 802 801]\n",
      " [812 804 795 802 813]]\n",
      "Salaries Year5 NFQ10 [[911 929 925 921 913]\n",
      " [915 913 919 926 913]\n",
      " [924 925 911 924 918]\n",
      " [924 915 923 922 921]\n",
      " [916 910 914 927 919]\n",
      " [913 916 915 924 915]\n",
      " [925 921 911 916 920]\n",
      " [914 914 911 915 929]\n",
      " [910 912 911 925 919]\n",
      " [915 918 916 924 913]\n",
      " [922 915 911 920 926]\n",
      " [917 910 910 911 918]\n",
      " [926 922 923 924 919]\n",
      " [924 923 924 922 911]\n",
      " [918 923 915 914 913]\n",
      " [919 914 928 912 928]\n",
      " [927 928 925 910 924]\n",
      " [921 924 914 923 925]\n",
      " [915 920 921 912 929]\n",
      " [920 927 915 925 925]]\n"
     ]
    }
   ],
   "source": [
    "#NFQ Level 10 and weekly salary after 1, 3, 5 years, use randint that has discrete uniform distribution. 100 Datapoints\n",
    "\n",
    "#100 samples looking to simulate mean value of 705\n",
    "NFQ10_1 = np.random.randint(695,715,(20,5))\n",
    "print('Salaries Year1 NFQ10', NFQ10_1)\n",
    "\n",
    "#100 samples looking to simulate mean value of 805\n",
    "NFQ10_3 = np.random.randint(795,815,(20,5))\n",
    "print('Salaries Year3 NFQ10', NFQ10_3)\n",
    "\n",
    "#100 samples looking to simulate mean value of 920\n",
    "NFQ10_5 = np.random.randint(910,930,(20,5))\n",
    "print('Salaries Year5 NFQ10', NFQ10_5)"
   ]
  },
  {
   "cell_type": "markdown",
   "metadata": {},
   "source": [
    "### Calculate mean values for all NFQ Levels to see if similar to Figure 6.4"
   ]
  },
  {
   "cell_type": "code",
   "execution_count": 8,
   "metadata": {},
   "outputs": [
    {
     "name": "stdout",
     "output_type": "stream",
     "text": [
      "Mean weekly wage of NFQ6 after 1 year is 244.59\n",
      "Mean weekly wage of NFQ6 after 3 years is 359.4\n",
      "Mean weekly wage of NFQ6 after 5 years is 474.26\n"
     ]
    }
   ],
   "source": [
    "#Calculate mean of weekly salaries for each qualification after 1, 3, 5 years after graduation\n",
    "\n",
    "#NFQ level 6 after 1 year\n",
    "x1 = np.mean(NFQ6_1)\n",
    "print('Mean weekly wage of NFQ6 after 1 year is', x1)\n",
    "\n",
    "#NFQ level 6 after 3 years\n",
    "x2 = np.mean(NFQ6_3)\n",
    "print('Mean weekly wage of NFQ6 after 3 years is', x2)\n",
    "\n",
    "#NFQ level 6 after 5 years\n",
    "x3 = np.mean(NFQ6_5)\n",
    "print('Mean weekly wage of NFQ6 after 5 years is', x3)"
   ]
  },
  {
   "cell_type": "code",
   "execution_count": 9,
   "metadata": {},
   "outputs": [
    {
     "name": "stdout",
     "output_type": "stream",
     "text": [
      "Mean weekly wage of NFQ7 after 1 year is 289.09\n",
      "Mean weekly wage of NFQ7 after 3 years is 420.21\n",
      "Mean weekly wage of NFQ7 after 5 years is 524.4\n"
     ]
    }
   ],
   "source": [
    "#NFQ level 7 after 1 year\n",
    "x4 = np.mean(NFQ7_1)\n",
    "print('Mean weekly wage of NFQ7 after 1 year is', x4)\n",
    "\n",
    "#NFQ level 7 after 3 years\n",
    "x5 = np.mean(NFQ7_3)\n",
    "print('Mean weekly wage of NFQ7 after 3 years is', x5)\n",
    "\n",
    "#NFQ level 7 after 5 years\n",
    "x6 = np.mean(NFQ7_5)\n",
    "print('Mean weekly wage of NFQ7 after 5 years is', x6)"
   ]
  },
  {
   "cell_type": "code",
   "execution_count": 10,
   "metadata": {},
   "outputs": [
    {
     "name": "stdout",
     "output_type": "stream",
     "text": [
      "Mean weekly wage of NFQ8 after 1 year is 424.37\n",
      "Mean weekly wage of NFQ8 after 3 years is 534.72\n",
      "Mean weekly wage of NFQ8 after 5 years is 650.57\n"
     ]
    }
   ],
   "source": [
    "#NFQ level 8 after 1 year\n",
    "x7 = np.mean(NFQ8_1)\n",
    "print('Mean weekly wage of NFQ8 after 1 year is', x7)\n",
    "\n",
    "#NFQ level 8 after 3 years\n",
    "x8 = np.mean(NFQ8_3)\n",
    "print('Mean weekly wage of NFQ8 after 3 years is', x8)\n",
    "\n",
    "#NFQ level 8 after 5 years\n",
    "x9 = np.mean(NFQ8_5)\n",
    "print('Mean weekly wage of NFQ8 after 5 years is', x9)"
   ]
  },
  {
   "cell_type": "code",
   "execution_count": 11,
   "metadata": {},
   "outputs": [
    {
     "name": "stdout",
     "output_type": "stream",
     "text": [
      "Mean weekly wage of NFQ9 after 1 year is 510.1\n",
      "Mean weekly wage of NFQ9 after 3 years is 628.27\n",
      "Mean weekly wage of NFQ9 after 5 years is 740.05\n"
     ]
    }
   ],
   "source": [
    "#NFQ level 9 after 1 year\n",
    "x10 = np.mean(NFQ9_1)\n",
    "print('Mean weekly wage of NFQ9 after 1 year is', x10)\n",
    "\n",
    "#NFQ level 9 after 3 years\n",
    "x11 = np.mean(NFQ9_3)\n",
    "print('Mean weekly wage of NFQ9 after 3 years is', x11)\n",
    "\n",
    "#NFQ level 9 after 5 years\n",
    "x12 = np.mean(NFQ9_5)\n",
    "print('Mean weekly wage of NFQ9 after 5 years is', x12)"
   ]
  },
  {
   "cell_type": "code",
   "execution_count": 12,
   "metadata": {},
   "outputs": [
    {
     "name": "stdout",
     "output_type": "stream",
     "text": [
      "Mean weekly wage of NFQ10 after 1 year is 704.16\n",
      "Mean weekly wage of NFQ10 after 3 years is 802.99\n",
      "Mean weekly wage of NFQ10 after 5 years is 918.92\n"
     ]
    }
   ],
   "source": [
    "#NFQ level 10 after 1 year\n",
    "x13 = np.mean(NFQ10_1)\n",
    "print('Mean weekly wage of NFQ10 after 1 year is', x13)\n",
    "\n",
    "#NFQ level 10 after 3 years\n",
    "x14 = np.mean(NFQ10_3)\n",
    "print('Mean weekly wage of NFQ10 after 3 years is', x14)\n",
    "\n",
    "#NFQ level 10 after 5 years\n",
    "x15 = np.mean(NFQ10_5)\n",
    "print('Mean weekly wage of NFQ10 after 5 years is', x15)"
   ]
  },
  {
   "cell_type": "markdown",
   "metadata": {},
   "source": [
    "The above mean weekly wages are almost indentical to the CSO study."
   ]
  },
  {
   "cell_type": "code",
   "execution_count": 23,
   "metadata": {},
   "outputs": [
    {
     "data": {
      "image/png": "[encoded data removed]",
      "text/plain": [
       "<matplotlib.figure.Figure at 0x26ab73a9cf8>"
      ]
     },
     "metadata": {},
     "output_type": "display_data"
    }
   ],
   "source": [
    "#Plotting simulated data to see if result is similar to the image 6.4 above.\n",
    "#Results are almost indentical to image 6.4 showing the simulation works well.\n",
    "fig, ax = plt.subplots()\n",
    "ax.plot(y1, x1, 'go')\n",
    "ax.plot(y2, x2, 'go')\n",
    "ax.plot(y3, x3, 'go')\n",
    "ax.plot(y1, x4, 'ko')\n",
    "ax.plot(y2, x5, 'ko')\n",
    "ax.plot(y3, x6, 'ko')\n",
    "ax.plot(y1, x7, 'bo')\n",
    "ax.plot(y2, x8, 'bo')\n",
    "ax.plot(y3, x9, 'bo')\n",
    "ax.plot(y1, x10, 'ro')\n",
    "ax.plot(y2, x11, 'ro')\n",
    "ax.plot(y3, x12, 'ro')\n",
    "ax.plot(y1, x13, 'yo')\n",
    "ax.plot(y2, x14, 'yo')\n",
    "ax.plot(y3, x15, 'yo')\n",
    "ax.set(xlabel='Years since Graduation', ylabel='wages per week(Euros)',\n",
    "       title='Weekly Salary and NFQ Levels')\n",
    "ax.grid()\n",
    "plt.show()"
   ]
  },
  {
   "cell_type": "code",
   "execution_count": 14,
   "metadata": {},
   "outputs": [
    {
     "name": "stdout",
     "output_type": "stream",
     "text": [
      "Wage difference from NFQ10 & NFQ6 5 years after graduation is € 444.66\n",
      "Wage difference from NFQ10 & NFQ7 5 years after graduation is € 394.52\n",
      "Wage difference from NFQ10 & NFQ8 5 years after graduation is € 268.35\n",
      "Wage difference from NFQ10 & NFQ9 5 years after graduation is € 178.87\n"
     ]
    }
   ],
   "source": [
    "#Calculate wage differnecs between all NFQ levels after 5 years.\n",
    "range1  = x15 -x3\n",
    "print('Wage difference from NFQ10 & NFQ6 5 years after graduation is €', range1)\n",
    "\n",
    "range2 = x15 - x6\n",
    "print('Wage difference from NFQ10 & NFQ7 5 years after graduation is €', range2)\n",
    "\n",
    "range3 = x15 - x9\n",
    "print('Wage difference from NFQ10 & NFQ8 5 years after graduation is €', range3)\n",
    "\n",
    "range4 = x15 - x12\n",
    "print('Wage difference from NFQ10 & NFQ9 5 years after graduation is €', range4)"
   ]
  },
  {
   "cell_type": "markdown",
   "metadata": {},
   "source": [
    "From the above data showing the ranges of wages we can see that the discrepency of wage level decreases with higher NFQ level. This is the expected result."
   ]
  },
  {
   "cell_type": "code",
   "execution_count": 15,
   "metadata": {},
   "outputs": [
    {
     "name": "stdout",
     "output_type": "stream",
     "text": [
      "      0    1    2    3    4\n",
      "0   243  240  245  248  241\n",
      "1   244  248  242  245  249\n",
      "2   248  241  245  248  246\n",
      "3   248  240  245  246  247\n",
      "4   249  246  243  248  248\n",
      "5   241  243  245  245  247\n",
      "6   247  248  243  243  246\n",
      "7   247  241  243  247  241\n",
      "8   245  246  241  245  246\n",
      "9   243  241  248  240  249\n",
      "10  248  248  244  242  241\n",
      "11  245  247  245  247  242\n",
      "12  241  243  243  240  249\n",
      "13  249  246  244  244  247\n",
      "14  244  241  245  249  246\n",
      "15  244  241  247  246  246\n",
      "16  248  240  244  244  248\n",
      "17  240  246  240  246  244\n",
      "18  241  240  246  240  247\n",
      "19  245  240  244  248  240\n",
      "      0    1    2    3    4\n",
      "0   353  368  359  354  362\n",
      "1   365  359  366  363  361\n",
      "2   352  350  365  356  366\n",
      "3   358  357  366  364  356\n",
      "4   353  353  360  367  365\n",
      "5   361  350  351  356  356\n",
      "6   351  351  350  355  355\n",
      "7   369  367  367  362  357\n",
      "8   357  363  363  362  366\n",
      "9   352  369  354  369  358\n",
      "10  355  361  352  356  353\n",
      "11  365  368  361  350  368\n",
      "12  350  353  353  360  366\n",
      "13  367  354  367  350  369\n",
      "14  358  355  368  352  364\n",
      "15  361  358  359  361  354\n",
      "16  356  369  351  362  357\n",
      "17  367  368  357  363  359\n",
      "18  364  355  365  352  368\n",
      "19  361  353  366  357  353\n",
      "      0    1    2    3    4\n",
      "0   470  477  476  474  471\n",
      "1   470  471  472  470  474\n",
      "2   470  479  476  474  474\n",
      "3   475  472  475  473  472\n",
      "4   478  473  476  471  474\n",
      "5   478  471  473  477  478\n",
      "6   479  474  474  477  473\n",
      "7   473  470  478  477  479\n",
      "8   473  471  476  475  474\n",
      "9   471  479  470  478  471\n",
      "10  477  470  471  479  471\n",
      "11  471  475  471  470  479\n",
      "12  479  478  471  477  473\n",
      "13  473  473  470  470  473\n",
      "14  471  477  472  470  471\n",
      "15  476  471  478  477  477\n",
      "16  477  476  471  479  478\n",
      "17  475  472  474  472  476\n",
      "18  478  471  473  479  474\n",
      "19  477  472  478  479  478\n"
     ]
    }
   ],
   "source": [
    "#Dataframes can be generated from the random generated data and the data can be described.\n",
    "#Make dataframe for NFQ6 and look at data\n",
    "df = pd.DataFrame(NFQ6_1)\n",
    "df1 = pd.DataFrame(NFQ6_3)\n",
    "df2 = pd.DataFrame(NFQ6_5)\n",
    "print(df.head(20))\n",
    "print(df1.head(20))\n",
    "print(df2.head(20))"
   ]
  },
  {
   "cell_type": "code",
   "execution_count": 16,
   "metadata": {},
   "outputs": [
    {
     "name": "stdout",
     "output_type": "stream",
     "text": [
      "                0           1           2         3           4\n",
      "count   60.000000   60.000000   60.000000   60.0000   60.000000\n",
      "mean   359.433333  358.650000  359.283333  359.5000  360.216667\n",
      "std     94.599130   94.928666   94.632938   94.7159   94.357613\n",
      "min    240.000000  240.000000  240.000000  240.0000  240.000000\n",
      "25%    248.000000  246.000000  245.000000  247.7500  247.750000\n",
      "50%    358.000000  357.500000  360.500000  358.5000  360.000000\n",
      "75%    471.000000  471.000000  471.000000  471.2500  472.250000\n",
      "max    479.000000  479.000000  478.000000  479.0000  479.000000\n",
      "                0           1           2           3           4\n",
      "count   60.000000   60.000000   60.000000   60.000000   60.000000\n",
      "mean   412.683333  410.633333  410.816667  410.683333  411.350000\n",
      "std     97.777071   97.444981   96.922386   96.874459   97.236707\n",
      "min    280.000000  280.000000  280.000000  280.000000  280.000000\n",
      "25%    296.000000  293.000000  293.750000  293.750000  293.500000\n",
      "50%    422.500000  418.500000  420.000000  419.500000  423.000000\n",
      "75%    524.500000  519.250000  518.000000  519.000000  518.750000\n",
      "max    534.000000  534.000000  533.000000  533.000000  533.000000\n",
      "                0           1           2           3           4\n",
      "count   60.000000   60.000000   60.000000   60.000000   60.000000\n",
      "mean   536.883333  536.750000  536.883333  536.700000  535.550000\n",
      "std     94.574174   92.915421   93.335388   93.278388   92.413299\n",
      "min    415.000000  416.000000  415.000000  418.000000  415.000000\n",
      "25%    429.000000  432.000000  429.000000  428.750000  430.750000\n",
      "50%    535.500000  533.000000  539.000000  532.500000  535.000000\n",
      "75%    650.250000  646.250000  645.250000  648.000000  642.250000\n",
      "max    659.000000  659.000000  659.000000  659.000000  657.000000\n",
      "                0           1           2           3           4\n",
      "count   60.000000   60.000000   60.000000   60.000000   60.000000\n",
      "mean   626.066667  626.666667  625.616667  626.300000  626.050000\n",
      "std     94.532725   94.299139   95.689663   95.836071   93.943442\n",
      "min    501.000000  500.000000  500.000000  500.000000  501.000000\n",
      "25%    515.000000  517.750000  514.750000  514.750000  516.000000\n",
      "50%    628.000000  627.500000  625.500000  631.000000  625.500000\n",
      "75%    733.000000  737.000000  734.500000  736.250000  734.000000\n",
      "max    749.000000  749.000000  749.000000  749.000000  748.000000\n",
      "                0           1           2           3           4\n",
      "count   60.000000   60.000000   60.000000   60.000000   60.000000\n",
      "mean   807.933333  808.633333  808.450000  809.000000  809.433333\n",
      "std     89.084775   88.365183   87.633564   89.014758   89.281571\n",
      "min    695.000000  696.000000  698.000000  695.000000  695.000000\n",
      "25%    707.000000  710.000000  710.750000  709.750000  710.250000\n",
      "50%    799.500000  802.000000  802.500000  802.000000  805.000000\n",
      "75%    915.000000  914.000000  911.000000  914.250000  913.500000\n",
      "max    927.000000  929.000000  928.000000  927.000000  929.000000\n"
     ]
    }
   ],
   "source": [
    "#combine dataframes together for all NFQ levels.\n",
    "# edited from https://pandas.pydata.org/pandas-docs/stable/merging.html\n",
    "#decribe data\n",
    "data = [df, df1, df2]\n",
    "NFQ6 = pd.concat(data)\n",
    "print(NFQ6.describe())\n",
    "\n",
    "df3 = pd.DataFrame(NFQ7_1)\n",
    "df4 = pd.DataFrame(NFQ7_3)\n",
    "df5 = pd.DataFrame(NFQ7_5)\n",
    "data1 = [df3, df4, df5]\n",
    "NFQ7 = pd.concat(data1)\n",
    "print(NFQ7.describe())\n",
    "\n",
    "\n",
    "df6 = pd.DataFrame(NFQ8_1)\n",
    "df7 = pd.DataFrame(NFQ8_3)\n",
    "df8 = pd.DataFrame(NFQ8_5)\n",
    "data2 = [df6, df7, df8]\n",
    "NFQ8 = pd.concat(data2)\n",
    "print(NFQ8.describe())\n",
    "\n",
    "df9 = pd.DataFrame(NFQ9_1)\n",
    "df10 = pd.DataFrame(NFQ9_3)\n",
    "df11 = pd.DataFrame(NFQ9_5)\n",
    "data3 = [df9, df10, df11]\n",
    "NFQ9 = pd.concat(data3)\n",
    "print(NFQ9.describe())\n",
    "\n",
    "\n",
    "df12 = pd.DataFrame(NFQ10_1)\n",
    "df13 = pd.DataFrame(NFQ10_3)\n",
    "df14 = pd.DataFrame(NFQ10_5)\n",
    "data4 = [df12, df13, df14]\n",
    "NFQ10 = pd.concat(data4)\n",
    "print(NFQ10.describe())\n"
   ]
  },
  {
   "cell_type": "markdown",
   "metadata": {},
   "source": [
    "From the above summary statistics for NFQ Levels 6,7,8,9,10 with all experience levels combined we can see some trends. We can see the mean value of weekly salary for NFQ6 is 359, NFQ7 is 411, NFQ8 is 536, NFQ9 is 626 and NFQ10 is 810. So the salry increase both over time and with academic level. The standard deviation for each NFQ levels are also similar. "
   ]
  },
  {
   "cell_type": "code",
   "execution_count": 17,
   "metadata": {},
   "outputs": [
    {
     "name": "stdout",
     "output_type": "stream",
     "text": [
      "Percentage of wages received for NFQ6 in relation to NFQ10 after 5 years is 51.6105863405 %\n",
      "Percentage of wages received for NFQ7 in relation to NFQ10 after 5 years is 57.0669916859 %\n",
      "Percentage of wages received for NFQ8 in relation to NFQ10 after 5 years is 70.7972402385 %\n",
      "Percentage of wages received for NFQ9 in relation to NFQ10 after 5 years is 80.5347581944 %\n",
      "Percentage of wages received for NFQ6 in relation to NFQ10 after 3 years is 44.7577180289 %\n",
      "Percentage of wages received for NFQ7 in relation to NFQ10 after 3 years is 52.3306641428 %\n",
      "Percentage of wages received for NFQ8 in relation to NFQ10 after 3 years is 66.5911157051 %\n",
      "Percentage of wages received for NFQ9 in relation to NFQ10 after 3 years is 78.2413230551 %\n",
      "Percentage of wages received for NFQ6 in relation to NFQ10 after 1 years is 34.7350034083 %\n",
      "Percentage of wages received for NFQ7 in relation to NFQ10 after 1 years is 41.0545898659 %\n",
      "Percentage of wages received for NFQ8 in relation to NFQ10 after 1 years is 60.2661326971 %\n",
      "Percentage of wages received for NFQ9 in relation to NFQ10 after 1 years is 72.4409225176 %\n"
     ]
    }
   ],
   "source": [
    "#The percenatges from the mean salaries can be calcualted and compared for the variables.\n",
    "#Calculate percentage difference of salary levels after 5 years experience\n",
    "Percentage1=(x3/x15) *100\n",
    "print(\"Percentage of wages received for NFQ6 in relation to NFQ10 after 5 years is\", Percentage1,\"%\")\n",
    "\n",
    "#Calculate percentage difference of salary levels after 5 years experience\n",
    "Percentage2=(x6/x15) *100\n",
    "print(\"Percentage of wages received for NFQ7 in relation to NFQ10 after 5 years is\", Percentage2,\"%\")\n",
    "\n",
    "#Calculate percentage difference of salary levels after 5 years experience\n",
    "Percentage3=(x9/x15) *100\n",
    "print(\"Percentage of wages received for NFQ8 in relation to NFQ10 after 5 years is\", Percentage3,\"%\")\n",
    "\n",
    "#Calculate percentage difference of salary levels after 5 years experience\n",
    "Percentage4=(x12/x15) *100\n",
    "print(\"Percentage of wages received for NFQ9 in relation to NFQ10 after 5 years is\", Percentage4,\"%\")\n",
    "\n",
    "#Calculate percentage difference of salary levels after 3 years experience\n",
    "Percentage5=(x2/x14) *100\n",
    "print(\"Percentage of wages received for NFQ6 in relation to NFQ10 after 3 years is\", Percentage5,\"%\")\n",
    "\n",
    "#Calculate percentage difference of salary levels after 3 years experience\n",
    "Percentage6=(x5/x14) *100\n",
    "print(\"Percentage of wages received for NFQ7 in relation to NFQ10 after 3 years is\", Percentage6,\"%\")\n",
    "\n",
    "#Calculate percentage difference of salary levels after 3 years experience\n",
    "Percentage7=(x8/x14) *100\n",
    "print(\"Percentage of wages received for NFQ8 in relation to NFQ10 after 3 years is\", Percentage7,\"%\")\n",
    "\n",
    "#Calculate percentage difference of salary levels after 3 years experience\n",
    "Percentage8=(x11/x14) *100\n",
    "print(\"Percentage of wages received for NFQ9 in relation to NFQ10 after 3 years is\", Percentage8,\"%\")\n",
    "\n",
    "#Calculate percentage difference of salary levels after 1 years experience\n",
    "Percentage9=(x1/x13) *100\n",
    "print(\"Percentage of wages received for NFQ6 in relation to NFQ10 after 1 years is\", Percentage9,\"%\")\n",
    "\n",
    "#Calculate percentage difference of salary levels after 1 years experience\n",
    "Percentage10=(x4/x13) *100\n",
    "print(\"Percentage of wages received for NFQ7 in relation to NFQ10 after 1 years is\", Percentage10,\"%\")\n",
    "\n",
    "#Calculate percentage difference of salary levels after 1 years experience\n",
    "Percentage11=(x7/x13) *100\n",
    "print(\"Percentage of wages received for NFQ8 in relation to NFQ10 after 1 years is\", Percentage11,\"%\")\n",
    "\n",
    "#Calculate percentage difference of salary levels after 1 years experience\n",
    "Percentage12=(x10/x13) *100\n",
    "print(\"Percentage of wages received for NFQ9 in relation to NFQ10 after 1 years is\", Percentage12,'%')"
   ]
  },
  {
   "cell_type": "markdown",
   "metadata": {},
   "source": [
    "The above percentages are similar to the data in the U.S. census highlighted above. The difference between NFQ10 and NFQ9 after 5 years experience is 20% which is the same deviation for graduates of pysical sciences at masters and doctorate level in the U.S census study. We can also see the rate of increase was highest for NFQ level 6 when considering experience and this rate declines with the higher academic levels; this is also what the original CSO study summarised [5]. "
   ]
  },
  {
   "cell_type": "code",
   "execution_count": 20,
   "metadata": {},
   "outputs": [
    {
     "data": {
      "image/png": "[encoded data removed]",
      "text/plain": [
       "<matplotlib.figure.Figure at 0x26ab73ae0f0>"
      ]
     },
     "metadata": {},
     "output_type": "display_data"
    },
    {
     "data": {
      "image/png": "[encoded data removed]",
      "text/plain": [
       "<matplotlib.figure.Figure at 0x26ab73d6dd8>"
      ]
     },
     "metadata": {},
     "output_type": "display_data"
    },
    {
     "data": {
      "image/png": "[encoded data removed]",
      "text/plain": [
       "<matplotlib.figure.Figure at 0x26ab7229f60>"
      ]
     },
     "metadata": {},
     "output_type": "display_data"
    }
   ],
   "source": [
    "#Edited from https://bespokeblog.wordpress.com/2011/07/07/basic-data-plotting-with-matplotlib-part-2-lines-points-formatting/\n",
    "#Plot percentage difference of salary levels after 5, 3, 1 years experience\n",
    "percentages = (Percentage1, Percentage2, Percentage3, Percentage4,)\n",
    "percentages1 = (Percentage5, Percentage6, Percentage7, Percentage8,)\n",
    "percentages2 = (Percentage9, Percentage10, Percentage11, Percentage12,)\n",
    "\n",
    "plt.plot(percentages, marker='o', linestyle='--', color='r')\n",
    "plt.title(\"Percentage of Salary Difference With Increased NFQ Level Comapared to NFQ Level 10 with 5 years experience.\")\n",
    "plt.ylabel(\"Percentage of Salary\")\n",
    "plt.show()\n",
    "\n",
    "plt.plot(percentages1, marker='o', linestyle='--', color='b')\n",
    "plt.title(\"Percentage of Salary Difference With Increased NFQ Level Comapared to NFQ Level 10 with 3 years experience.\")\n",
    "plt.ylabel(\"Percentage of Salary\")\n",
    "plt.show()\n",
    "\n",
    "plt.plot(percentages2, marker='o', linestyle='--', color='m')\n",
    "plt.title(\"Percentage of Salary Difference With Increased NFQ Level Comapared to NFQ Level 10 with 1 years experience.\")\n",
    "plt.ylabel(\"Percentage of Salary\")\n",
    "plt.show()"
   ]
  },
  {
   "cell_type": "markdown",
   "metadata": {
    "collapsed": true
   },
   "source": [
    "From the above plots we can see that the percentages of weekly wage increase of NFQ levels 6 to 9 in comparison to NFQ10 after 1, 3 and 5 years are similar. We can see a relationship and positive correlation with increasing work experience and higher NFQ levels."
   ]
  },
  {
   "cell_type": "markdown",
   "metadata": {},
   "source": [
    "## Conclusion:\n",
    "\n",
    "From this project I learned that numpy.random can be helpful when generating data to simulate a real world phenomenen. You can use different distributions to suit the variables you are investigating. Numpy.random.randint was used for this project because it was suitable for creating simulated salaries with a uniform type distribution. I learned in this case the random data could be controlled adequately without using numpy.random.seed. I also learned that numpy.random generated data could be investiagted further by converting them into pandas dataframes. The data could also be visualised with trends observed that were the same as the orginal CSO study and also similar to other studies referenced. Considering graduates the higher qualification and more experience you have the higher salary you will earn.       "
   ]
  },
  {
   "cell_type": "markdown",
   "metadata": {
    "collapsed": true
   },
   "source": [
    "### References:\n",
    "\n",
    "[1] https://www.qqi.ie/Articles/Pages/National-Framework-of-Qualifications-(NFQ).aspx\n",
    "\n",
    "[2] https://trends.collegeboard.org/education-pays/figures-tables/lifetime-earnings-education-level\n",
    "\n",
    "[3] Salary Difference Between Master’s and Ph.D. Degrees https://www.wes.org/advisor-blog/salary-difference-masters-phd/\n",
    "\n",
    "[4] Social Worker Salaries https://www.humanservicesedu.org/social-work-salaries.html\n",
    "\n",
    "[5] Higher Education Outcomes pg. 66\n",
    "\n",
    "https://www.cso.ie/en/media/csoie/releasespublications/documents/education/2014/Higher_Education_Outcomes_book_-_web.pdf\n"
   ]
  }
 ],
 "metadata": {
  "kernelspec": {
   "display_name": "Python 3",
   "language": "python",
   "name": "python3"
  },
  "language_info": {
   "codemirror_mode": {
    "name": "ipython",
    "version": 3
   },
   "file_extension": ".py",
   "mimetype": "text/x-python",
   "name": "python",
   "nbconvert_exporter": "python",
   "pygments_lexer": "ipython3",
   "version": "3.6.3"
  }
 },
 "nbformat": 4,
 "nbformat_minor": 2
}
