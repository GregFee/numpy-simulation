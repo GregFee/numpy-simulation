{
 "cells": [
  {
   "cell_type": "markdown",
   "metadata": {},
   "source": [
    "# Numpy Simulation of the Effect of NFQ Levels on Weekly Salary"
   ]
  },
  {
   "cell_type": "markdown",
   "metadata": {},
   "source": [
    "##### The pupose of this project is to simulate a real world phenomenon by generating a dataset using the numpy-random package. For this project the phenomenon of the effect of NFQ Level on weekly salary will be investigated. Firstly  the NFQ system will be introduced. Then the original findings from the CSO study in question will be discussed.  Some research is this area outside of the CSO study will be reviewed. The data to mimic the results of the study will be generated. This data will be analysed and the relationships with the variables will also be examined."
   ]
  },
  {
   "cell_type": "markdown",
   "metadata": {},
   "source": [
    "![title](img/nfq.png)"
   ]
  },
  {
   "cell_type": "markdown",
   "metadata": {
    "collapsed": true
   },
   "source": [
    "#### What is NFQ Level:\n",
    "\n",
    "The National Framework of Qualifications describe the qualification, education and training system in Ireland and how they interlink [1]. The levels are organised by hierachy. The levels considered here were from level 6 to level 10 which is advanced certificate through to doctoral degree level. The data was measured at 3 intervals which were one year, three years and five years after receiving the qualification and the weekly wages received at this time by graduates"
   ]
  },
  {
   "cell_type": "markdown",
   "metadata": {},
   "source": [
    "![title](img/cso.png)\n",
    "\n",
    "The simulation is based on generating some\n",
    "data this graphical image represents. There is no access to the raw data and the data is simulated to obtain the results of the this part of the study. The overall study was an investigation into Higher Eduaction \n",
    "Outcomes of graduates by the Central Statistics Office. It is visually apparent from figure 6.4 that the higher the qualification the higher the weekly wage that is obtained.\n",
    "\n",
    "https://www.cso.ie/en/media/csoie/releasespublications/documents/education/2014/Higher_Education_Outcomes_book_-_web.pdf"
   ]
  },
  {
   "cell_type": "markdown",
   "metadata": {},
   "source": [
    "### Other Areas of Study Showing Levels of Qualifications Relationship With Salary\n",
    "\n",
    "In data from the U.S census it was  found that those with Bacheloers Degree(NFQ Level 8) earned 66% more than those just a highschool graduation and this increases with 97% with a Master Degree [2]. This level increases the more qualifications are advanced. More data from the U.S Census Bureau showed that those with a doctorate(NFQ10) in physical sciences earned 20% more than masters(NFQ9) graduates in physical science [3].There is definetly a positive correlation with qualification level and increasing salary. A study into the salary of social workers found those with a masters(NFQ9) earned an average of 15,000 more annualy than those with bachelor(NFQ8) qualification [4]."
   ]
  },
  {
   "cell_type": "code",
   "execution_count": 1,
   "metadata": {},
   "outputs": [],
   "source": [
    "#import libraries\n",
    "import matplotlib.pyplot as plt\n",
    "import numpy as np\n",
    "import matplotlib.patches as mpatches\n",
    "import pandas as pd"
   ]
  },
  {
   "cell_type": "code",
   "execution_count": 2,
   "metadata": {},
   "outputs": [],
   "source": [
    "#assign value for years after graduation \n",
    "y1 = 1\n",
    "y2 = 3\n",
    "y3 = 5"
   ]
  },
  {
   "cell_type": "code",
   "execution_count": 3,
   "metadata": {},
   "outputs": [
    {
     "name": "stdout",
     "output_type": "stream",
     "text": [
      "Salaries Year1 NFQ6 [[247 241 248 242 249]\n",
      " [245 243 247 241 247]\n",
      " [246 247 242 243 249]\n",
      " [242 240 242 243 244]\n",
      " [247 241 249 249 242]\n",
      " [242 246 243 246 248]\n",
      " [246 243 246 241 242]\n",
      " [245 243 242 246 248]\n",
      " [244 242 245 249 248]\n",
      " [240 242 242 244 244]\n",
      " [244 244 244 248 248]\n",
      " [243 242 244 249 246]\n",
      " [241 247 249 248 249]\n",
      " [245 247 246 241 242]\n",
      " [248 245 240 246 245]\n",
      " [247 248 242 245 247]\n",
      " [244 245 247 249 246]\n",
      " [246 246 248 243 243]\n",
      " [245 246 240 241 246]\n",
      " [247 244 243 244 243]]\n",
      "Salaries Year3 NFQ6 [[356 353 354 353 368]\n",
      " [350 367 352 350 351]\n",
      " [353 366 356 361 359]\n",
      " [353 353 359 351 352]\n",
      " [350 368 363 358 361]\n",
      " [365 360 358 355 351]\n",
      " [367 353 361 358 360]\n",
      " [367 365 365 350 365]\n",
      " [365 362 368 353 367]\n",
      " [356 368 369 353 361]\n",
      " [364 357 357 356 368]\n",
      " [369 367 364 366 351]\n",
      " [364 369 369 352 355]\n",
      " [364 358 353 360 357]\n",
      " [355 355 352 362 357]\n",
      " [363 353 358 362 352]\n",
      " [369 367 365 364 369]\n",
      " [354 369 367 358 358]\n",
      " [351 360 361 369 356]\n",
      " [354 358 350 361 354]]\n",
      "Salaries Year5 NFQ5 [[472 475 479 471 471]\n",
      " [475 473 477 476 478]\n",
      " [471 477 473 478 470]\n",
      " [479 479 478 472 471]\n",
      " [479 479 474 476 474]\n",
      " [475 474 472 470 472]\n",
      " [472 474 477 476 470]\n",
      " [473 470 472 474 472]\n",
      " [475 470 473 472 479]\n",
      " [475 477 477 475 473]\n",
      " [476 474 475 479 473]\n",
      " [477 472 473 478 477]\n",
      " [478 476 477 475 474]\n",
      " [474 472 476 475 477]\n",
      " [478 473 476 474 472]\n",
      " [475 478 479 474 478]\n",
      " [478 470 477 473 477]\n",
      " [471 477 474 473 474]\n",
      " [471 475 473 472 475]\n",
      " [475 475 470 474 478]]\n",
      "Dataset starting with the mean [244.23861249 244.64147632 245.61172214 244.62591353 246.51364096\n",
      " 245.86343959 245.46156868 245.32613528 245.48349657 245.87557097\n",
      " 246.71487226 244.44906797 245.25203369 245.02923234 244.84886607\n",
      " 245.84644824 244.86857968 244.7175746  244.57333144 244.50819397\n",
      " 245.41753775 246.10363332 245.28900515 244.34489724 245.32068783\n",
      " 247.56778707 244.32386634 245.22402428 241.60325414 243.90028057\n",
      " 246.37244089 244.81840927 244.47277044 245.19353758 244.28145061\n",
      " 246.84480649 244.89313184 246.0813713  243.8793868  244.81359269\n",
      " 243.32582512 244.13859347 244.3186725  243.92570425 244.99796093\n",
      " 244.81907241 243.94414783 246.10275018 244.52713939 245.6130062\n",
      " 243.98134144 244.332704   243.16853628 245.4134332  245.78707462\n",
      " 244.78975221 243.11937924 246.34759719 243.61264074 246.78716011\n",
      " 244.08981537 244.05866758 246.17070834 246.93263203 244.43653244\n",
      " 244.54352076 244.93087666 245.09677596 243.94739849 244.62776058\n",
      " 244.05912824 245.25161148 244.11657172 246.53424446 245.539448\n",
      " 244.05364514 244.81391379 244.75135512 245.65508093 246.60268427\n",
      " 245.00633518 245.81243597 245.83830496 244.51971262 244.45959773\n",
      " 246.15564277 246.48029026 245.65055907 245.98326593 244.7489611\n",
      " 245.61884305 245.01048795 245.04946045 245.25613532 244.17496042\n",
      " 244.71634671 246.22445287 245.72556152 244.48909884 246.95995154]\n",
      "Mean of Dataset is 245.06340915266955\n"
     ]
    }
   ],
   "source": [
    "#NFQ Level 6 and weekly salary after 1, 3, 5 years, use randint that has discrete uniform distribution. 100 Datapoints \n",
    "#Datapoints will be symmetric because of discrete uniform distribution.\n",
    "\n",
    "#100 samples looking to simulate mean value of 245\n",
    "NFQ6_1 = np.random.randint(240,250,(20,5))\n",
    "print('Salaries Year1 NFQ6', NFQ6_1)\n",
    "\n",
    "#100 samples looking to simulate mean value of 360\n",
    "NFQ6_3 = np.random.randint(350,370,(20,5))\n",
    "print('Salaries Year3 NFQ6', NFQ6_3)\n",
    "\n",
    "#100 samples looking to simulate mean value of 475\n",
    "NFQ6_5 = np.random.randint(470,480,(20,5))\n",
    "print('Salaries Year5 NFQ5', NFQ6_5)\n",
    "\n",
    "\n",
    "#Random numbers can also be controlled by using random seed or in below case starting with the required mean and \n",
    "#generating the random numbers based on achieving the required mean.\n",
    "#edited from https://stackoverflow.com/questions/50177594/create-an-array-with-a-pre-determined-mean-and-standard-deviation\n",
    "#This would create the the same mean as NFQ_6 above but note there is less of a range than the first method.\n",
    "#When considering salary the first method would be more indicative of variation real life salaries\n",
    "mean = 245\n",
    "x = np.random.randn(100) + mean\n",
    "ans = np.mean(x)\n",
    "print('Dataset starting with the mean', x)\n",
    "print('Mean of Dataset is', ans)"
   ]
  },
  {
   "cell_type": "code",
   "execution_count": 4,
   "metadata": {},
   "outputs": [
    {
     "name": "stdout",
     "output_type": "stream",
     "text": [
      "Salaries Year1 NFQ7 [[296 298 298 295 299]\n",
      " [297 283 295 295 285]\n",
      " [288 282 292 295 281]\n",
      " [281 282 298 296 287]\n",
      " [282 295 289 292 282]\n",
      " [297 298 294 294 298]\n",
      " [289 298 293 282 288]\n",
      " [292 287 298 297 294]\n",
      " [285 290 293 291 281]\n",
      " [295 296 295 291 287]\n",
      " [292 292 294 292 284]\n",
      " [285 287 283 285 286]\n",
      " [297 291 290 289 280]\n",
      " [287 284 291 280 291]\n",
      " [291 294 293 299 299]\n",
      " [287 284 296 292 292]\n",
      " [286 286 285 299 289]\n",
      " [295 280 297 280 288]\n",
      " [297 294 295 298 283]\n",
      " [282 298 288 294 292]]\n",
      "Salaries Year3 NFQ7 [[427 419 414 410 417]\n",
      " [410 411 410 429 417]\n",
      " [424 416 423 418 427]\n",
      " [412 410 416 413 424]\n",
      " [418 411 414 414 410]\n",
      " [411 425 414 418 420]\n",
      " [427 427 419 413 423]\n",
      " [419 418 415 426 415]\n",
      " [420 417 410 422 420]\n",
      " [417 417 414 413 412]\n",
      " [416 410 418 427 423]\n",
      " [412 412 424 424 417]\n",
      " [415 410 417 413 427]\n",
      " [421 415 417 420 423]\n",
      " [421 424 415 415 421]\n",
      " [419 411 417 427 413]\n",
      " [422 412 418 410 413]\n",
      " [417 421 421 424 416]\n",
      " [421 416 420 414 412]\n",
      " [425 423 414 416 417]]\n",
      "Salaries Year5 NFQ7 [[529 516 528 529 520]\n",
      " [527 521 517 530 517]\n",
      " [531 516 521 520 519]\n",
      " [525 517 522 521 518]\n",
      " [515 532 517 516 515]\n",
      " [517 531 525 520 516]\n",
      " [522 529 522 528 534]\n",
      " [519 530 522 518 528]\n",
      " [520 520 515 519 526]\n",
      " [522 531 528 518 527]\n",
      " [526 516 518 525 528]\n",
      " [534 515 519 516 520]\n",
      " [533 520 534 517 527]\n",
      " [522 533 524 527 523]\n",
      " [519 517 531 533 525]\n",
      " [530 521 518 516 522]\n",
      " [519 528 526 518 528]\n",
      " [520 527 515 516 534]\n",
      " [528 531 524 524 524]\n",
      " [530 530 525 533 518]]\n"
     ]
    }
   ],
   "source": [
    "#NFQ Level 7 and weekly salary after 1, 3, 5 years, use randint that has discrete uniform distribution. 100 Datapoints\n",
    "\n",
    "#100 samples looking to simulate mean value of 290\n",
    "NFQ7_1 = np.random.randint(280,300,(20,5))\n",
    "print('Salaries Year1 NFQ7', NFQ7_1)\n",
    "\n",
    "#100 samples looking to simulate mean value of 420\n",
    "NFQ7_3 = np.random.randint(410,430,(20,5))\n",
    "print('Salaries Year3 NFQ7', NFQ7_3)\n",
    "\n",
    "#100 samples looking to simulate mean value of 525\n",
    "NFQ7_5 = np.random.randint(515,535,(20,5))\n",
    "print('Salaries Year5 NFQ7', NFQ7_5)"
   ]
  },
  {
   "cell_type": "code",
   "execution_count": 5,
   "metadata": {},
   "outputs": [
    {
     "name": "stdout",
     "output_type": "stream",
     "text": [
      "Salaries Year1 NFQ8 [[428 417 415 430 423]\n",
      " [433 422 415 416 434]\n",
      " [433 429 418 420 420]\n",
      " [421 422 426 432 431]\n",
      " [428 425 431 418 426]\n",
      " [422 434 415 419 427]\n",
      " [422 424 424 421 432]\n",
      " [431 417 420 428 430]\n",
      " [416 423 421 422 427]\n",
      " [415 415 416 432 424]\n",
      " [427 432 417 418 418]\n",
      " [431 425 418 422 427]\n",
      " [420 421 430 417 425]\n",
      " [420 420 423 428 418]\n",
      " [425 430 417 428 425]\n",
      " [424 430 427 427 428]\n",
      " [426 420 434 430 425]\n",
      " [422 432 421 415 416]\n",
      " [425 429 427 430 431]\n",
      " [416 428 428 423 428]]\n",
      "Salaries Year3 NFQ8 [[528 537 544 539 539]\n",
      " [525 539 544 533 542]\n",
      " [533 526 529 539 530]\n",
      " [535 527 544 527 533]\n",
      " [535 525 529 543 536]\n",
      " [533 543 525 543 540]\n",
      " [525 533 526 528 534]\n",
      " [538 543 526 525 537]\n",
      " [542 529 527 530 529]\n",
      " [529 543 527 525 527]\n",
      " [536 525 538 528 527]\n",
      " [525 536 541 538 537]\n",
      " [526 533 525 536 538]\n",
      " [533 536 544 526 541]\n",
      " [533 533 542 540 532]\n",
      " [541 527 532 541 535]\n",
      " [541 541 533 527 527]\n",
      " [536 526 526 533 530]\n",
      " [527 530 526 526 526]\n",
      " [532 531 540 542 529]]\n",
      "Salaries Year5 NFQ8 [[650 655 654 658 644]\n",
      " [646 647 659 658 645]\n",
      " [644 642 647 649 648]\n",
      " [657 642 657 657 647]\n",
      " [650 649 651 649 653]\n",
      " [655 642 654 657 650]\n",
      " [642 657 652 643 657]\n",
      " [654 641 654 649 654]\n",
      " [640 641 654 659 644]\n",
      " [658 655 651 640 644]\n",
      " [654 643 649 642 650]\n",
      " [640 643 658 641 642]\n",
      " [653 653 642 658 654]\n",
      " [656 647 650 650 651]\n",
      " [645 648 648 653 647]\n",
      " [657 657 642 659 648]\n",
      " [658 649 655 641 644]\n",
      " [652 647 657 655 657]\n",
      " [646 657 647 645 659]\n",
      " [655 650 651 642 648]]\n"
     ]
    }
   ],
   "source": [
    "#NFQ Level 8 and weekly salary after 1, 3, 5 years, use randint that has discrete uniform distribution. 100 Datapoints\n",
    "\n",
    "#100 samples looking to simulate mean value of 425\n",
    "NFQ8_1 = np.random.randint(415,435,(20,5))\n",
    "print('Salaries Year1 NFQ8', NFQ8_1)\n",
    "\n",
    "#100 samples looking to simulate mean value of 535\n",
    "NFQ8_3 = np.random.randint(525,545,(20,5))\n",
    "print('Salaries Year3 NFQ8', NFQ8_3)\n",
    "\n",
    "#100 samples looking to simulate mean value of 650\n",
    "NFQ8_5 = np.random.randint(640,660,(20,5))\n",
    "print('Salaries Year5 NFQ8', NFQ8_5)"
   ]
  },
  {
   "cell_type": "code",
   "execution_count": 6,
   "metadata": {},
   "outputs": [
    {
     "name": "stdout",
     "output_type": "stream",
     "text": [
      "Salaries Year1 NFQ9 [[512 519 504 516 512]\n",
      " [500 502 511 511 504]\n",
      " [518 517 519 513 511]\n",
      " [503 500 515 515 517]\n",
      " [510 500 505 514 509]\n",
      " [502 504 503 506 504]\n",
      " [517 510 507 506 507]\n",
      " [504 502 505 511 510]\n",
      " [501 503 501 505 508]\n",
      " [504 513 507 508 500]\n",
      " [513 506 512 512 515]\n",
      " [508 508 516 515 505]\n",
      " [513 518 507 511 512]\n",
      " [505 517 507 516 510]\n",
      " [515 507 514 518 517]\n",
      " [504 509 507 516 514]\n",
      " [502 515 505 500 509]\n",
      " [513 518 514 500 518]\n",
      " [518 517 511 516 508]\n",
      " [500 513 502 517 508]]\n",
      "Salaries Year3 NFQ9 [[631 627 628 620 628]\n",
      " [639 639 621 629 639]\n",
      " [636 626 628 637 621]\n",
      " [630 631 637 622 626]\n",
      " [639 638 622 621 626]\n",
      " [637 638 639 637 635]\n",
      " [620 623 633 637 620]\n",
      " [632 633 633 622 629]\n",
      " [634 625 634 625 636]\n",
      " [636 627 636 626 631]\n",
      " [624 621 639 637 625]\n",
      " [638 631 628 627 621]\n",
      " [637 634 622 629 636]\n",
      " [627 620 637 628 636]\n",
      " [620 622 630 622 628]\n",
      " [636 622 638 624 620]\n",
      " [621 629 635 637 622]\n",
      " [634 636 634 637 630]\n",
      " [633 622 627 638 638]\n",
      " [629 629 622 621 621]]\n",
      "Salaries Year5 NFQ9 [[745 746 731 739 732]\n",
      " [743 744 744 742 745]\n",
      " [746 745 736 734 736]\n",
      " [743 731 741 735 747]\n",
      " [738 731 745 748 735]\n",
      " [742 741 738 739 748]\n",
      " [747 740 737 734 730]\n",
      " [735 743 736 738 737]\n",
      " [741 748 743 744 742]\n",
      " [746 731 740 733 743]\n",
      " [749 733 740 747 738]\n",
      " [730 748 745 739 733]\n",
      " [746 746 732 736 741]\n",
      " [732 741 745 743 731]\n",
      " [748 746 745 739 747]\n",
      " [744 731 736 746 733]\n",
      " [739 743 734 735 738]\n",
      " [740 736 737 746 735]\n",
      " [741 743 742 738 741]\n",
      " [744 740 743 745 733]]\n"
     ]
    }
   ],
   "source": [
    "#NFQ Level 9 and weekly salary after 1, 3, 5 years, use randint that has discrete uniform distribution. 100 Datapoints\n",
    "\n",
    "#100 samples looking to simulate mean value of 510\n",
    "NFQ9_1 = np.random.randint(500,520,(20,5))\n",
    "print('Salaries Year1 NFQ9', NFQ9_1)\n",
    "\n",
    "#100 samples looking to simulate mean value of 630\n",
    "NFQ9_3 = np.random.randint(620,640,(20,5))\n",
    "print('Salaries Year3 NFQ9', NFQ9_3)\n",
    "\n",
    "#100 samples looking to simulate mean value of 740\n",
    "NFQ9_5 = np.random.randint(730,750,(20,5))\n",
    "print('Salaries Year5 NFQ9', NFQ9_5)"
   ]
  },
  {
   "cell_type": "code",
   "execution_count": 7,
   "metadata": {},
   "outputs": [
    {
     "name": "stdout",
     "output_type": "stream",
     "text": [
      "Salaries Year1 NFQ10 [[696 700 699 702 712]\n",
      " [701 712 709 707 706]\n",
      " [706 711 710 706 709]\n",
      " [712 703 700 697 700]\n",
      " [705 697 708 714 698]\n",
      " [713 698 696 697 700]\n",
      " [712 700 709 704 713]\n",
      " [706 699 701 706 714]\n",
      " [697 707 706 702 710]\n",
      " [699 706 704 700 698]\n",
      " [708 712 703 707 696]\n",
      " [705 712 698 706 703]\n",
      " [710 713 697 699 714]\n",
      " [695 713 711 708 706]\n",
      " [708 714 707 698 703]\n",
      " [702 697 705 705 711]\n",
      " [709 706 702 709 701]\n",
      " [703 713 714 706 708]\n",
      " [708 712 714 695 704]\n",
      " [701 709 707 705 702]]\n",
      "Salaries Year3 NFQ10 [[803 808 803 796 809]\n",
      " [797 810 799 812 813]\n",
      " [796 806 802 795 813]\n",
      " [804 799 814 814 805]\n",
      " [795 811 803 806 812]\n",
      " [805 809 807 808 810]\n",
      " [805 797 803 801 802]\n",
      " [813 805 814 797 805]\n",
      " [802 808 798 813 798]\n",
      " [800 812 795 807 796]\n",
      " [808 804 796 804 810]\n",
      " [807 797 806 805 803]\n",
      " [809 811 806 798 811]\n",
      " [799 802 805 808 807]\n",
      " [795 803 803 798 807]\n",
      " [795 812 809 812 795]\n",
      " [809 803 812 801 804]\n",
      " [795 807 810 808 796]\n",
      " [809 801 799 801 813]\n",
      " [800 802 795 808 810]]\n",
      "Salaries Year5 NFQ10 [[924 915 924 919 918]\n",
      " [910 924 912 912 915]\n",
      " [926 922 916 910 910]\n",
      " [926 912 922 920 918]\n",
      " [926 926 923 915 910]\n",
      " [927 920 910 919 911]\n",
      " [919 910 929 911 914]\n",
      " [921 922 913 911 923]\n",
      " [916 915 914 915 917]\n",
      " [928 920 913 928 916]\n",
      " [918 918 917 925 929]\n",
      " [927 917 926 927 910]\n",
      " [910 921 913 913 929]\n",
      " [917 923 927 910 914]\n",
      " [919 917 929 922 917]\n",
      " [928 929 919 921 915]\n",
      " [920 928 922 922 926]\n",
      " [925 913 913 911 925]\n",
      " [914 928 913 928 913]\n",
      " [926 927 924 926 912]]\n"
     ]
    }
   ],
   "source": [
    "#NFQ Level 10 and weekly salary after 1, 3, 5 years, use randint that has discrete uniform distribution. 100 Datapoints\n",
    "\n",
    "#100 samples looking to simulate mean value of 705\n",
    "NFQ10_1 = np.random.randint(695,715,(20,5))\n",
    "print('Salaries Year1 NFQ10', NFQ10_1)\n",
    "\n",
    "#100 samples looking to simulate mean value of 805\n",
    "NFQ10_3 = np.random.randint(795,815,(20,5))\n",
    "print('Salaries Year3 NFQ10', NFQ10_3)\n",
    "\n",
    "#100 samples looking to simulate mean value of 920\n",
    "NFQ10_5 = np.random.randint(910,930,(20,5))\n",
    "print('Salaries Year5 NFQ10', NFQ10_5)"
   ]
  },
  {
   "cell_type": "markdown",
   "metadata": {},
   "source": [
    "### Calculate mean values for all NFQ Levels to see if similar to Figure 6.4"
   ]
  },
  {
   "cell_type": "code",
   "execution_count": 8,
   "metadata": {},
   "outputs": [
    {
     "name": "stdout",
     "output_type": "stream",
     "text": [
      "Mean weekly wage of NFQ6 after 1 year is 244.79\n",
      "Mean weekly wage of NFQ6 after 3 years is 359.42\n",
      "Mean weekly wage of NFQ6 after 5 years is 474.63\n"
     ]
    }
   ],
   "source": [
    "#Calculate mean of weekly salaries for each qualification after 1, 3, 5 years after graduation\n",
    "\n",
    "#NFQ level 6 after 1 year\n",
    "x1 = np.mean(NFQ6_1)\n",
    "print('Mean weekly wage of NFQ6 after 1 year is', x1)\n",
    "\n",
    "#NFQ level 6 after 3 years\n",
    "x2 = np.mean(NFQ6_3)\n",
    "print('Mean weekly wage of NFQ6 after 3 years is', x2)\n",
    "\n",
    "#NFQ level 6 after 5 years\n",
    "x3 = np.mean(NFQ6_5)\n",
    "print('Mean weekly wage of NFQ6 after 5 years is', x3)"
   ]
  },
  {
   "cell_type": "code",
   "execution_count": 9,
   "metadata": {},
   "outputs": [
    {
     "name": "stdout",
     "output_type": "stream",
     "text": [
      "Mean weekly wage of NFQ7 after 1 year is 290.59\n",
      "Mean weekly wage of NFQ7 after 3 years is 417.62\n",
      "Mean weekly wage of NFQ7 after 5 years is 523.33\n"
     ]
    }
   ],
   "source": [
    "#NFQ level 7 after 1 year\n",
    "x4 = np.mean(NFQ7_1)\n",
    "print('Mean weekly wage of NFQ7 after 1 year is', x4)\n",
    "\n",
    "#NFQ level 7 after 3 years\n",
    "x5 = np.mean(NFQ7_3)\n",
    "print('Mean weekly wage of NFQ7 after 3 years is', x5)\n",
    "\n",
    "#NFQ level 7 after 5 years\n",
    "x6 = np.mean(NFQ7_5)\n",
    "print('Mean weekly wage of NFQ7 after 5 years is', x6)"
   ]
  },
  {
   "cell_type": "code",
   "execution_count": 10,
   "metadata": {},
   "outputs": [
    {
     "name": "stdout",
     "output_type": "stream",
     "text": [
      "Mean weekly wage of NFQ8 after 1 year is 424.14\n",
      "Mean weekly wage of NFQ8 after 3 years is 533.22\n",
      "Mean weekly wage of NFQ8 after 5 years is 650.0\n"
     ]
    }
   ],
   "source": [
    "#NFQ level 8 after 1 year\n",
    "x7 = np.mean(NFQ8_1)\n",
    "print('Mean weekly wage of NFQ8 after 1 year is', x7)\n",
    "\n",
    "#NFQ level 8 after 3 years\n",
    "x8 = np.mean(NFQ8_3)\n",
    "print('Mean weekly wage of NFQ8 after 3 years is', x8)\n",
    "\n",
    "#NFQ level 8 after 5 years\n",
    "x9 = np.mean(NFQ8_5)\n",
    "print('Mean weekly wage of NFQ8 after 5 years is', x9)"
   ]
  },
  {
   "cell_type": "code",
   "execution_count": 11,
   "metadata": {},
   "outputs": [
    {
     "name": "stdout",
     "output_type": "stream",
     "text": [
      "Mean weekly wage of NFQ9 after 1 year is 509.56\n",
      "Mean weekly wage of NFQ9 after 3 years is 629.73\n",
      "Mean weekly wage of NFQ9 after 5 years is 740.01\n"
     ]
    }
   ],
   "source": [
    "#NFQ level 9 after 1 year\n",
    "x10 = np.mean(NFQ9_1)\n",
    "print('Mean weekly wage of NFQ9 after 1 year is', x10)\n",
    "\n",
    "#NFQ level 9 after 3 years\n",
    "x11 = np.mean(NFQ9_3)\n",
    "print('Mean weekly wage of NFQ9 after 3 years is', x11)\n",
    "\n",
    "#NFQ level 9 after 5 years\n",
    "x12 = np.mean(NFQ9_5)\n",
    "print('Mean weekly wage of NFQ9 after 5 years is', x12)"
   ]
  },
  {
   "cell_type": "code",
   "execution_count": 12,
   "metadata": {},
   "outputs": [
    {
     "name": "stdout",
     "output_type": "stream",
     "text": [
      "Mean weekly wage of NFQ10 after 1 year is 705.11\n",
      "Mean weekly wage of NFQ10 after 3 years is 804.43\n",
      "Mean weekly wage of NFQ10 after 5 years is 919.2\n"
     ]
    }
   ],
   "source": [
    "#NFQ level 10 after 1 year\n",
    "x13 = np.mean(NFQ10_1)\n",
    "print('Mean weekly wage of NFQ10 after 1 year is', x13)\n",
    "\n",
    "#NFQ level 10 after 3 years\n",
    "x14 = np.mean(NFQ10_3)\n",
    "print('Mean weekly wage of NFQ10 after 3 years is', x14)\n",
    "\n",
    "#NFQ level 10 after 5 years\n",
    "x15 = np.mean(NFQ10_5)\n",
    "print('Mean weekly wage of NFQ10 after 5 years is', x15)"
   ]
  },
  {
   "cell_type": "markdown",
   "metadata": {},
   "source": [
    "The above mean weekly wages are almost indentical to the CSO study."
   ]
  },
  {
   "cell_type": "code",
   "execution_count": 13,
   "metadata": {},
   "outputs": [
    {
     "data": {
      "image/png": "[encoded data removed]",
      "text/plain": [
       "<Figure size 432x288 with 1 Axes>"
      ]
     },
     "metadata": {
      "needs_background": "light"
     },
     "output_type": "display_data"
    }
   ],
   "source": [
    "#Plotting simulated data to see if result is similar to the image 6.4 above.\n",
    "#Results are almost indentical to image 6.4 showing the simulation works well.\n",
    "fig, ax = plt.subplots()\n",
    "ax.plot(y1, x1, 'go')\n",
    "ax.plot(y2, x2, 'go')\n",
    "ax.plot(y3, x3, 'go')\n",
    "ax.plot(y1, x4, 'ko')\n",
    "ax.plot(y2, x5, 'ko')\n",
    "ax.plot(y3, x6, 'ko')\n",
    "ax.plot(y1, x7, 'bo')\n",
    "ax.plot(y2, x8, 'bo')\n",
    "ax.plot(y3, x9, 'bo')\n",
    "ax.plot(y1, x10, 'ro')\n",
    "ax.plot(y2, x11, 'ro')\n",
    "ax.plot(y3, x12, 'ro')\n",
    "ax.plot(y1, x13, 'yo')\n",
    "ax.plot(y2, x14, 'yo')\n",
    "ax.plot(y3, x15, 'yo')\n",
    "ax.set(xlabel='Years since Graduation', ylabel='wages per week(Euros)',\n",
    "       title='Weekly Salary and NFQ Levels')\n",
    "ax.grid()\n",
    "plt.show()"
   ]
  },
  {
   "cell_type": "code",
   "execution_count": 14,
   "metadata": {},
   "outputs": [
    {
     "name": "stdout",
     "output_type": "stream",
     "text": [
      "Wage difference from NFQ10 & NFQ6 5 years after graduation is € 444.57000000000005\n",
      "Wage difference from NFQ10 & NFQ7 5 years after graduation is € 395.87\n",
      "Wage difference from NFQ10 & NFQ8 5 years after graduation is € 269.20000000000005\n",
      "Wage difference from NFQ10 & NFQ9 5 years after graduation is € 179.19000000000005\n"
     ]
    }
   ],
   "source": [
    "#Calculate wage differnecs between all NFQ levels after 5 years.\n",
    "range1  = x15 -x3\n",
    "print('Wage difference from NFQ10 & NFQ6 5 years after graduation is €', range1)\n",
    "\n",
    "range2 = x15 - x6\n",
    "print('Wage difference from NFQ10 & NFQ7 5 years after graduation is €', range2)\n",
    "\n",
    "range3 = x15 - x9\n",
    "print('Wage difference from NFQ10 & NFQ8 5 years after graduation is €', range3)\n",
    "\n",
    "range4 = x15 - x12\n",
    "print('Wage difference from NFQ10 & NFQ9 5 years after graduation is €', range4)"
   ]
  },
  {
   "cell_type": "markdown",
   "metadata": {},
   "source": [
    "From the above data showing the ranges of wages we can see that the discrepency of wage level decreases with higher NFQ level. This is the expected result."
   ]
  },
  {
   "cell_type": "code",
   "execution_count": 15,
   "metadata": {},
   "outputs": [
    {
     "name": "stdout",
     "output_type": "stream",
     "text": [
      "      0    1    2    3    4\n",
      "0   247  241  248  242  249\n",
      "1   245  243  247  241  247\n",
      "2   246  247  242  243  249\n",
      "3   242  240  242  243  244\n",
      "4   247  241  249  249  242\n",
      "5   242  246  243  246  248\n",
      "6   246  243  246  241  242\n",
      "7   245  243  242  246  248\n",
      "8   244  242  245  249  248\n",
      "9   240  242  242  244  244\n",
      "10  244  244  244  248  248\n",
      "11  243  242  244  249  246\n",
      "12  241  247  249  248  249\n",
      "13  245  247  246  241  242\n",
      "14  248  245  240  246  245\n",
      "15  247  248  242  245  247\n",
      "16  244  245  247  249  246\n",
      "17  246  246  248  243  243\n",
      "18  245  246  240  241  246\n",
      "19  247  244  243  244  243\n",
      "      0    1    2    3    4\n",
      "0   356  353  354  353  368\n",
      "1   350  367  352  350  351\n",
      "2   353  366  356  361  359\n",
      "3   353  353  359  351  352\n",
      "4   350  368  363  358  361\n",
      "5   365  360  358  355  351\n",
      "6   367  353  361  358  360\n",
      "7   367  365  365  350  365\n",
      "8   365  362  368  353  367\n",
      "9   356  368  369  353  361\n",
      "10  364  357  357  356  368\n",
      "11  369  367  364  366  351\n",
      "12  364  369  369  352  355\n",
      "13  364  358  353  360  357\n",
      "14  355  355  352  362  357\n",
      "15  363  353  358  362  352\n",
      "16  369  367  365  364  369\n",
      "17  354  369  367  358  358\n",
      "18  351  360  361  369  356\n",
      "19  354  358  350  361  354\n",
      "      0    1    2    3    4\n",
      "0   472  475  479  471  471\n",
      "1   475  473  477  476  478\n",
      "2   471  477  473  478  470\n",
      "3   479  479  478  472  471\n",
      "4   479  479  474  476  474\n",
      "5   475  474  472  470  472\n",
      "6   472  474  477  476  470\n",
      "7   473  470  472  474  472\n",
      "8   475  470  473  472  479\n",
      "9   475  477  477  475  473\n",
      "10  476  474  475  479  473\n",
      "11  477  472  473  478  477\n",
      "12  478  476  477  475  474\n",
      "13  474  472  476  475  477\n",
      "14  478  473  476  474  472\n",
      "15  475  478  479  474  478\n",
      "16  478  470  477  473  477\n",
      "17  471  477  474  473  474\n",
      "18  471  475  473  472  475\n",
      "19  475  475  470  474  478\n"
     ]
    }
   ],
   "source": [
    "#Dataframes can be generated from the random generated data and the data can be described.\n",
    "#Make dataframe for NFQ6 and look at data\n",
    "df = pd.DataFrame(NFQ6_1)\n",
    "df1 = pd.DataFrame(NFQ6_3)\n",
    "df2 = pd.DataFrame(NFQ6_5)\n",
    "print(df.head(20))\n",
    "print(df1.head(20))\n",
    "print(df2.head(20))"
   ]
  },
  {
   "cell_type": "code",
   "execution_count": 16,
   "metadata": {},
   "outputs": [
    {
     "name": "stdout",
     "output_type": "stream",
     "text": [
      "                0           1           2           3           4\n",
      "count   60.000000   60.000000   60.000000   60.000000   60.000000\n",
      "mean   359.700000  360.000000  359.866667  358.950000  359.550000\n",
      "std     94.890535   94.945122   95.044765   94.544479   94.143854\n",
      "min    240.000000  240.000000  240.000000  241.000000  242.000000\n",
      "25%    246.750000  246.000000  247.000000  248.000000  248.000000\n",
      "50%    359.500000  361.000000  360.000000  358.000000  357.500000\n",
      "75%    472.250000  472.250000  473.000000  472.250000  472.000000\n",
      "max    479.000000  479.000000  479.000000  479.000000  479.000000\n",
      "                0           1           2           3           4\n",
      "count   60.000000   60.000000   60.000000   60.000000   60.000000\n",
      "mean   411.050000  410.083333  410.633333  410.766667  410.033333\n",
      "std     96.781499   96.665646   94.758563   95.187125   97.144479\n",
      "min    281.000000  280.000000  283.000000  280.000000  280.000000\n",
      "25%    295.750000  295.750000  295.750000  295.750000  292.000000\n",
      "50%    419.000000  416.000000  416.500000  417.000000  417.000000\n",
      "75%    519.250000  517.000000  518.000000  517.250000  518.250000\n",
      "max    534.000000  533.000000  534.000000  533.000000  534.000000\n",
      "                0           1           2           3           4\n",
      "count   60.000000   60.000000   60.000000   60.000000   60.000000\n",
      "mean   535.833333  535.383333  535.716667  535.833333  536.166667\n",
      "std     93.382604   92.209065   94.677703   93.463338   92.186467\n",
      "min    415.000000  415.000000  415.000000  415.000000  416.000000\n",
      "25%    428.000000  429.750000  427.000000  429.500000  429.500000\n",
      "50%    533.000000  533.000000  530.500000  533.000000  533.500000\n",
      "75%    645.250000  642.250000  648.250000  642.250000  644.250000\n",
      "max    658.000000  657.000000  659.000000  659.000000  659.000000\n",
      "                0           1           2           3           4\n",
      "count   60.000000   60.000000   60.000000   60.000000   60.000000\n",
      "mean   627.233333  626.300000  626.416667  626.700000  625.516667\n",
      "std     96.502457   95.090555   95.260444   94.335194   94.199120\n",
      "min    500.000000  500.000000  501.000000  500.000000  500.000000\n",
      "25%    513.000000  517.000000  513.500000  516.000000  513.500000\n",
      "50%    633.500000  628.000000  633.000000  627.500000  628.000000\n",
      "75%    739.250000  733.750000  736.000000  735.250000  733.000000\n",
      "max    749.000000  748.000000  745.000000  748.000000  748.000000\n",
      "                0           1           2           3           4\n",
      "count   60.000000   60.000000   60.000000   60.000000   60.000000\n",
      "mean   809.483333  810.800000  809.300000  808.833333  809.483333\n",
      "std     89.472179   88.215799   88.353163   88.583422   87.388765\n",
      "min    695.000000  697.000000  696.000000  695.000000  696.000000\n",
      "25%    708.750000  712.000000  709.000000  706.750000  710.750000\n",
      "50%    802.500000  805.500000  803.000000  805.500000  807.000000\n",
      "75%    917.250000  915.500000  913.000000  911.250000  912.250000\n",
      "max    928.000000  929.000000  929.000000  928.000000  929.000000\n"
     ]
    }
   ],
   "source": [
    "#combine dataframes together for all NFQ levels.\n",
    "# edited from https://pandas.pydata.org/pandas-docs/stable/merging.html\n",
    "#decribe data\n",
    "data = [df, df1, df2]\n",
    "NFQ6 = pd.concat(data)\n",
    "print(NFQ6.describe())\n",
    "\n",
    "df3 = pd.DataFrame(NFQ7_1)\n",
    "df4 = pd.DataFrame(NFQ7_3)\n",
    "df5 = pd.DataFrame(NFQ7_5)\n",
    "data1 = [df3, df4, df5]\n",
    "NFQ7 = pd.concat(data1)\n",
    "print(NFQ7.describe())\n",
    "\n",
    "\n",
    "df6 = pd.DataFrame(NFQ8_1)\n",
    "df7 = pd.DataFrame(NFQ8_3)\n",
    "df8 = pd.DataFrame(NFQ8_5)\n",
    "data2 = [df6, df7, df8]\n",
    "NFQ8 = pd.concat(data2)\n",
    "print(NFQ8.describe())\n",
    "\n",
    "df9 = pd.DataFrame(NFQ9_1)\n",
    "df10 = pd.DataFrame(NFQ9_3)\n",
    "df11 = pd.DataFrame(NFQ9_5)\n",
    "data3 = [df9, df10, df11]\n",
    "NFQ9 = pd.concat(data3)\n",
    "print(NFQ9.describe())\n",
    "\n",
    "\n",
    "df12 = pd.DataFrame(NFQ10_1)\n",
    "df13 = pd.DataFrame(NFQ10_3)\n",
    "df14 = pd.DataFrame(NFQ10_5)\n",
    "data4 = [df12, df13, df14]\n",
    "NFQ10 = pd.concat(data4)\n",
    "print(NFQ10.describe())\n"
   ]
  },
  {
   "cell_type": "markdown",
   "metadata": {},
   "source": [
    "From the above summary statistics for NFQ Levels 6,7,8,9,10 with all experience levels combined we can see some trends. We can see the mean value of weekly salary for NFQ6 is 359, NFQ7 is 411, NFQ8 is 536, NFQ9 is 626 and NFQ10 is 810. So the salary increase both over time and with academic level. The standard deviation for each NFQ levels are also similar. "
   ]
  },
  {
   "cell_type": "code",
   "execution_count": 17,
   "metadata": {},
   "outputs": [
    {
     "name": "stdout",
     "output_type": "stream",
     "text": [
      "Percentage of wages received for NFQ6 in relation to NFQ10 after 5 years is 51.635117493472585 %\n",
      "Percentage of wages received for NFQ7 in relation to NFQ10 after 5 years is 56.93320278503047 %\n",
      "Percentage of wages received for NFQ8 in relation to NFQ10 after 5 years is 70.7136640557006 %\n",
      "Percentage of wages received for NFQ9 in relation to NFQ10 after 5 years is 80.50587467362924 %\n",
      "Percentage of wages received for NFQ6 in relation to NFQ10 after 3 years is 44.68008403465809 %\n",
      "Percentage of wages received for NFQ7 in relation to NFQ10 after 3 years is 51.915020573573834 %\n",
      "Percentage of wages received for NFQ8 in relation to NFQ10 after 3 years is 66.28544435190136 %\n",
      "Percentage of wages received for NFQ9 in relation to NFQ10 after 3 years is 78.28275922081474 %\n",
      "Percentage of wages received for NFQ6 in relation to NFQ10 after 1 years is 34.716569045964455 %\n",
      "Percentage of wages received for NFQ7 in relation to NFQ10 after 1 years is 41.21200947369913 %\n",
      "Percentage of wages received for NFQ8 in relation to NFQ10 after 1 years is 60.152316659811945 %\n",
      "Percentage of wages received for NFQ9 in relation to NFQ10 after 1 years is 72.26673852306732 %\n"
     ]
    }
   ],
   "source": [
    "#The percenatges from the mean salaries can be calcualted and compared for the variables.\n",
    "#Calculate percentage difference of salary levels after 5 years experience\n",
    "Percentage1=(x3/x15) *100\n",
    "print(\"Percentage of wages received for NFQ6 in relation to NFQ10 after 5 years is\", Percentage1,\"%\")\n",
    "\n",
    "#Calculate percentage difference of salary levels after 5 years experience\n",
    "Percentage2=(x6/x15) *100\n",
    "print(\"Percentage of wages received for NFQ7 in relation to NFQ10 after 5 years is\", Percentage2,\"%\")\n",
    "\n",
    "#Calculate percentage difference of salary levels after 5 years experience\n",
    "Percentage3=(x9/x15) *100\n",
    "print(\"Percentage of wages received for NFQ8 in relation to NFQ10 after 5 years is\", Percentage3,\"%\")\n",
    "\n",
    "#Calculate percentage difference of salary levels after 5 years experience\n",
    "Percentage4=(x12/x15) *100\n",
    "print(\"Percentage of wages received for NFQ9 in relation to NFQ10 after 5 years is\", Percentage4,\"%\")\n",
    "\n",
    "#Calculate percentage difference of salary levels after 3 years experience\n",
    "Percentage5=(x2/x14) *100\n",
    "print(\"Percentage of wages received for NFQ6 in relation to NFQ10 after 3 years is\", Percentage5,\"%\")\n",
    "\n",
    "#Calculate percentage difference of salary levels after 3 years experience\n",
    "Percentage6=(x5/x14) *100\n",
    "print(\"Percentage of wages received for NFQ7 in relation to NFQ10 after 3 years is\", Percentage6,\"%\")\n",
    "\n",
    "#Calculate percentage difference of salary levels after 3 years experience\n",
    "Percentage7=(x8/x14) *100\n",
    "print(\"Percentage of wages received for NFQ8 in relation to NFQ10 after 3 years is\", Percentage7,\"%\")\n",
    "\n",
    "#Calculate percentage difference of salary levels after 3 years experience\n",
    "Percentage8=(x11/x14) *100\n",
    "print(\"Percentage of wages received for NFQ9 in relation to NFQ10 after 3 years is\", Percentage8,\"%\")\n",
    "\n",
    "#Calculate percentage difference of salary levels after 1 years experience\n",
    "Percentage9=(x1/x13) *100\n",
    "print(\"Percentage of wages received for NFQ6 in relation to NFQ10 after 1 years is\", Percentage9,\"%\")\n",
    "\n",
    "#Calculate percentage difference of salary levels after 1 years experience\n",
    "Percentage10=(x4/x13) *100\n",
    "print(\"Percentage of wages received for NFQ7 in relation to NFQ10 after 1 years is\", Percentage10,\"%\")\n",
    "\n",
    "#Calculate percentage difference of salary levels after 1 years experience\n",
    "Percentage11=(x7/x13) *100\n",
    "print(\"Percentage of wages received for NFQ8 in relation to NFQ10 after 1 years is\", Percentage11,\"%\")\n",
    "\n",
    "#Calculate percentage difference of salary levels after 1 years experience\n",
    "Percentage12=(x10/x13) *100\n",
    "print(\"Percentage of wages received for NFQ9 in relation to NFQ10 after 1 years is\", Percentage12,'%')"
   ]
  },
  {
   "cell_type": "markdown",
   "metadata": {},
   "source": [
    "The above percentages are similar to the data in the U.S. census highlighted above. The difference between NFQ10 and NFQ9 after 5 years experience is 20% which is the same deviation for graduates of pysical sciences at masters and doctorate level in the U.S census study. We can also see the rate of increase was highest for NFQ level 6 when considering experience and this rate declines with the higher academic levels; this is also what the original CSO study summarised [5]. "
   ]
  },
  {
   "cell_type": "code",
   "execution_count": 18,
   "metadata": {},
   "outputs": [
    {
     "data": {
      "image/png": "[encoded data removed]",
      "text/plain": [
       "<Figure size 432x288 with 1 Axes>"
      ]
     },
     "metadata": {
      "needs_background": "light"
     },
     "output_type": "display_data"
    },
    {
     "data": {
      "image/png": "[encoded data removed]",
      "text/plain": [
       "<Figure size 432x288 with 1 Axes>"
      ]
     },
     "metadata": {
      "needs_background": "light"
     },
     "output_type": "display_data"
    },
    {
     "data": {
      "image/png": "[encoded data removed]",
      "text/plain": [
       "<Figure size 432x288 with 1 Axes>"
      ]
     },
     "metadata": {
      "needs_background": "light"
     },
     "output_type": "display_data"
    }
   ],
   "source": [
    "#Edited from https://bespokeblog.wordpress.com/2011/07/07/basic-data-plotting-with-matplotlib-part-2-lines-points-formatting/\n",
    "#Plot percentage difference of salary levels after 5, 3, 1 years experience\n",
    "percentages = (Percentage1, Percentage2, Percentage3, Percentage4,)\n",
    "percentages1 = (Percentage5, Percentage6, Percentage7, Percentage8,)\n",
    "percentages2 = (Percentage9, Percentage10, Percentage11, Percentage12,)\n",
    "\n",
    "plt.plot(percentages, marker='o', linestyle='--', color='r')\n",
    "plt.title(\"Percentage of Salary Difference With Increased NFQ Level Comapared to NFQ Level 10 with 5 years experience.\")\n",
    "plt.ylabel(\"Percentage of Salary\")\n",
    "plt.show()\n",
    "\n",
    "plt.plot(percentages1, marker='o', linestyle='--', color='b')\n",
    "plt.title(\"Percentage of Salary Difference With Increased NFQ Level Comapared to NFQ Level 10 with 3 years experience.\")\n",
    "plt.ylabel(\"Percentage of Salary\")\n",
    "plt.show()\n",
    "\n",
    "plt.plot(percentages2, marker='o', linestyle='--', color='m')\n",
    "plt.title(\"Percentage of Salary Difference With Increased NFQ Level Comapared to NFQ Level 10 with 1 years experience.\")\n",
    "plt.ylabel(\"Percentage of Salary\")\n",
    "plt.show()"
   ]
  },
  {
   "cell_type": "markdown",
   "metadata": {
    "collapsed": true
   },
   "source": [
    "From the above plots we can see that the percentages of weekly wage increase of NFQ levels 6 to 9 in comparison to NFQ10 after 1, 3 and 5 years are similar. We can see a relationship and positive correlation with increasing work experience and higher NFQ levels."
   ]
  },
  {
   "cell_type": "markdown",
   "metadata": {},
   "source": [
    "## Conclusion:\n",
    "\n",
    "From this project I learned that numpy.random can be helpful when generating data to simulate a real world phenomenen. You can use different distributions to suit the variables you are investigating. Numpy.random.randint was used for this project because it was suitable for creating simulated salaries with a uniform type distribution. I learned in this case the random data could be controlled adequately without using numpy.random.seed. I also learned that numpy.random generated data could be investiagted further by converting them into pandas dataframes. The data could also be visualised with trends observed that were the same as the orginal CSO study and also similar to other studies that were referenced. Considering graduates the higher qualification and more experience you have; the higher salary you will earn.       "
   ]
  },
  {
   "cell_type": "markdown",
   "metadata": {
    "collapsed": true
   },
   "source": [
    "### References:\n",
    "\n",
    "[1] https://www.qqi.ie/Articles/Pages/National-Framework-of-Qualifications-(NFQ).aspx\n",
    "\n",
    "[2] https://trends.collegeboard.org/education-pays/figures-tables/lifetime-earnings-education-level\n",
    "\n",
    "[3] Salary Difference Between Master’s and Ph.D. Degrees https://www.wes.org/advisor-blog/salary-difference-masters-phd/\n",
    "\n",
    "[4] Social Worker Salaries https://www.humanservicesedu.org/social-work-salaries.html\n",
    "\n",
    "[5] Higher Education Outcomes pg. 66\n",
    "\n",
    "https://www.cso.ie/en/media/csoie/releasespublications/documents/education/2014/Higher_Education_Outcomes_book_-_web.pdf\n"
   ]
  },
  {
   "cell_type": "code",
   "execution_count": null,
   "metadata": {},
   "outputs": [],
   "source": []
  }
 ],
 "metadata": {
  "kernelspec": {
   "display_name": "Python 3",
   "language": "python",
   "name": "python3"
  },
  "language_info": {
   "codemirror_mode": {
    "name": "ipython",
    "version": 3
   },
   "file_extension": ".py",
   "mimetype": "text/x-python",
   "name": "python",
   "nbconvert_exporter": "python",
   "pygments_lexer": "ipython3",
   "version": "3.7.3"
  }
 },
 "nbformat": 4,
 "nbformat_minor": 2
}
