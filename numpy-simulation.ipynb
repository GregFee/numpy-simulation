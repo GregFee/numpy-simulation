{
 "cells": [
  {
   "cell_type": "markdown",
   "metadata": {},
   "source": [
    "# Numpy Simulation"
   ]
  },
  {
   "cell_type": "markdown",
   "metadata": {
    "collapsed": true
   },
   "source": [
    "## Simulation of effect of NFQ Qulaification Level on Weekly Wages over 1, 3 and 5 years since graduation\n",
    "\n",
    "#### What is NFQ Level:"
   ]
  },
  {
   "cell_type": "markdown",
   "metadata": {},
   "source": [
    "#### Original Data from CSO study figure 6.4 \n",
    "\n",
    "https://www.cso.ie/en/media/csoie/releasespublications/documents/education/2014/Higher_Education_Outcomes_book_-_web.pdf"
   ]
  },
  {
   "cell_type": "markdown",
   "metadata": {},
   "source": [
    "Add figure 6.4"
   ]
  },
  {
   "cell_type": "code",
   "execution_count": 2,
   "metadata": {
    "collapsed": true
   },
   "outputs": [],
   "source": [
    "#import libraries\n",
    "import matplotlib.pyplot as plt\n",
    "import numpy as np\n",
    "import pylab\n",
    "Polynomial = np.polynomial.Polynomial\n",
    "import matplotlib.patches as mpatches\n",
    "import pandas as pd"
   ]
  },
  {
   "cell_type": "code",
   "execution_count": 8,
   "metadata": {},
   "outputs": [
    {
     "name": "stdout",
     "output_type": "stream",
     "text": [
      "Salaries Year1 NFQ6 [[247 248 242 243 248]\n",
      " [243 240 242 248 245]\n",
      " [241 248 248 243 249]\n",
      " [246 242 249 241 245]\n",
      " [248 245 249 244 242]\n",
      " [241 243 245 244 248]\n",
      " [241 243 243 243 240]\n",
      " [247 245 242 243 241]\n",
      " [249 242 249 249 248]\n",
      " [240 243 246 241 246]\n",
      " [247 249 240 249 249]\n",
      " [249 241 244 245 244]\n",
      " [240 249 240 247 242]\n",
      " [246 243 246 240 242]\n",
      " [249 242 242 242 247]\n",
      " [246 243 246 245 246]\n",
      " [249 246 244 244 246]\n",
      " [245 246 240 242 240]\n",
      " [247 243 241 245 240]\n",
      " [245 244 240 246 249]]\n",
      "Salaries Year3 NFQ6 [[358 368 350 359 355]\n",
      " [361 355 359 368 359]\n",
      " [359 350 353 354 359]\n",
      " [365 365 368 359 351]\n",
      " [367 355 359 353 356]\n",
      " [356 353 350 365 357]\n",
      " [356 352 357 368 367]\n",
      " [355 351 360 356 354]\n",
      " [353 354 350 363 366]\n",
      " [360 365 364 358 369]\n",
      " [357 366 367 365 363]\n",
      " [358 365 350 351 362]\n",
      " [351 352 361 369 356]\n",
      " [358 359 361 353 360]\n",
      " [368 350 363 362 366]\n",
      " [355 359 359 351 364]\n",
      " [364 366 364 361 361]\n",
      " [367 362 363 362 358]\n",
      " [360 358 352 368 362]\n",
      " [362 360 358 353 367]]\n",
      "Salries Year5 NFQ5 [[473 479 473 479 471]\n",
      " [472 471 475 476 474]\n",
      " [470 473 477 479 474]\n",
      " [478 470 477 479 479]\n",
      " [475 473 470 478 475]\n",
      " [475 470 471 478 475]\n",
      " [478 471 472 479 478]\n",
      " [470 478 475 472 470]\n",
      " [474 478 477 472 477]\n",
      " [474 473 472 479 471]\n",
      " [477 474 472 475 472]\n",
      " [477 470 473 477 479]\n",
      " [479 477 475 478 477]\n",
      " [478 479 479 473 473]\n",
      " [470 476 472 475 470]\n",
      " [471 473 478 472 476]\n",
      " [477 475 477 475 478]\n",
      " [471 475 478 477 473]\n",
      " [471 474 472 476 471]\n",
      " [473 478 476 472 475]]\n"
     ]
    }
   ],
   "source": [
    "#NFQ Level 6 and weekly salary after 1, 3, 5 years, use randint that has discrete uniform distribution. 100 Datapoints\n",
    "\n",
    "#100 samples looking to simulate mean value of 245\n",
    "NFQ6_1 = np.random.randint(240,250,(20,5))\n",
    "print('Salaries Year1 NFQ6', NFQ6_1)\n",
    "\n",
    "#100 samples looking to simulate mean value of 360\n",
    "NFQ6_3 = np.random.randint(350,370,(20,5))\n",
    "print('Salaries Year3 NFQ6', NFQ6_3)\n",
    "\n",
    "#100 samples looking to simulate mean value of 475\n",
    "NFQ6_5 = np.random.randint(470,480,(20,5))\n",
    "print('Salries Year5 NFQ5', NFQ6_5)"
   ]
  },
  {
   "cell_type": "code",
   "execution_count": null,
   "metadata": {
    "collapsed": true
   },
   "outputs": [],
   "source": []
  }
 ],
 "metadata": {
  "kernelspec": {
   "display_name": "Python 3",
   "language": "python",
   "name": "python3"
  },
  "language_info": {
   "codemirror_mode": {
    "name": "ipython",
    "version": 3
   },
   "file_extension": ".py",
   "mimetype": "text/x-python",
   "name": "python",
   "nbconvert_exporter": "python",
   "pygments_lexer": "ipython3",
   "version": "3.6.3"
  }
 },
 "nbformat": 4,
 "nbformat_minor": 2
}
