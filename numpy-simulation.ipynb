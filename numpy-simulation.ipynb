{
 "cells": [
  {
   "cell_type": "markdown",
   "metadata": {},
   "source": [
    "# Numpy Simulation of the Effect of NFQ Levels on Weekly Salary"
   ]
  },
  {
   "cell_type": "markdown",
   "metadata": {},
   "source": [
    "![title](img/nfq.png)"
   ]
  },
  {
   "cell_type": "markdown",
   "metadata": {
    "collapsed": true
   },
   "source": [
    "#### What is NFQ Level:\n",
    "\n",
    "The National Framework of Qualifications describe the qualification and of the education and training system in Ireland and how they interlink [1]. The levels are organised by hierachy. The levels considered here were from level 6 to level 10 which is advanced certificate through to doctoral degree level. The data was measured at 3 intervals which were one year, three years and five years after receiving the qualification and the weekly wages received at this time by graduates"
   ]
  },
  {
   "cell_type": "markdown",
   "metadata": {},
   "source": [
    "![title](img/cso.png)\n",
    "\n",
    "The simulation is based on generating the data this graphical image represents. There is no access to the raw data and the data is simulated to obtain the results of the this part of the study. The overall study was an investigation into Higher Eduaction \n",
    "Outcomes of graduates by the Central Statistics Office. It is visually apparent from figure 6.4 that the higher the qualification the higher the weekly wage is obtained.\n",
    "\n",
    "https://www.cso.ie/en/media/csoie/releasespublications/documents/education/2014/Higher_Education_Outcomes_book_-_web.pdf"
   ]
  },
  {
   "cell_type": "markdown",
   "metadata": {},
   "source": [
    "### Other Areas of Study Showing Levels of Qualifications Relationship With Salary\n",
    "\n",
    "In data from the U.S census found that those with Bacheloers Degree(NFQ Level 8) earned 66% more than those just with just a highschool graduation and this increases with 97% with a Master Degree [2]. This increases with the more qualification is advanced. There is definetly positive correlation with qulaification level and salary \n"
   ]
  },
  {
   "cell_type": "code",
   "execution_count": 2,
   "metadata": {
    "collapsed": true
   },
   "outputs": [],
   "source": [
    "#import libraries\n",
    "import matplotlib.pyplot as plt\n",
    "import numpy as np\n",
    "import pylab\n",
    "Polynomial = np.polynomial.Polynomial\n",
    "import matplotlib.patches as mpatches\n",
    "import pandas as pd"
   ]
  },
  {
   "cell_type": "code",
   "execution_count": 3,
   "metadata": {
    "collapsed": true
   },
   "outputs": [],
   "source": [
    "#assign value for years after graduation \n",
    "y1 = 1\n",
    "y2 = 3\n",
    "y3 = 5"
   ]
  },
  {
   "cell_type": "code",
   "execution_count": 4,
   "metadata": {},
   "outputs": [
    {
     "name": "stdout",
     "output_type": "stream",
     "text": [
      "Salaries Year1 NFQ6 [[248 246 246 243 247]\n",
      " [247 243 246 248 240]\n",
      " [242 240 243 242 240]\n",
      " [244 245 249 247 244]\n",
      " [246 246 243 245 243]\n",
      " [244 249 245 244 243]\n",
      " [249 249 240 242 249]\n",
      " [243 245 241 248 245]\n",
      " [248 240 249 243 245]\n",
      " [242 248 244 240 240]\n",
      " [244 241 247 245 241]\n",
      " [246 246 244 240 240]\n",
      " [246 249 247 248 242]\n",
      " [242 249 242 243 243]\n",
      " [247 247 240 245 245]\n",
      " [242 243 245 241 242]\n",
      " [249 242 243 246 249]\n",
      " [243 240 248 246 244]\n",
      " [245 240 248 248 240]\n",
      " [246 245 243 246 248]]\n",
      "Salaries Year3 NFQ6 [[366 358 350 350 363]\n",
      " [368 363 358 369 357]\n",
      " [367 363 369 358 363]\n",
      " [358 356 353 369 359]\n",
      " [361 366 350 358 355]\n",
      " [351 361 355 352 357]\n",
      " [358 368 350 350 353]\n",
      " [364 364 355 361 363]\n",
      " [367 364 357 355 356]\n",
      " [358 368 354 360 369]\n",
      " [368 356 367 364 353]\n",
      " [354 362 368 360 362]\n",
      " [357 363 351 368 364]\n",
      " [360 359 366 358 351]\n",
      " [368 356 351 363 362]\n",
      " [359 353 360 359 353]\n",
      " [358 367 357 367 368]\n",
      " [360 358 350 363 362]\n",
      " [358 356 367 369 361]\n",
      " [361 354 363 368 352]]\n",
      "Salries Year5 NFQ5 [[472 476 479 476 471]\n",
      " [477 470 473 476 472]\n",
      " [472 474 470 470 470]\n",
      " [475 472 471 473 471]\n",
      " [476 475 478 478 476]\n",
      " [478 477 472 471 474]\n",
      " [476 479 473 475 472]\n",
      " [471 470 472 470 471]\n",
      " [473 479 473 472 475]\n",
      " [473 474 475 471 474]\n",
      " [478 473 473 473 472]\n",
      " [475 479 471 473 471]\n",
      " [475 478 476 476 477]\n",
      " [473 474 476 472 478]\n",
      " [477 472 471 474 477]\n",
      " [478 477 472 477 477]\n",
      " [474 472 470 472 477]\n",
      " [471 473 473 470 470]\n",
      " [478 472 472 473 474]\n",
      " [479 472 479 470 473]]\n"
     ]
    }
   ],
   "source": [
    "#NFQ Level 6 and weekly salary after 1, 3, 5 years, use randint that has discrete uniform distribution. 100 Datapoints\n",
    "\n",
    "#100 samples looking to simulate mean value of 245\n",
    "NFQ6_1 = np.random.randint(240,250,(20,5))\n",
    "print('Salaries Year1 NFQ6', NFQ6_1)\n",
    "\n",
    "#100 samples looking to simulate mean value of 360\n",
    "NFQ6_3 = np.random.randint(350,370,(20,5))\n",
    "print('Salaries Year3 NFQ6', NFQ6_3)\n",
    "\n",
    "#100 samples looking to simulate mean value of 475\n",
    "NFQ6_5 = np.random.randint(470,480,(20,5))\n",
    "print('Salries Year5 NFQ5', NFQ6_5)"
   ]
  },
  {
   "cell_type": "code",
   "execution_count": 5,
   "metadata": {},
   "outputs": [
    {
     "name": "stdout",
     "output_type": "stream",
     "text": [
      "Salaries Year1 NFQ7 [[287 292 296 299 283]\n",
      " [297 295 295 283 295]\n",
      " [285 287 284 293 291]\n",
      " [297 280 286 290 299]\n",
      " [297 283 280 287 294]\n",
      " [291 289 297 297 290]\n",
      " [283 297 290 282 280]\n",
      " [280 281 292 298 294]\n",
      " [285 293 281 286 283]\n",
      " [285 299 282 284 297]\n",
      " [283 294 289 297 297]\n",
      " [290 291 285 296 291]\n",
      " [281 286 282 286 286]\n",
      " [289 297 286 297 295]\n",
      " [297 288 298 286 289]\n",
      " [280 289 293 298 282]\n",
      " [298 294 287 297 288]\n",
      " [299 299 280 282 284]\n",
      " [290 299 298 283 298]\n",
      " [282 296 287 294 282]]\n",
      "Salaries Year3 NFQ7 [[418 429 423 419 420]\n",
      " [427 416 423 419 417]\n",
      " [418 422 429 415 415]\n",
      " [419 418 411 426 423]\n",
      " [411 411 427 422 420]\n",
      " [421 413 418 411 416]\n",
      " [417 427 426 422 418]\n",
      " [422 421 422 428 416]\n",
      " [423 429 420 422 426]\n",
      " [423 426 412 423 429]\n",
      " [426 413 421 427 419]\n",
      " [420 421 412 428 423]\n",
      " [411 424 427 422 420]\n",
      " [413 416 419 422 420]\n",
      " [425 419 425 416 410]\n",
      " [428 423 426 413 419]\n",
      " [422 422 417 415 415]\n",
      " [415 420 420 417 426]\n",
      " [421 423 410 418 424]\n",
      " [427 426 428 426 422]]\n",
      "Salaries Year5 NFQ7 [[533 525 527 533 532]\n",
      " [532 534 519 528 531]\n",
      " [519 523 527 526 525]\n",
      " [530 530 516 526 525]\n",
      " [522 534 517 527 517]\n",
      " [530 519 531 528 520]\n",
      " [530 522 522 534 518]\n",
      " [530 521 521 515 518]\n",
      " [524 517 531 523 526]\n",
      " [527 525 516 534 516]\n",
      " [516 516 519 519 519]\n",
      " [530 518 523 529 522]\n",
      " [522 523 531 524 523]\n",
      " [526 516 533 521 531]\n",
      " [518 527 520 534 530]\n",
      " [528 532 529 534 515]\n",
      " [532 520 532 515 521]\n",
      " [518 529 515 523 521]\n",
      " [529 515 518 515 516]\n",
      " [517 521 520 529 520]]\n"
     ]
    }
   ],
   "source": [
    "#NFQ Level 7 and weekly salary after 1, 3, 5 years, use randint that has discrete uniform distribution. 100 Datapoints\n",
    "\n",
    "#100 samples looking to simulate mean value of 290\n",
    "NFQ7_1 = np.random.randint(280,300,(20,5))\n",
    "print('Salaries Year1 NFQ7', NFQ7_1)\n",
    "\n",
    "#100 samples looking to simulate mean value of 420\n",
    "NFQ7_3 = np.random.randint(410,430,(20,5))\n",
    "print('Salaries Year3 NFQ7', NFQ7_3)\n",
    "\n",
    "#100 samples looking to simulate mean value of 525\n",
    "NFQ7_5 = np.random.randint(515,535,(20,5))\n",
    "print('Salaries Year5 NFQ7', NFQ7_5)"
   ]
  },
  {
   "cell_type": "code",
   "execution_count": 6,
   "metadata": {},
   "outputs": [
    {
     "name": "stdout",
     "output_type": "stream",
     "text": [
      "Salaries Year1 NFQ8 [[424 416 430 428 423]\n",
      " [418 430 433 416 433]\n",
      " [423 433 432 418 432]\n",
      " [427 429 427 416 429]\n",
      " [427 431 419 421 434]\n",
      " [416 430 426 424 416]\n",
      " [425 429 426 420 416]\n",
      " [415 415 421 433 422]\n",
      " [427 431 426 432 416]\n",
      " [420 423 427 418 415]\n",
      " [426 429 418 428 415]\n",
      " [416 431 416 426 432]\n",
      " [434 424 423 428 422]\n",
      " [433 425 430 416 415]\n",
      " [426 427 433 416 422]\n",
      " [427 418 418 425 434]\n",
      " [423 432 418 420 423]\n",
      " [429 427 427 434 416]\n",
      " [433 427 420 430 415]\n",
      " [417 433 417 418 420]]\n",
      "Salaries Year3 NFQ8 [[544 538 544 537 540]\n",
      " [528 527 533 535 528]\n",
      " [544 544 540 539 543]\n",
      " [533 525 528 537 543]\n",
      " [525 528 529 532 525]\n",
      " [528 534 538 533 536]\n",
      " [537 538 525 539 534]\n",
      " [542 542 544 525 541]\n",
      " [525 531 533 542 544]\n",
      " [530 533 529 538 539]\n",
      " [544 530 535 536 535]\n",
      " [527 525 537 525 542]\n",
      " [539 536 532 535 539]\n",
      " [525 542 539 537 526]\n",
      " [529 540 543 533 543]\n",
      " [532 525 542 533 535]\n",
      " [537 541 527 533 526]\n",
      " [540 544 542 542 543]\n",
      " [527 532 540 533 532]\n",
      " [526 525 531 527 528]]\n",
      "Salaries Year5 NFQ8 [[659 645 648 653 653]\n",
      " [647 643 652 655 649]\n",
      " [644 644 650 650 649]\n",
      " [646 644 657 657 645]\n",
      " [655 641 643 654 651]\n",
      " [655 657 641 642 642]\n",
      " [657 646 644 646 650]\n",
      " [644 648 646 641 643]\n",
      " [647 650 657 656 641]\n",
      " [644 640 649 650 644]\n",
      " [656 645 655 642 647]\n",
      " [650 644 648 656 651]\n",
      " [656 650 643 655 659]\n",
      " [649 650 653 646 641]\n",
      " [644 649 654 655 649]\n",
      " [643 644 649 656 650]\n",
      " [657 649 650 651 642]\n",
      " [650 653 645 656 650]\n",
      " [645 655 649 642 641]\n",
      " [649 653 645 646 655]]\n"
     ]
    }
   ],
   "source": [
    "#NFQ Level 8 and weekly salary after 1, 3, 5 years, use randint that has discrete uniform distribution. 100 Datapoints\n",
    "\n",
    "#100 samples looking to simulate mean value of 425\n",
    "NFQ8_1 = np.random.randint(415,435,(20,5))\n",
    "print('Salaries Year1 NFQ8', NFQ8_1)\n",
    "\n",
    "#100 samples looking to simulate mean value of 535\n",
    "NFQ8_3 = np.random.randint(525,545,(20,5))\n",
    "print('Salaries Year3 NFQ8', NFQ8_3)\n",
    "\n",
    "#100 samples looking to simulate mean value of 650\n",
    "NFQ8_5 = np.random.randint(640,660,(20,5))\n",
    "print('Salaries Year5 NFQ8', NFQ8_5)"
   ]
  },
  {
   "cell_type": "code",
   "execution_count": 7,
   "metadata": {},
   "outputs": [
    {
     "name": "stdout",
     "output_type": "stream",
     "text": [
      "Salaries Year1 NFQ9 [[519 509 517 515 502]\n",
      " [510 501 517 509 514]\n",
      " [508 508 502 506 507]\n",
      " [510 519 502 511 512]\n",
      " [505 500 511 515 502]\n",
      " [516 503 517 515 512]\n",
      " [516 508 505 507 515]\n",
      " [508 517 511 505 510]\n",
      " [507 519 516 509 519]\n",
      " [505 516 517 511 504]\n",
      " [507 509 503 502 513]\n",
      " [506 509 508 503 510]\n",
      " [511 511 511 511 507]\n",
      " [504 516 518 517 516]\n",
      " [514 509 516 510 504]\n",
      " [504 514 518 502 507]\n",
      " [518 505 507 510 508]\n",
      " [508 506 509 519 518]\n",
      " [518 500 506 501 519]\n",
      " [510 511 515 513 516]]\n",
      "Salaries Year3 NFQ9 [[637 620 627 636 622]\n",
      " [627 627 637 628 635]\n",
      " [635 620 630 639 627]\n",
      " [639 626 623 638 633]\n",
      " [624 628 635 620 631]\n",
      " [622 638 635 626 622]\n",
      " [633 622 635 629 622]\n",
      " [625 623 622 634 628]\n",
      " [635 621 623 626 622]\n",
      " [629 622 627 624 627]\n",
      " [637 638 626 639 637]\n",
      " [636 622 637 623 625]\n",
      " [627 624 625 628 620]\n",
      " [620 634 636 623 626]\n",
      " [639 623 626 639 637]\n",
      " [620 632 633 628 621]\n",
      " [627 627 638 628 636]\n",
      " [626 626 621 624 630]\n",
      " [630 625 629 622 630]\n",
      " [636 634 638 637 627]]\n",
      "Salaries Year5 NFQ9 [[744 733 736 749 731]\n",
      " [730 747 735 741 743]\n",
      " [743 735 733 742 739]\n",
      " [738 738 732 731 749]\n",
      " [747 748 736 731 735]\n",
      " [743 740 738 748 731]\n",
      " [735 739 734 744 742]\n",
      " [744 733 741 747 737]\n",
      " [749 739 748 747 742]\n",
      " [741 747 741 732 738]\n",
      " [735 736 749 739 744]\n",
      " [742 733 740 737 730]\n",
      " [736 744 733 749 749]\n",
      " [743 745 737 735 749]\n",
      " [742 738 742 748 745]\n",
      " [741 738 743 747 742]\n",
      " [739 742 731 735 734]\n",
      " [741 732 747 747 737]\n",
      " [736 749 749 739 737]\n",
      " [746 742 744 735 743]]\n"
     ]
    }
   ],
   "source": [
    "#NFQ Level 9 and weekly salary after 1, 3, 5 years, use randint that has discrete uniform distribution. 100 Datapoints\n",
    "\n",
    "#100 samples looking to simulate mean value of 510\n",
    "NFQ9_1 = np.random.randint(500,520,(20,5))\n",
    "print('Salaries Year1 NFQ9', NFQ9_1)\n",
    "\n",
    "#100 samples looking to simulate mean value of 630\n",
    "NFQ9_3 = np.random.randint(620,640,(20,5))\n",
    "print('Salaries Year3 NFQ9', NFQ9_3)\n",
    "\n",
    "#100 samples looking to simulate mean value of 740\n",
    "NFQ9_5 = np.random.randint(730,750,(20,5))\n",
    "print('Salaries Year5 NFQ9', NFQ9_5)"
   ]
  },
  {
   "cell_type": "code",
   "execution_count": 8,
   "metadata": {},
   "outputs": [
    {
     "name": "stdout",
     "output_type": "stream",
     "text": [
      "Salaries Year1 NFQ10 [[709 708 714 712 713]\n",
      " [713 707 713 711 699]\n",
      " [698 700 707 705 698]\n",
      " [700 701 695 714 710]\n",
      " [704 701 707 704 714]\n",
      " [698 704 697 708 714]\n",
      " [713 708 700 699 703]\n",
      " [700 699 703 707 707]\n",
      " [710 703 710 699 706]\n",
      " [708 706 707 697 712]\n",
      " [711 712 702 708 708]\n",
      " [703 709 707 701 709]\n",
      " [700 710 709 704 698]\n",
      " [705 699 697 703 696]\n",
      " [697 699 696 701 706]\n",
      " [699 702 709 710 697]\n",
      " [695 708 696 699 697]\n",
      " [701 704 711 697 709]\n",
      " [697 709 696 695 702]\n",
      " [709 713 700 712 710]]\n",
      "Salaries Year3 NFQ10 [[803 802 803 804 795]\n",
      " [805 800 811 803 798]\n",
      " [807 811 796 796 798]\n",
      " [806 806 798 812 812]\n",
      " [796 803 798 797 807]\n",
      " [814 801 798 804 799]\n",
      " [814 797 803 798 812]\n",
      " [806 799 807 797 799]\n",
      " [811 800 804 802 814]\n",
      " [808 810 813 811 797]\n",
      " [806 795 811 807 796]\n",
      " [797 805 800 813 812]\n",
      " [809 802 795 802 809]\n",
      " [813 806 802 802 814]\n",
      " [795 810 808 799 804]\n",
      " [810 806 806 796 807]\n",
      " [801 805 795 805 801]\n",
      " [804 809 804 803 795]\n",
      " [814 795 799 798 801]\n",
      " [814 807 807 812 809]]\n",
      "Salaries Year5 NFQ10 [[927 911 911 911 922]\n",
      " [919 917 922 910 916]\n",
      " [916 919 913 926 922]\n",
      " [911 927 920 915 924]\n",
      " [924 928 927 913 918]\n",
      " [911 917 913 911 920]\n",
      " [910 921 919 914 928]\n",
      " [926 923 927 920 928]\n",
      " [918 922 920 917 922]\n",
      " [923 922 920 922 919]\n",
      " [925 911 912 919 919]\n",
      " [926 918 921 912 910]\n",
      " [911 923 918 912 915]\n",
      " [922 923 924 921 921]\n",
      " [912 916 921 910 920]\n",
      " [928 923 918 922 910]\n",
      " [924 915 927 927 925]\n",
      " [918 926 924 917 922]\n",
      " [917 917 911 914 925]\n",
      " [914 928 923 918 920]]\n"
     ]
    }
   ],
   "source": [
    "#NFQ Level 10 and weekly salary after 1, 3, 5 years, use randint that has discrete uniform distribution. 100 Datapoints\n",
    "\n",
    "#100 samples looking to simulate mean value of 705\n",
    "NFQ10_1 = np.random.randint(695,715,(20,5))\n",
    "print('Salaries Year1 NFQ10', NFQ10_1)\n",
    "\n",
    "#100 samples looking to simulate mean value of 805\n",
    "NFQ10_3 = np.random.randint(795,815,(20,5))\n",
    "print('Salaries Year3 NFQ10', NFQ10_3)\n",
    "\n",
    "#100 samples looking to simulate mean value of 920\n",
    "NFQ10_5 = np.random.randint(910,930,(20,5))\n",
    "print('Salaries Year5 NFQ10', NFQ10_5)"
   ]
  },
  {
   "cell_type": "markdown",
   "metadata": {},
   "source": [
    "### Calculate mean values for all NFQ Levels to see if similar to Figure 6.4"
   ]
  },
  {
   "cell_type": "code",
   "execution_count": 9,
   "metadata": {},
   "outputs": [
    {
     "name": "stdout",
     "output_type": "stream",
     "text": [
      "Mean weekly wage of NFQ6 after 1 year is 244.49\n",
      "Mean weekly wage of NFQ6 after 3 years is 359.91\n",
      "Mean weekly wage of NFQ6 after 5 years is 473.92\n"
     ]
    }
   ],
   "source": [
    "#Calculate mean of weekly salaries for each qualification after 1, 3, 5 years after graduation\n",
    "\n",
    "#NFQ level 6 after 1 year\n",
    "x1 = np.mean(NFQ6_1)\n",
    "print('Mean weekly wage of NFQ6 after 1 year is', x1)\n",
    "\n",
    "#NFQ level 6 after 3 years\n",
    "x2 = np.mean(NFQ6_3)\n",
    "print('Mean weekly wage of NFQ6 after 3 years is', x2)\n",
    "\n",
    "#NFQ level 6 after 5 years\n",
    "x3 = np.mean(NFQ6_5)\n",
    "print('Mean weekly wage of NFQ6 after 5 years is', x3)"
   ]
  },
  {
   "cell_type": "code",
   "execution_count": 10,
   "metadata": {},
   "outputs": [
    {
     "name": "stdout",
     "output_type": "stream",
     "text": [
      "Mean weekly wage of NFQ7 after 1 year is 289.86\n",
      "Mean weekly wage of NFQ7 after 3 years is 420.51\n",
      "Mean weekly wage of NFQ7 after 5 years is 524.1\n"
     ]
    }
   ],
   "source": [
    "#NFQ level 7 after 1 year\n",
    "x4 = np.mean(NFQ7_1)\n",
    "print('Mean weekly wage of NFQ7 after 1 year is', x4)\n",
    "\n",
    "#NFQ level 7 after 3 years\n",
    "x5 = np.mean(NFQ7_3)\n",
    "print('Mean weekly wage of NFQ7 after 3 years is', x5)\n",
    "\n",
    "#NFQ level 7 after 5 years\n",
    "x6 = np.mean(NFQ7_5)\n",
    "print('Mean weekly wage of NFQ7 after 5 years is', x6)"
   ]
  },
  {
   "cell_type": "code",
   "execution_count": 11,
   "metadata": {},
   "outputs": [
    {
     "name": "stdout",
     "output_type": "stream",
     "text": [
      "Mean weekly wage of NFQ8 after 1 year is 424.3\n",
      "Mean weekly wage of NFQ8 after 3 years is 534.66\n",
      "Mean weekly wage of NFQ8 after 5 years is 648.86\n"
     ]
    }
   ],
   "source": [
    "#NFQ level 8 after 1 year\n",
    "x7 = np.mean(NFQ8_1)\n",
    "print('Mean weekly wage of NFQ8 after 1 year is', x7)\n",
    "\n",
    "#NFQ level 8 after 3 years\n",
    "x8 = np.mean(NFQ8_3)\n",
    "print('Mean weekly wage of NFQ8 after 3 years is', x8)\n",
    "\n",
    "#NFQ level 8 after 5 years\n",
    "x9 = np.mean(NFQ8_5)\n",
    "print('Mean weekly wage of NFQ8 after 5 years is', x9)"
   ]
  },
  {
   "cell_type": "code",
   "execution_count": 12,
   "metadata": {},
   "outputs": [
    {
     "name": "stdout",
     "output_type": "stream",
     "text": [
      "Mean weekly wage of NFQ9 after 1 year is 510.26\n",
      "Mean weekly wage of NFQ9 after 3 years is 628.88\n",
      "Mean weekly wage of NFQ9 after 5 years is 740.22\n"
     ]
    }
   ],
   "source": [
    "#NFQ level 9 after 1 year\n",
    "x10 = np.mean(NFQ9_1)\n",
    "print('Mean weekly wage of NFQ9 after 1 year is', x10)\n",
    "\n",
    "#NFQ level 9 after 3 years\n",
    "x11 = np.mean(NFQ9_3)\n",
    "print('Mean weekly wage of NFQ9 after 3 years is', x11)\n",
    "\n",
    "#NFQ level 9 after 5 years\n",
    "x12 = np.mean(NFQ9_5)\n",
    "print('Mean weekly wage of NFQ9 after 5 years is', x12)"
   ]
  },
  {
   "cell_type": "code",
   "execution_count": 13,
   "metadata": {},
   "outputs": [
    {
     "name": "stdout",
     "output_type": "stream",
     "text": [
      "Mean weekly wage of NFQ10 after 1 year is 704.42\n",
      "Mean weekly wage of NFQ10 after 3 years is 804.0\n",
      "Mean weekly wage of NFQ10 after 5 years is 919.17\n"
     ]
    }
   ],
   "source": [
    "#NFQ level 10 after 1 year\n",
    "x13 = np.mean(NFQ10_1)\n",
    "print('Mean weekly wage of NFQ10 after 1 year is', x13)\n",
    "\n",
    "#NFQ level 10 after 3 years\n",
    "x14 = np.mean(NFQ10_3)\n",
    "print('Mean weekly wage of NFQ10 after 3 years is', x14)\n",
    "\n",
    "#NFQ level 10 after 5 years\n",
    "x15 = np.mean(NFQ10_5)\n",
    "print('Mean weekly wage of NFQ10 after 5 years is', x15)"
   ]
  },
  {
   "cell_type": "code",
   "execution_count": 14,
   "metadata": {},
   "outputs": [
    {
     "data": {
      "image/png": "[encoded data removed]",
      "text/plain": [
       "<matplotlib.figure.Figure at 0x225fdf80278>"
      ]
     },
     "metadata": {},
     "output_type": "display_data"
    }
   ],
   "source": [
    "#Plotting simulated data to see if result is similar to the image 6.4 above.\n",
    "fig, ax = plt.subplots()\n",
    "ax.plot(y1, x1, 'go')\n",
    "ax.plot(y2, x2, 'go')\n",
    "ax.plot(y3, x3, 'go')\n",
    "ax.plot(y1, x4, 'ko')\n",
    "ax.plot(y2, x5, 'ko')\n",
    "ax.plot(y3, x6, 'ko')\n",
    "ax.plot(y1, x7, 'bo')\n",
    "ax.plot(y2, x8, 'bo')\n",
    "ax.plot(y3, x9, 'bo')\n",
    "ax.plot(y1, x10, 'ro')\n",
    "ax.plot(y2, x11, 'ro')\n",
    "ax.plot(y3, x12, 'ro')\n",
    "ax.plot(y1, x13, 'yo')\n",
    "ax.plot(y2, x14, 'yo')\n",
    "ax.plot(y3, x15, 'yo')\n",
    "ax.set(xlabel='Years since Graduation', ylabel='wages per week(Euros)',\n",
    "       title='Weekly Salary and NFQ Levels')\n",
    "ax.grid()\n",
    "plt.show()"
   ]
  },
  {
   "cell_type": "code",
   "execution_count": 15,
   "metadata": {},
   "outputs": [
    {
     "name": "stdout",
     "output_type": "stream",
     "text": [
      "Wage difference from NFQ10 & NFQ6 5 years after graduation is € 445.25\n",
      "Wage difference from NFQ10 & NFQ7 5 years after graduation is € 395.07\n",
      "Wage difference from NFQ10 & NFQ8 5 years after graduation is € 270.31\n",
      "Wage difference from NFQ10 & NFQ9 5 years after graduation is € 178.95\n"
     ]
    }
   ],
   "source": [
    "#Calculate wage differnecs between all NFQ levels after 5 years.\n",
    "range1  = x15 -x3\n",
    "print('Wage difference from NFQ10 & NFQ6 5 years after graduation is €', range1)\n",
    "\n",
    "range2 = x15 - x6\n",
    "print('Wage difference from NFQ10 & NFQ7 5 years after graduation is €', range2)\n",
    "\n",
    "range3 = x15 - x9\n",
    "print('Wage difference from NFQ10 & NFQ8 5 years after graduation is €', range3)\n",
    "\n",
    "range4 = x15 - x12\n",
    "print('Wage difference from NFQ10 & NFQ9 5 years after graduation is €', range4)"
   ]
  },
  {
   "cell_type": "markdown",
   "metadata": {},
   "source": [
    "#### From the above data showing the ranges of wages we can see that the discrepency of wage level decreases with higher NFQ level. This is the expected result."
   ]
  },
  {
   "cell_type": "code",
   "execution_count": 16,
   "metadata": {},
   "outputs": [
    {
     "name": "stdout",
     "output_type": "stream",
     "text": [
      "      0    1    2    3    4\n",
      "0   248  246  246  243  247\n",
      "1   247  243  246  248  240\n",
      "2   242  240  243  242  240\n",
      "3   244  245  249  247  244\n",
      "4   246  246  243  245  243\n",
      "5   244  249  245  244  243\n",
      "6   249  249  240  242  249\n",
      "7   243  245  241  248  245\n",
      "8   248  240  249  243  245\n",
      "9   242  248  244  240  240\n",
      "10  244  241  247  245  241\n",
      "11  246  246  244  240  240\n",
      "12  246  249  247  248  242\n",
      "13  242  249  242  243  243\n",
      "14  247  247  240  245  245\n",
      "15  242  243  245  241  242\n",
      "16  249  242  243  246  249\n",
      "17  243  240  248  246  244\n",
      "18  245  240  248  248  240\n",
      "19  246  245  243  246  248\n",
      "      0    1    2    3    4\n",
      "0   366  358  350  350  363\n",
      "1   368  363  358  369  357\n",
      "2   367  363  369  358  363\n",
      "3   358  356  353  369  359\n",
      "4   361  366  350  358  355\n",
      "5   351  361  355  352  357\n",
      "6   358  368  350  350  353\n",
      "7   364  364  355  361  363\n",
      "8   367  364  357  355  356\n",
      "9   358  368  354  360  369\n",
      "10  368  356  367  364  353\n",
      "11  354  362  368  360  362\n",
      "12  357  363  351  368  364\n",
      "13  360  359  366  358  351\n",
      "14  368  356  351  363  362\n",
      "15  359  353  360  359  353\n",
      "16  358  367  357  367  368\n",
      "17  360  358  350  363  362\n",
      "18  358  356  367  369  361\n",
      "19  361  354  363  368  352\n",
      "      0    1    2    3    4\n",
      "0   472  476  479  476  471\n",
      "1   477  470  473  476  472\n",
      "2   472  474  470  470  470\n",
      "3   475  472  471  473  471\n",
      "4   476  475  478  478  476\n",
      "5   478  477  472  471  474\n",
      "6   476  479  473  475  472\n",
      "7   471  470  472  470  471\n",
      "8   473  479  473  472  475\n",
      "9   473  474  475  471  474\n",
      "10  478  473  473  473  472\n",
      "11  475  479  471  473  471\n",
      "12  475  478  476  476  477\n",
      "13  473  474  476  472  478\n",
      "14  477  472  471  474  477\n",
      "15  478  477  472  477  477\n",
      "16  474  472  470  472  477\n",
      "17  471  473  473  470  470\n",
      "18  478  472  472  473  474\n",
      "19  479  472  479  470  473\n"
     ]
    }
   ],
   "source": [
    "#Make dataframe for NFQ6 and look at data\n",
    "df = pd.DataFrame(NFQ6_1)\n",
    "df1 = pd.DataFrame(NFQ6_3)\n",
    "df2 = pd.DataFrame(NFQ6_5)\n",
    "print(df.head(20))\n",
    "print(df1.head(20))\n",
    "print(df2.head(20))"
   ]
  },
  {
   "cell_type": "code",
   "execution_count": 17,
   "metadata": {},
   "outputs": [
    {
     "name": "stdout",
     "output_type": "stream",
     "text": [
      "                0           1           2           3           4\n",
      "count   60.000000   60.000000   60.000000   60.000000   60.000000\n",
      "mean   360.416667  359.933333  358.550000  359.550000  358.750000\n",
      "std     94.712284   94.659938   94.304847   94.208284   94.806784\n",
      "min    242.000000  240.000000  240.000000  240.000000  240.000000\n",
      "25%    247.000000  247.750000  247.000000  246.750000  245.000000\n",
      "50%    360.000000  361.500000  356.000000  360.500000  360.000000\n",
      "75%    473.000000  472.000000  471.250000  471.000000  471.000000\n",
      "max    479.000000  479.000000  479.000000  478.000000  478.000000\n",
      "                0           1           2           3          4\n",
      "count   60.000000   60.000000   60.000000   60.000000   60.00000\n",
      "mean   411.600000  411.916667  410.850000  412.383333  410.70000\n",
      "std     97.878029   95.854991   97.171494   97.142930   96.04824\n",
      "min    280.000000  280.000000  280.000000  282.000000  280.00000\n",
      "25%    297.000000  296.750000  294.500000  297.000000  295.00000\n",
      "50%    421.000000  421.500000  421.500000  422.000000  420.00000\n",
      "75%    519.750000  518.250000  518.250000  521.500000  518.00000\n",
      "max    533.000000  534.000000  533.000000  534.000000  532.00000\n",
      "                0           1           2           3           4\n",
      "count   60.000000   60.000000   60.000000   60.000000   60.000000\n",
      "mean   535.750000  536.166667  536.266667  536.116667  535.400000\n",
      "std     93.072347   90.964170   92.606671   93.663677   92.885422\n",
      "min    415.000000  415.000000  416.000000  416.000000  415.000000\n",
      "25%    427.000000  431.000000  429.250000  428.000000  431.250000\n",
      "50%    531.000000  533.500000  536.000000  535.000000  537.500000\n",
      "75%    644.250000  644.000000  645.000000  646.000000  642.250000\n",
      "max    659.000000  657.000000  657.000000  657.000000  659.000000\n",
      "                0           1           2           3           4\n",
      "count   60.000000   60.000000   60.000000   60.000000   60.000000\n",
      "mean   627.050000  625.333333  626.966667  626.750000  626.166667\n",
      "std     95.088438   95.024112   94.129728   95.555756   94.491712\n",
      "min    504.000000  500.000000  502.000000  501.000000  502.000000\n",
      "25%    515.500000  515.500000  517.000000  514.500000  515.750000\n",
      "50%    629.500000  625.500000  629.500000  628.000000  627.000000\n",
      "75%    736.500000  735.250000  734.250000  735.000000  735.500000\n",
      "max    749.000000  749.000000  749.000000  749.000000  749.000000\n",
      "                0           1           2           3           4\n",
      "count   60.000000   60.000000   60.000000   60.000000   60.000000\n",
      "mean   809.750000  809.633333  808.750000  807.966667  809.883333\n",
      "std     88.984216   88.852757   89.097476   87.619549   88.770527\n",
      "min    695.000000  699.000000  695.000000  695.000000  696.000000\n",
      "25%    709.000000  708.750000  709.000000  709.500000  710.000000\n",
      "50%    806.500000  804.000000  803.000000  802.500000  802.500000\n",
      "75%    912.500000  917.000000  914.250000  912.000000  918.250000\n",
      "max    928.000000  928.000000  927.000000  927.000000  928.000000\n"
     ]
    }
   ],
   "source": [
    "#combine dataframes together for all NFQ levels.\n",
    "# edited from https://pandas.pydata.org/pandas-docs/stable/merging.html\n",
    "#decribe data\n",
    "data = [df, df1, df2]\n",
    "NFQ6 = pd.concat(data)\n",
    "print(NFQ6.describe())\n",
    "\n",
    "\n",
    "df3 = pd.DataFrame(NFQ7_1)\n",
    "df4 = pd.DataFrame(NFQ7_3)\n",
    "df5 = pd.DataFrame(NFQ7_5)\n",
    "data1 = [df3, df4, df5]\n",
    "NFQ7 = pd.concat(data1)\n",
    "print(NFQ7.describe())\n",
    "\n",
    "\n",
    "df6 = pd.DataFrame(NFQ8_1)\n",
    "df7 = pd.DataFrame(NFQ8_3)\n",
    "df8 = pd.DataFrame(NFQ8_5)\n",
    "data2 = [df6, df7, df8]\n",
    "NFQ8 = pd.concat(data2)\n",
    "print(NFQ8.describe())\n",
    "\n",
    "df9 = pd.DataFrame(NFQ9_1)\n",
    "df10 = pd.DataFrame(NFQ9_3)\n",
    "df11 = pd.DataFrame(NFQ9_5)\n",
    "data3 = [df9, df10, df11]\n",
    "NFQ9 = pd.concat(data3)\n",
    "print(NFQ9.describe())\n",
    "\n",
    "\n",
    "df12 = pd.DataFrame(NFQ10_1)\n",
    "df13 = pd.DataFrame(NFQ10_3)\n",
    "df14 = pd.DataFrame(NFQ10_5)\n",
    "data4 = [df12, df13, df14]\n",
    "NFQ10 = pd.concat(data4)\n",
    "print(NFQ10.describe())\n"
   ]
  },
  {
   "cell_type": "code",
   "execution_count": 18,
   "metadata": {},
   "outputs": [
    {
     "name": "stdout",
     "output_type": "stream",
     "text": [
      "Percentage of wages received for NFQ6 in relation to NFQ10 after 5 years is 51.5595591675\n",
      "Percentage of wages received for NFQ7 in relation to NFQ10 after 5 years is 57.0188322073\n",
      "Percentage of wages received for NFQ8 in relation to NFQ10 after 5 years is 70.5919470827\n",
      "Percentage of wages received for NFQ9 in relation to NFQ10 after 5 years is 80.5313489344\n"
     ]
    }
   ],
   "source": [
    "#Calculate percentage difference of salary levels after 5 years experience\n",
    "Percentage1=(x3/x15) *100\n",
    "print(\"Percentage of wages received for NFQ6 in relation to NFQ10 after 5 years is\", Percentage1)\n",
    "\n",
    "#Calculate percentage difference of salary levels after 5 years experience\n",
    "Percentage2=(x6/x15) *100\n",
    "print(\"Percentage of wages received for NFQ7 in relation to NFQ10 after 5 years is\", Percentage2)\n",
    "\n",
    "#Calculate percentage difference of salary levels after 5 years experience\n",
    "Percentage3=(x9/x15) *100\n",
    "print(\"Percentage of wages received for NFQ8 in relation to NFQ10 after 5 years is\", Percentage3)\n",
    "\n",
    "#Calculate percentage difference of salary levels after 5 years experience\n",
    "Percentage4=(x12/x15) *100\n",
    "print(\"Percentage of wages received for NFQ9 in relation to NFQ10 after 5 years is\", Percentage4)"
   ]
  },
  {
   "cell_type": "code",
   "execution_count": 20,
   "metadata": {},
   "outputs": [
    {
     "data": {
      "image/png": "[encoded data removed]",
      "text/plain": [
       "<matplotlib.figure.Figure at 0x225fe2b72b0>"
      ]
     },
     "metadata": {},
     "output_type": "display_data"
    }
   ],
   "source": [
    "#Plot percentage difference of salary levels after 5 years experience\n",
    "#This show there maybe a linear relationship as the datapoints are on a straight line.\n",
    "percentages = (Percentage1, Percentage2, Percentage3, Percentage4,)\n",
    "plt.plot(percentages, 'ro')\n",
    "plt.title(\"Percentage of Salary Difference With Increased NFQ Level Comapared to NFQ Level 10.\")\n",
    "plt.ylabel(\"Percentage of Salary\")\n",
    "plt.show()"
   ]
  },
  {
   "cell_type": "markdown",
   "metadata": {
    "collapsed": true
   },
   "source": [
    "### References:\n",
    "\n",
    "[1] https://www.qqi.ie/Articles/Pages/National-Framework-of-Qualifications-(NFQ).aspx\n",
    "\n",
    "[2] https://trends.collegeboard.org/education-pays/figures-tables/lifetime-earnings-education-level\n"
   ]
  },
  {
   "cell_type": "code",
   "execution_count": null,
   "metadata": {
    "collapsed": true
   },
   "outputs": [],
   "source": []
  }
 ],
 "metadata": {
  "kernelspec": {
   "display_name": "Python 3",
   "language": "python",
   "name": "python3"
  },
  "language_info": {
   "codemirror_mode": {
    "name": "ipython",
    "version": 3
   },
   "file_extension": ".py",
   "mimetype": "text/x-python",
   "name": "python",
   "nbconvert_exporter": "python",
   "pygments_lexer": "ipython3",
   "version": "3.6.3"
  }
 },
 "nbformat": 4,
 "nbformat_minor": 2
}
