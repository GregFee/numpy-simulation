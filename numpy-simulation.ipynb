{
 "cells": [
  {
   "cell_type": "markdown",
   "metadata": {},
   "source": [
    "# Numpy Simulation"
   ]
  },
  {
   "cell_type": "markdown",
   "metadata": {
    "collapsed": true
   },
   "source": [
    "## Simulation of effect of NFQ Qulaification Level on Weekly Wages over 1, 3 and 5 years since graduation\n",
    "\n",
    "#### What is NFQ Level:"
   ]
  },
  {
   "cell_type": "markdown",
   "metadata": {},
   "source": [
    "#### Original Data from CSO study figure 6.4 \n",
    "\n",
    "https://www.cso.ie/en/media/csoie/releasespublications/documents/education/2014/Higher_Education_Outcomes_book_-_web.pdf"
   ]
  },
  {
   "cell_type": "markdown",
   "metadata": {},
   "source": [
    "Add figure 6.4"
   ]
  },
  {
   "cell_type": "code",
   "execution_count": 4,
   "metadata": {
    "collapsed": true
   },
   "outputs": [],
   "source": [
    "#import libraries\n",
    "import matplotlib.pyplot as plt\n",
    "import numpy as np\n",
    "import pylab\n",
    "Polynomial = np.polynomial.Polynomial\n",
    "import matplotlib.patches as mpatches\n",
    "import pandas as pd"
   ]
  },
  {
   "cell_type": "code",
   "execution_count": 5,
   "metadata": {},
   "outputs": [
    {
     "name": "stdout",
     "output_type": "stream",
     "text": [
      "Salaries Year1 NFQ6 [[242 248 247 243 242]\n",
      " [249 247 242 247 245]\n",
      " [246 243 246 246 246]\n",
      " [249 248 242 246 246]\n",
      " [249 249 240 243 243]\n",
      " [247 240 247 242 240]\n",
      " [242 246 242 243 245]\n",
      " [241 248 245 245 244]\n",
      " [247 243 241 246 249]\n",
      " [242 241 243 245 247]\n",
      " [241 246 242 249 242]\n",
      " [248 244 249 246 243]\n",
      " [245 240 243 249 241]\n",
      " [246 240 249 245 240]\n",
      " [241 241 245 242 240]\n",
      " [241 243 249 247 249]\n",
      " [245 243 249 245 246]\n",
      " [246 245 245 247 248]\n",
      " [243 240 240 243 246]\n",
      " [247 245 249 245 242]]\n",
      "Salaries Year3 NFQ6 [[359 364 358 351 356]\n",
      " [353 358 350 356 361]\n",
      " [360 363 367 356 367]\n",
      " [364 364 364 355 355]\n",
      " [357 359 351 359 364]\n",
      " [362 353 367 357 366]\n",
      " [354 353 356 362 369]\n",
      " [356 360 351 354 359]\n",
      " [360 364 362 369 353]\n",
      " [360 355 367 353 362]\n",
      " [362 352 355 354 359]\n",
      " [366 367 352 351 364]\n",
      " [353 350 364 358 357]\n",
      " [363 362 354 354 367]\n",
      " [358 359 364 365 356]\n",
      " [357 357 359 363 360]\n",
      " [351 353 358 359 368]\n",
      " [362 361 369 366 353]\n",
      " [356 355 367 355 355]\n",
      " [353 359 361 352 351]]\n",
      "Salries Year5 NFQ5 [[474 477 477 470 478]\n",
      " [472 478 474 470 471]\n",
      " [479 470 473 471 473]\n",
      " [475 470 479 475 472]\n",
      " [476 475 472 472 471]\n",
      " [479 478 472 478 474]\n",
      " [476 470 472 475 470]\n",
      " [479 472 474 477 471]\n",
      " [476 471 474 476 477]\n",
      " [470 475 472 474 478]\n",
      " [473 475 471 478 478]\n",
      " [476 479 470 473 479]\n",
      " [475 477 479 476 474]\n",
      " [478 478 471 471 478]\n",
      " [479 472 473 476 472]\n",
      " [473 471 473 472 475]\n",
      " [470 477 475 472 477]\n",
      " [473 474 475 471 474]\n",
      " [470 476 471 471 470]\n",
      " [478 471 473 475 474]]\n"
     ]
    }
   ],
   "source": [
    "#NFQ Level 6 and weekly salary after 1, 3, 5 years, use randint that has discrete uniform distribution. 100 Datapoints\n",
    "\n",
    "#100 samples looking to simulate mean value of 245\n",
    "NFQ6_1 = np.random.randint(240,250,(20,5))\n",
    "print('Salaries Year1 NFQ6', NFQ6_1)\n",
    "\n",
    "#100 samples looking to simulate mean value of 360\n",
    "NFQ6_3 = np.random.randint(350,370,(20,5))\n",
    "print('Salaries Year3 NFQ6', NFQ6_3)\n",
    "\n",
    "#100 samples looking to simulate mean value of 475\n",
    "NFQ6_5 = np.random.randint(470,480,(20,5))\n",
    "print('Salries Year5 NFQ5', NFQ6_5)"
   ]
  },
  {
   "cell_type": "code",
   "execution_count": 7,
   "metadata": {},
   "outputs": [
    {
     "name": "stdout",
     "output_type": "stream",
     "text": [
      "Salaries Year1 NFQ7 [[290 293 295 282 290]\n",
      " [281 283 292 292 280]\n",
      " [280 283 280 291 292]\n",
      " [292 289 281 284 282]\n",
      " [299 299 281 289 299]\n",
      " [291 286 295 282 288]\n",
      " [290 293 284 297 296]\n",
      " [291 283 294 283 283]\n",
      " [280 297 281 288 298]\n",
      " [291 288 283 288 290]\n",
      " [289 293 289 296 294]\n",
      " [290 290 292 290 295]\n",
      " [284 297 292 299 290]\n",
      " [298 294 288 283 281]\n",
      " [295 291 295 281 283]\n",
      " [294 291 281 280 285]\n",
      " [297 288 282 297 281]\n",
      " [296 285 285 288 291]\n",
      " [282 298 297 283 284]\n",
      " [289 288 295 292 288]]\n",
      "Salaries Year3 NFQ7 [[414 427 416 429 420]\n",
      " [424 417 425 415 412]\n",
      " [416 410 417 419 428]\n",
      " [424 426 411 423 421]\n",
      " [411 413 413 416 426]\n",
      " [411 412 420 421 428]\n",
      " [411 424 416 424 414]\n",
      " [415 420 428 420 419]\n",
      " [417 411 427 413 424]\n",
      " [413 422 417 420 423]\n",
      " [418 420 426 424 429]\n",
      " [423 426 426 414 412]\n",
      " [417 427 419 424 418]\n",
      " [422 422 411 424 410]\n",
      " [413 427 422 417 425]\n",
      " [426 418 411 429 426]\n",
      " [410 414 425 424 424]\n",
      " [429 423 418 425 411]\n",
      " [424 417 429 413 421]\n",
      " [415 414 424 427 411]]\n",
      "Salaries Year5 NFQ7 [[526 525 516 524 518]\n",
      " [526 534 522 532 524]\n",
      " [523 528 522 533 526]\n",
      " [520 524 533 524 529]\n",
      " [523 529 531 522 528]\n",
      " [518 516 533 515 529]\n",
      " [522 529 516 527 523]\n",
      " [515 534 531 529 526]\n",
      " [525 522 534 528 516]\n",
      " [533 516 515 521 525]\n",
      " [526 515 526 534 533]\n",
      " [530 531 518 530 522]\n",
      " [533 533 530 530 533]\n",
      " [523 534 516 522 533]\n",
      " [527 531 516 527 525]\n",
      " [529 525 531 519 524]\n",
      " [522 516 526 528 517]\n",
      " [523 526 519 531 523]\n",
      " [524 520 530 520 522]\n",
      " [517 527 530 531 515]]\n"
     ]
    }
   ],
   "source": [
    "#NFQ Level 7 and weekly salary after 1, 3, 5 years, use randint that has discrete uniform distribution. 100 Datapoints\n",
    "\n",
    "#100 samples looking to simulate mean value of 290\n",
    "NFQ7_1 = np.random.randint(280,300,(20,5))\n",
    "print('Salaries Year1 NFQ7', NFQ7_1)\n",
    "\n",
    "#100 samples looking to simulate mean value of 420\n",
    "NFQ7_3 = np.random.randint(410,430,(20,5))\n",
    "print('Salaries Year3 NFQ7', NFQ7_3)\n",
    "\n",
    "#100 samples looking to simulate mean value of 525\n",
    "NFQ7_5 = np.random.randint(515,535,(20,5))\n",
    "print('Salaries Year5 NFQ7', NFQ7_5)"
   ]
  },
  {
   "cell_type": "code",
   "execution_count": null,
   "metadata": {
    "collapsed": true
   },
   "outputs": [],
   "source": []
  },
  {
   "cell_type": "code",
   "execution_count": null,
   "metadata": {
    "collapsed": true
   },
   "outputs": [],
   "source": []
  }
 ],
 "metadata": {
  "kernelspec": {
   "display_name": "Python 3",
   "language": "python",
   "name": "python3"
  },
  "language_info": {
   "codemirror_mode": {
    "name": "ipython",
    "version": 3
   },
   "file_extension": ".py",
   "mimetype": "text/x-python",
   "name": "python",
   "nbconvert_exporter": "python",
   "pygments_lexer": "ipython3",
   "version": "3.6.3"
  }
 },
 "nbformat": 4,
 "nbformat_minor": 2
}
