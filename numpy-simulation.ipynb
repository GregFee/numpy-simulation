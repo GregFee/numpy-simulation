{
 "cells": [
  {
   "cell_type": "markdown",
   "metadata": {},
   "source": [
    "# Numpy Simulation"
   ]
  },
  {
   "cell_type": "markdown",
   "metadata": {
    "collapsed": true
   },
   "source": [
    "## Simulation of effect of NFQ Qulaification Level on Weekly Wages over 1, 3 and 5 years since graduation\n",
    "\n",
    "#### What is NFQ Level:"
   ]
  },
  {
   "cell_type": "markdown",
   "metadata": {},
   "source": [
    "#### Original Data from CSO study figure 6.4 \n",
    "\n",
    "https://www.cso.ie/en/media/csoie/releasespublications/documents/education/2014/Higher_Education_Outcomes_book_-_web.pdf"
   ]
  },
  {
   "cell_type": "markdown",
   "metadata": {},
   "source": [
    "Add figure 6.4"
   ]
  },
  {
   "cell_type": "code",
   "execution_count": 1,
   "metadata": {
    "collapsed": true
   },
   "outputs": [],
   "source": [
    "#import libraries\n",
    "import matplotlib.pyplot as plt\n",
    "import numpy as np\n",
    "import pylab\n",
    "Polynomial = np.polynomial.Polynomial\n",
    "import matplotlib.patches as mpatches\n",
    "import pandas as pd"
   ]
  },
  {
   "cell_type": "code",
   "execution_count": 2,
   "metadata": {
    "collapsed": true
   },
   "outputs": [],
   "source": [
    "#assign value for years and then \n",
    "y1 = 1\n",
    "y2 = 3\n",
    "y3 = 5"
   ]
  },
  {
   "cell_type": "code",
   "execution_count": 3,
   "metadata": {},
   "outputs": [
    {
     "name": "stdout",
     "output_type": "stream",
     "text": [
      "Salaries Year1 NFQ6 [[243 243 245 242 243]\n",
      " [240 249 243 244 247]\n",
      " [245 249 246 241 246]\n",
      " [243 240 240 243 245]\n",
      " [242 242 240 243 247]\n",
      " [241 246 249 243 243]\n",
      " [246 242 243 241 246]\n",
      " [242 247 248 242 245]\n",
      " [249 243 249 248 246]\n",
      " [245 241 245 247 249]\n",
      " [243 247 246 243 248]\n",
      " [241 246 247 247 249]\n",
      " [241 240 242 244 249]\n",
      " [246 245 248 249 246]\n",
      " [249 248 240 244 249]\n",
      " [247 246 245 248 245]\n",
      " [249 242 243 243 241]\n",
      " [243 249 249 240 245]\n",
      " [242 242 240 241 242]\n",
      " [245 246 246 248 242]]\n",
      "Salaries Year3 NFQ6 [[367 357 359 355 354]\n",
      " [369 365 354 352 358]\n",
      " [364 352 364 357 367]\n",
      " [354 357 355 352 356]\n",
      " [369 360 367 354 361]\n",
      " [350 362 367 352 367]\n",
      " [361 358 354 369 352]\n",
      " [362 361 365 353 359]\n",
      " [362 362 367 360 361]\n",
      " [351 363 363 353 357]\n",
      " [363 355 364 352 352]\n",
      " [354 362 354 362 363]\n",
      " [367 368 354 359 356]\n",
      " [353 356 361 351 353]\n",
      " [351 356 357 355 358]\n",
      " [368 359 360 357 354]\n",
      " [354 351 355 361 355]\n",
      " [357 364 369 367 365]\n",
      " [356 356 367 367 357]\n",
      " [367 358 361 354 365]]\n",
      "Salries Year5 NFQ5 [[479 476 475 472 476]\n",
      " [474 473 471 474 476]\n",
      " [472 477 476 473 473]\n",
      " [472 472 477 470 477]\n",
      " [476 478 470 470 472]\n",
      " [472 473 477 475 471]\n",
      " [470 471 476 471 475]\n",
      " [471 476 477 474 476]\n",
      " [474 472 478 475 478]\n",
      " [472 477 471 474 475]\n",
      " [479 471 478 477 474]\n",
      " [475 478 475 476 471]\n",
      " [477 470 473 472 470]\n",
      " [473 474 478 472 477]\n",
      " [478 473 475 476 474]\n",
      " [471 475 477 479 476]\n",
      " [476 479 477 479 471]\n",
      " [471 473 479 471 473]\n",
      " [474 476 476 472 479]\n",
      " [473 477 474 479 475]]\n"
     ]
    }
   ],
   "source": [
    "#NFQ Level 6 and weekly salary after 1, 3, 5 years, use randint that has discrete uniform distribution. 100 Datapoints\n",
    "\n",
    "#100 samples looking to simulate mean value of 245\n",
    "NFQ6_1 = np.random.randint(240,250,(20,5))\n",
    "print('Salaries Year1 NFQ6', NFQ6_1)\n",
    "\n",
    "#100 samples looking to simulate mean value of 360\n",
    "NFQ6_3 = np.random.randint(350,370,(20,5))\n",
    "print('Salaries Year3 NFQ6', NFQ6_3)\n",
    "\n",
    "#100 samples looking to simulate mean value of 475\n",
    "NFQ6_5 = np.random.randint(470,480,(20,5))\n",
    "print('Salries Year5 NFQ5', NFQ6_5)"
   ]
  },
  {
   "cell_type": "code",
   "execution_count": 4,
   "metadata": {},
   "outputs": [
    {
     "name": "stdout",
     "output_type": "stream",
     "text": [
      "Salaries Year1 NFQ7 [[298 283 298 286 289]\n",
      " [292 288 294 287 282]\n",
      " [291 290 288 296 282]\n",
      " [291 286 284 295 280]\n",
      " [282 294 289 288 288]\n",
      " [294 287 286 298 288]\n",
      " [293 299 282 283 283]\n",
      " [297 288 295 298 295]\n",
      " [294 297 294 290 281]\n",
      " [285 286 281 289 299]\n",
      " [292 282 283 282 281]\n",
      " [293 286 295 299 289]\n",
      " [285 283 297 289 284]\n",
      " [284 281 288 290 288]\n",
      " [284 285 297 286 291]\n",
      " [281 282 295 282 294]\n",
      " [280 291 292 284 294]\n",
      " [294 291 294 283 297]\n",
      " [282 291 285 293 293]\n",
      " [287 286 296 297 284]]\n",
      "Salaries Year3 NFQ7 [[424 416 419 418 410]\n",
      " [427 428 425 410 425]\n",
      " [429 424 427 426 429]\n",
      " [419 429 427 410 419]\n",
      " [425 422 415 410 411]\n",
      " [423 419 419 428 410]\n",
      " [415 411 428 426 421]\n",
      " [414 419 410 418 419]\n",
      " [429 412 420 419 415]\n",
      " [426 422 414 415 415]\n",
      " [411 427 414 429 411]\n",
      " [419 412 412 420 413]\n",
      " [413 426 426 429 428]\n",
      " [413 415 426 422 429]\n",
      " [422 423 417 423 417]\n",
      " [421 411 428 418 413]\n",
      " [411 417 414 424 414]\n",
      " [417 413 410 422 413]\n",
      " [412 428 426 418 427]\n",
      " [429 428 413 412 416]]\n",
      "Salaries Year5 NFQ7 [[527 523 522 525 532]\n",
      " [534 527 519 529 527]\n",
      " [517 520 517 528 523]\n",
      " [530 527 526 527 533]\n",
      " [532 532 527 526 529]\n",
      " [531 521 527 523 526]\n",
      " [518 517 532 531 515]\n",
      " [520 517 519 515 533]\n",
      " [517 518 517 533 532]\n",
      " [519 516 526 518 516]\n",
      " [523 529 517 518 521]\n",
      " [527 533 517 515 529]\n",
      " [524 521 522 526 518]\n",
      " [526 521 515 534 531]\n",
      " [517 518 523 526 518]\n",
      " [522 525 525 534 517]\n",
      " [529 528 526 534 529]\n",
      " [526 522 517 533 529]\n",
      " [515 523 530 516 521]\n",
      " [529 518 527 531 528]]\n"
     ]
    }
   ],
   "source": [
    "#NFQ Level 7 and weekly salary after 1, 3, 5 years, use randint that has discrete uniform distribution. 100 Datapoints\n",
    "\n",
    "#100 samples looking to simulate mean value of 290\n",
    "NFQ7_1 = np.random.randint(280,300,(20,5))\n",
    "print('Salaries Year1 NFQ7', NFQ7_1)\n",
    "\n",
    "#100 samples looking to simulate mean value of 420\n",
    "NFQ7_3 = np.random.randint(410,430,(20,5))\n",
    "print('Salaries Year3 NFQ7', NFQ7_3)\n",
    "\n",
    "#100 samples looking to simulate mean value of 525\n",
    "NFQ7_5 = np.random.randint(515,535,(20,5))\n",
    "print('Salaries Year5 NFQ7', NFQ7_5)"
   ]
  },
  {
   "cell_type": "code",
   "execution_count": 5,
   "metadata": {},
   "outputs": [
    {
     "name": "stdout",
     "output_type": "stream",
     "text": [
      "Salaries Year1 NFQ8 [[419 420 429 432 426]\n",
      " [427 421 418 420 422]\n",
      " [421 426 429 424 423]\n",
      " [417 416 427 415 433]\n",
      " [419 418 434 415 421]\n",
      " [430 425 415 432 416]\n",
      " [428 434 424 424 426]\n",
      " [430 431 417 424 427]\n",
      " [433 424 429 426 431]\n",
      " [418 424 429 424 433]\n",
      " [426 428 430 424 428]\n",
      " [433 426 427 426 417]\n",
      " [427 426 430 419 428]\n",
      " [425 428 424 423 417]\n",
      " [426 427 425 432 421]\n",
      " [423 425 426 433 423]\n",
      " [423 421 430 421 422]\n",
      " [433 424 434 424 428]\n",
      " [424 426 425 422 420]\n",
      " [415 417 422 421 427]]\n",
      "Salaries Year3 NFQ8 [[535 538 540 529 537]\n",
      " [525 541 536 544 537]\n",
      " [544 543 531 531 541]\n",
      " [538 525 539 525 528]\n",
      " [543 528 525 532 537]\n",
      " [544 535 542 529 526]\n",
      " [534 525 541 528 526]\n",
      " [541 525 543 542 529]\n",
      " [541 530 537 533 543]\n",
      " [536 538 532 534 527]\n",
      " [544 536 526 543 542]\n",
      " [535 533 544 544 529]\n",
      " [542 526 535 540 536]\n",
      " [539 528 534 544 531]\n",
      " [542 535 537 533 527]\n",
      " [532 528 526 527 529]\n",
      " [537 540 541 530 538]\n",
      " [541 540 538 531 531]\n",
      " [542 532 535 542 544]\n",
      " [526 527 533 531 543]]\n",
      "Salaries Year5 NFQ8 [[653 640 654 641 644]\n",
      " [651 642 651 644 654]\n",
      " [641 641 654 657 655]\n",
      " [652 645 644 645 642]\n",
      " [646 651 644 659 644]\n",
      " [640 645 648 655 646]\n",
      " [654 659 650 659 648]\n",
      " [642 658 659 642 652]\n",
      " [646 653 654 641 650]\n",
      " [649 654 654 659 642]\n",
      " [640 644 649 644 642]\n",
      " [653 655 650 654 654]\n",
      " [645 651 643 646 650]\n",
      " [655 640 653 641 644]\n",
      " [653 653 650 644 659]\n",
      " [654 659 653 643 655]\n",
      " [649 656 653 656 654]\n",
      " [640 647 646 644 642]\n",
      " [640 645 644 658 651]\n",
      " [647 654 657 654 640]]\n"
     ]
    }
   ],
   "source": [
    "#NFQ Level 8 and weekly salary after 1, 3, 5 years, use randint that has discrete uniform distribution. 100 Datapoints\n",
    "\n",
    "#100 samples looking to simulate mean value of 425\n",
    "NFQ8_1 = np.random.randint(415,435,(20,5))\n",
    "print('Salaries Year1 NFQ8', NFQ8_1)\n",
    "\n",
    "#100 samples looking to simulate mean value of 535\n",
    "NFQ8_3 = np.random.randint(525,545,(20,5))\n",
    "print('Salaries Year3 NFQ8', NFQ8_3)\n",
    "\n",
    "#100 samples looking to simulate mean value of 650\n",
    "NFQ8_5 = np.random.randint(640,660,(20,5))\n",
    "print('Salaries Year5 NFQ8', NFQ8_5)"
   ]
  },
  {
   "cell_type": "code",
   "execution_count": 6,
   "metadata": {},
   "outputs": [
    {
     "name": "stdout",
     "output_type": "stream",
     "text": [
      "Salaries Year1 NFQ9 [[517 516 509 514 510]\n",
      " [507 500 513 508 508]\n",
      " [517 507 506 500 519]\n",
      " [506 502 505 501 507]\n",
      " [519 519 511 507 518]\n",
      " [501 500 501 515 516]\n",
      " [504 519 519 511 514]\n",
      " [501 505 517 503 500]\n",
      " [512 518 519 506 507]\n",
      " [505 501 505 519 509]\n",
      " [513 506 511 501 518]\n",
      " [509 500 509 511 515]\n",
      " [512 506 501 512 517]\n",
      " [514 503 515 511 513]\n",
      " [517 518 503 504 500]\n",
      " [500 500 509 515 504]\n",
      " [517 515 509 501 509]\n",
      " [517 518 506 512 503]\n",
      " [519 504 506 501 518]\n",
      " [515 501 512 501 513]]\n",
      "Salaries Year3 NFQ9 [[627 638 625 631 632]\n",
      " [637 628 621 627 630]\n",
      " [633 622 629 622 633]\n",
      " [624 636 635 621 622]\n",
      " [623 632 628 625 627]\n",
      " [638 620 635 630 625]\n",
      " [629 623 623 634 624]\n",
      " [632 634 636 629 639]\n",
      " [621 639 629 620 631]\n",
      " [620 637 637 631 625]\n",
      " [630 626 638 628 637]\n",
      " [625 633 632 638 627]\n",
      " [629 638 631 630 635]\n",
      " [620 630 622 622 632]\n",
      " [633 637 627 639 636]\n",
      " [631 639 625 623 624]\n",
      " [631 632 623 633 620]\n",
      " [628 622 634 636 629]\n",
      " [630 634 628 630 639]\n",
      " [634 632 635 634 632]]\n",
      "Salaries Year5 NFQ9 [[745 733 744 745 747]\n",
      " [745 745 739 747 743]\n",
      " [737 742 747 746 735]\n",
      " [741 744 731 737 734]\n",
      " [738 748 738 734 734]\n",
      " [731 749 734 742 736]\n",
      " [735 732 740 731 749]\n",
      " [748 744 731 736 749]\n",
      " [732 734 731 736 731]\n",
      " [730 743 740 744 747]\n",
      " [742 741 738 742 738]\n",
      " [733 732 736 734 740]\n",
      " [735 744 746 741 739]\n",
      " [739 744 736 743 735]\n",
      " [743 745 748 748 749]\n",
      " [748 742 743 746 739]\n",
      " [742 734 732 733 738]\n",
      " [748 743 735 741 740]\n",
      " [734 738 736 737 739]\n",
      " [731 737 749 730 734]]\n"
     ]
    }
   ],
   "source": [
    "#NFQ Level 9 and weekly salary after 1, 3, 5 years, use randint that has discrete uniform distribution. 100 Datapoints\n",
    "\n",
    "#100 samples looking to simulate mean value of 510\n",
    "NFQ9_1 = np.random.randint(500,520,(20,5))\n",
    "print('Salaries Year1 NFQ9', NFQ9_1)\n",
    "\n",
    "#100 samples looking to simulate mean value of 630\n",
    "NFQ9_3 = np.random.randint(620,640,(20,5))\n",
    "print('Salaries Year3 NFQ9', NFQ9_3)\n",
    "\n",
    "#100 samples looking to simulate mean value of 740\n",
    "NFQ9_5 = np.random.randint(730,750,(20,5))\n",
    "print('Salaries Year5 NFQ9', NFQ9_5)"
   ]
  },
  {
   "cell_type": "code",
   "execution_count": 7,
   "metadata": {},
   "outputs": [
    {
     "name": "stdout",
     "output_type": "stream",
     "text": [
      "Salaries Year1 NFQ10 [[702 709 700 703 701]\n",
      " [708 702 696 696 712]\n",
      " [703 711 712 703 714]\n",
      " [704 703 706 704 702]\n",
      " [703 711 701 701 707]\n",
      " [705 702 701 712 704]\n",
      " [701 714 697 713 708]\n",
      " [696 696 697 698 710]\n",
      " [711 697 708 709 706]\n",
      " [712 707 713 696 702]\n",
      " [707 696 698 696 707]\n",
      " [699 703 699 695 713]\n",
      " [708 702 713 709 702]\n",
      " [698 700 702 706 704]\n",
      " [706 703 706 699 714]\n",
      " [696 700 697 712 695]\n",
      " [705 707 697 702 699]\n",
      " [712 707 714 699 701]\n",
      " [706 712 712 701 701]\n",
      " [705 704 699 706 704]]\n",
      "Salaries Year3 NFQ10 [[796 796 807 798 800]\n",
      " [795 809 813 798 800]\n",
      " [809 805 802 804 811]\n",
      " [795 798 813 797 813]\n",
      " [814 802 803 795 801]\n",
      " [804 809 799 812 796]\n",
      " [797 796 813 799 812]\n",
      " [799 809 803 803 801]\n",
      " [810 810 807 811 812]\n",
      " [804 798 800 799 810]\n",
      " [809 810 813 806 802]\n",
      " [812 812 797 797 808]\n",
      " [810 802 804 813 811]\n",
      " [807 798 806 803 811]\n",
      " [810 800 813 813 801]\n",
      " [807 809 801 813 805]\n",
      " [798 807 795 807 810]\n",
      " [795 796 807 813 798]\n",
      " [799 814 796 812 811]\n",
      " [811 801 795 809 813]]\n",
      "Salaries Year5 NFQ10 [[920 929 926 918 922]\n",
      " [923 922 921 926 929]\n",
      " [912 920 910 926 913]\n",
      " [911 920 911 923 923]\n",
      " [929 927 927 923 918]\n",
      " [927 915 920 910 922]\n",
      " [912 914 916 928 910]\n",
      " [912 916 911 923 912]\n",
      " [920 918 917 915 922]\n",
      " [920 928 925 926 927]\n",
      " [924 923 913 916 919]\n",
      " [911 927 924 925 918]\n",
      " [917 921 929 922 928]\n",
      " [918 921 921 929 920]\n",
      " [914 922 929 928 928]\n",
      " [916 914 924 927 921]\n",
      " [920 912 921 929 913]\n",
      " [925 924 923 925 925]\n",
      " [923 910 918 911 929]\n",
      " [915 924 919 918 924]]\n"
     ]
    }
   ],
   "source": [
    "#NFQ Level 10 and weekly salary after 1, 3, 5 years, use randint that has discrete uniform distribution. 100 Datapoints\n",
    "\n",
    "#100 samples looking to simulate mean value of 705\n",
    "NFQ10_1 = np.random.randint(695,715,(20,5))\n",
    "print('Salaries Year1 NFQ10', NFQ10_1)\n",
    "\n",
    "#100 samples looking to simulate mean value of 805\n",
    "NFQ10_3 = np.random.randint(795,815,(20,5))\n",
    "print('Salaries Year3 NFQ10', NFQ10_3)\n",
    "\n",
    "#100 samples looking to simulate mean value of 920\n",
    "NFQ10_5 = np.random.randint(910,930,(20,5))\n",
    "print('Salaries Year5 NFQ10', NFQ10_5)"
   ]
  },
  {
   "cell_type": "code",
   "execution_count": 8,
   "metadata": {},
   "outputs": [
    {
     "name": "stdout",
     "output_type": "stream",
     "text": [
      "Mean weekly wage of NFQ6 after 1 year is 244.63\n",
      "Mean weekly wage of NFQ6 after 3 years is 359.1\n",
      "Mean weekly wage of NFQ6 after 5 years is 474.5\n"
     ]
    }
   ],
   "source": [
    "#Calculate mean of weekly salaries for each qualification after 1, 3, 5 years after graduation\n",
    "\n",
    "#NFQ level 6 after 1 year\n",
    "x1 = np.mean(NFQ6_1)\n",
    "print('Mean weekly wage of NFQ6 after 1 year is', x1)\n",
    "\n",
    "#NFQ level 6 after 3 years\n",
    "x2 = np.mean(NFQ6_3)\n",
    "print('Mean weekly wage of NFQ6 after 3 years is', x2)\n",
    "\n",
    "#NFQ level 6 after 5 years\n",
    "x3 = np.mean(NFQ6_5)\n",
    "print('Mean weekly wage of NFQ6 after 5 years is', x3)"
   ]
  },
  {
   "cell_type": "code",
   "execution_count": 9,
   "metadata": {},
   "outputs": [
    {
     "name": "stdout",
     "output_type": "stream",
     "text": [
      "Mean weekly wage of NFQ7 after 1 year is 289.05\n",
      "Mean weekly wage of NFQ7 after 3 years is 419.43\n",
      "Mean weekly wage of NFQ7 after 5 years is 524.19\n"
     ]
    }
   ],
   "source": [
    "#NFQ level 7 after 1 year\n",
    "x4 = np.mean(NFQ7_1)\n",
    "print('Mean weekly wage of NFQ7 after 1 year is', x4)\n",
    "\n",
    "#NFQ level 7 after 3 years\n",
    "x5 = np.mean(NFQ7_3)\n",
    "print('Mean weekly wage of NFQ7 after 3 years is', x5)\n",
    "\n",
    "#NFQ level 7 after 5 years\n",
    "x6 = np.mean(NFQ7_5)\n",
    "print('Mean weekly wage of NFQ7 after 5 years is', x6)"
   ]
  },
  {
   "cell_type": "code",
   "execution_count": 10,
   "metadata": {},
   "outputs": [
    {
     "name": "stdout",
     "output_type": "stream",
     "text": [
      "Mean weekly wage of NFQ8 after 1 year is 424.78\n",
      "Mean weekly wage of NFQ8 after 3 years is 535.02\n",
      "Mean weekly wage of NFQ8 after 5 years is 649.06\n"
     ]
    }
   ],
   "source": [
    "#NFQ level 8 after 1 year\n",
    "x7 = np.mean(NFQ8_1)\n",
    "print('Mean weekly wage of NFQ8 after 1 year is', x7)\n",
    "\n",
    "#NFQ level 8 after 3 years\n",
    "x8 = np.mean(NFQ8_3)\n",
    "print('Mean weekly wage of NFQ8 after 3 years is', x8)\n",
    "\n",
    "#NFQ level 8 after 5 years\n",
    "x9 = np.mean(NFQ8_5)\n",
    "print('Mean weekly wage of NFQ8 after 5 years is', x9)"
   ]
  },
  {
   "cell_type": "code",
   "execution_count": 11,
   "metadata": {},
   "outputs": [
    {
     "name": "stdout",
     "output_type": "stream",
     "text": [
      "Mean weekly wage of NFQ9 after 1 year is 509.37\n",
      "Mean weekly wage of NFQ9 after 3 years is 629.82\n",
      "Mean weekly wage of NFQ9 after 5 years is 739.54\n"
     ]
    }
   ],
   "source": [
    "#NFQ level 9 after 1 year\n",
    "x10 = np.mean(NFQ9_1)\n",
    "print('Mean weekly wage of NFQ9 after 1 year is', x10)\n",
    "\n",
    "#NFQ level 9 after 3 years\n",
    "x11 = np.mean(NFQ9_3)\n",
    "print('Mean weekly wage of NFQ9 after 3 years is', x11)\n",
    "\n",
    "#NFQ level 9 after 5 years\n",
    "x12 = np.mean(NFQ9_5)\n",
    "print('Mean weekly wage of NFQ9 after 5 years is', x12)"
   ]
  },
  {
   "cell_type": "code",
   "execution_count": 12,
   "metadata": {},
   "outputs": [
    {
     "name": "stdout",
     "output_type": "stream",
     "text": [
      "Mean weekly wage of NFQ10 after 1 year is 704.07\n",
      "Mean weekly wage of NFQ10 after 3 years is 804.77\n",
      "Mean weekly wage of NFQ10 after 5 years is 920.52\n"
     ]
    }
   ],
   "source": [
    "#NFQ level 10 after 1 year\n",
    "x13 = np.mean(NFQ10_1)\n",
    "print('Mean weekly wage of NFQ10 after 1 year is', x13)\n",
    "\n",
    "#NFQ level 10 after 3 years\n",
    "x14 = np.mean(NFQ10_3)\n",
    "print('Mean weekly wage of NFQ10 after 3 years is', x14)\n",
    "\n",
    "#NFQ level 10 after 5 years\n",
    "x15 = np.mean(NFQ10_5)\n",
    "print('Mean weekly wage of NFQ10 after 5 years is', x15)"
   ]
  },
  {
   "cell_type": "code",
   "execution_count": 14,
   "metadata": {},
   "outputs": [
    {
     "data": {
      "image/png": "[encoded data removed]",
      "text/plain": [
       "<matplotlib.figure.Figure at 0x2e139598da0>"
      ]
     },
     "metadata": {},
     "output_type": "display_data"
    }
   ],
   "source": [
    "fig, ax = plt.subplots()\n",
    "ax.plot(y1, x1, 'go')\n",
    "ax.plot(y2, x2, 'go')\n",
    "ax.plot(y3, x3, 'go')\n",
    "ax.plot(y1, x4, 'ko')\n",
    "ax.plot(y2, x5, 'ko')\n",
    "ax.plot(y3, x6, 'ko')\n",
    "ax.plot(y1, x7, 'bo')\n",
    "ax.plot(y2, x8, 'bo')\n",
    "ax.plot(y3, x9, 'bo')\n",
    "ax.plot(y1, x10, 'ro')\n",
    "ax.plot(y2, x11, 'ro')\n",
    "ax.plot(y3, x12, 'ro')\n",
    "ax.plot(y1, x13, 'yo')\n",
    "ax.plot(y2, x14, 'yo')\n",
    "ax.plot(y3, x15, 'yo')\n",
    "ax.set(xlabel='Years since Graduation', ylabel='wages per week(Euros)',\n",
    "       title='Weekly Salary and NFQ Levels')\n",
    "ax.grid()\n",
    "plt.show()"
   ]
  },
  {
   "cell_type": "code",
   "execution_count": 15,
   "metadata": {},
   "outputs": [
    {
     "name": "stdout",
     "output_type": "stream",
     "text": [
      "Wage difference from NFQ10 & NFQ6 5 years after graduation is € 446.02\n",
      "Wage difference from NFQ10 & NFQ7 5 years after graduation is € 396.33\n",
      "Wage difference from NFQ10 & NFQ8 5 years after graduation is € 271.46\n",
      "Wage difference from NFQ10 & NFQ9 5 years after graduation is € 180.98\n"
     ]
    }
   ],
   "source": [
    "range1  = x15 -x3\n",
    "print('Wage difference from NFQ10 & NFQ6 5 years after graduation is €', range1)\n",
    "\n",
    "range2 = x15 - x6\n",
    "print('Wage difference from NFQ10 & NFQ7 5 years after graduation is €', range2)\n",
    "\n",
    "range3 = x15 - x9\n",
    "print('Wage difference from NFQ10 & NFQ8 5 years after graduation is €', range3)\n",
    "\n",
    "range4 = x15 - x12\n",
    "print('Wage difference from NFQ10 & NFQ9 5 years after graduation is €', range4)"
   ]
  },
  {
   "cell_type": "code",
   "execution_count": null,
   "metadata": {
    "collapsed": true
   },
   "outputs": [],
   "source": []
  }
 ],
 "metadata": {
  "kernelspec": {
   "display_name": "Python 3",
   "language": "python",
   "name": "python3"
  },
  "language_info": {
   "codemirror_mode": {
    "name": "ipython",
    "version": 3
   },
   "file_extension": ".py",
   "mimetype": "text/x-python",
   "name": "python",
   "nbconvert_exporter": "python",
   "pygments_lexer": "ipython3",
   "version": "3.6.3"
  }
 },
 "nbformat": 4,
 "nbformat_minor": 2
}
