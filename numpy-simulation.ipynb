{
 "cells": [
  {
   "cell_type": "markdown",
   "metadata": {},
   "source": [
    "# Numpy Simulation"
   ]
  },
  {
   "cell_type": "markdown",
   "metadata": {
    "collapsed": true
   },
   "source": [
    "## Simulation of effect of NFQ Qulaification Level on Weekly Wages over 1, 3 and 5 years since graduation\n",
    "\n",
    "#### What is NFQ Level:"
   ]
  },
  {
   "cell_type": "markdown",
   "metadata": {},
   "source": [
    "#### Original Data from CSO study figure 6.4 \n",
    "\n",
    "https://www.cso.ie/en/media/csoie/releasespublications/documents/education/2014/Higher_Education_Outcomes_book_-_web.pdf"
   ]
  },
  {
   "cell_type": "markdown",
   "metadata": {},
   "source": [
    "Add figure 6.4"
   ]
  },
  {
   "cell_type": "code",
   "execution_count": 14,
   "metadata": {
    "collapsed": true
   },
   "outputs": [],
   "source": [
    "#import libraries\n",
    "import matplotlib.pyplot as plt\n",
    "import numpy as np\n",
    "import pylab\n",
    "Polynomial = np.polynomial.Polynomial\n",
    "import matplotlib.patches as mpatches\n",
    "import pandas as pd"
   ]
  },
  {
   "cell_type": "code",
   "execution_count": 15,
   "metadata": {},
   "outputs": [
    {
     "name": "stdout",
     "output_type": "stream",
     "text": [
      "Salaries Year1 NFQ6 [[249 246 245 248 247]\n",
      " [247 240 247 241 241]\n",
      " [249 242 241 244 240]\n",
      " [246 240 244 241 247]\n",
      " [240 242 245 243 247]\n",
      " [245 247 247 242 247]\n",
      " [245 248 243 244 248]\n",
      " [240 244 243 240 246]\n",
      " [242 242 249 240 246]\n",
      " [243 246 247 240 248]\n",
      " [241 240 243 243 240]\n",
      " [242 240 242 246 248]\n",
      " [240 242 242 248 244]\n",
      " [244 249 240 241 243]\n",
      " [241 244 247 242 249]\n",
      " [247 240 242 241 242]\n",
      " [242 248 246 249 246]\n",
      " [246 244 248 246 247]\n",
      " [245 243 243 249 240]\n",
      " [245 240 246 243 248]]\n",
      "Salaries Year3 NFQ6 [[361 367 351 362 365]\n",
      " [362 352 366 354 355]\n",
      " [360 362 359 366 358]\n",
      " [365 364 365 350 357]\n",
      " [350 351 356 367 352]\n",
      " [357 363 365 351 357]\n",
      " [350 362 365 364 355]\n",
      " [359 368 362 353 365]\n",
      " [353 362 365 354 369]\n",
      " [363 364 362 352 352]\n",
      " [363 360 359 354 368]\n",
      " [353 355 358 367 363]\n",
      " [354 366 357 369 366]\n",
      " [358 361 354 351 350]\n",
      " [351 364 368 351 363]\n",
      " [357 369 359 354 351]\n",
      " [354 364 352 369 350]\n",
      " [359 365 357 358 368]\n",
      " [355 351 367 359 354]\n",
      " [356 352 362 359 365]]\n",
      "Salries Year5 NFQ5 [[478 470 475 478 473]\n",
      " [472 473 471 470 471]\n",
      " [479 479 478 473 470]\n",
      " [474 475 479 479 477]\n",
      " [470 477 475 471 475]\n",
      " [475 472 478 478 470]\n",
      " [477 475 476 471 476]\n",
      " [472 471 470 476 477]\n",
      " [470 478 472 474 479]\n",
      " [476 471 470 477 474]\n",
      " [472 474 477 477 478]\n",
      " [472 471 475 471 475]\n",
      " [478 478 473 475 473]\n",
      " [476 477 474 473 470]\n",
      " [478 475 472 470 471]\n",
      " [476 479 479 473 479]\n",
      " [476 470 471 477 473]\n",
      " [473 470 478 476 477]\n",
      " [471 470 474 479 479]\n",
      " [471 477 473 476 470]]\n"
     ]
    }
   ],
   "source": [
    "#NFQ Level 6 and weekly salary after 1, 3, 5 years, use randint that has discrete uniform distribution. 100 Datapoints\n",
    "\n",
    "#100 samples looking to simulate mean value of 245\n",
    "NFQ6_1 = np.random.randint(240,250,(20,5))\n",
    "print('Salaries Year1 NFQ6', NFQ6_1)\n",
    "\n",
    "#100 samples looking to simulate mean value of 360\n",
    "NFQ6_3 = np.random.randint(350,370,(20,5))\n",
    "print('Salaries Year3 NFQ6', NFQ6_3)\n",
    "\n",
    "#100 samples looking to simulate mean value of 475\n",
    "NFQ6_5 = np.random.randint(470,480,(20,5))\n",
    "print('Salries Year5 NFQ5', NFQ6_5)"
   ]
  },
  {
   "cell_type": "code",
   "execution_count": 16,
   "metadata": {},
   "outputs": [
    {
     "name": "stdout",
     "output_type": "stream",
     "text": [
      "Salaries Year1 NFQ7 [[290 281 284 285 286]\n",
      " [284 284 298 292 296]\n",
      " [285 294 283 281 299]\n",
      " [297 283 285 291 289]\n",
      " [290 281 291 291 298]\n",
      " [294 284 286 290 285]\n",
      " [295 286 281 280 280]\n",
      " [287 290 290 298 299]\n",
      " [295 299 282 294 287]\n",
      " [280 287 296 282 291]\n",
      " [299 280 292 294 284]\n",
      " [286 284 297 285 284]\n",
      " [286 292 297 299 291]\n",
      " [288 286 280 297 286]\n",
      " [281 286 295 291 281]\n",
      " [287 282 291 283 287]\n",
      " [295 291 285 283 281]\n",
      " [290 280 299 287 298]\n",
      " [288 288 285 293 293]\n",
      " [280 296 293 291 289]]\n",
      "Salaries Year3 NFQ7 [[428 412 422 411 414]\n",
      " [412 425 426 422 428]\n",
      " [422 428 413 428 427]\n",
      " [413 426 414 416 416]\n",
      " [415 422 410 421 417]\n",
      " [427 429 422 416 419]\n",
      " [429 421 410 420 425]\n",
      " [425 418 429 418 415]\n",
      " [418 420 416 416 410]\n",
      " [426 416 424 426 412]\n",
      " [416 421 423 417 411]\n",
      " [419 421 421 423 427]\n",
      " [426 418 419 424 423]\n",
      " [412 426 418 415 413]\n",
      " [416 415 428 421 428]\n",
      " [427 425 418 415 422]\n",
      " [423 429 425 419 426]\n",
      " [413 410 416 422 424]\n",
      " [421 415 412 419 425]\n",
      " [416 418 421 419 412]]\n",
      "Salaries Year5 NFQ7 [[533 521 516 524 522]\n",
      " [519 517 525 515 525]\n",
      " [534 515 519 530 532]\n",
      " [521 519 529 533 530]\n",
      " [518 529 522 534 533]\n",
      " [521 522 517 532 528]\n",
      " [516 516 528 528 518]\n",
      " [516 530 524 530 533]\n",
      " [524 534 524 518 521]\n",
      " [527 525 516 516 515]\n",
      " [519 530 533 524 522]\n",
      " [527 527 522 527 525]\n",
      " [515 526 526 521 515]\n",
      " [516 519 520 515 523]\n",
      " [524 522 533 528 516]\n",
      " [533 527 520 522 529]\n",
      " [528 519 520 531 516]\n",
      " [531 521 533 533 531]\n",
      " [530 518 528 532 527]\n",
      " [520 532 525 526 516]]\n"
     ]
    }
   ],
   "source": [
    "#NFQ Level 7 and weekly salary after 1, 3, 5 years, use randint that has discrete uniform distribution. 100 Datapoints\n",
    "\n",
    "#100 samples looking to simulate mean value of 290\n",
    "NFQ7_1 = np.random.randint(280,300,(20,5))\n",
    "print('Salaries Year1 NFQ7', NFQ7_1)\n",
    "\n",
    "#100 samples looking to simulate mean value of 420\n",
    "NFQ7_3 = np.random.randint(410,430,(20,5))\n",
    "print('Salaries Year3 NFQ7', NFQ7_3)\n",
    "\n",
    "#100 samples looking to simulate mean value of 525\n",
    "NFQ7_5 = np.random.randint(515,535,(20,5))\n",
    "print('Salaries Year5 NFQ7', NFQ7_5)"
   ]
  },
  {
   "cell_type": "code",
   "execution_count": 17,
   "metadata": {},
   "outputs": [
    {
     "name": "stdout",
     "output_type": "stream",
     "text": [
      "Salaries Year1 NFQ8 [[431 428 427 431 422]\n",
      " [422 418 431 424 417]\n",
      " [419 419 427 432 434]\n",
      " [434 426 426 424 419]\n",
      " [415 427 426 433 433]\n",
      " [426 430 420 427 420]\n",
      " [431 418 433 429 420]\n",
      " [424 415 426 425 421]\n",
      " [422 419 428 432 426]\n",
      " [424 418 422 416 423]\n",
      " [425 420 427 431 434]\n",
      " [424 418 431 433 417]\n",
      " [421 421 415 417 426]\n",
      " [416 431 427 420 428]\n",
      " [434 421 420 420 430]\n",
      " [415 415 425 424 426]\n",
      " [434 431 426 427 433]\n",
      " [426 427 420 430 430]\n",
      " [424 428 421 426 429]\n",
      " [416 427 419 418 429]]\n",
      "Salaries Year3 NFQ8 [[530 538 531 533 526]\n",
      " [536 534 535 543 537]\n",
      " [531 537 541 540 538]\n",
      " [540 525 526 525 531]\n",
      " [539 542 525 527 538]\n",
      " [541 540 537 527 532]\n",
      " [537 528 529 541 530]\n",
      " [536 538 532 530 535]\n",
      " [539 535 525 528 527]\n",
      " [543 530 536 537 530]\n",
      " [525 529 543 527 541]\n",
      " [541 531 534 533 539]\n",
      " [526 531 527 530 536]\n",
      " [525 528 536 536 536]\n",
      " [542 544 538 537 533]\n",
      " [543 530 531 537 526]\n",
      " [528 535 538 526 527]\n",
      " [533 536 542 528 536]\n",
      " [538 530 525 544 533]\n",
      " [544 535 536 528 537]]\n",
      "Salaries Year5 NFQ8 [[646 657 652 647 645]\n",
      " [653 650 650 644 656]\n",
      " [651 647 645 654 645]\n",
      " [642 651 641 649 659]\n",
      " [651 649 641 653 650]\n",
      " [641 655 650 654 642]\n",
      " [642 656 648 650 651]\n",
      " [646 643 654 646 653]\n",
      " [656 641 643 640 659]\n",
      " [653 652 658 649 659]\n",
      " [652 640 653 651 651]\n",
      " [646 640 645 643 643]\n",
      " [650 648 651 642 647]\n",
      " [646 640 659 645 650]\n",
      " [645 642 644 644 654]\n",
      " [650 659 658 652 659]\n",
      " [644 643 649 656 650]\n",
      " [658 647 655 641 650]\n",
      " [650 650 640 650 658]\n",
      " [652 653 651 658 649]]\n"
     ]
    }
   ],
   "source": [
    "#NFQ Level 8 and weekly salary after 1, 3, 5 years, use randint that has discrete uniform distribution. 100 Datapoints\n",
    "\n",
    "#100 samples looking to simulate mean value of 425\n",
    "NFQ8_1 = np.random.randint(415,435,(20,5))\n",
    "print('Salaries Year1 NFQ8', NFQ8_1)\n",
    "\n",
    "#100 samples looking to simulate mean value of 535\n",
    "NFQ8_3 = np.random.randint(525,545,(20,5))\n",
    "print('Salaries Year3 NFQ8', NFQ8_3)\n",
    "\n",
    "#100 samples looking to simulate mean value of 650\n",
    "NFQ8_5 = np.random.randint(640,660,(20,5))\n",
    "print('Salaries Year5 NFQ8', NFQ8_5)"
   ]
  },
  {
   "cell_type": "code",
   "execution_count": 18,
   "metadata": {},
   "outputs": [
    {
     "name": "stdout",
     "output_type": "stream",
     "text": [
      "Salaries Year1 NFQ9 [[516 507 510 517 504]\n",
      " [501 501 509 512 500]\n",
      " [501 502 517 503 504]\n",
      " [504 515 511 507 516]\n",
      " [514 512 518 506 519]\n",
      " [503 515 511 511 510]\n",
      " [512 504 500 519 519]\n",
      " [516 512 507 501 501]\n",
      " [507 507 519 509 505]\n",
      " [518 501 508 502 503]\n",
      " [506 504 507 504 513]\n",
      " [516 506 516 515 516]\n",
      " [504 507 511 507 503]\n",
      " [517 501 509 509 518]\n",
      " [501 508 502 519 516]\n",
      " [518 514 517 501 511]\n",
      " [510 506 506 506 503]\n",
      " [515 506 505 502 512]\n",
      " [506 513 510 514 501]\n",
      " [516 519 507 506 501]]\n",
      "Salaries Year3 NFQ9 [[636 634 622 626 639]\n",
      " [639 628 623 635 639]\n",
      " [635 633 639 635 633]\n",
      " [639 621 621 624 631]\n",
      " [633 627 630 624 629]\n",
      " [628 630 631 633 620]\n",
      " [631 625 639 637 636]\n",
      " [628 623 635 634 631]\n",
      " [634 620 625 630 622]\n",
      " [637 634 620 625 639]\n",
      " [633 634 624 631 637]\n",
      " [638 633 624 624 624]\n",
      " [637 627 622 629 628]\n",
      " [620 635 620 635 620]\n",
      " [638 631 630 636 630]\n",
      " [639 630 636 624 632]\n",
      " [627 636 624 628 635]\n",
      " [633 623 626 626 625]\n",
      " [625 620 639 636 634]\n",
      " [628 639 627 639 634]]\n",
      "Salaries Year5 NFQ9 [[732 747 740 731 736]\n",
      " [736 738 730 744 730]\n",
      " [740 740 747 744 735]\n",
      " [730 742 736 734 735]\n",
      " [733 742 744 742 733]\n",
      " [748 737 738 747 743]\n",
      " [739 746 741 740 747]\n",
      " [741 738 743 739 749]\n",
      " [746 748 746 742 734]\n",
      " [741 734 744 743 747]\n",
      " [732 749 735 747 740]\n",
      " [747 747 737 737 732]\n",
      " [742 736 730 747 738]\n",
      " [744 731 730 747 732]\n",
      " [742 741 748 738 747]\n",
      " [732 740 746 743 731]\n",
      " [747 743 747 733 747]\n",
      " [738 738 734 736 735]\n",
      " [745 744 735 738 731]\n",
      " [736 742 748 735 732]]\n"
     ]
    }
   ],
   "source": [
    "#NFQ Level 9 and weekly salary after 1, 3, 5 years, use randint that has discrete uniform distribution. 100 Datapoints\n",
    "\n",
    "#100 samples looking to simulate mean value of 510\n",
    "NFQ9_1 = np.random.randint(500,520,(20,5))\n",
    "print('Salaries Year1 NFQ9', NFQ9_1)\n",
    "\n",
    "#100 samples looking to simulate mean value of 630\n",
    "NFQ9_3 = np.random.randint(620,640,(20,5))\n",
    "print('Salaries Year3 NFQ9', NFQ9_3)\n",
    "\n",
    "#100 samples looking to simulate mean value of 740\n",
    "NFQ9_5 = np.random.randint(730,750,(20,5))\n",
    "print('Salaries Year5 NFQ9', NFQ9_5)"
   ]
  },
  {
   "cell_type": "code",
   "execution_count": 19,
   "metadata": {},
   "outputs": [
    {
     "name": "stdout",
     "output_type": "stream",
     "text": [
      "Salaries Year1 NFQ10 [[708 714 697 704 714]\n",
      " [703 709 709 707 711]\n",
      " [711 703 708 707 714]\n",
      " [702 710 703 705 698]\n",
      " [713 714 699 696 697]\n",
      " [711 706 707 697 700]\n",
      " [705 709 702 707 701]\n",
      " [698 699 696 698 695]\n",
      " [708 702 697 714 698]\n",
      " [714 700 696 712 712]\n",
      " [704 704 703 699 713]\n",
      " [695 709 701 711 696]\n",
      " [705 703 708 711 695]\n",
      " [702 701 712 705 701]\n",
      " [700 709 703 702 697]\n",
      " [705 712 711 705 699]\n",
      " [709 700 714 710 696]\n",
      " [701 714 711 707 698]\n",
      " [709 698 696 700 701]\n",
      " [696 696 699 706 704]]\n",
      "Salaries Year3 NFQ10 [[805 811 800 805 808]\n",
      " [809 799 797 806 813]\n",
      " [801 805 796 803 807]\n",
      " [800 799 811 802 804]\n",
      " [813 814 813 807 801]\n",
      " [813 801 797 800 807]\n",
      " [813 803 806 799 811]\n",
      " [799 810 812 799 795]\n",
      " [795 813 814 805 813]\n",
      " [811 805 795 805 807]\n",
      " [799 797 798 809 800]\n",
      " [797 795 797 802 811]\n",
      " [797 811 804 802 799]\n",
      " [802 806 809 801 805]\n",
      " [813 810 811 812 813]\n",
      " [805 799 804 807 804]\n",
      " [801 808 813 812 812]\n",
      " [801 803 814 796 796]\n",
      " [813 799 806 813 802]\n",
      " [797 797 795 809 807]]\n",
      "Salaries Year5 NFQ10 [[926 926 917 920 929]\n",
      " [926 919 919 912 910]\n",
      " [926 926 918 914 924]\n",
      " [917 913 918 916 915]\n",
      " [928 920 926 919 915]\n",
      " [920 919 919 915 927]\n",
      " [920 922 919 919 918]\n",
      " [912 919 920 927 916]\n",
      " [929 923 928 921 914]\n",
      " [912 924 927 925 929]\n",
      " [912 924 918 910 914]\n",
      " [912 922 915 916 918]\n",
      " [926 921 922 916 920]\n",
      " [910 919 929 922 910]\n",
      " [913 916 917 917 922]\n",
      " [925 920 927 915 917]\n",
      " [919 910 922 916 922]\n",
      " [914 915 910 913 919]\n",
      " [914 925 914 922 913]\n",
      " [911 912 913 917 918]]\n"
     ]
    }
   ],
   "source": [
    "#NFQ Level 10 and weekly salary after 1, 3, 5 years, use randint that has discrete uniform distribution. 100 Datapoints\n",
    "\n",
    "#100 samples looking to simulate mean value of 705\n",
    "NFQ10_1 = np.random.randint(695,715,(20,5))\n",
    "print('Salaries Year1 NFQ10', NFQ10_1)\n",
    "\n",
    "#100 samples looking to simulate mean value of 805\n",
    "NFQ10_3 = np.random.randint(795,815,(20,5))\n",
    "print('Salaries Year3 NFQ10', NFQ10_3)\n",
    "\n",
    "#100 samples looking to simulate mean value of 920\n",
    "NFQ10_5 = np.random.randint(910,930,(20,5))\n",
    "print('Salaries Year5 NFQ10', NFQ10_5)"
   ]
  },
  {
   "cell_type": "code",
   "execution_count": 20,
   "metadata": {},
   "outputs": [
    {
     "name": "stdout",
     "output_type": "stream",
     "text": [
      "Mean weekly wage of NFQ6 after 1 year is 244.11\n",
      "Mean weekly wage of NFQ6 after 3 years is 359.18\n",
      "Mean weekly wage of NFQ6 after 5 years is 474.39\n"
     ]
    }
   ],
   "source": [
    "#Calculate mean of weekly salaries for each qualification after 1, 3, 5 years after graduation\n",
    "\n",
    "#NFQ level 6 after 1 year\n",
    "x1 = np.mean(NFQ6_1)\n",
    "print('Mean weekly wage of NFQ6 after 1 year is', x1)\n",
    "\n",
    "#NFQ level 6 after 3 years\n",
    "x2 = np.mean(NFQ6_3)\n",
    "print('Mean weekly wage of NFQ6 after 3 years is', x2)\n",
    "\n",
    "#NFQ level 6 after 5 years\n",
    "x3 = np.mean(NFQ6_5)\n",
    "print('Mean weekly wage of NFQ6 after 5 years is', x3)"
   ]
  },
  {
   "cell_type": "code",
   "execution_count": 21,
   "metadata": {},
   "outputs": [
    {
     "name": "stdout",
     "output_type": "stream",
     "text": [
      "Mean weekly wage of NFQ7 after 1 year is 288.72\n",
      "Mean weekly wage of NFQ7 after 3 years is 419.88\n",
      "Mean weekly wage of NFQ7 after 5 years is 524.17\n"
     ]
    }
   ],
   "source": [
    "#NFQ level 7 after 1 year\n",
    "x4 = np.mean(NFQ7_1)\n",
    "print('Mean weekly wage of NFQ7 after 1 year is', x4)\n",
    "\n",
    "#NFQ level 7 after 3 years\n",
    "x5 = np.mean(NFQ7_3)\n",
    "print('Mean weekly wage of NFQ7 after 3 years is', x5)\n",
    "\n",
    "#NFQ level 7 after 5 years\n",
    "x6 = np.mean(NFQ7_5)\n",
    "print('Mean weekly wage of NFQ7 after 5 years is', x6)"
   ]
  },
  {
   "cell_type": "code",
   "execution_count": 22,
   "metadata": {},
   "outputs": [
    {
     "name": "stdout",
     "output_type": "stream",
     "text": [
      "Mean weekly wage of NFQ8 after 1 year is 424.73\n",
      "Mean weekly wage of NFQ8 after 3 years is 533.85\n",
      "Mean weekly wage of NFQ8 after 5 years is 649.22\n"
     ]
    }
   ],
   "source": [
    "#NFQ level 8 after 1 year\n",
    "x7 = np.mean(NFQ8_1)\n",
    "print('Mean weekly wage of NFQ8 after 1 year is', x7)\n",
    "\n",
    "#NFQ level 8 after 3 years\n",
    "x8 = np.mean(NFQ8_3)\n",
    "print('Mean weekly wage of NFQ8 after 3 years is', x8)\n",
    "\n",
    "#NFQ level 8 after 5 years\n",
    "x9 = np.mean(NFQ8_5)\n",
    "print('Mean weekly wage of NFQ8 after 5 years is', x9)"
   ]
  },
  {
   "cell_type": "code",
   "execution_count": 23,
   "metadata": {},
   "outputs": [
    {
     "name": "stdout",
     "output_type": "stream",
     "text": [
      "Mean weekly wage of NFQ9 after 1 year is 509.06\n",
      "Mean weekly wage of NFQ9 after 3 years is 630.27\n",
      "Mean weekly wage of NFQ9 after 5 years is 739.74\n"
     ]
    }
   ],
   "source": [
    "#NFQ level 9 after 1 year\n",
    "x10 = np.mean(NFQ9_1)\n",
    "print('Mean weekly wage of NFQ9 after 1 year is', x10)\n",
    "\n",
    "#NFQ level 9 after 3 years\n",
    "x11 = np.mean(NFQ9_3)\n",
    "print('Mean weekly wage of NFQ9 after 3 years is', x11)\n",
    "\n",
    "#NFQ level 9 after 5 years\n",
    "x12 = np.mean(NFQ9_5)\n",
    "print('Mean weekly wage of NFQ9 after 5 years is', x12)"
   ]
  },
  {
   "cell_type": "code",
   "execution_count": 24,
   "metadata": {},
   "outputs": [
    {
     "name": "stdout",
     "output_type": "stream",
     "text": [
      "Mean weekly wage of NFQ10 after 1 year is 704.26\n",
      "Mean weekly wage of NFQ10 after 3 years is 804.7\n",
      "Mean weekly wage of NFQ10 after 5 years is 918.87\n"
     ]
    }
   ],
   "source": [
    "#NFQ level 10 after 1 year\n",
    "x13 = np.mean(NFQ10_1)\n",
    "print('Mean weekly wage of NFQ10 after 1 year is', x13)\n",
    "\n",
    "#NFQ level 10 after 3 years\n",
    "x14 = np.mean(NFQ10_3)\n",
    "print('Mean weekly wage of NFQ10 after 3 years is', x14)\n",
    "\n",
    "#NFQ level 10 after 5 years\n",
    "x15 = np.mean(NFQ10_5)\n",
    "print('Mean weekly wage of NFQ10 after 5 years is', x15)"
   ]
  },
  {
   "cell_type": "code",
   "execution_count": 37,
   "metadata": {},
   "outputs": [
    {
     "data": {
      "image/png": "[encoded data removed]",
      "text/plain": [
       "<matplotlib.figure.Figure at 0x21901cbdb70>"
      ]
     },
     "metadata": {},
     "output_type": "display_data"
    }
   ],
   "source": [
    "#assign value for years and then plot for mean of weekly wage for each qualification\n",
    "y1 = 1\n",
    "y2 = 3\n",
    "y3 = 5\n",
    "\n",
    "plt.plot(y1, x1, 'go')\n",
    "plt.plot(y2, x2, 'go')\n",
    "plt.plot(y3, x3, 'go')\n",
    "plt.plot(y1, x4, 'ko')\n",
    "plt.plot(y2, x5, 'ko')\n",
    "plt.plot(y3, x6, 'ko')\n",
    "plt.plot(y1, x7, 'bo')\n",
    "plt.plot(y2, x8, 'bo')\n",
    "plt.plot(y3, x9, 'bo')\n",
    "plt.plot(y1, x10, 'ro')\n",
    "plt.plot(y2, x11, 'ro')\n",
    "plt.plot(y3, x12, 'ro')\n",
    "plt.plot(y1, x13, 'yo')\n",
    "plt.plot(y2, x14, 'yo')\n",
    "plt.plot(y3, x15, 'yo')\n",
    "plt.show()\n"
   ]
  },
  {
   "cell_type": "code",
   "execution_count": null,
   "metadata": {
    "collapsed": true
   },
   "outputs": [],
   "source": []
  }
 ],
 "metadata": {
  "kernelspec": {
   "display_name": "Python 3",
   "language": "python",
   "name": "python3"
  },
  "language_info": {
   "codemirror_mode": {
    "name": "ipython",
    "version": 3
   },
   "file_extension": ".py",
   "mimetype": "text/x-python",
   "name": "python",
   "nbconvert_exporter": "python",
   "pygments_lexer": "ipython3",
   "version": "3.6.3"
  }
 },
 "nbformat": 4,
 "nbformat_minor": 2
}
