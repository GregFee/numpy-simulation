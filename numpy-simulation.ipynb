{
 "cells": [
  {
   "cell_type": "markdown",
   "metadata": {},
   "source": [
    "# Numpy Simulation"
   ]
  },
  {
   "cell_type": "markdown",
   "metadata": {
    "collapsed": true
   },
   "source": [
    "## Simulation of effect of NFQ Qulaification Level on Weekly Wages over 1, 3 and 5 years since graduation\n",
    "\n",
    "#### What is NFQ Level:"
   ]
  },
  {
   "cell_type": "markdown",
   "metadata": {},
   "source": [
    "#### Original Data from CSO study figure 6.4 \n",
    "\n",
    "https://www.cso.ie/en/media/csoie/releasespublications/documents/education/2014/Higher_Education_Outcomes_book_-_web.pdf"
   ]
  },
  {
   "cell_type": "markdown",
   "metadata": {},
   "source": [
    "Add figure 6.4"
   ]
  },
  {
   "cell_type": "code",
   "execution_count": 1,
   "metadata": {
    "collapsed": true
   },
   "outputs": [],
   "source": [
    "#import libraries\n",
    "import matplotlib.pyplot as plt\n",
    "import numpy as np\n",
    "import pylab\n",
    "Polynomial = np.polynomial.Polynomial\n",
    "import matplotlib.patches as mpatches\n",
    "import pandas as pd"
   ]
  },
  {
   "cell_type": "code",
   "execution_count": 2,
   "metadata": {
    "collapsed": true
   },
   "outputs": [],
   "source": [
    "#assign value for years and then \n",
    "y1 = 1\n",
    "y2 = 3\n",
    "y3 = 5"
   ]
  },
  {
   "cell_type": "code",
   "execution_count": 3,
   "metadata": {},
   "outputs": [
    {
     "name": "stdout",
     "output_type": "stream",
     "text": [
      "Salaries Year1 NFQ6 [[241 249 245 247 240]\n",
      " [243 244 248 240 242]\n",
      " [247 248 241 244 246]\n",
      " [242 240 242 243 246]\n",
      " [248 243 243 244 244]\n",
      " [246 244 245 241 242]\n",
      " [240 248 245 242 249]\n",
      " [240 240 247 244 242]\n",
      " [245 247 244 242 244]\n",
      " [243 246 244 241 244]\n",
      " [243 244 247 241 249]\n",
      " [247 240 242 240 248]\n",
      " [244 245 242 241 242]\n",
      " [248 240 241 241 242]\n",
      " [242 242 242 241 241]\n",
      " [248 245 249 244 242]\n",
      " [242 246 241 244 247]\n",
      " [247 240 242 242 243]\n",
      " [242 248 242 248 245]\n",
      " [247 240 241 242 247]]\n",
      "Salaries Year3 NFQ6 [[352 353 360 368 367]\n",
      " [363 359 360 363 355]\n",
      " [358 365 364 358 355]\n",
      " [363 369 352 363 365]\n",
      " [358 361 360 364 362]\n",
      " [363 357 366 355 368]\n",
      " [354 351 355 350 364]\n",
      " [359 361 364 363 363]\n",
      " [353 367 350 351 369]\n",
      " [355 354 359 363 365]\n",
      " [355 364 359 358 356]\n",
      " [361 364 369 356 362]\n",
      " [350 358 365 361 369]\n",
      " [362 354 360 357 359]\n",
      " [355 360 350 362 356]\n",
      " [368 352 358 358 361]\n",
      " [356 364 359 356 366]\n",
      " [366 363 358 355 351]\n",
      " [363 351 365 355 350]\n",
      " [369 356 362 369 361]]\n",
      "Salries Year5 NFQ5 [[477 471 474 472 473]\n",
      " [474 479 479 473 470]\n",
      " [478 473 474 473 476]\n",
      " [476 472 472 474 476]\n",
      " [476 473 471 479 471]\n",
      " [470 479 471 472 476]\n",
      " [473 470 477 478 471]\n",
      " [473 475 477 478 477]\n",
      " [475 473 476 476 473]\n",
      " [473 477 478 470 471]\n",
      " [473 472 470 473 476]\n",
      " [470 471 479 472 475]\n",
      " [476 474 472 477 477]\n",
      " [474 477 471 477 470]\n",
      " [479 470 475 478 476]\n",
      " [470 471 475 479 475]\n",
      " [477 477 479 477 474]\n",
      " [472 479 474 471 477]\n",
      " [473 475 471 472 470]\n",
      " [475 471 474 470 474]]\n"
     ]
    }
   ],
   "source": [
    "#NFQ Level 6 and weekly salary after 1, 3, 5 years, use randint that has discrete uniform distribution. 100 Datapoints\n",
    "\n",
    "#100 samples looking to simulate mean value of 245\n",
    "NFQ6_1 = np.random.randint(240,250,(20,5))\n",
    "print('Salaries Year1 NFQ6', NFQ6_1)\n",
    "\n",
    "#100 samples looking to simulate mean value of 360\n",
    "NFQ6_3 = np.random.randint(350,370,(20,5))\n",
    "print('Salaries Year3 NFQ6', NFQ6_3)\n",
    "\n",
    "#100 samples looking to simulate mean value of 475\n",
    "NFQ6_5 = np.random.randint(470,480,(20,5))\n",
    "print('Salries Year5 NFQ5', NFQ6_5)"
   ]
  },
  {
   "cell_type": "code",
   "execution_count": 4,
   "metadata": {},
   "outputs": [
    {
     "name": "stdout",
     "output_type": "stream",
     "text": [
      "Salaries Year1 NFQ7 [[282 289 290 283 295]\n",
      " [280 293 298 284 290]\n",
      " [296 283 285 290 286]\n",
      " [286 284 297 298 293]\n",
      " [293 284 282 296 290]\n",
      " [298 298 298 281 288]\n",
      " [288 280 293 299 299]\n",
      " [280 288 296 282 282]\n",
      " [280 299 287 290 293]\n",
      " [296 296 294 294 289]\n",
      " [286 293 298 288 293]\n",
      " [281 284 299 297 286]\n",
      " [297 298 296 288 292]\n",
      " [298 291 285 292 289]\n",
      " [299 290 285 296 282]\n",
      " [286 295 280 294 293]\n",
      " [282 297 287 284 286]\n",
      " [285 287 283 287 280]\n",
      " [298 297 285 291 295]\n",
      " [289 290 297 281 295]]\n",
      "Salaries Year3 NFQ7 [[421 412 414 427 418]\n",
      " [420 429 418 429 429]\n",
      " [412 410 427 421 419]\n",
      " [424 423 421 419 424]\n",
      " [415 421 428 418 413]\n",
      " [417 423 416 413 424]\n",
      " [412 410 426 427 422]\n",
      " [416 416 427 425 429]\n",
      " [416 414 412 425 426]\n",
      " [421 417 419 417 419]\n",
      " [429 421 415 426 414]\n",
      " [417 424 422 416 426]\n",
      " [411 426 426 415 429]\n",
      " [419 421 425 424 425]\n",
      " [420 425 423 411 425]\n",
      " [416 414 429 415 417]\n",
      " [414 415 410 426 412]\n",
      " [422 422 425 418 413]\n",
      " [414 415 421 427 426]\n",
      " [417 416 428 428 426]]\n",
      "Salaries Year5 NFQ7 [[525 528 518 527 527]\n",
      " [516 534 519 529 524]\n",
      " [527 523 529 529 531]\n",
      " [526 517 521 519 534]\n",
      " [519 528 516 528 527]\n",
      " [525 520 516 521 530]\n",
      " [515 523 520 519 520]\n",
      " [520 531 531 518 527]\n",
      " [517 533 519 515 520]\n",
      " [525 531 524 524 516]\n",
      " [515 523 523 532 523]\n",
      " [515 527 528 533 534]\n",
      " [534 532 530 518 523]\n",
      " [534 528 519 533 526]\n",
      " [517 530 527 521 527]\n",
      " [534 524 529 519 533]\n",
      " [523 530 525 517 527]\n",
      " [534 526 530 532 531]\n",
      " [529 528 522 533 521]\n",
      " [531 534 517 528 533]]\n"
     ]
    }
   ],
   "source": [
    "#NFQ Level 7 and weekly salary after 1, 3, 5 years, use randint that has discrete uniform distribution. 100 Datapoints\n",
    "\n",
    "#100 samples looking to simulate mean value of 290\n",
    "NFQ7_1 = np.random.randint(280,300,(20,5))\n",
    "print('Salaries Year1 NFQ7', NFQ7_1)\n",
    "\n",
    "#100 samples looking to simulate mean value of 420\n",
    "NFQ7_3 = np.random.randint(410,430,(20,5))\n",
    "print('Salaries Year3 NFQ7', NFQ7_3)\n",
    "\n",
    "#100 samples looking to simulate mean value of 525\n",
    "NFQ7_5 = np.random.randint(515,535,(20,5))\n",
    "print('Salaries Year5 NFQ7', NFQ7_5)"
   ]
  },
  {
   "cell_type": "code",
   "execution_count": 5,
   "metadata": {},
   "outputs": [
    {
     "name": "stdout",
     "output_type": "stream",
     "text": [
      "Salaries Year1 NFQ8 [[419 429 416 426 418]\n",
      " [433 420 426 421 416]\n",
      " [418 415 431 415 422]\n",
      " [431 423 424 428 423]\n",
      " [427 425 420 416 417]\n",
      " [433 417 434 427 431]\n",
      " [420 421 433 430 432]\n",
      " [433 430 419 428 419]\n",
      " [421 419 433 420 429]\n",
      " [417 421 425 420 420]\n",
      " [432 424 419 423 430]\n",
      " [428 420 415 428 417]\n",
      " [420 428 424 425 419]\n",
      " [427 429 430 434 427]\n",
      " [430 421 415 422 423]\n",
      " [431 419 425 434 427]\n",
      " [434 420 434 434 421]\n",
      " [420 428 418 431 432]\n",
      " [417 429 427 415 421]\n",
      " [427 433 421 423 434]]\n",
      "Salaries Year3 NFQ8 [[544 544 534 540 531]\n",
      " [526 530 536 539 525]\n",
      " [544 537 541 537 528]\n",
      " [537 526 542 537 536]\n",
      " [539 528 543 529 526]\n",
      " [526 526 544 535 535]\n",
      " [528 526 542 541 528]\n",
      " [527 537 531 538 538]\n",
      " [537 531 535 525 528]\n",
      " [543 536 525 539 540]\n",
      " [542 539 534 536 540]\n",
      " [527 540 530 527 539]\n",
      " [529 530 538 534 544]\n",
      " [526 527 540 544 538]\n",
      " [544 537 538 538 541]\n",
      " [540 531 530 526 535]\n",
      " [527 526 540 537 532]\n",
      " [531 526 542 529 541]\n",
      " [543 536 540 525 525]\n",
      " [541 538 530 525 543]]\n",
      "Salaries Year5 NFQ8 [[642 645 655 647 649]\n",
      " [644 652 648 646 646]\n",
      " [658 647 655 649 654]\n",
      " [649 656 649 656 653]\n",
      " [641 652 655 659 645]\n",
      " [640 649 640 657 640]\n",
      " [652 645 659 655 650]\n",
      " [659 654 651 648 648]\n",
      " [646 643 646 657 642]\n",
      " [651 649 656 642 645]\n",
      " [653 653 641 643 641]\n",
      " [642 657 646 646 645]\n",
      " [644 653 646 649 658]\n",
      " [653 655 659 642 654]\n",
      " [641 649 658 653 642]\n",
      " [654 640 642 655 656]\n",
      " [656 648 647 646 643]\n",
      " [655 656 645 640 652]\n",
      " [655 643 654 650 656]\n",
      " [652 646 642 651 659]]\n"
     ]
    }
   ],
   "source": [
    "#NFQ Level 8 and weekly salary after 1, 3, 5 years, use randint that has discrete uniform distribution. 100 Datapoints\n",
    "\n",
    "#100 samples looking to simulate mean value of 425\n",
    "NFQ8_1 = np.random.randint(415,435,(20,5))\n",
    "print('Salaries Year1 NFQ8', NFQ8_1)\n",
    "\n",
    "#100 samples looking to simulate mean value of 535\n",
    "NFQ8_3 = np.random.randint(525,545,(20,5))\n",
    "print('Salaries Year3 NFQ8', NFQ8_3)\n",
    "\n",
    "#100 samples looking to simulate mean value of 650\n",
    "NFQ8_5 = np.random.randint(640,660,(20,5))\n",
    "print('Salaries Year5 NFQ8', NFQ8_5)"
   ]
  },
  {
   "cell_type": "code",
   "execution_count": 6,
   "metadata": {},
   "outputs": [
    {
     "name": "stdout",
     "output_type": "stream",
     "text": [
      "Salaries Year1 NFQ9 [[510 514 510 515 506]\n",
      " [506 512 500 518 508]\n",
      " [500 517 513 503 504]\n",
      " [500 509 503 507 515]\n",
      " [504 517 506 506 502]\n",
      " [518 509 512 504 514]\n",
      " [500 519 515 506 513]\n",
      " [508 507 506 506 513]\n",
      " [502 502 500 502 514]\n",
      " [513 518 510 506 508]\n",
      " [519 508 517 508 514]\n",
      " [518 512 511 516 518]\n",
      " [519 510 519 511 517]\n",
      " [508 502 519 507 505]\n",
      " [503 509 515 517 503]\n",
      " [510 513 515 515 509]\n",
      " [503 516 506 501 514]\n",
      " [518 503 513 519 505]\n",
      " [517 502 504 516 502]\n",
      " [508 505 507 500 508]]\n",
      "Salaries Year3 NFQ9 [[632 622 622 629 629]\n",
      " [632 625 628 622 635]\n",
      " [633 624 627 626 622]\n",
      " [628 630 634 635 624]\n",
      " [629 632 634 631 620]\n",
      " [633 630 622 630 639]\n",
      " [630 628 623 631 639]\n",
      " [628 635 626 634 634]\n",
      " [639 635 624 639 626]\n",
      " [639 639 636 638 639]\n",
      " [629 635 628 624 623]\n",
      " [639 639 635 627 626]\n",
      " [623 621 633 630 634]\n",
      " [627 634 627 622 635]\n",
      " [632 629 623 633 639]\n",
      " [625 630 637 635 637]\n",
      " [632 637 626 632 630]\n",
      " [623 637 624 621 621]\n",
      " [636 626 627 630 637]\n",
      " [638 638 634 636 632]]\n",
      "Salaries Year5 NFQ9 [[747 731 742 745 741]\n",
      " [737 746 742 747 745]\n",
      " [734 747 742 749 747]\n",
      " [745 743 738 743 735]\n",
      " [732 740 748 733 736]\n",
      " [734 742 743 733 731]\n",
      " [742 746 732 748 736]\n",
      " [743 744 741 731 741]\n",
      " [746 730 731 747 746]\n",
      " [735 734 746 745 732]\n",
      " [734 739 747 734 748]\n",
      " [745 746 738 736 748]\n",
      " [730 733 732 730 736]\n",
      " [746 742 737 744 730]\n",
      " [732 741 739 741 742]\n",
      " [747 732 745 746 732]\n",
      " [737 738 744 749 733]\n",
      " [734 747 738 738 735]\n",
      " [733 744 746 732 738]\n",
      " [739 740 742 743 740]]\n"
     ]
    }
   ],
   "source": [
    "#NFQ Level 9 and weekly salary after 1, 3, 5 years, use randint that has discrete uniform distribution. 100 Datapoints\n",
    "\n",
    "#100 samples looking to simulate mean value of 510\n",
    "NFQ9_1 = np.random.randint(500,520,(20,5))\n",
    "print('Salaries Year1 NFQ9', NFQ9_1)\n",
    "\n",
    "#100 samples looking to simulate mean value of 630\n",
    "NFQ9_3 = np.random.randint(620,640,(20,5))\n",
    "print('Salaries Year3 NFQ9', NFQ9_3)\n",
    "\n",
    "#100 samples looking to simulate mean value of 740\n",
    "NFQ9_5 = np.random.randint(730,750,(20,5))\n",
    "print('Salaries Year5 NFQ9', NFQ9_5)"
   ]
  },
  {
   "cell_type": "code",
   "execution_count": 7,
   "metadata": {},
   "outputs": [
    {
     "name": "stdout",
     "output_type": "stream",
     "text": [
      "Salaries Year1 NFQ10 [[703 712 712 711 698]\n",
      " [700 713 695 703 710]\n",
      " [706 704 698 704 703]\n",
      " [703 707 710 712 701]\n",
      " [708 706 702 701 711]\n",
      " [695 703 705 699 711]\n",
      " [695 708 699 705 713]\n",
      " [708 696 709 701 713]\n",
      " [702 705 708 709 708]\n",
      " [713 696 703 713 703]\n",
      " [712 710 708 709 707]\n",
      " [710 702 706 704 712]\n",
      " [698 708 705 702 703]\n",
      " [706 701 708 708 714]\n",
      " [709 702 695 703 712]\n",
      " [703 710 701 696 696]\n",
      " [709 712 714 706 697]\n",
      " [700 703 699 705 703]\n",
      " [700 711 697 707 707]\n",
      " [708 707 698 697 696]]\n",
      "Salaries Year3 NFQ10 [[801 804 813 809 813]\n",
      " [813 811 797 803 811]\n",
      " [810 801 796 795 797]\n",
      " [801 797 811 807 808]\n",
      " [803 799 804 807 805]\n",
      " [799 797 798 813 797]\n",
      " [798 802 807 813 799]\n",
      " [813 810 812 800 797]\n",
      " [810 809 809 800 808]\n",
      " [807 808 801 801 806]\n",
      " [797 804 795 803 807]\n",
      " [798 807 810 804 800]\n",
      " [800 803 813 806 796]\n",
      " [813 808 810 811 814]\n",
      " [811 800 806 796 805]\n",
      " [814 813 804 797 810]\n",
      " [799 798 805 808 805]\n",
      " [805 812 802 810 807]\n",
      " [800 804 802 808 798]\n",
      " [806 798 812 810 796]]\n",
      "Salaries Year5 NFQ10 [[922 912 911 915 929]\n",
      " [922 918 918 914 916]\n",
      " [915 916 918 923 922]\n",
      " [929 924 925 928 919]\n",
      " [917 915 917 929 917]\n",
      " [926 929 911 920 918]\n",
      " [912 910 910 919 924]\n",
      " [918 927 929 913 913]\n",
      " [927 922 913 916 911]\n",
      " [917 915 914 915 910]\n",
      " [926 913 922 927 915]\n",
      " [916 918 913 921 922]\n",
      " [916 920 916 920 919]\n",
      " [928 912 916 915 921]\n",
      " [918 923 917 914 913]\n",
      " [921 912 925 911 924]\n",
      " [926 914 913 910 929]\n",
      " [924 928 915 925 920]\n",
      " [912 918 918 920 925]\n",
      " [924 910 924 925 918]]\n"
     ]
    }
   ],
   "source": [
    "#NFQ Level 10 and weekly salary after 1, 3, 5 years, use randint that has discrete uniform distribution. 100 Datapoints\n",
    "\n",
    "#100 samples looking to simulate mean value of 705\n",
    "NFQ10_1 = np.random.randint(695,715,(20,5))\n",
    "print('Salaries Year1 NFQ10', NFQ10_1)\n",
    "\n",
    "#100 samples looking to simulate mean value of 805\n",
    "NFQ10_3 = np.random.randint(795,815,(20,5))\n",
    "print('Salaries Year3 NFQ10', NFQ10_3)\n",
    "\n",
    "#100 samples looking to simulate mean value of 920\n",
    "NFQ10_5 = np.random.randint(910,930,(20,5))\n",
    "print('Salaries Year5 NFQ10', NFQ10_5)"
   ]
  },
  {
   "cell_type": "code",
   "execution_count": 8,
   "metadata": {},
   "outputs": [
    {
     "name": "stdout",
     "output_type": "stream",
     "text": [
      "Mean weekly wage of NFQ6 after 1 year is 243.74\n",
      "Mean weekly wage of NFQ6 after 3 years is 359.7\n",
      "Mean weekly wage of NFQ6 after 5 years is 474.21\n"
     ]
    }
   ],
   "source": [
    "#Calculate mean of weekly salaries for each qualification after 1, 3, 5 years after graduation\n",
    "\n",
    "#NFQ level 6 after 1 year\n",
    "x1 = np.mean(NFQ6_1)\n",
    "print('Mean weekly wage of NFQ6 after 1 year is', x1)\n",
    "\n",
    "#NFQ level 6 after 3 years\n",
    "x2 = np.mean(NFQ6_3)\n",
    "print('Mean weekly wage of NFQ6 after 3 years is', x2)\n",
    "\n",
    "#NFQ level 6 after 5 years\n",
    "x3 = np.mean(NFQ6_5)\n",
    "print('Mean weekly wage of NFQ6 after 5 years is', x3)"
   ]
  },
  {
   "cell_type": "code",
   "execution_count": 9,
   "metadata": {},
   "outputs": [
    {
     "name": "stdout",
     "output_type": "stream",
     "text": [
      "Mean weekly wage of NFQ7 after 1 year is 290.02\n",
      "Mean weekly wage of NFQ7 after 3 years is 420.22\n",
      "Mean weekly wage of NFQ7 after 5 years is 525.23\n"
     ]
    }
   ],
   "source": [
    "#NFQ level 7 after 1 year\n",
    "x4 = np.mean(NFQ7_1)\n",
    "print('Mean weekly wage of NFQ7 after 1 year is', x4)\n",
    "\n",
    "#NFQ level 7 after 3 years\n",
    "x5 = np.mean(NFQ7_3)\n",
    "print('Mean weekly wage of NFQ7 after 3 years is', x5)\n",
    "\n",
    "#NFQ level 7 after 5 years\n",
    "x6 = np.mean(NFQ7_5)\n",
    "print('Mean weekly wage of NFQ7 after 5 years is', x6)"
   ]
  },
  {
   "cell_type": "code",
   "execution_count": 10,
   "metadata": {},
   "outputs": [
    {
     "name": "stdout",
     "output_type": "stream",
     "text": [
      "Mean weekly wage of NFQ8 after 1 year is 424.56\n",
      "Mean weekly wage of NFQ8 after 3 years is 534.61\n",
      "Mean weekly wage of NFQ8 after 5 years is 649.42\n"
     ]
    }
   ],
   "source": [
    "#NFQ level 8 after 1 year\n",
    "x7 = np.mean(NFQ8_1)\n",
    "print('Mean weekly wage of NFQ8 after 1 year is', x7)\n",
    "\n",
    "#NFQ level 8 after 3 years\n",
    "x8 = np.mean(NFQ8_3)\n",
    "print('Mean weekly wage of NFQ8 after 3 years is', x8)\n",
    "\n",
    "#NFQ level 8 after 5 years\n",
    "x9 = np.mean(NFQ8_5)\n",
    "print('Mean weekly wage of NFQ8 after 5 years is', x9)"
   ]
  },
  {
   "cell_type": "code",
   "execution_count": 11,
   "metadata": {},
   "outputs": [
    {
     "name": "stdout",
     "output_type": "stream",
     "text": [
      "Mean weekly wage of NFQ9 after 1 year is 509.64\n",
      "Mean weekly wage of NFQ9 after 3 years is 630.49\n",
      "Mean weekly wage of NFQ9 after 5 years is 739.76\n"
     ]
    }
   ],
   "source": [
    "#NFQ level 9 after 1 year\n",
    "x10 = np.mean(NFQ9_1)\n",
    "print('Mean weekly wage of NFQ9 after 1 year is', x10)\n",
    "\n",
    "#NFQ level 9 after 3 years\n",
    "x11 = np.mean(NFQ9_3)\n",
    "print('Mean weekly wage of NFQ9 after 3 years is', x11)\n",
    "\n",
    "#NFQ level 9 after 5 years\n",
    "x12 = np.mean(NFQ9_5)\n",
    "print('Mean weekly wage of NFQ9 after 5 years is', x12)"
   ]
  },
  {
   "cell_type": "code",
   "execution_count": 12,
   "metadata": {},
   "outputs": [
    {
     "name": "stdout",
     "output_type": "stream",
     "text": [
      "Mean weekly wage of NFQ10 after 1 year is 704.89\n",
      "Mean weekly wage of NFQ10 after 3 years is 804.7\n",
      "Mean weekly wage of NFQ10 after 5 years is 918.82\n"
     ]
    }
   ],
   "source": [
    "#NFQ level 10 after 1 year\n",
    "x13 = np.mean(NFQ10_1)\n",
    "print('Mean weekly wage of NFQ10 after 1 year is', x13)\n",
    "\n",
    "#NFQ level 10 after 3 years\n",
    "x14 = np.mean(NFQ10_3)\n",
    "print('Mean weekly wage of NFQ10 after 3 years is', x14)\n",
    "\n",
    "#NFQ level 10 after 5 years\n",
    "x15 = np.mean(NFQ10_5)\n",
    "print('Mean weekly wage of NFQ10 after 5 years is', x15)"
   ]
  },
  {
   "cell_type": "code",
   "execution_count": 23,
   "metadata": {},
   "outputs": [
    {
     "data": {
      "image/png": "[encoded data removed]",
      "text/plain": [
       "<matplotlib.figure.Figure at 0x230600455c0>"
      ]
     },
     "metadata": {},
     "output_type": "display_data"
    }
   ],
   "source": [
    "fig, ax = plt.subplots()\n",
    "ax.plot(y1, x1, 'go')\n",
    "ax.plot(y2, x2, 'go')\n",
    "ax.plot(y3, x3, 'go')\n",
    "ax.plot(y1, x4, 'ko')\n",
    "ax.plot(y2, x5, 'ko')\n",
    "ax.plot(y3, x6, 'ko')\n",
    "ax.plot(y1, x7, 'bo')\n",
    "ax.plot(y2, x8, 'bo')\n",
    "ax.plot(y3, x9, 'bo')\n",
    "ax.plot(y1, x10, 'ro')\n",
    "ax.plot(y2, x11, 'ro')\n",
    "ax.plot(y3, x12, 'ro')\n",
    "ax.plot(y1, x13, 'yo')\n",
    "ax.plot(y2, x14, 'yo')\n",
    "ax.plot(y3, x15, 'yo')\n",
    "ax.set(xlabel='Years since Graduation', ylabel='wages per week(Euros)',\n",
    "       title='Weekly Salary and NFQ Levels')\n",
    "ax.grid()\n",
    "plt.show()"
   ]
  },
  {
   "cell_type": "code",
   "execution_count": 14,
   "metadata": {},
   "outputs": [
    {
     "name": "stdout",
     "output_type": "stream",
     "text": [
      "Wage difference from NFQ10 & NFQ6 5 years after graduation is € 444.61\n",
      "Wage difference from NFQ10 & NFQ7 5 years after graduation is € 393.59\n",
      "Wage difference from NFQ10 & NFQ8 5 years after graduation is € 269.4\n",
      "Wage difference from NFQ10 & NFQ9 5 years after graduation is € 179.06\n"
     ]
    }
   ],
   "source": [
    "range1  = x15 -x3\n",
    "print('Wage difference from NFQ10 & NFQ6 5 years after graduation is €', range1)\n",
    "\n",
    "range2 = x15 - x6\n",
    "print('Wage difference from NFQ10 & NFQ7 5 years after graduation is €', range2)\n",
    "\n",
    "range3 = x15 - x9\n",
    "print('Wage difference from NFQ10 & NFQ8 5 years after graduation is €', range3)\n",
    "\n",
    "range4 = x15 - x12\n",
    "print('Wage difference from NFQ10 & NFQ9 5 years after graduation is €', range4)"
   ]
  },
  {
   "cell_type": "code",
   "execution_count": 24,
   "metadata": {},
   "outputs": [
    {
     "name": "stdout",
     "output_type": "stream",
     "text": [
      "      0    1    2    3    4\n",
      "0   241  249  245  247  240\n",
      "1   243  244  248  240  242\n",
      "2   247  248  241  244  246\n",
      "3   242  240  242  243  246\n",
      "4   248  243  243  244  244\n",
      "5   246  244  245  241  242\n",
      "6   240  248  245  242  249\n",
      "7   240  240  247  244  242\n",
      "8   245  247  244  242  244\n",
      "9   243  246  244  241  244\n",
      "10  243  244  247  241  249\n",
      "11  247  240  242  240  248\n",
      "12  244  245  242  241  242\n",
      "13  248  240  241  241  242\n",
      "14  242  242  242  241  241\n",
      "15  248  245  249  244  242\n",
      "16  242  246  241  244  247\n",
      "17  247  240  242  242  243\n",
      "18  242  248  242  248  245\n",
      "19  247  240  241  242  247\n",
      "      0    1    2    3    4\n",
      "0   352  353  360  368  367\n",
      "1   363  359  360  363  355\n",
      "2   358  365  364  358  355\n",
      "3   363  369  352  363  365\n",
      "4   358  361  360  364  362\n",
      "5   363  357  366  355  368\n",
      "6   354  351  355  350  364\n",
      "7   359  361  364  363  363\n",
      "8   353  367  350  351  369\n",
      "9   355  354  359  363  365\n",
      "10  355  364  359  358  356\n",
      "11  361  364  369  356  362\n",
      "12  350  358  365  361  369\n",
      "13  362  354  360  357  359\n",
      "14  355  360  350  362  356\n",
      "15  368  352  358  358  361\n",
      "16  356  364  359  356  366\n",
      "17  366  363  358  355  351\n",
      "18  363  351  365  355  350\n",
      "19  369  356  362  369  361\n",
      "      0    1    2    3    4\n",
      "0   477  471  474  472  473\n",
      "1   474  479  479  473  470\n",
      "2   478  473  474  473  476\n",
      "3   476  472  472  474  476\n",
      "4   476  473  471  479  471\n",
      "5   470  479  471  472  476\n",
      "6   473  470  477  478  471\n",
      "7   473  475  477  478  477\n",
      "8   475  473  476  476  473\n",
      "9   473  477  478  470  471\n",
      "10  473  472  470  473  476\n",
      "11  470  471  479  472  475\n",
      "12  476  474  472  477  477\n",
      "13  474  477  471  477  470\n",
      "14  479  470  475  478  476\n",
      "15  470  471  475  479  475\n",
      "16  477  477  479  477  474\n",
      "17  472  479  474  471  477\n",
      "18  473  475  471  472  470\n",
      "19  475  471  474  470  474\n"
     ]
    }
   ],
   "source": [
    "#Make dataframe for NFQ6 and look at data\n",
    "df = pd.DataFrame(NFQ6_1)\n",
    "df1 = pd.DataFrame(NFQ6_3)\n",
    "df2 = pd.DataFrame(NFQ6_5)\n",
    "print(df.head(20))\n",
    "print(df1.head(20))\n",
    "print(df2.head(20))"
   ]
  },
  {
   "cell_type": "code",
   "execution_count": 25,
   "metadata": {},
   "outputs": [
    {
     "name": "stdout",
     "output_type": "stream",
     "text": [
      "      0    1    2    3    4\n",
      "0   241  249  245  247  240\n",
      "1   243  244  248  240  242\n",
      "2   247  248  241  244  246\n",
      "3   242  240  242  243  246\n",
      "4   248  243  243  244  244\n",
      "5   246  244  245  241  242\n",
      "6   240  248  245  242  249\n",
      "7   240  240  247  244  242\n",
      "8   245  247  244  242  244\n",
      "9   243  246  244  241  244\n",
      "10  243  244  247  241  249\n",
      "11  247  240  242  240  248\n",
      "12  244  245  242  241  242\n",
      "13  248  240  241  241  242\n",
      "14  242  242  242  241  241\n",
      "15  248  245  249  244  242\n",
      "16  242  246  241  244  247\n",
      "17  247  240  242  242  243\n",
      "18  242  248  242  248  245\n",
      "19  247  240  241  242  247\n",
      "0   352  353  360  368  367\n",
      "1   363  359  360  363  355\n",
      "2   358  365  364  358  355\n",
      "3   363  369  352  363  365\n",
      "4   358  361  360  364  362\n",
      "5   363  357  366  355  368\n",
      "6   354  351  355  350  364\n",
      "7   359  361  364  363  363\n",
      "8   353  367  350  351  369\n",
      "9   355  354  359  363  365\n",
      "10  355  364  359  358  356\n",
      "11  361  364  369  356  362\n",
      "12  350  358  365  361  369\n",
      "13  362  354  360  357  359\n",
      "14  355  360  350  362  356\n",
      "15  368  352  358  358  361\n",
      "16  356  364  359  356  366\n",
      "17  366  363  358  355  351\n",
      "18  363  351  365  355  350\n",
      "19  369  356  362  369  361\n",
      "0   477  471  474  472  473\n",
      "1   474  479  479  473  470\n",
      "2   478  473  474  473  476\n",
      "3   476  472  472  474  476\n",
      "4   476  473  471  479  471\n",
      "5   470  479  471  472  476\n",
      "6   473  470  477  478  471\n",
      "7   473  475  477  478  477\n",
      "8   475  473  476  476  473\n",
      "9   473  477  478  470  471\n",
      "10  473  472  470  473  476\n",
      "11  470  471  479  472  475\n",
      "12  476  474  472  477  477\n",
      "13  474  477  471  477  470\n",
      "14  479  470  475  478  476\n",
      "15  470  471  475  479  475\n",
      "16  477  477  479  477  474\n",
      "17  472  479  474  471  477\n",
      "18  473  475  471  472  470\n",
      "19  475  471  474  470  474\n"
     ]
    }
   ],
   "source": [
    "#combine dataframes together for all NFQ6 levels.\n",
    "data = [df, df1, df2]\n",
    "NFQ6 = pd.concat(data)\n",
    "print(NFQ6)"
   ]
  },
  {
   "cell_type": "code",
   "execution_count": null,
   "metadata": {
    "collapsed": true
   },
   "outputs": [],
   "source": []
  }
 ],
 "metadata": {
  "kernelspec": {
   "display_name": "Python 3",
   "language": "python",
   "name": "python3"
  },
  "language_info": {
   "codemirror_mode": {
    "name": "ipython",
    "version": 3
   },
   "file_extension": ".py",
   "mimetype": "text/x-python",
   "name": "python",
   "nbconvert_exporter": "python",
   "pygments_lexer": "ipython3",
   "version": "3.6.3"
  }
 },
 "nbformat": 4,
 "nbformat_minor": 2
}
