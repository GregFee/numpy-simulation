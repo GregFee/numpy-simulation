{
 "cells": [
  {
   "cell_type": "markdown",
   "metadata": {},
   "source": [
    "# Numpy Simulation of the Effect of NFQ Levels on Weekly Salary"
   ]
  },
  {
   "cell_type": "markdown",
   "metadata": {},
   "source": [
    "![title](img/nfq.png)"
   ]
  },
  {
   "cell_type": "markdown",
   "metadata": {
    "collapsed": true
   },
   "source": [
    "#### What is NFQ Level:\n",
    "\n",
    "The National Framework of Qualifications describe the qualification and of the education and training system in Ireland and how they interlink [1]. The levels are organised by hierachy. The levels considered here were from level 6 to level 10 which is advanced certificate through to doctoral degree level. The data was measured at 3 intervals which were one year, three years and five years after receiving the qualification and the weekly wages received at this time by graduates"
   ]
  },
  {
   "cell_type": "markdown",
   "metadata": {},
   "source": [
    "![title](img/cso.png)\n",
    "\n",
    "The simulation is based on generating the data this graphical image represents. There is no access to the raw data and the data is simulated to obtain the results of the this part of the study. The overall study was an investigation into Higher Eduaction \n",
    "Outcomes of graduates by the Central Statistics Office. It is visually apparent from figure 6.4 that the higher the qualification the higher the weekly wage is obtained.\n",
    "\n",
    "https://www.cso.ie/en/media/csoie/releasespublications/documents/education/2014/Higher_Education_Outcomes_book_-_web.pdf"
   ]
  },
  {
   "cell_type": "markdown",
   "metadata": {},
   "source": [
    "### Other Areas of Study Showing Levels of Qualifications Relationship With Salary\n",
    "\n",
    "In data from the U.S census found that those with Bacheloers Degree(NFQ Level 8) earned 66% more than those just with just a highschool graduation and this increases with 97% with a Master Degree [2]. This increases with the more qualification is advanced. There is definetly positive correlation with qulaification level and salary \n"
   ]
  },
  {
   "cell_type": "code",
   "execution_count": 28,
   "metadata": {
    "collapsed": true
   },
   "outputs": [],
   "source": [
    "#import libraries\n",
    "import matplotlib.pyplot as plt\n",
    "import numpy as np\n",
    "import pylab\n",
    "Polynomial = np.polynomial.Polynomial\n",
    "import matplotlib.patches as mpatches\n",
    "import pandas as pd"
   ]
  },
  {
   "cell_type": "code",
   "execution_count": 29,
   "metadata": {
    "collapsed": true
   },
   "outputs": [],
   "source": [
    "#assign value for years after graduation \n",
    "y1 = 1\n",
    "y2 = 3\n",
    "y3 = 5"
   ]
  },
  {
   "cell_type": "code",
   "execution_count": 30,
   "metadata": {},
   "outputs": [
    {
     "name": "stdout",
     "output_type": "stream",
     "text": [
      "Salaries Year1 NFQ6 [[248 246 240 246 249]\n",
      " [240 245 246 241 248]\n",
      " [247 245 247 241 244]\n",
      " [247 246 242 249 246]\n",
      " [247 243 241 243 244]\n",
      " [247 248 244 244 247]\n",
      " [249 244 246 247 245]\n",
      " [247 240 244 243 249]\n",
      " [242 242 244 248 244]\n",
      " [241 247 244 244 246]\n",
      " [247 246 249 241 244]\n",
      " [246 247 245 242 248]\n",
      " [245 247 246 240 244]\n",
      " [249 248 247 242 241]\n",
      " [242 240 244 241 248]\n",
      " [245 244 243 241 247]\n",
      " [246 246 241 245 244]\n",
      " [246 245 245 249 248]\n",
      " [246 241 241 247 243]\n",
      " [245 245 242 245 242]]\n",
      "Salaries Year3 NFQ6 [[363 358 364 359 362]\n",
      " [352 359 367 365 360]\n",
      " [360 360 369 355 350]\n",
      " [362 351 361 369 353]\n",
      " [368 368 360 352 365]\n",
      " [365 365 350 364 351]\n",
      " [354 366 351 368 367]\n",
      " [363 366 366 351 362]\n",
      " [353 355 357 358 350]\n",
      " [368 361 359 365 369]\n",
      " [352 369 361 357 358]\n",
      " [367 359 355 351 366]\n",
      " [354 362 368 362 368]\n",
      " [367 352 358 359 368]\n",
      " [358 352 363 369 368]\n",
      " [365 366 368 352 357]\n",
      " [365 366 369 357 367]\n",
      " [358 362 352 368 365]\n",
      " [362 365 366 354 365]\n",
      " [353 369 353 368 351]]\n",
      "Salries Year5 NFQ5 [[479 478 477 476 473]\n",
      " [478 479 478 477 479]\n",
      " [477 470 472 470 478]\n",
      " [474 473 471 479 478]\n",
      " [478 476 476 479 470]\n",
      " [479 479 475 477 474]\n",
      " [479 472 472 477 476]\n",
      " [479 478 472 479 473]\n",
      " [478 474 477 473 473]\n",
      " [474 475 471 472 478]\n",
      " [473 477 472 475 471]\n",
      " [471 479 473 476 475]\n",
      " [474 478 476 472 470]\n",
      " [472 478 471 477 471]\n",
      " [475 476 479 470 478]\n",
      " [479 472 478 473 476]\n",
      " [471 471 474 471 473]\n",
      " [476 476 474 472 476]\n",
      " [476 475 471 473 476]\n",
      " [475 475 472 476 472]]\n"
     ]
    }
   ],
   "source": [
    "#NFQ Level 6 and weekly salary after 1, 3, 5 years, use randint that has discrete uniform distribution. 100 Datapoints\n",
    "\n",
    "#100 samples looking to simulate mean value of 245\n",
    "NFQ6_1 = np.random.randint(240,250,(20,5))\n",
    "print('Salaries Year1 NFQ6', NFQ6_1)\n",
    "\n",
    "#100 samples looking to simulate mean value of 360\n",
    "NFQ6_3 = np.random.randint(350,370,(20,5))\n",
    "print('Salaries Year3 NFQ6', NFQ6_3)\n",
    "\n",
    "#100 samples looking to simulate mean value of 475\n",
    "NFQ6_5 = np.random.randint(470,480,(20,5))\n",
    "print('Salries Year5 NFQ5', NFQ6_5)"
   ]
  },
  {
   "cell_type": "code",
   "execution_count": 31,
   "metadata": {},
   "outputs": [
    {
     "name": "stdout",
     "output_type": "stream",
     "text": [
      "Salaries Year1 NFQ7 [[297 293 283 281 287]\n",
      " [296 296 280 281 297]\n",
      " [298 284 299 285 293]\n",
      " [296 286 299 282 283]\n",
      " [294 280 299 296 280]\n",
      " [295 299 280 292 298]\n",
      " [281 298 288 286 281]\n",
      " [296 282 292 298 297]\n",
      " [284 294 280 290 299]\n",
      " [294 282 282 287 288]\n",
      " [292 299 286 294 282]\n",
      " [290 299 289 296 288]\n",
      " [286 289 296 291 290]\n",
      " [286 298 291 288 283]\n",
      " [297 280 292 291 282]\n",
      " [280 297 281 294 284]\n",
      " [282 293 295 292 285]\n",
      " [284 285 298 291 283]\n",
      " [288 295 282 290 297]\n",
      " [290 283 282 286 283]]\n",
      "Salaries Year3 NFQ7 [[411 421 427 413 427]\n",
      " [417 429 410 423 423]\n",
      " [423 414 421 416 418]\n",
      " [410 424 422 422 414]\n",
      " [428 412 425 419 411]\n",
      " [419 420 413 415 419]\n",
      " [414 424 420 420 425]\n",
      " [428 421 412 425 422]\n",
      " [426 415 410 419 413]\n",
      " [425 429 420 410 424]\n",
      " [418 421 427 412 420]\n",
      " [417 410 428 415 415]\n",
      " [415 416 415 427 421]\n",
      " [421 412 427 420 423]\n",
      " [424 419 416 417 413]\n",
      " [419 416 413 424 424]\n",
      " [429 420 422 411 413]\n",
      " [424 419 429 412 419]\n",
      " [410 427 424 429 416]\n",
      " [417 427 415 423 416]]\n",
      "Salaries Year5 NFQ7 [[515 518 518 521 522]\n",
      " [516 518 524 516 520]\n",
      " [529 516 521 516 530]\n",
      " [517 532 528 528 519]\n",
      " [518 517 521 518 531]\n",
      " [520 534 525 532 522]\n",
      " [515 527 519 516 532]\n",
      " [524 526 531 530 534]\n",
      " [518 529 520 532 522]\n",
      " [515 527 533 528 520]\n",
      " [525 522 520 534 532]\n",
      " [517 532 532 532 528]\n",
      " [534 525 519 515 528]\n",
      " [517 518 534 529 515]\n",
      " [525 526 517 516 524]\n",
      " [530 517 518 526 532]\n",
      " [530 529 518 520 530]\n",
      " [517 525 520 525 532]\n",
      " [524 533 518 533 515]\n",
      " [515 530 523 520 526]]\n"
     ]
    }
   ],
   "source": [
    "#NFQ Level 7 and weekly salary after 1, 3, 5 years, use randint that has discrete uniform distribution. 100 Datapoints\n",
    "\n",
    "#100 samples looking to simulate mean value of 290\n",
    "NFQ7_1 = np.random.randint(280,300,(20,5))\n",
    "print('Salaries Year1 NFQ7', NFQ7_1)\n",
    "\n",
    "#100 samples looking to simulate mean value of 420\n",
    "NFQ7_3 = np.random.randint(410,430,(20,5))\n",
    "print('Salaries Year3 NFQ7', NFQ7_3)\n",
    "\n",
    "#100 samples looking to simulate mean value of 525\n",
    "NFQ7_5 = np.random.randint(515,535,(20,5))\n",
    "print('Salaries Year5 NFQ7', NFQ7_5)"
   ]
  },
  {
   "cell_type": "code",
   "execution_count": 32,
   "metadata": {},
   "outputs": [
    {
     "name": "stdout",
     "output_type": "stream",
     "text": [
      "Salaries Year1 NFQ8 [[421 416 418 423 433]\n",
      " [432 422 418 433 420]\n",
      " [417 417 429 431 422]\n",
      " [417 434 429 425 434]\n",
      " [416 420 416 425 431]\n",
      " [421 422 420 419 429]\n",
      " [428 416 425 419 416]\n",
      " [433 434 416 420 425]\n",
      " [428 431 433 418 434]\n",
      " [418 432 416 428 431]\n",
      " [426 434 419 428 421]\n",
      " [431 423 415 431 419]\n",
      " [421 434 418 417 432]\n",
      " [434 419 423 433 428]\n",
      " [421 429 434 427 429]\n",
      " [415 425 418 425 416]\n",
      " [418 425 429 420 426]\n",
      " [425 425 424 432 426]\n",
      " [420 415 424 418 420]\n",
      " [429 426 432 429 428]]\n",
      "Salaries Year3 NFQ8 [[538 542 541 533 531]\n",
      " [543 537 536 530 543]\n",
      " [534 526 531 531 530]\n",
      " [538 540 531 528 540]\n",
      " [544 537 533 535 525]\n",
      " [531 533 533 528 533]\n",
      " [525 540 535 540 529]\n",
      " [533 534 539 540 532]\n",
      " [543 531 526 525 537]\n",
      " [531 535 533 527 535]\n",
      " [534 532 537 535 537]\n",
      " [533 530 532 528 540]\n",
      " [526 540 543 536 531]\n",
      " [534 528 530 540 526]\n",
      " [541 534 530 533 540]\n",
      " [531 535 532 525 531]\n",
      " [533 542 530 535 536]\n",
      " [531 531 542 536 533]\n",
      " [529 544 539 537 537]\n",
      " [534 543 541 541 531]]\n",
      "Salaries Year5 NFQ8 [[650 647 656 652 654]\n",
      " [640 647 644 644 643]\n",
      " [654 659 653 644 642]\n",
      " [640 648 655 653 657]\n",
      " [656 642 657 656 650]\n",
      " [645 654 659 653 656]\n",
      " [643 647 643 646 645]\n",
      " [656 640 646 641 655]\n",
      " [653 652 658 646 644]\n",
      " [645 647 640 651 648]\n",
      " [643 641 649 659 648]\n",
      " [641 650 654 641 648]\n",
      " [652 647 649 658 648]\n",
      " [655 643 645 659 642]\n",
      " [640 656 659 644 642]\n",
      " [654 642 641 646 646]\n",
      " [657 651 655 647 643]\n",
      " [644 644 644 642 644]\n",
      " [654 656 647 654 651]\n",
      " [649 651 659 648 640]]\n"
     ]
    }
   ],
   "source": [
    "#NFQ Level 8 and weekly salary after 1, 3, 5 years, use randint that has discrete uniform distribution. 100 Datapoints\n",
    "\n",
    "#100 samples looking to simulate mean value of 425\n",
    "NFQ8_1 = np.random.randint(415,435,(20,5))\n",
    "print('Salaries Year1 NFQ8', NFQ8_1)\n",
    "\n",
    "#100 samples looking to simulate mean value of 535\n",
    "NFQ8_3 = np.random.randint(525,545,(20,5))\n",
    "print('Salaries Year3 NFQ8', NFQ8_3)\n",
    "\n",
    "#100 samples looking to simulate mean value of 650\n",
    "NFQ8_5 = np.random.randint(640,660,(20,5))\n",
    "print('Salaries Year5 NFQ8', NFQ8_5)"
   ]
  },
  {
   "cell_type": "code",
   "execution_count": 33,
   "metadata": {},
   "outputs": [
    {
     "name": "stdout",
     "output_type": "stream",
     "text": [
      "Salaries Year1 NFQ9 [[503 517 518 516 501]\n",
      " [510 515 509 511 501]\n",
      " [502 511 517 501 510]\n",
      " [501 502 503 503 508]\n",
      " [503 512 516 504 502]\n",
      " [509 500 511 506 502]\n",
      " [508 516 505 517 511]\n",
      " [507 511 508 515 500]\n",
      " [509 507 516 513 501]\n",
      " [503 517 504 511 513]\n",
      " [505 514 502 511 506]\n",
      " [503 511 502 515 502]\n",
      " [518 519 516 508 508]\n",
      " [500 516 517 502 509]\n",
      " [506 518 510 513 509]\n",
      " [503 506 512 516 513]\n",
      " [504 502 506 502 518]\n",
      " [519 516 506 513 505]\n",
      " [509 514 504 506 510]\n",
      " [512 503 508 510 519]]\n",
      "Salaries Year3 NFQ9 [[627 628 623 629 620]\n",
      " [638 631 623 636 637]\n",
      " [626 632 633 628 620]\n",
      " [639 632 623 635 623]\n",
      " [624 632 636 628 638]\n",
      " [626 632 627 623 627]\n",
      " [626 620 627 631 622]\n",
      " [631 634 639 629 624]\n",
      " [627 624 632 634 625]\n",
      " [638 622 620 629 639]\n",
      " [625 635 639 633 624]\n",
      " [624 637 633 623 636]\n",
      " [637 624 632 636 631]\n",
      " [626 634 622 622 639]\n",
      " [620 639 620 625 630]\n",
      " [621 626 622 633 630]\n",
      " [621 622 633 631 629]\n",
      " [633 621 622 625 638]\n",
      " [620 629 623 635 635]\n",
      " [628 632 630 631 629]]\n",
      "Salaries Year5 NFQ9 [[733 735 742 745 749]\n",
      " [748 745 734 743 735]\n",
      " [736 743 737 743 734]\n",
      " [742 746 733 747 730]\n",
      " [743 731 731 738 735]\n",
      " [745 740 734 732 746]\n",
      " [733 740 745 749 733]\n",
      " [740 734 742 732 732]\n",
      " [733 731 734 731 733]\n",
      " [748 744 747 743 744]\n",
      " [740 737 739 732 732]\n",
      " [732 739 746 736 737]\n",
      " [736 743 730 733 734]\n",
      " [744 732 732 738 737]\n",
      " [732 736 732 731 748]\n",
      " [745 735 734 742 749]\n",
      " [732 747 736 732 745]\n",
      " [743 741 739 737 741]\n",
      " [744 746 739 738 732]\n",
      " [742 738 739 741 748]]\n"
     ]
    }
   ],
   "source": [
    "#NFQ Level 9 and weekly salary after 1, 3, 5 years, use randint that has discrete uniform distribution. 100 Datapoints\n",
    "\n",
    "#100 samples looking to simulate mean value of 510\n",
    "NFQ9_1 = np.random.randint(500,520,(20,5))\n",
    "print('Salaries Year1 NFQ9', NFQ9_1)\n",
    "\n",
    "#100 samples looking to simulate mean value of 630\n",
    "NFQ9_3 = np.random.randint(620,640,(20,5))\n",
    "print('Salaries Year3 NFQ9', NFQ9_3)\n",
    "\n",
    "#100 samples looking to simulate mean value of 740\n",
    "NFQ9_5 = np.random.randint(730,750,(20,5))\n",
    "print('Salaries Year5 NFQ9', NFQ9_5)"
   ]
  },
  {
   "cell_type": "code",
   "execution_count": 34,
   "metadata": {},
   "outputs": [
    {
     "name": "stdout",
     "output_type": "stream",
     "text": [
      "Salaries Year1 NFQ10 [[703 707 706 713 705]\n",
      " [710 707 696 706 712]\n",
      " [708 703 709 705 703]\n",
      " [710 704 696 710 712]\n",
      " [703 710 700 695 698]\n",
      " [712 698 706 697 696]\n",
      " [702 695 700 713 705]\n",
      " [711 702 696 698 705]\n",
      " [697 700 702 705 708]\n",
      " [704 702 711 704 703]\n",
      " [711 704 696 698 713]\n",
      " [699 713 698 714 705]\n",
      " [702 711 701 696 704]\n",
      " [702 705 706 702 698]\n",
      " [700 714 706 711 700]\n",
      " [699 704 710 700 695]\n",
      " [703 698 704 706 705]\n",
      " [714 713 712 712 700]\n",
      " [698 707 713 698 710]\n",
      " [699 707 710 704 702]]\n",
      "Salaries Year3 NFQ10 [[797 796 796 803 799]\n",
      " [800 802 797 809 797]\n",
      " [799 795 795 814 802]\n",
      " [795 803 804 802 813]\n",
      " [809 797 813 812 797]\n",
      " [814 813 810 798 798]\n",
      " [798 814 805 807 801]\n",
      " [797 808 801 796 798]\n",
      " [795 813 805 811 807]\n",
      " [809 812 804 808 810]\n",
      " [811 796 808 804 802]\n",
      " [812 810 798 795 814]\n",
      " [800 814 802 814 808]\n",
      " [809 814 804 802 795]\n",
      " [806 797 808 808 800]\n",
      " [795 814 814 805 805]\n",
      " [795 801 811 814 798]\n",
      " [804 808 796 812 808]\n",
      " [806 811 802 812 811]\n",
      " [804 808 810 798 798]]\n",
      "Salaries Year5 NFQ10 [[916 929 919 921 922]\n",
      " [922 916 926 914 924]\n",
      " [914 913 922 910 916]\n",
      " [929 927 929 920 919]\n",
      " [919 929 914 913 921]\n",
      " [928 921 918 920 914]\n",
      " [920 910 913 922 919]\n",
      " [928 911 922 915 929]\n",
      " [911 913 918 916 917]\n",
      " [925 919 910 921 916]\n",
      " [925 920 917 916 924]\n",
      " [920 910 923 922 920]\n",
      " [914 914 925 912 928]\n",
      " [927 925 923 916 923]\n",
      " [919 926 913 923 915]\n",
      " [925 910 929 923 926]\n",
      " [921 925 913 914 917]\n",
      " [911 920 914 918 923]\n",
      " [913 916 928 913 921]\n",
      " [921 925 917 920 929]]\n"
     ]
    }
   ],
   "source": [
    "#NFQ Level 10 and weekly salary after 1, 3, 5 years, use randint that has discrete uniform distribution. 100 Datapoints\n",
    "\n",
    "#100 samples looking to simulate mean value of 705\n",
    "NFQ10_1 = np.random.randint(695,715,(20,5))\n",
    "print('Salaries Year1 NFQ10', NFQ10_1)\n",
    "\n",
    "#100 samples looking to simulate mean value of 805\n",
    "NFQ10_3 = np.random.randint(795,815,(20,5))\n",
    "print('Salaries Year3 NFQ10', NFQ10_3)\n",
    "\n",
    "#100 samples looking to simulate mean value of 920\n",
    "NFQ10_5 = np.random.randint(910,930,(20,5))\n",
    "print('Salaries Year5 NFQ10', NFQ10_5)"
   ]
  },
  {
   "cell_type": "markdown",
   "metadata": {},
   "source": [
    "### Calculate mean values for all NFQ Levels to see if similar to Figure 6.4"
   ]
  },
  {
   "cell_type": "code",
   "execution_count": 35,
   "metadata": {},
   "outputs": [
    {
     "name": "stdout",
     "output_type": "stream",
     "text": [
      "Mean weekly wage of NFQ6 after 1 year is 244.78\n",
      "Mean weekly wage of NFQ6 after 3 years is 360.82\n",
      "Mean weekly wage of NFQ6 after 5 years is 474.93\n"
     ]
    }
   ],
   "source": [
    "#Calculate mean of weekly salaries for each qualification after 1, 3, 5 years after graduation\n",
    "\n",
    "#NFQ level 6 after 1 year\n",
    "x1 = np.mean(NFQ6_1)\n",
    "print('Mean weekly wage of NFQ6 after 1 year is', x1)\n",
    "\n",
    "#NFQ level 6 after 3 years\n",
    "x2 = np.mean(NFQ6_3)\n",
    "print('Mean weekly wage of NFQ6 after 3 years is', x2)\n",
    "\n",
    "#NFQ level 6 after 5 years\n",
    "x3 = np.mean(NFQ6_5)\n",
    "print('Mean weekly wage of NFQ6 after 5 years is', x3)"
   ]
  },
  {
   "cell_type": "code",
   "execution_count": 36,
   "metadata": {},
   "outputs": [
    {
     "name": "stdout",
     "output_type": "stream",
     "text": [
      "Mean weekly wage of NFQ7 after 1 year is 289.43\n",
      "Mean weekly wage of NFQ7 after 3 years is 419.35\n",
      "Mean weekly wage of NFQ7 after 5 years is 523.82\n"
     ]
    }
   ],
   "source": [
    "#NFQ level 7 after 1 year\n",
    "x4 = np.mean(NFQ7_1)\n",
    "print('Mean weekly wage of NFQ7 after 1 year is', x4)\n",
    "\n",
    "#NFQ level 7 after 3 years\n",
    "x5 = np.mean(NFQ7_3)\n",
    "print('Mean weekly wage of NFQ7 after 3 years is', x5)\n",
    "\n",
    "#NFQ level 7 after 5 years\n",
    "x6 = np.mean(NFQ7_5)\n",
    "print('Mean weekly wage of NFQ7 after 5 years is', x6)"
   ]
  },
  {
   "cell_type": "code",
   "execution_count": 37,
   "metadata": {},
   "outputs": [
    {
     "name": "stdout",
     "output_type": "stream",
     "text": [
      "Mean weekly wage of NFQ8 after 1 year is 424.47\n",
      "Mean weekly wage of NFQ8 after 3 years is 534.34\n",
      "Mean weekly wage of NFQ8 after 5 years is 648.78\n"
     ]
    }
   ],
   "source": [
    "#NFQ level 8 after 1 year\n",
    "x7 = np.mean(NFQ8_1)\n",
    "print('Mean weekly wage of NFQ8 after 1 year is', x7)\n",
    "\n",
    "#NFQ level 8 after 3 years\n",
    "x8 = np.mean(NFQ8_3)\n",
    "print('Mean weekly wage of NFQ8 after 3 years is', x8)\n",
    "\n",
    "#NFQ level 8 after 5 years\n",
    "x9 = np.mean(NFQ8_5)\n",
    "print('Mean weekly wage of NFQ8 after 5 years is', x9)"
   ]
  },
  {
   "cell_type": "code",
   "execution_count": 38,
   "metadata": {},
   "outputs": [
    {
     "name": "stdout",
     "output_type": "stream",
     "text": [
      "Mean weekly wage of NFQ9 after 1 year is 508.92\n",
      "Mean weekly wage of NFQ9 after 3 years is 628.94\n",
      "Mean weekly wage of NFQ9 after 5 years is 738.56\n"
     ]
    }
   ],
   "source": [
    "#NFQ level 9 after 1 year\n",
    "x10 = np.mean(NFQ9_1)\n",
    "print('Mean weekly wage of NFQ9 after 1 year is', x10)\n",
    "\n",
    "#NFQ level 9 after 3 years\n",
    "x11 = np.mean(NFQ9_3)\n",
    "print('Mean weekly wage of NFQ9 after 3 years is', x11)\n",
    "\n",
    "#NFQ level 9 after 5 years\n",
    "x12 = np.mean(NFQ9_5)\n",
    "print('Mean weekly wage of NFQ9 after 5 years is', x12)"
   ]
  },
  {
   "cell_type": "code",
   "execution_count": 39,
   "metadata": {},
   "outputs": [
    {
     "name": "stdout",
     "output_type": "stream",
     "text": [
      "Mean weekly wage of NFQ10 after 1 year is 704.35\n",
      "Mean weekly wage of NFQ10 after 3 years is 804.49\n",
      "Mean weekly wage of NFQ10 after 5 years is 919.52\n"
     ]
    }
   ],
   "source": [
    "#NFQ level 10 after 1 year\n",
    "x13 = np.mean(NFQ10_1)\n",
    "print('Mean weekly wage of NFQ10 after 1 year is', x13)\n",
    "\n",
    "#NFQ level 10 after 3 years\n",
    "x14 = np.mean(NFQ10_3)\n",
    "print('Mean weekly wage of NFQ10 after 3 years is', x14)\n",
    "\n",
    "#NFQ level 10 after 5 years\n",
    "x15 = np.mean(NFQ10_5)\n",
    "print('Mean weekly wage of NFQ10 after 5 years is', x15)"
   ]
  },
  {
   "cell_type": "code",
   "execution_count": 40,
   "metadata": {},
   "outputs": [
    {
     "data": {
      "image/png": "[encoded data removed]",
      "text/plain": [
       "<matplotlib.figure.Figure at 0x1fc0b4c0400>"
      ]
     },
     "metadata": {},
     "output_type": "display_data"
    }
   ],
   "source": [
    "#Plotting simulated data to see if result is similar to the image 6.4 above.\n",
    "fig, ax = plt.subplots()\n",
    "ax.plot(y1, x1, 'go')\n",
    "ax.plot(y2, x2, 'go')\n",
    "ax.plot(y3, x3, 'go')\n",
    "ax.plot(y1, x4, 'ko')\n",
    "ax.plot(y2, x5, 'ko')\n",
    "ax.plot(y3, x6, 'ko')\n",
    "ax.plot(y1, x7, 'bo')\n",
    "ax.plot(y2, x8, 'bo')\n",
    "ax.plot(y3, x9, 'bo')\n",
    "ax.plot(y1, x10, 'ro')\n",
    "ax.plot(y2, x11, 'ro')\n",
    "ax.plot(y3, x12, 'ro')\n",
    "ax.plot(y1, x13, 'yo')\n",
    "ax.plot(y2, x14, 'yo')\n",
    "ax.plot(y3, x15, 'yo')\n",
    "ax.set(xlabel='Years since Graduation', ylabel='wages per week(Euros)',\n",
    "       title='Weekly Salary and NFQ Levels')\n",
    "ax.grid()\n",
    "plt.show()"
   ]
  },
  {
   "cell_type": "code",
   "execution_count": 41,
   "metadata": {},
   "outputs": [
    {
     "name": "stdout",
     "output_type": "stream",
     "text": [
      "Wage difference from NFQ10 & NFQ6 5 years after graduation is € 444.59\n",
      "Wage difference from NFQ10 & NFQ7 5 years after graduation is € 395.7\n",
      "Wage difference from NFQ10 & NFQ8 5 years after graduation is € 270.74\n",
      "Wage difference from NFQ10 & NFQ9 5 years after graduation is € 180.96\n"
     ]
    }
   ],
   "source": [
    "#Calculate wage differnecs between all NFQ levels after 5 years.\n",
    "range1  = x15 -x3\n",
    "print('Wage difference from NFQ10 & NFQ6 5 years after graduation is €', range1)\n",
    "\n",
    "range2 = x15 - x6\n",
    "print('Wage difference from NFQ10 & NFQ7 5 years after graduation is €', range2)\n",
    "\n",
    "range3 = x15 - x9\n",
    "print('Wage difference from NFQ10 & NFQ8 5 years after graduation is €', range3)\n",
    "\n",
    "range4 = x15 - x12\n",
    "print('Wage difference from NFQ10 & NFQ9 5 years after graduation is €', range4)"
   ]
  },
  {
   "cell_type": "markdown",
   "metadata": {},
   "source": [
    "#### From the above data showing the ranges of wages we can see that the discrepency of wage level decreases with higher NFQ level. This is the expected result."
   ]
  },
  {
   "cell_type": "code",
   "execution_count": 42,
   "metadata": {},
   "outputs": [
    {
     "name": "stdout",
     "output_type": "stream",
     "text": [
      "      0    1    2    3    4\n",
      "0   248  246  240  246  249\n",
      "1   240  245  246  241  248\n",
      "2   247  245  247  241  244\n",
      "3   247  246  242  249  246\n",
      "4   247  243  241  243  244\n",
      "5   247  248  244  244  247\n",
      "6   249  244  246  247  245\n",
      "7   247  240  244  243  249\n",
      "8   242  242  244  248  244\n",
      "9   241  247  244  244  246\n",
      "10  247  246  249  241  244\n",
      "11  246  247  245  242  248\n",
      "12  245  247  246  240  244\n",
      "13  249  248  247  242  241\n",
      "14  242  240  244  241  248\n",
      "15  245  244  243  241  247\n",
      "16  246  246  241  245  244\n",
      "17  246  245  245  249  248\n",
      "18  246  241  241  247  243\n",
      "19  245  245  242  245  242\n",
      "      0    1    2    3    4\n",
      "0   363  358  364  359  362\n",
      "1   352  359  367  365  360\n",
      "2   360  360  369  355  350\n",
      "3   362  351  361  369  353\n",
      "4   368  368  360  352  365\n",
      "5   365  365  350  364  351\n",
      "6   354  366  351  368  367\n",
      "7   363  366  366  351  362\n",
      "8   353  355  357  358  350\n",
      "9   368  361  359  365  369\n",
      "10  352  369  361  357  358\n",
      "11  367  359  355  351  366\n",
      "12  354  362  368  362  368\n",
      "13  367  352  358  359  368\n",
      "14  358  352  363  369  368\n",
      "15  365  366  368  352  357\n",
      "16  365  366  369  357  367\n",
      "17  358  362  352  368  365\n",
      "18  362  365  366  354  365\n",
      "19  353  369  353  368  351\n",
      "      0    1    2    3    4\n",
      "0   479  478  477  476  473\n",
      "1   478  479  478  477  479\n",
      "2   477  470  472  470  478\n",
      "3   474  473  471  479  478\n",
      "4   478  476  476  479  470\n",
      "5   479  479  475  477  474\n",
      "6   479  472  472  477  476\n",
      "7   479  478  472  479  473\n",
      "8   478  474  477  473  473\n",
      "9   474  475  471  472  478\n",
      "10  473  477  472  475  471\n",
      "11  471  479  473  476  475\n",
      "12  474  478  476  472  470\n",
      "13  472  478  471  477  471\n",
      "14  475  476  479  470  478\n",
      "15  479  472  478  473  476\n",
      "16  471  471  474  471  473\n",
      "17  476  476  474  472  476\n",
      "18  476  475  471  473  476\n",
      "19  475  475  472  476  472\n"
     ]
    }
   ],
   "source": [
    "#Make dataframe for NFQ6 and look at data\n",
    "df = pd.DataFrame(NFQ6_1)\n",
    "df1 = pd.DataFrame(NFQ6_3)\n",
    "df2 = pd.DataFrame(NFQ6_5)\n",
    "print(df.head(20))\n",
    "print(df1.head(20))\n",
    "print(df2.head(20))"
   ]
  },
  {
   "cell_type": "code",
   "execution_count": 43,
   "metadata": {},
   "outputs": [
    {
     "name": "stdout",
     "output_type": "stream",
     "text": [
      "                0           1           2           3           4\n",
      "count   60.000000   60.000000   60.000000   60.000000   60.000000\n",
      "mean   360.633333  360.616667  359.650000  359.600000  360.383333\n",
      "std     94.872612   95.099964   94.783397   95.099805   94.362462\n",
      "min    240.000000  240.000000  240.000000  240.000000  241.000000\n",
      "25%    247.000000  246.750000  246.000000  246.750000  248.000000\n",
      "50%    362.000000  362.000000  361.000000  359.000000  363.500000\n",
      "75%    474.000000  473.250000  472.000000  472.000000  472.250000\n",
      "max    479.000000  479.000000  479.000000  479.000000  479.000000\n",
      "                0           1           2           3           4\n",
      "count   60.000000   60.000000   60.000000   60.000000   60.000000\n",
      "mean   410.366667  411.816667  410.483333  410.833333  410.833333\n",
      "std     95.417187   96.886705   96.873934   96.994001   98.189917\n",
      "min    280.000000  280.000000  280.000000  281.000000  280.000000\n",
      "25%    296.000000  297.750000  295.750000  293.500000  296.000000\n",
      "50%    419.000000  420.000000  420.500000  419.000000  419.000000\n",
      "75%    516.250000  518.000000  518.250000  516.500000  520.500000\n",
      "max    534.000000  534.000000  534.000000  534.000000  534.000000\n",
      "                0           1           2           3           4\n",
      "count   60.000000   60.000000   60.000000   60.000000   60.000000\n",
      "mean   535.466667  536.283333  536.050000  535.800000  535.716667\n",
      "std     92.817566   92.087116   93.989979   92.462507   91.266251\n",
      "min    415.000000  415.000000  415.000000  417.000000  416.000000\n",
      "25%    428.750000  431.750000  429.000000  430.500000  431.000000\n",
      "50%    533.500000  535.000000  533.000000  534.000000  533.000000\n",
      "75%    643.000000  643.250000  644.250000  644.000000  643.000000\n",
      "max    657.000000  659.000000  659.000000  659.000000  657.000000\n",
      "                0           1           2           3           4\n",
      "count   60.000000   60.000000   60.000000   60.000000   60.000000\n",
      "mean   624.700000  626.600000  624.900000  625.866667  625.300000\n",
      "std     96.051416   93.965049   93.954316   94.251641   95.483125\n",
      "min    500.000000  500.000000  502.000000  501.000000  500.000000\n",
      "25%    509.000000  516.000000  516.000000  514.500000  510.750000\n",
      "50%    626.000000  631.500000  627.000000  630.000000  629.500000\n",
      "75%    733.000000  735.000000  733.250000  732.000000  733.000000\n",
      "max    748.000000  747.000000  747.000000  749.000000  749.000000\n",
      "                0           1           2           3           4\n",
      "count   60.000000   60.000000   60.000000   60.000000   60.000000\n",
      "mean   809.166667  810.150000  809.233333  809.333333  809.383333\n",
      "std     89.249824   88.268816   89.082207   87.932691   89.684776\n",
      "min    697.000000  695.000000  696.000000  695.000000  695.000000\n",
      "25%    710.000000  709.250000  709.750000  710.750000  707.250000\n",
      "50%    802.000000  808.000000  804.000000  807.500000  801.500000\n",
      "75%    914.500000  913.000000  914.000000  914.000000  917.000000\n",
      "max    929.000000  929.000000  929.000000  923.000000  929.000000\n"
     ]
    }
   ],
   "source": [
    "#combine dataframes together for all NFQ levels.\n",
    "# edited from https://pandas.pydata.org/pandas-docs/stable/merging.html\n",
    "#decribe data\n",
    "data = [df, df1, df2]\n",
    "NFQ6 = pd.concat(data)\n",
    "print(NFQ6.describe())\n",
    "\n",
    "\n",
    "df3 = pd.DataFrame(NFQ7_1)\n",
    "df4 = pd.DataFrame(NFQ7_3)\n",
    "df5 = pd.DataFrame(NFQ7_5)\n",
    "data1 = [df3, df4, df5]\n",
    "NFQ7 = pd.concat(data1)\n",
    "print(NFQ7.describe())\n",
    "\n",
    "\n",
    "df6 = pd.DataFrame(NFQ8_1)\n",
    "df7 = pd.DataFrame(NFQ8_3)\n",
    "df8 = pd.DataFrame(NFQ8_5)\n",
    "data2 = [df6, df7, df8]\n",
    "NFQ8 = pd.concat(data2)\n",
    "print(NFQ8.describe())\n",
    "\n",
    "df9 = pd.DataFrame(NFQ9_1)\n",
    "df10 = pd.DataFrame(NFQ9_3)\n",
    "df11 = pd.DataFrame(NFQ9_5)\n",
    "data3 = [df9, df10, df11]\n",
    "NFQ9 = pd.concat(data3)\n",
    "print(NFQ9.describe())\n",
    "\n",
    "\n",
    "df12 = pd.DataFrame(NFQ10_1)\n",
    "df13 = pd.DataFrame(NFQ10_3)\n",
    "df14 = pd.DataFrame(NFQ10_5)\n",
    "data4 = [df12, df13, df14]\n",
    "NFQ10 = pd.concat(data4)\n",
    "print(NFQ10.describe())\n"
   ]
  },
  {
   "cell_type": "code",
   "execution_count": 44,
   "metadata": {},
   "outputs": [
    {
     "name": "stdout",
     "output_type": "stream",
     "text": [
      "Percentage of wages received for NFQ6 in relation to NFQ10 after 5 years is 51.649773795\n",
      "Percentage of wages received for NFQ7 in relation to NFQ10 after 5 years is 56.9666782669\n",
      "Percentage of wages received for NFQ8 in relation to NFQ10 after 5 years is 70.5563772403\n",
      "Percentage of wages received for NFQ9 in relation to NFQ10 after 5 years is 80.3201670437\n"
     ]
    }
   ],
   "source": [
    "#Calculate percentage difference of salary levels after 5 years experience\n",
    "Percentage1=(x3/x15) *100\n",
    "print(\"Percentage of wages received for NFQ6 in relation to NFQ10 after 5 years is\", Percentage1)\n",
    "\n",
    "#Calculate percentage difference of salary levels after 5 years experience\n",
    "Percentage2=(x6/x15) *100\n",
    "print(\"Percentage of wages received for NFQ7 in relation to NFQ10 after 5 years is\", Percentage2)\n",
    "\n",
    "#Calculate percentage difference of salary levels after 5 years experience\n",
    "Percentage3=(x9/x15) *100\n",
    "print(\"Percentage of wages received for NFQ8 in relation to NFQ10 after 5 years is\", Percentage3)\n",
    "\n",
    "#Calculate percentage difference of salary levels after 5 years experience\n",
    "Percentage4=(x12/x15) *100\n",
    "print(\"Percentage of wages received for NFQ9 in relation to NFQ10 after 5 years is\", Percentage4)"
   ]
  },
  {
   "cell_type": "code",
   "execution_count": 54,
   "metadata": {},
   "outputs": [
    {
     "data": {
      "image/png": "[encoded data removed]",
      "text/plain": [
       "<matplotlib.figure.Figure at 0x1fc0c6cf2b0>"
      ]
     },
     "metadata": {},
     "output_type": "display_data"
    }
   ],
   "source": [
    "#Calculate percentage difference of salary levels after 5 years experience\n",
    "plt.plot(Percentage1, 'go', Percentage2, 'ro', Percentage3, 'bo', Percentage4, 'yo')\n",
    "plt.title(\"Percentage of Salary Difference With Increased NFQ Level Comapared to NFQ Level 10.\")\n",
    "plt.ylabel(\"Percentage of Salary\")\n",
    "plt.show()"
   ]
  },
  {
   "cell_type": "code",
   "execution_count": 48,
   "metadata": {},
   "outputs": [
    {
     "ename": "SyntaxError",
     "evalue": "invalid syntax (<ipython-input-48-45ec83937202>, line 3)",
     "output_type": "error",
     "traceback": [
      "\u001b[1;36m  File \u001b[1;32m\"<ipython-input-48-45ec83937202>\"\u001b[1;36m, line \u001b[1;32m3\u001b[0m\n\u001b[1;33m    plt.plot(percentages, color=['red','green','blue', 'black']))\u001b[0m\n\u001b[1;37m                                                                ^\u001b[0m\n\u001b[1;31mSyntaxError\u001b[0m\u001b[1;31m:\u001b[0m invalid syntax\n"
     ]
    }
   ],
   "source": [
    "#Calculate percentage difference of salary levels after 5 years experience\n",
    "percentages = (Percentage1, Percentage2, Percentage3, Percentage4,)\n",
    "plt.plot(percentages, color=['red','green','blue', 'black']))\n",
    "plt.title(\"Percentage of Salary Difference With Increased NFQ Level Comapared to NFQ Level 10.\")\n",
    "plt.ylabel(\"Percentage of Salary\")\n",
    "plt.show()"
   ]
  },
  {
   "cell_type": "markdown",
   "metadata": {
    "collapsed": true
   },
   "source": [
    "### References:\n",
    "\n",
    "[1] https://www.qqi.ie/Articles/Pages/National-Framework-of-Qualifications-(NFQ).aspx\n",
    "\n",
    "[2] https://trends.collegeboard.org/education-pays/figures-tables/lifetime-earnings-education-level\n"
   ]
  },
  {
   "cell_type": "code",
   "execution_count": null,
   "metadata": {
    "collapsed": true
   },
   "outputs": [],
   "source": []
  }
 ],
 "metadata": {
  "kernelspec": {
   "display_name": "Python 3",
   "language": "python",
   "name": "python3"
  },
  "language_info": {
   "codemirror_mode": {
    "name": "ipython",
    "version": 3
   },
   "file_extension": ".py",
   "mimetype": "text/x-python",
   "name": "python",
   "nbconvert_exporter": "python",
   "pygments_lexer": "ipython3",
   "version": "3.6.3"
  }
 },
 "nbformat": 4,
 "nbformat_minor": 2
}
