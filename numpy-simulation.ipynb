{
 "cells": [
  {
   "cell_type": "markdown",
   "metadata": {},
   "source": [
    "# Numpy Simulation"
   ]
  },
  {
   "cell_type": "markdown",
   "metadata": {
    "collapsed": true
   },
   "source": [
    "## Simulation of effect of NFQ Qulaification Level on Weekly Wages over 1, 3 and 5 years since graduation\n",
    "\n",
    "#### What is NFQ Level:"
   ]
  },
  {
   "cell_type": "markdown",
   "metadata": {},
   "source": [
    "#### Original Data from CSO study figure 6.4 \n",
    "\n",
    "https://www.cso.ie/en/media/csoie/releasespublications/documents/education/2014/Higher_Education_Outcomes_book_-_web.pdf"
   ]
  },
  {
   "cell_type": "markdown",
   "metadata": {},
   "source": [
    "Add figure 6.4"
   ]
  },
  {
   "cell_type": "code",
   "execution_count": 15,
   "metadata": {
    "collapsed": true
   },
   "outputs": [],
   "source": [
    "#import libraries\n",
    "import matplotlib.pyplot as plt\n",
    "import numpy as np\n",
    "import pylab\n",
    "Polynomial = np.polynomial.Polynomial\n",
    "import matplotlib.patches as mpatches\n",
    "import pandas as pd"
   ]
  },
  {
   "cell_type": "code",
   "execution_count": 16,
   "metadata": {},
   "outputs": [
    {
     "name": "stdout",
     "output_type": "stream",
     "text": [
      "Salaries Year1 NFQ6 [[243 241 246 245 247]\n",
      " [242 240 246 245 240]\n",
      " [242 241 242 246 247]\n",
      " [247 241 245 248 240]\n",
      " [248 247 246 245 248]\n",
      " [243 249 249 248 249]\n",
      " [240 242 243 245 245]\n",
      " [244 241 248 247 242]\n",
      " [242 245 246 246 247]\n",
      " [246 248 242 249 246]\n",
      " [249 240 245 245 240]\n",
      " [242 240 249 248 243]\n",
      " [241 243 248 240 243]\n",
      " [243 242 243 244 241]\n",
      " [247 244 242 242 240]\n",
      " [249 247 247 248 241]\n",
      " [248 247 243 244 240]\n",
      " [241 241 249 247 245]\n",
      " [247 240 247 241 241]\n",
      " [242 242 246 244 246]]\n",
      "Salaries Year3 NFQ6 [[365 359 354 355 366]\n",
      " [354 369 358 350 356]\n",
      " [357 369 352 365 355]\n",
      " [354 364 367 357 352]\n",
      " [353 359 354 359 355]\n",
      " [360 368 358 353 369]\n",
      " [359 352 359 353 354]\n",
      " [366 359 369 353 368]\n",
      " [353 363 363 354 353]\n",
      " [353 369 355 351 364]\n",
      " [364 358 355 361 360]\n",
      " [359 351 364 367 353]\n",
      " [354 366 362 369 364]\n",
      " [367 364 355 369 364]\n",
      " [360 355 351 357 366]\n",
      " [363 367 350 366 358]\n",
      " [364 353 367 357 350]\n",
      " [352 360 358 355 358]\n",
      " [350 356 359 351 357]\n",
      " [366 368 360 369 355]]\n",
      "Salries Year5 NFQ5 [[471 478 470 479 476]\n",
      " [479 477 470 478 473]\n",
      " [478 479 471 477 477]\n",
      " [478 477 471 473 473]\n",
      " [477 470 476 473 476]\n",
      " [479 475 475 472 476]\n",
      " [479 473 471 474 472]\n",
      " [477 478 478 472 476]\n",
      " [479 470 475 479 476]\n",
      " [475 473 479 479 477]\n",
      " [470 475 477 472 474]\n",
      " [474 476 470 477 472]\n",
      " [478 477 474 470 479]\n",
      " [475 471 475 473 475]\n",
      " [471 475 474 477 475]\n",
      " [474 478 471 470 475]\n",
      " [471 470 474 477 470]\n",
      " [474 470 473 479 475]\n",
      " [472 472 470 477 476]\n",
      " [477 478 473 473 476]]\n"
     ]
    }
   ],
   "source": [
    "#NFQ Level 6 and weekly salary after 1, 3, 5 years, use randint that has discrete uniform distribution. 100 Datapoints\n",
    "\n",
    "#100 samples looking to simulate mean value of 245\n",
    "NFQ6_1 = np.random.randint(240,250,(20,5))\n",
    "print('Salaries Year1 NFQ6', NFQ6_1)\n",
    "\n",
    "#100 samples looking to simulate mean value of 360\n",
    "NFQ6_3 = np.random.randint(350,370,(20,5))\n",
    "print('Salaries Year3 NFQ6', NFQ6_3)\n",
    "\n",
    "#100 samples looking to simulate mean value of 475\n",
    "NFQ6_5 = np.random.randint(470,480,(20,5))\n",
    "print('Salries Year5 NFQ5', NFQ6_5)"
   ]
  },
  {
   "cell_type": "code",
   "execution_count": 17,
   "metadata": {},
   "outputs": [
    {
     "name": "stdout",
     "output_type": "stream",
     "text": [
      "Salaries Year1 NFQ7 [[285 295 292 298 283]\n",
      " [291 294 292 284 285]\n",
      " [289 290 283 287 287]\n",
      " [297 283 299 280 289]\n",
      " [296 280 283 299 287]\n",
      " [298 291 281 285 282]\n",
      " [283 298 284 298 283]\n",
      " [280 292 280 297 285]\n",
      " [289 293 281 299 281]\n",
      " [285 296 280 297 295]\n",
      " [297 290 289 281 290]\n",
      " [293 290 296 294 298]\n",
      " [290 295 283 282 282]\n",
      " [282 288 294 290 297]\n",
      " [289 284 293 297 284]\n",
      " [291 299 297 291 292]\n",
      " [289 299 294 286 289]\n",
      " [295 288 282 291 288]\n",
      " [297 293 286 291 294]\n",
      " [286 282 285 284 296]]\n",
      "Salaries Year3 NFQ7 [[425 424 416 428 421]\n",
      " [410 416 415 425 419]\n",
      " [411 425 421 426 421]\n",
      " [427 418 412 429 429]\n",
      " [412 426 420 422 411]\n",
      " [419 429 411 413 414]\n",
      " [411 413 429 420 412]\n",
      " [427 423 428 425 427]\n",
      " [428 419 417 423 419]\n",
      " [421 418 422 427 424]\n",
      " [419 417 429 420 423]\n",
      " [421 419 424 424 422]\n",
      " [414 427 419 416 424]\n",
      " [428 426 422 419 417]\n",
      " [415 417 427 425 415]\n",
      " [421 416 414 410 421]\n",
      " [417 428 428 424 411]\n",
      " [422 419 414 429 412]\n",
      " [425 427 422 417 415]\n",
      " [420 426 426 424 429]]\n",
      "Salaries Year5 NFQ7 [[532 525 531 516 516]\n",
      " [519 515 523 527 531]\n",
      " [519 529 521 534 524]\n",
      " [531 530 518 520 523]\n",
      " [521 533 530 515 530]\n",
      " [534 534 525 520 524]\n",
      " [519 524 517 534 528]\n",
      " [523 521 523 525 517]\n",
      " [516 523 519 520 532]\n",
      " [530 523 523 525 516]\n",
      " [516 519 532 525 528]\n",
      " [528 515 531 526 534]\n",
      " [534 519 521 531 516]\n",
      " [524 528 528 534 531]\n",
      " [524 533 516 531 525]\n",
      " [516 521 533 519 525]\n",
      " [531 527 528 521 527]\n",
      " [521 530 530 526 516]\n",
      " [527 533 521 516 517]\n",
      " [520 531 531 524 524]]\n"
     ]
    }
   ],
   "source": [
    "#NFQ Level 7 and weekly salary after 1, 3, 5 years, use randint that has discrete uniform distribution. 100 Datapoints\n",
    "\n",
    "#100 samples looking to simulate mean value of 290\n",
    "NFQ7_1 = np.random.randint(280,300,(20,5))\n",
    "print('Salaries Year1 NFQ7', NFQ7_1)\n",
    "\n",
    "#100 samples looking to simulate mean value of 420\n",
    "NFQ7_3 = np.random.randint(410,430,(20,5))\n",
    "print('Salaries Year3 NFQ7', NFQ7_3)\n",
    "\n",
    "#100 samples looking to simulate mean value of 525\n",
    "NFQ7_5 = np.random.randint(515,535,(20,5))\n",
    "print('Salaries Year5 NFQ7', NFQ7_5)"
   ]
  },
  {
   "cell_type": "code",
   "execution_count": 18,
   "metadata": {},
   "outputs": [
    {
     "name": "stdout",
     "output_type": "stream",
     "text": [
      "Salaries Year1 NFQ8 [[422 427 434 429 434]\n",
      " [434 419 429 424 429]\n",
      " [432 423 433 431 425]\n",
      " [428 428 422 431 422]\n",
      " [430 430 424 425 421]\n",
      " [426 429 430 417 419]\n",
      " [428 424 427 420 417]\n",
      " [430 422 424 421 420]\n",
      " [417 421 422 433 417]\n",
      " [423 429 423 416 427]\n",
      " [418 426 434 426 427]\n",
      " [419 423 428 421 420]\n",
      " [423 427 419 421 423]\n",
      " [421 423 431 431 416]\n",
      " [432 425 431 420 425]\n",
      " [420 418 433 433 429]\n",
      " [420 430 427 420 424]\n",
      " [419 422 434 427 415]\n",
      " [418 420 425 420 430]\n",
      " [433 431 430 420 424]]\n",
      "Salaries Year3 NFQ8 [[544 539 526 540 532]\n",
      " [540 529 542 525 544]\n",
      " [535 534 535 525 531]\n",
      " [532 527 540 543 540]\n",
      " [541 544 544 528 539]\n",
      " [537 526 542 540 539]\n",
      " [541 526 543 537 532]\n",
      " [542 530 543 538 539]\n",
      " [535 534 538 537 534]\n",
      " [527 533 538 544 540]\n",
      " [526 532 534 537 531]\n",
      " [527 536 536 527 544]\n",
      " [525 542 537 535 529]\n",
      " [538 534 530 529 533]\n",
      " [543 526 537 537 537]\n",
      " [525 536 540 544 536]\n",
      " [541 532 534 529 538]\n",
      " [536 528 536 530 529]\n",
      " [537 527 538 525 541]\n",
      " [540 526 543 535 541]]\n",
      "Salaries Year5 NFQ8 [[640 640 651 643 651]\n",
      " [655 643 654 654 658]\n",
      " [650 646 645 648 641]\n",
      " [654 659 659 640 644]\n",
      " [644 650 649 640 642]\n",
      " [641 656 645 657 641]\n",
      " [651 647 655 654 653]\n",
      " [650 651 645 654 649]\n",
      " [652 644 651 659 642]\n",
      " [657 643 646 652 656]\n",
      " [641 640 653 646 641]\n",
      " [656 649 653 648 654]\n",
      " [654 642 645 642 644]\n",
      " [645 645 648 651 645]\n",
      " [658 651 641 645 642]\n",
      " [657 655 657 650 659]\n",
      " [651 649 651 650 645]\n",
      " [655 659 657 656 648]\n",
      " [651 640 647 649 658]\n",
      " [650 656 651 640 648]]\n"
     ]
    }
   ],
   "source": [
    "#NFQ Level 8 and weekly salary after 1, 3, 5 years, use randint that has discrete uniform distribution. 100 Datapoints\n",
    "\n",
    "#100 samples looking to simulate mean value of 425\n",
    "NFQ8_1 = np.random.randint(415,435,(20,5))\n",
    "print('Salaries Year1 NFQ8', NFQ8_1)\n",
    "\n",
    "#100 samples looking to simulate mean value of 535\n",
    "NFQ8_3 = np.random.randint(525,545,(20,5))\n",
    "print('Salaries Year3 NFQ8', NFQ8_3)\n",
    "\n",
    "#100 samples looking to simulate mean value of 650\n",
    "NFQ8_5 = np.random.randint(640,660,(20,5))\n",
    "print('Salaries Year5 NFQ8', NFQ8_5)"
   ]
  },
  {
   "cell_type": "code",
   "execution_count": 19,
   "metadata": {},
   "outputs": [
    {
     "name": "stdout",
     "output_type": "stream",
     "text": [
      "Salaries Year1 NFQ9 [[519 516 512 507 510]\n",
      " [514 512 517 514 514]\n",
      " [506 502 519 504 517]\n",
      " [502 503 504 506 505]\n",
      " [506 515 508 504 513]\n",
      " [517 504 510 516 511]\n",
      " [516 513 506 504 516]\n",
      " [510 510 508 504 500]\n",
      " [505 508 502 519 509]\n",
      " [507 515 506 513 504]\n",
      " [502 500 515 513 511]\n",
      " [518 508 506 510 519]\n",
      " [510 510 518 513 502]\n",
      " [513 515 502 507 517]\n",
      " [512 518 507 516 511]\n",
      " [510 514 507 503 518]\n",
      " [509 511 505 509 517]\n",
      " [516 503 506 517 511]\n",
      " [516 507 515 501 511]\n",
      " [504 516 513 506 506]]\n",
      "Salaries Year3 NFQ9 [[634 639 638 624 629]\n",
      " [638 625 628 626 634]\n",
      " [633 631 631 623 633]\n",
      " [631 622 622 635 639]\n",
      " [634 631 625 634 628]\n",
      " [628 627 627 637 637]\n",
      " [630 630 637 622 626]\n",
      " [624 626 628 633 636]\n",
      " [635 631 628 631 621]\n",
      " [629 623 622 628 625]\n",
      " [629 622 624 631 623]\n",
      " [629 629 631 626 628]\n",
      " [623 620 622 620 622]\n",
      " [622 626 631 626 626]\n",
      " [624 637 638 621 626]\n",
      " [627 638 636 635 634]\n",
      " [638 639 634 637 632]\n",
      " [638 639 628 623 636]\n",
      " [628 620 635 626 626]\n",
      " [636 637 623 634 628]]\n",
      "Salaries Year5 NFQ9 [[739 731 733 740 744]\n",
      " [734 737 744 740 736]\n",
      " [747 731 747 742 736]\n",
      " [733 735 742 741 736]\n",
      " [748 732 740 737 732]\n",
      " [739 749 741 745 741]\n",
      " [735 741 734 733 743]\n",
      " [733 734 748 739 745]\n",
      " [747 736 749 743 736]\n",
      " [735 733 734 734 739]\n",
      " [736 737 742 732 748]\n",
      " [734 737 739 737 733]\n",
      " [745 736 735 737 744]\n",
      " [737 733 739 740 748]\n",
      " [744 737 746 730 747]\n",
      " [748 744 741 740 736]\n",
      " [739 732 748 731 735]\n",
      " [748 738 734 736 736]\n",
      " [744 734 737 733 740]\n",
      " [748 737 733 735 748]]\n"
     ]
    }
   ],
   "source": [
    "#NFQ Level 9 and weekly salary after 1, 3, 5 years, use randint that has discrete uniform distribution. 100 Datapoints\n",
    "\n",
    "#100 samples looking to simulate mean value of 510\n",
    "NFQ9_1 = np.random.randint(500,520,(20,5))\n",
    "print('Salaries Year1 NFQ9', NFQ9_1)\n",
    "\n",
    "#100 samples looking to simulate mean value of 630\n",
    "NFQ9_3 = np.random.randint(620,640,(20,5))\n",
    "print('Salaries Year3 NFQ9', NFQ9_3)\n",
    "\n",
    "#100 samples looking to simulate mean value of 740\n",
    "NFQ9_5 = np.random.randint(730,750,(20,5))\n",
    "print('Salaries Year5 NFQ9', NFQ9_5)"
   ]
  },
  {
   "cell_type": "code",
   "execution_count": 20,
   "metadata": {},
   "outputs": [
    {
     "name": "stdout",
     "output_type": "stream",
     "text": [
      "Salaries Year1 NFQ10 [[714 695 700 712 706]\n",
      " [701 698 712 702 707]\n",
      " [702 696 703 704 702]\n",
      " [707 706 706 696 699]\n",
      " [708 709 706 704 702]\n",
      " [709 705 704 699 704]\n",
      " [712 708 701 710 696]\n",
      " [697 698 705 709 702]\n",
      " [697 710 712 714 702]\n",
      " [701 695 702 704 701]\n",
      " [712 703 706 707 699]\n",
      " [709 699 710 699 700]\n",
      " [710 707 713 707 713]\n",
      " [703 711 712 711 696]\n",
      " [700 710 708 710 702]\n",
      " [696 702 701 701 707]\n",
      " [695 699 711 711 699]\n",
      " [706 709 713 701 711]\n",
      " [703 701 703 713 710]\n",
      " [698 710 699 695 699]]\n",
      "Salaries Year3 NFQ10 [[808 813 801 808 801]\n",
      " [799 810 809 796 811]\n",
      " [806 806 807 811 805]\n",
      " [799 799 808 797 799]\n",
      " [800 814 807 798 803]\n",
      " [797 796 797 812 806]\n",
      " [797 801 807 809 811]\n",
      " [814 801 807 812 805]\n",
      " [814 796 803 810 805]\n",
      " [804 802 805 801 809]\n",
      " [814 804 799 798 811]\n",
      " [803 796 798 799 799]\n",
      " [796 809 805 810 805]\n",
      " [810 800 809 802 796]\n",
      " [802 813 801 799 798]\n",
      " [811 800 797 811 796]\n",
      " [807 797 806 800 810]\n",
      " [796 795 804 811 798]\n",
      " [806 813 813 814 813]\n",
      " [805 805 801 808 801]]\n",
      "Salaries Year5 NFQ10 [[910 917 910 912 913]\n",
      " [912 914 912 921 921]\n",
      " [910 911 916 922 929]\n",
      " [919 921 929 916 921]\n",
      " [926 910 925 925 929]\n",
      " [912 925 915 923 924]\n",
      " [926 913 923 911 929]\n",
      " [916 913 928 912 924]\n",
      " [924 912 912 916 915]\n",
      " [926 913 928 925 919]\n",
      " [927 925 923 913 928]\n",
      " [929 915 924 925 924]\n",
      " [919 920 914 911 929]\n",
      " [911 910 921 919 927]\n",
      " [913 915 910 923 911]\n",
      " [917 926 923 916 919]\n",
      " [926 915 920 927 929]\n",
      " [927 916 913 918 926]\n",
      " [928 918 919 914 921]\n",
      " [922 921 928 910 926]]\n"
     ]
    }
   ],
   "source": [
    "#NFQ Level 10 and weekly salary after 1, 3, 5 years, use randint that has discrete uniform distribution. 100 Datapoints\n",
    "\n",
    "#100 samples looking to simulate mean value of 705\n",
    "NFQ10_1 = np.random.randint(695,715,(20,5))\n",
    "print('Salaries Year1 NFQ10', NFQ10_1)\n",
    "\n",
    "#100 samples looking to simulate mean value of 805\n",
    "NFQ10_3 = np.random.randint(795,815,(20,5))\n",
    "print('Salaries Year3 NFQ10', NFQ10_3)\n",
    "\n",
    "#100 samples looking to simulate mean value of 920\n",
    "NFQ10_5 = np.random.randint(910,930,(20,5))\n",
    "print('Salaries Year5 NFQ10', NFQ10_5)"
   ]
  },
  {
   "cell_type": "code",
   "execution_count": 21,
   "metadata": {},
   "outputs": [
    {
     "name": "stdout",
     "output_type": "stream",
     "text": [
      "Mean weekly wage of NFQ6 after 1 year is 244.37\n",
      "Mean weekly wage of NFQ6 after 3 years is 359.2\n",
      "Mean weekly wage of NFQ6 after 5 years is 474.67\n"
     ]
    }
   ],
   "source": [
    "#Calculate mean of weekly salaries for each qualification after 1, 3, 5 years after graduation\n",
    "\n",
    "#NFQ level 6 after 1 year\n",
    "x1 = np.mean(NFQ6_1)\n",
    "print('Mean weekly wage of NFQ6 after 1 year is', x1)\n",
    "\n",
    "#NFQ level 6 after 3 years\n",
    "x2 = np.mean(NFQ6_3)\n",
    "print('Mean weekly wage of NFQ6 after 3 years is', x2)\n",
    "\n",
    "#NFQ level 6 after 5 years\n",
    "x3 = np.mean(NFQ6_5)\n",
    "print('Mean weekly wage of NFQ6 after 5 years is', x3)"
   ]
  },
  {
   "cell_type": "code",
   "execution_count": 22,
   "metadata": {},
   "outputs": [
    {
     "name": "stdout",
     "output_type": "stream",
     "text": [
      "Mean weekly wage of NFQ7 after 1 year is 289.54\n",
      "Mean weekly wage of NFQ7 after 3 years is 420.74\n",
      "Mean weekly wage of NFQ7 after 5 years is 524.72\n"
     ]
    }
   ],
   "source": [
    "#NFQ level 7 after 1 year\n",
    "x4 = np.mean(NFQ7_1)\n",
    "print('Mean weekly wage of NFQ7 after 1 year is', x4)\n",
    "\n",
    "#NFQ level 7 after 3 years\n",
    "x5 = np.mean(NFQ7_3)\n",
    "print('Mean weekly wage of NFQ7 after 3 years is', x5)\n",
    "\n",
    "#NFQ level 7 after 5 years\n",
    "x6 = np.mean(NFQ7_5)\n",
    "print('Mean weekly wage of NFQ7 after 5 years is', x6)"
   ]
  },
  {
   "cell_type": "code",
   "execution_count": 23,
   "metadata": {},
   "outputs": [
    {
     "name": "stdout",
     "output_type": "stream",
     "text": [
      "Mean weekly wage of NFQ8 after 1 year is 425.0\n",
      "Mean weekly wage of NFQ8 after 3 years is 535.23\n",
      "Mean weekly wage of NFQ8 after 5 years is 649.19\n"
     ]
    }
   ],
   "source": [
    "#NFQ level 8 after 1 year\n",
    "x7 = np.mean(NFQ8_1)\n",
    "print('Mean weekly wage of NFQ8 after 1 year is', x7)\n",
    "\n",
    "#NFQ level 8 after 3 years\n",
    "x8 = np.mean(NFQ8_3)\n",
    "print('Mean weekly wage of NFQ8 after 3 years is', x8)\n",
    "\n",
    "#NFQ level 8 after 5 years\n",
    "x9 = np.mean(NFQ8_5)\n",
    "print('Mean weekly wage of NFQ8 after 5 years is', x9)"
   ]
  },
  {
   "cell_type": "code",
   "execution_count": 24,
   "metadata": {},
   "outputs": [
    {
     "name": "stdout",
     "output_type": "stream",
     "text": [
      "Mean weekly wage of NFQ9 after 1 year is 510.06\n",
      "Mean weekly wage of NFQ9 after 3 years is 629.51\n",
      "Mean weekly wage of NFQ9 after 5 years is 738.91\n"
     ]
    }
   ],
   "source": [
    "#NFQ level 9 after 1 year\n",
    "x10 = np.mean(NFQ9_1)\n",
    "print('Mean weekly wage of NFQ9 after 1 year is', x10)\n",
    "\n",
    "#NFQ level 9 after 3 years\n",
    "x11 = np.mean(NFQ9_3)\n",
    "print('Mean weekly wage of NFQ9 after 3 years is', x11)\n",
    "\n",
    "#NFQ level 9 after 5 years\n",
    "x12 = np.mean(NFQ9_5)\n",
    "print('Mean weekly wage of NFQ9 after 5 years is', x12)"
   ]
  },
  {
   "cell_type": "code",
   "execution_count": 25,
   "metadata": {},
   "outputs": [
    {
     "name": "stdout",
     "output_type": "stream",
     "text": [
      "Mean weekly wage of NFQ10 after 1 year is 704.44\n",
      "Mean weekly wage of NFQ10 after 3 years is 804.3\n",
      "Mean weekly wage of NFQ10 after 5 years is 919.46\n"
     ]
    }
   ],
   "source": [
    "#NFQ level 10 after 1 year\n",
    "x13 = np.mean(NFQ10_1)\n",
    "print('Mean weekly wage of NFQ10 after 1 year is', x13)\n",
    "\n",
    "#NFQ level 10 after 3 years\n",
    "x14 = np.mean(NFQ10_3)\n",
    "print('Mean weekly wage of NFQ10 after 3 years is', x14)\n",
    "\n",
    "#NFQ level 10 after 5 years\n",
    "x15 = np.mean(NFQ10_5)\n",
    "print('Mean weekly wage of NFQ10 after 5 years is', x15)"
   ]
  },
  {
   "cell_type": "code",
   "execution_count": null,
   "metadata": {
    "collapsed": true
   },
   "outputs": [],
   "source": []
  },
  {
   "cell_type": "code",
   "execution_count": null,
   "metadata": {
    "collapsed": true
   },
   "outputs": [],
   "source": []
  }
 ],
 "metadata": {
  "kernelspec": {
   "display_name": "Python 3",
   "language": "python",
   "name": "python3"
  },
  "language_info": {
   "codemirror_mode": {
    "name": "ipython",
    "version": 3
   },
   "file_extension": ".py",
   "mimetype": "text/x-python",
   "name": "python",
   "nbconvert_exporter": "python",
   "pygments_lexer": "ipython3",
   "version": "3.6.3"
  }
 },
 "nbformat": 4,
 "nbformat_minor": 2
}
