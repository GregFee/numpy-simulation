{
 "cells": [
  {
   "cell_type": "markdown",
   "metadata": {},
   "source": [
    "# Numpy Simulation of the Effect of NFQ Levels on Weekly Salary"
   ]
  },
  {
   "cell_type": "markdown",
   "metadata": {},
   "source": [
    "![title](img/nfq.png)"
   ]
  },
  {
   "cell_type": "markdown",
   "metadata": {
    "collapsed": true
   },
   "source": [
    "#### What is NFQ Level:\n",
    "\n",
    "The National Framework of Qualifications describe the qualification and of the education and training system in Ireland and how they interlink [1]. The levels are organised by hierachy. The levels considered here were from level 6 to level 10 which is advanced certificate through to doctoral degree level. The data was measured at 3 intervals which were one year, three years and five years after receiving the qualification and the weekly wages received at this time by graduates"
   ]
  },
  {
   "cell_type": "markdown",
   "metadata": {},
   "source": [
    "![title](img/cso.png)\n",
    "\n",
    "The simulation is based on generating some\n",
    "data this graphical image represents. There is no access to the raw data and the data is simulated to obtain the results of the this part of the study. The overall study was an investigation into Higher Eduaction \n",
    "Outcomes of graduates by the Central Statistics Office. It is visually apparent from figure 6.4 that the higher the qualification the higher the weekly wage that is obtained.\n",
    "\n",
    "https://www.cso.ie/en/media/csoie/releasespublications/documents/education/2014/Higher_Education_Outcomes_book_-_web.pdf"
   ]
  },
  {
   "cell_type": "markdown",
   "metadata": {},
   "source": [
    "### Other Areas of Study Showing Levels of Qualifications Relationship With Salary\n",
    "\n",
    "In data from the U.S census it was  found that those with Bacheloers Degree(NFQ Level 8) earned 66% more than those just a highschool graduation and this increases with 97% with a Master Degree [2]. This level increases the more qualifications are advanced advanced. More data from the U.S Census Bureau showed that those with a doctorate(NFQ10) in physical sciences earned 20% more than masters(NFQ9) graduates in physical science [3].There is definetly a positive correlation with qulaification level and salary. \n"
   ]
  },
  {
   "cell_type": "code",
   "execution_count": 30,
   "metadata": {
    "collapsed": true
   },
   "outputs": [],
   "source": [
    "#import libraries\n",
    "import matplotlib.pyplot as plt\n",
    "import numpy as np\n",
    "import pylab\n",
    "Polynomial = np.polynomial.Polynomial\n",
    "import matplotlib.patches as mpatches\n",
    "import pandas as pd"
   ]
  },
  {
   "cell_type": "code",
   "execution_count": 31,
   "metadata": {
    "collapsed": true
   },
   "outputs": [],
   "source": [
    "#assign value for years after graduation \n",
    "y1 = 1\n",
    "y2 = 3\n",
    "y3 = 5"
   ]
  },
  {
   "cell_type": "code",
   "execution_count": 32,
   "metadata": {},
   "outputs": [
    {
     "name": "stdout",
     "output_type": "stream",
     "text": [
      "Salaries Year1 NFQ6 [[245 249 249 242 242]\n",
      " [241 240 243 241 240]\n",
      " [242 245 240 242 244]\n",
      " [246 245 248 247 246]\n",
      " [248 242 244 248 249]\n",
      " [241 246 242 242 242]\n",
      " [240 243 246 242 244]\n",
      " [242 247 242 246 244]\n",
      " [247 249 242 242 244]\n",
      " [248 246 243 246 246]\n",
      " [247 241 240 245 246]\n",
      " [245 242 243 245 241]\n",
      " [245 244 245 245 246]\n",
      " [249 248 248 241 246]\n",
      " [248 241 246 249 244]\n",
      " [241 243 243 243 242]\n",
      " [242 241 247 246 248]\n",
      " [249 249 243 245 247]\n",
      " [248 243 241 247 248]\n",
      " [246 241 244 245 249]]\n",
      "Salaries Year3 NFQ6 [[368 358 357 364 363]\n",
      " [355 362 368 355 359]\n",
      " [362 357 351 359 362]\n",
      " [365 355 364 354 350]\n",
      " [359 358 353 354 354]\n",
      " [365 357 352 365 362]\n",
      " [355 364 363 358 365]\n",
      " [351 363 357 350 362]\n",
      " [366 350 362 367 363]\n",
      " [367 361 352 363 365]\n",
      " [355 350 354 351 369]\n",
      " [354 359 350 366 368]\n",
      " [355 363 354 362 355]\n",
      " [367 355 368 368 362]\n",
      " [361 366 350 365 362]\n",
      " [351 352 351 355 369]\n",
      " [357 352 355 353 366]\n",
      " [351 358 356 360 365]\n",
      " [364 363 361 355 369]\n",
      " [357 354 359 357 355]]\n",
      "Salaries Year5 NFQ5 [[478 474 473 478 478]\n",
      " [477 478 476 478 479]\n",
      " [475 472 476 470 478]\n",
      " [478 479 479 473 479]\n",
      " [479 475 473 476 479]\n",
      " [479 473 477 470 478]\n",
      " [476 476 478 470 478]\n",
      " [473 477 470 470 477]\n",
      " [473 471 478 475 471]\n",
      " [472 478 476 477 478]\n",
      " [475 474 475 476 473]\n",
      " [470 472 475 479 471]\n",
      " [470 476 479 471 477]\n",
      " [472 479 471 476 476]\n",
      " [472 472 474 476 475]\n",
      " [470 475 477 477 478]\n",
      " [477 475 476 471 471]\n",
      " [475 477 470 478 476]\n",
      " [475 475 474 478 475]\n",
      " [474 472 474 471 479]]\n",
      "Dataset starting with the mean [ 242.95421372  245.51490814  244.12233548  246.15189906  245.22068589\n",
      "  244.22476961  247.02184144  246.98166741  244.53376628  244.87199141\n",
      "  245.7596839   246.09684135  244.35562266  242.83286597  244.71304335\n",
      "  245.68939303  245.38228647  245.29069237  245.95126807  246.73718105\n",
      "  245.57313712  245.00247536  245.99879556  244.17798081  246.2914719\n",
      "  244.70666754  244.95357633  245.5183064   247.0457678   245.91640822\n",
      "  245.97081024  244.18584902  245.66428532  243.5492829   243.99246709\n",
      "  244.15599124  244.94735291  244.48736221  246.78309805  245.05523209\n",
      "  244.52200378  244.59501938  246.32702777  246.17885352  245.58636057\n",
      "  246.26362414  246.60733574  245.37047536  246.28181219  244.84546317\n",
      "  244.39665773  244.10150703  246.51843068  245.80705054  245.65653917\n",
      "  245.47846466  245.01915457  245.02063437  244.35990445  246.15731136\n",
      "  242.58260779  244.38786779  244.1809672   245.23827203  243.62727299\n",
      "  245.96887307  245.14034472  244.84703623  244.9577729   244.66995333\n",
      "  245.13751815  246.28040582  245.2652222   244.962486    245.20104165\n",
      "  244.48211013  246.77570252  243.67000403  244.43199656  244.14872661\n",
      "  243.34872659  245.08700021  245.25858974  245.03107948  245.34090537\n",
      "  244.77973421  247.31268393  243.81925183  244.77923037  244.71792764\n",
      "  245.31397893  242.96426952  245.84278007  245.51766392  245.30945512\n",
      "  245.10464673  243.47347717  245.58466371  244.49818009  244.4464164 ]\n",
      "Mean of Dataset is 245.109637477 the same as NFQ6_1\n"
     ]
    }
   ],
   "source": [
    "#NFQ Level 6 and weekly salary after 1, 3, 5 years, use randint that has discrete uniform distribution. 100 Datapoints\n",
    "\n",
    "#100 samples looking to simulate mean value of 245\n",
    "NFQ6_1 = np.random.randint(240,250,(20,5))\n",
    "print('Salaries Year1 NFQ6', NFQ6_1)\n",
    "\n",
    "#100 samples looking to simulate mean value of 360\n",
    "NFQ6_3 = np.random.randint(350,370,(20,5))\n",
    "print('Salaries Year3 NFQ6', NFQ6_3)\n",
    "\n",
    "#100 samples looking to simulate mean value of 475\n",
    "NFQ6_5 = np.random.randint(470,480,(20,5))\n",
    "print('Salaries Year5 NFQ5', NFQ6_5)\n",
    "\n",
    "\n",
    "#Random numbers can also be controlled by using random seed or in this case starting with the required mean and \n",
    "#generating the the random numbers based on achieving the required mean.\n",
    "#edited from https://stackoverflow.com/questions/50177594/create-an-array-with-a-pre-determined-mean-and-standard-deviation\n",
    "#This would create the the same mean as NFQ_6 above but note there is less of a range tan the first method.\n",
    "mean = 245\n",
    "x = np.random.randn(100) + mean\n",
    "ans = np.mean(x)\n",
    "print('Dataset starting with the mean', x)\n",
    "print('Mean of Dataset is', ans, 'the same as NFQ6_1')"
   ]
  },
  {
   "cell_type": "code",
   "execution_count": 33,
   "metadata": {},
   "outputs": [
    {
     "name": "stdout",
     "output_type": "stream",
     "text": [
      "Salaries Year1 NFQ7 [[280 291 281 299 293]\n",
      " [294 290 283 294 282]\n",
      " [284 294 288 291 281]\n",
      " [290 293 298 288 292]\n",
      " [286 290 294 299 292]\n",
      " [299 292 285 292 280]\n",
      " [284 280 282 292 282]\n",
      " [297 288 288 290 299]\n",
      " [293 291 296 285 282]\n",
      " [285 290 299 295 288]\n",
      " [284 296 281 289 295]\n",
      " [282 281 285 283 291]\n",
      " [289 295 298 292 296]\n",
      " [280 280 289 293 280]\n",
      " [284 293 295 284 288]\n",
      " [281 289 291 298 292]\n",
      " [293 296 292 294 285]\n",
      " [280 299 292 286 282]\n",
      " [291 294 282 281 281]\n",
      " [296 290 292 295 295]]\n",
      "Salaries Year3 NFQ7 [[422 428 425 427 418]\n",
      " [418 422 412 426 418]\n",
      " [411 424 416 429 426]\n",
      " [411 419 428 419 421]\n",
      " [417 411 420 420 423]\n",
      " [413 411 426 416 424]\n",
      " [422 424 417 413 410]\n",
      " [419 417 413 412 410]\n",
      " [429 415 424 423 421]\n",
      " [418 422 417 419 411]\n",
      " [425 419 417 425 419]\n",
      " [424 411 421 417 410]\n",
      " [418 417 418 412 425]\n",
      " [425 425 421 425 419]\n",
      " [422 410 417 428 426]\n",
      " [419 410 412 416 420]\n",
      " [423 424 425 421 423]\n",
      " [415 419 429 414 417]\n",
      " [423 425 412 417 429]\n",
      " [417 425 416 410 425]]\n",
      "Salaries Year5 NFQ7 [[531 530 525 525 516]\n",
      " [533 529 517 522 520]\n",
      " [523 527 521 517 529]\n",
      " [523 517 518 518 521]\n",
      " [522 517 526 515 525]\n",
      " [524 533 531 517 518]\n",
      " [527 521 532 519 533]\n",
      " [528 515 528 516 515]\n",
      " [526 525 516 518 533]\n",
      " [528 532 532 515 523]\n",
      " [523 522 529 515 519]\n",
      " [517 515 532 525 529]\n",
      " [520 526 528 529 517]\n",
      " [521 526 515 515 523]\n",
      " [517 534 527 516 520]\n",
      " [528 524 521 529 532]\n",
      " [529 534 518 518 524]\n",
      " [533 517 516 523 515]\n",
      " [519 524 524 521 522]\n",
      " [533 518 531 519 520]]\n"
     ]
    }
   ],
   "source": [
    "#NFQ Level 7 and weekly salary after 1, 3, 5 years, use randint that has discrete uniform distribution. 100 Datapoints\n",
    "\n",
    "#100 samples looking to simulate mean value of 290\n",
    "NFQ7_1 = np.random.randint(280,300,(20,5))\n",
    "print('Salaries Year1 NFQ7', NFQ7_1)\n",
    "\n",
    "#100 samples looking to simulate mean value of 420\n",
    "NFQ7_3 = np.random.randint(410,430,(20,5))\n",
    "print('Salaries Year3 NFQ7', NFQ7_3)\n",
    "\n",
    "#100 samples looking to simulate mean value of 525\n",
    "NFQ7_5 = np.random.randint(515,535,(20,5))\n",
    "print('Salaries Year5 NFQ7', NFQ7_5)"
   ]
  },
  {
   "cell_type": "code",
   "execution_count": 34,
   "metadata": {},
   "outputs": [
    {
     "name": "stdout",
     "output_type": "stream",
     "text": [
      "Salaries Year1 NFQ8 [[421 426 430 425 420]\n",
      " [430 428 415 428 416]\n",
      " [432 423 433 416 415]\n",
      " [433 421 422 424 418]\n",
      " [430 423 424 433 416]\n",
      " [418 433 429 417 423]\n",
      " [420 421 424 427 428]\n",
      " [421 434 417 416 421]\n",
      " [419 427 422 415 431]\n",
      " [429 431 421 430 431]\n",
      " [417 417 431 416 422]\n",
      " [418 424 427 420 421]\n",
      " [432 427 418 417 433]\n",
      " [424 434 416 432 416]\n",
      " [432 431 424 426 422]\n",
      " [425 422 415 430 428]\n",
      " [425 434 423 433 431]\n",
      " [424 430 419 427 432]\n",
      " [426 417 417 417 429]\n",
      " [416 434 433 426 424]]\n",
      "Salaries Year3 NFQ8 [[534 541 536 540 528]\n",
      " [535 536 539 541 540]\n",
      " [530 538 531 539 528]\n",
      " [542 544 540 533 543]\n",
      " [527 538 526 531 536]\n",
      " [530 538 527 525 539]\n",
      " [535 538 540 539 537]\n",
      " [536 527 528 542 538]\n",
      " [533 541 544 526 535]\n",
      " [540 536 533 535 536]\n",
      " [543 539 539 542 536]\n",
      " [537 538 534 542 534]\n",
      " [540 527 525 538 525]\n",
      " [526 534 527 542 543]\n",
      " [527 543 534 525 537]\n",
      " [532 529 541 540 534]\n",
      " [525 537 526 528 534]\n",
      " [544 543 529 528 525]\n",
      " [542 536 543 525 544]\n",
      " [544 536 540 532 543]]\n",
      "Salaries Year5 NFQ8 [[654 655 641 651 645]\n",
      " [647 656 649 649 652]\n",
      " [656 658 649 649 655]\n",
      " [641 648 643 647 659]\n",
      " [642 642 652 642 655]\n",
      " [650 654 653 650 659]\n",
      " [652 659 659 642 655]\n",
      " [659 652 646 641 646]\n",
      " [650 648 646 657 649]\n",
      " [647 642 648 641 652]\n",
      " [653 651 650 652 654]\n",
      " [641 650 657 658 654]\n",
      " [640 643 643 643 641]\n",
      " [647 651 655 643 655]\n",
      " [646 654 653 646 656]\n",
      " [644 645 645 653 650]\n",
      " [640 644 644 650 640]\n",
      " [652 657 641 641 655]\n",
      " [649 646 654 658 648]\n",
      " [649 643 645 640 650]]\n"
     ]
    }
   ],
   "source": [
    "#NFQ Level 8 and weekly salary after 1, 3, 5 years, use randint that has discrete uniform distribution. 100 Datapoints\n",
    "\n",
    "#100 samples looking to simulate mean value of 425\n",
    "NFQ8_1 = np.random.randint(415,435,(20,5))\n",
    "print('Salaries Year1 NFQ8', NFQ8_1)\n",
    "\n",
    "#100 samples looking to simulate mean value of 535\n",
    "NFQ8_3 = np.random.randint(525,545,(20,5))\n",
    "print('Salaries Year3 NFQ8', NFQ8_3)\n",
    "\n",
    "#100 samples looking to simulate mean value of 650\n",
    "NFQ8_5 = np.random.randint(640,660,(20,5))\n",
    "print('Salaries Year5 NFQ8', NFQ8_5)"
   ]
  },
  {
   "cell_type": "code",
   "execution_count": 35,
   "metadata": {},
   "outputs": [
    {
     "name": "stdout",
     "output_type": "stream",
     "text": [
      "Salaries Year1 NFQ9 [[509 501 514 507 504]\n",
      " [506 512 511 504 518]\n",
      " [518 503 513 501 510]\n",
      " [500 503 501 508 516]\n",
      " [517 508 518 516 513]\n",
      " [511 513 514 504 512]\n",
      " [513 512 515 508 519]\n",
      " [507 519 505 512 512]\n",
      " [507 504 509 508 506]\n",
      " [507 517 507 503 515]\n",
      " [501 512 516 515 500]\n",
      " [518 515 506 503 512]\n",
      " [518 516 519 501 503]\n",
      " [514 508 500 509 519]\n",
      " [515 503 505 508 517]\n",
      " [508 517 510 515 501]\n",
      " [503 511 504 518 509]\n",
      " [512 516 500 501 519]\n",
      " [516 511 503 501 511]\n",
      " [503 501 500 513 511]]\n",
      "Salaries Year3 NFQ9 [[636 638 623 634 622]\n",
      " [620 638 626 625 632]\n",
      " [621 630 623 632 629]\n",
      " [625 624 620 634 634]\n",
      " [622 626 632 637 629]\n",
      " [622 638 627 637 637]\n",
      " [624 631 630 622 637]\n",
      " [638 639 626 626 626]\n",
      " [629 629 632 624 620]\n",
      " [639 628 637 620 626]\n",
      " [629 624 631 634 635]\n",
      " [629 627 633 636 632]\n",
      " [623 639 624 633 636]\n",
      " [637 626 622 637 627]\n",
      " [623 630 627 624 624]\n",
      " [625 638 634 637 638]\n",
      " [630 634 632 623 622]\n",
      " [629 632 630 627 621]\n",
      " [637 624 639 634 622]\n",
      " [629 622 633 623 632]]\n",
      "Salaries Year5 NFQ9 [[741 744 737 745 738]\n",
      " [734 748 734 742 732]\n",
      " [741 734 732 743 745]\n",
      " [749 739 741 749 740]\n",
      " [731 733 739 733 733]\n",
      " [736 736 730 740 733]\n",
      " [743 735 744 745 739]\n",
      " [745 738 731 736 732]\n",
      " [735 736 744 734 740]\n",
      " [746 741 739 734 747]\n",
      " [738 730 744 740 744]\n",
      " [739 739 749 749 734]\n",
      " [730 745 747 732 730]\n",
      " [745 748 734 735 736]\n",
      " [745 737 746 743 749]\n",
      " [741 738 747 735 735]\n",
      " [735 738 739 747 748]\n",
      " [737 733 734 738 730]\n",
      " [736 734 738 735 734]\n",
      " [745 738 740 749 736]]\n"
     ]
    }
   ],
   "source": [
    "#NFQ Level 9 and weekly salary after 1, 3, 5 years, use randint that has discrete uniform distribution. 100 Datapoints\n",
    "\n",
    "#100 samples looking to simulate mean value of 510\n",
    "NFQ9_1 = np.random.randint(500,520,(20,5))\n",
    "print('Salaries Year1 NFQ9', NFQ9_1)\n",
    "\n",
    "#100 samples looking to simulate mean value of 630\n",
    "NFQ9_3 = np.random.randint(620,640,(20,5))\n",
    "print('Salaries Year3 NFQ9', NFQ9_3)\n",
    "\n",
    "#100 samples looking to simulate mean value of 740\n",
    "NFQ9_5 = np.random.randint(730,750,(20,5))\n",
    "print('Salaries Year5 NFQ9', NFQ9_5)"
   ]
  },
  {
   "cell_type": "code",
   "execution_count": 36,
   "metadata": {},
   "outputs": [
    {
     "name": "stdout",
     "output_type": "stream",
     "text": [
      "Salaries Year1 NFQ10 [[703 712 696 704 713]\n",
      " [706 713 714 702 698]\n",
      " [697 702 710 705 700]\n",
      " [710 701 710 713 696]\n",
      " [701 699 712 710 709]\n",
      " [712 702 706 705 709]\n",
      " [703 704 698 710 708]\n",
      " [701 706 699 711 695]\n",
      " [708 703 714 707 697]\n",
      " [703 702 695 713 702]\n",
      " [696 702 713 714 696]\n",
      " [705 705 704 701 703]\n",
      " [710 696 703 702 705]\n",
      " [704 695 711 708 700]\n",
      " [714 695 701 711 706]\n",
      " [702 704 710 709 708]\n",
      " [714 701 705 714 711]\n",
      " [706 699 696 698 698]\n",
      " [708 701 702 703 696]\n",
      " [700 707 701 705 712]]\n",
      "Salaries Year3 NFQ10 [[809 810 802 799 798]\n",
      " [804 804 806 805 799]\n",
      " [809 807 804 796 809]\n",
      " [795 805 804 799 804]\n",
      " [799 805 801 807 796]\n",
      " [799 813 801 809 804]\n",
      " [798 798 803 797 796]\n",
      " [795 797 812 807 801]\n",
      " [813 813 801 811 802]\n",
      " [795 812 799 810 803]\n",
      " [814 808 800 813 813]\n",
      " [800 805 811 808 797]\n",
      " [813 807 795 797 803]\n",
      " [802 809 808 808 804]\n",
      " [798 795 811 800 814]\n",
      " [813 797 796 806 796]\n",
      " [798 814 811 805 812]\n",
      " [798 801 805 802 803]\n",
      " [804 800 799 798 795]\n",
      " [800 813 796 812 809]]\n",
      "Salaries Year5 NFQ10 [[915 920 916 920 919]\n",
      " [915 912 928 921 915]\n",
      " [911 926 916 921 923]\n",
      " [915 915 917 912 918]\n",
      " [919 923 919 925 913]\n",
      " [911 913 919 927 913]\n",
      " [911 925 916 910 910]\n",
      " [927 924 929 920 927]\n",
      " [913 917 929 926 911]\n",
      " [914 910 922 923 915]\n",
      " [927 924 910 920 912]\n",
      " [915 916 929 910 926]\n",
      " [922 915 924 927 921]\n",
      " [919 910 910 914 928]\n",
      " [925 914 925 925 918]\n",
      " [914 913 919 915 923]\n",
      " [925 913 910 923 925]\n",
      " [917 926 929 926 916]\n",
      " [911 917 916 914 914]\n",
      " [916 918 924 923 923]]\n"
     ]
    }
   ],
   "source": [
    "#NFQ Level 10 and weekly salary after 1, 3, 5 years, use randint that has discrete uniform distribution. 100 Datapoints\n",
    "\n",
    "#100 samples looking to simulate mean value of 705\n",
    "NFQ10_1 = np.random.randint(695,715,(20,5))\n",
    "print('Salaries Year1 NFQ10', NFQ10_1)\n",
    "\n",
    "#100 samples looking to simulate mean value of 805\n",
    "NFQ10_3 = np.random.randint(795,815,(20,5))\n",
    "print('Salaries Year3 NFQ10', NFQ10_3)\n",
    "\n",
    "#100 samples looking to simulate mean value of 920\n",
    "NFQ10_5 = np.random.randint(910,930,(20,5))\n",
    "print('Salaries Year5 NFQ10', NFQ10_5)"
   ]
  },
  {
   "cell_type": "markdown",
   "metadata": {},
   "source": [
    "### Calculate mean values for all NFQ Levels to see if similar to Figure 6.4"
   ]
  },
  {
   "cell_type": "code",
   "execution_count": 37,
   "metadata": {},
   "outputs": [
    {
     "name": "stdout",
     "output_type": "stream",
     "text": [
      "Mean weekly wage of NFQ6 after 1 year is 244.51\n",
      "Mean weekly wage of NFQ6 after 3 years is 359.05\n",
      "Mean weekly wage of NFQ6 after 5 years is 475.07\n"
     ]
    }
   ],
   "source": [
    "#Calculate mean of weekly salaries for each qualification after 1, 3, 5 years after graduation\n",
    "\n",
    "#NFQ level 6 after 1 year\n",
    "x1 = np.mean(NFQ6_1)\n",
    "print('Mean weekly wage of NFQ6 after 1 year is', x1)\n",
    "\n",
    "#NFQ level 6 after 3 years\n",
    "x2 = np.mean(NFQ6_3)\n",
    "print('Mean weekly wage of NFQ6 after 3 years is', x2)\n",
    "\n",
    "#NFQ level 6 after 5 years\n",
    "x3 = np.mean(NFQ6_5)\n",
    "print('Mean weekly wage of NFQ6 after 5 years is', x3)"
   ]
  },
  {
   "cell_type": "code",
   "execution_count": 38,
   "metadata": {},
   "outputs": [
    {
     "name": "stdout",
     "output_type": "stream",
     "text": [
      "Mean weekly wage of NFQ7 after 1 year is 289.31\n",
      "Mean weekly wage of NFQ7 after 3 years is 419.39\n",
      "Mean weekly wage of NFQ7 after 5 years is 523.24\n"
     ]
    }
   ],
   "source": [
    "#NFQ level 7 after 1 year\n",
    "x4 = np.mean(NFQ7_1)\n",
    "print('Mean weekly wage of NFQ7 after 1 year is', x4)\n",
    "\n",
    "#NFQ level 7 after 3 years\n",
    "x5 = np.mean(NFQ7_3)\n",
    "print('Mean weekly wage of NFQ7 after 3 years is', x5)\n",
    "\n",
    "#NFQ level 7 after 5 years\n",
    "x6 = np.mean(NFQ7_5)\n",
    "print('Mean weekly wage of NFQ7 after 5 years is', x6)"
   ]
  },
  {
   "cell_type": "code",
   "execution_count": 39,
   "metadata": {},
   "outputs": [
    {
     "name": "stdout",
     "output_type": "stream",
     "text": [
      "Mean weekly wage of NFQ8 after 1 year is 424.41\n",
      "Mean weekly wage of NFQ8 after 3 years is 535.31\n",
      "Mean weekly wage of NFQ8 after 5 years is 649.13\n"
     ]
    }
   ],
   "source": [
    "#NFQ level 8 after 1 year\n",
    "x7 = np.mean(NFQ8_1)\n",
    "print('Mean weekly wage of NFQ8 after 1 year is', x7)\n",
    "\n",
    "#NFQ level 8 after 3 years\n",
    "x8 = np.mean(NFQ8_3)\n",
    "print('Mean weekly wage of NFQ8 after 3 years is', x8)\n",
    "\n",
    "#NFQ level 8 after 5 years\n",
    "x9 = np.mean(NFQ8_5)\n",
    "print('Mean weekly wage of NFQ8 after 5 years is', x9)"
   ]
  },
  {
   "cell_type": "code",
   "execution_count": 40,
   "metadata": {},
   "outputs": [
    {
     "name": "stdout",
     "output_type": "stream",
     "text": [
      "Mean weekly wage of NFQ9 after 1 year is 509.57\n",
      "Mean weekly wage of NFQ9 after 3 years is 629.45\n",
      "Mean weekly wage of NFQ9 after 5 years is 739.04\n"
     ]
    }
   ],
   "source": [
    "#NFQ level 9 after 1 year\n",
    "x10 = np.mean(NFQ9_1)\n",
    "print('Mean weekly wage of NFQ9 after 1 year is', x10)\n",
    "\n",
    "#NFQ level 9 after 3 years\n",
    "x11 = np.mean(NFQ9_3)\n",
    "print('Mean weekly wage of NFQ9 after 3 years is', x11)\n",
    "\n",
    "#NFQ level 9 after 5 years\n",
    "x12 = np.mean(NFQ9_5)\n",
    "print('Mean weekly wage of NFQ9 after 5 years is', x12)"
   ]
  },
  {
   "cell_type": "code",
   "execution_count": 41,
   "metadata": {},
   "outputs": [
    {
     "name": "stdout",
     "output_type": "stream",
     "text": [
      "Mean weekly wage of NFQ10 after 1 year is 704.59\n",
      "Mean weekly wage of NFQ10 after 3 years is 803.81\n",
      "Mean weekly wage of NFQ10 after 5 years is 918.72\n"
     ]
    }
   ],
   "source": [
    "#NFQ level 10 after 1 year\n",
    "x13 = np.mean(NFQ10_1)\n",
    "print('Mean weekly wage of NFQ10 after 1 year is', x13)\n",
    "\n",
    "#NFQ level 10 after 3 years\n",
    "x14 = np.mean(NFQ10_3)\n",
    "print('Mean weekly wage of NFQ10 after 3 years is', x14)\n",
    "\n",
    "#NFQ level 10 after 5 years\n",
    "x15 = np.mean(NFQ10_5)\n",
    "print('Mean weekly wage of NFQ10 after 5 years is', x15)"
   ]
  },
  {
   "cell_type": "code",
   "execution_count": 42,
   "metadata": {},
   "outputs": [
    {
     "data": {
      "image/png": "[encoded data removed]",
      "text/plain": [
       "<matplotlib.figure.Figure at 0x1d539f0b0b8>"
      ]
     },
     "metadata": {},
     "output_type": "display_data"
    }
   ],
   "source": [
    "#Plotting simulated data to see if result is similar to the image 6.4 above.\n",
    "fig, ax = plt.subplots()\n",
    "ax.plot(y1, x1, 'go')\n",
    "ax.plot(y2, x2, 'go')\n",
    "ax.plot(y3, x3, 'go')\n",
    "ax.plot(y1, x4, 'ko')\n",
    "ax.plot(y2, x5, 'ko')\n",
    "ax.plot(y3, x6, 'ko')\n",
    "ax.plot(y1, x7, 'bo')\n",
    "ax.plot(y2, x8, 'bo')\n",
    "ax.plot(y3, x9, 'bo')\n",
    "ax.plot(y1, x10, 'ro')\n",
    "ax.plot(y2, x11, 'ro')\n",
    "ax.plot(y3, x12, 'ro')\n",
    "ax.plot(y1, x13, 'yo')\n",
    "ax.plot(y2, x14, 'yo')\n",
    "ax.plot(y3, x15, 'yo')\n",
    "ax.set(xlabel='Years since Graduation', ylabel='wages per week(Euros)',\n",
    "       title='Weekly Salary and NFQ Levels')\n",
    "ax.grid()\n",
    "plt.show()"
   ]
  },
  {
   "cell_type": "code",
   "execution_count": 43,
   "metadata": {},
   "outputs": [
    {
     "name": "stdout",
     "output_type": "stream",
     "text": [
      "Wage difference from NFQ10 & NFQ6 5 years after graduation is € 443.65\n",
      "Wage difference from NFQ10 & NFQ7 5 years after graduation is € 395.48\n",
      "Wage difference from NFQ10 & NFQ8 5 years after graduation is € 269.59\n",
      "Wage difference from NFQ10 & NFQ9 5 years after graduation is € 179.68\n"
     ]
    }
   ],
   "source": [
    "#Calculate wage differnecs between all NFQ levels after 5 years.\n",
    "range1  = x15 -x3\n",
    "print('Wage difference from NFQ10 & NFQ6 5 years after graduation is €', range1)\n",
    "\n",
    "range2 = x15 - x6\n",
    "print('Wage difference from NFQ10 & NFQ7 5 years after graduation is €', range2)\n",
    "\n",
    "range3 = x15 - x9\n",
    "print('Wage difference from NFQ10 & NFQ8 5 years after graduation is €', range3)\n",
    "\n",
    "range4 = x15 - x12\n",
    "print('Wage difference from NFQ10 & NFQ9 5 years after graduation is €', range4)"
   ]
  },
  {
   "cell_type": "markdown",
   "metadata": {},
   "source": [
    "#### From the above data showing the ranges of wages we can see that the discrepency of wage level decreases with higher NFQ level. This is the expected result."
   ]
  },
  {
   "cell_type": "code",
   "execution_count": 44,
   "metadata": {},
   "outputs": [
    {
     "name": "stdout",
     "output_type": "stream",
     "text": [
      "      0    1    2    3    4\n",
      "0   245  249  249  242  242\n",
      "1   241  240  243  241  240\n",
      "2   242  245  240  242  244\n",
      "3   246  245  248  247  246\n",
      "4   248  242  244  248  249\n",
      "5   241  246  242  242  242\n",
      "6   240  243  246  242  244\n",
      "7   242  247  242  246  244\n",
      "8   247  249  242  242  244\n",
      "9   248  246  243  246  246\n",
      "10  247  241  240  245  246\n",
      "11  245  242  243  245  241\n",
      "12  245  244  245  245  246\n",
      "13  249  248  248  241  246\n",
      "14  248  241  246  249  244\n",
      "15  241  243  243  243  242\n",
      "16  242  241  247  246  248\n",
      "17  249  249  243  245  247\n",
      "18  248  243  241  247  248\n",
      "19  246  241  244  245  249\n",
      "      0    1    2    3    4\n",
      "0   368  358  357  364  363\n",
      "1   355  362  368  355  359\n",
      "2   362  357  351  359  362\n",
      "3   365  355  364  354  350\n",
      "4   359  358  353  354  354\n",
      "5   365  357  352  365  362\n",
      "6   355  364  363  358  365\n",
      "7   351  363  357  350  362\n",
      "8   366  350  362  367  363\n",
      "9   367  361  352  363  365\n",
      "10  355  350  354  351  369\n",
      "11  354  359  350  366  368\n",
      "12  355  363  354  362  355\n",
      "13  367  355  368  368  362\n",
      "14  361  366  350  365  362\n",
      "15  351  352  351  355  369\n",
      "16  357  352  355  353  366\n",
      "17  351  358  356  360  365\n",
      "18  364  363  361  355  369\n",
      "19  357  354  359  357  355\n",
      "      0    1    2    3    4\n",
      "0   478  474  473  478  478\n",
      "1   477  478  476  478  479\n",
      "2   475  472  476  470  478\n",
      "3   478  479  479  473  479\n",
      "4   479  475  473  476  479\n",
      "5   479  473  477  470  478\n",
      "6   476  476  478  470  478\n",
      "7   473  477  470  470  477\n",
      "8   473  471  478  475  471\n",
      "9   472  478  476  477  478\n",
      "10  475  474  475  476  473\n",
      "11  470  472  475  479  471\n",
      "12  470  476  479  471  477\n",
      "13  472  479  471  476  476\n",
      "14  472  472  474  476  475\n",
      "15  470  475  477  477  478\n",
      "16  477  475  476  471  471\n",
      "17  475  477  470  478  476\n",
      "18  475  475  474  478  475\n",
      "19  474  472  474  471  479\n"
     ]
    }
   ],
   "source": [
    "#Dataframes can be generated from the random generated and the data can be described.\n",
    "#Make dataframe for NFQ6 and look at data\n",
    "df = pd.DataFrame(NFQ6_1)\n",
    "df1 = pd.DataFrame(NFQ6_3)\n",
    "df2 = pd.DataFrame(NFQ6_5)\n",
    "print(df.head(20))\n",
    "print(df1.head(20))\n",
    "print(df2.head(20))"
   ]
  },
  {
   "cell_type": "code",
   "execution_count": 45,
   "metadata": {},
   "outputs": [
    {
     "name": "stdout",
     "output_type": "stream",
     "text": [
      "                0           1           2           3           4\n",
      "count   60.000000   60.000000   60.000000   60.000000   60.000000\n",
      "mean   359.583333  359.033333  358.616667  359.333333  361.150000\n",
      "std     94.573492   95.066786   95.231047   94.792846   95.341994\n",
      "min    240.000000  240.000000  240.000000  241.000000  240.000000\n",
      "25%    248.000000  246.750000  246.000000  246.000000  246.750000\n",
      "50%    358.000000  358.000000  355.500000  358.500000  362.500000\n",
      "75%    472.000000  472.250000  473.250000  471.000000  475.000000\n",
      "max    479.000000  479.000000  479.000000  479.000000  479.000000\n",
      "               0           1           2           3           4\n",
      "count   60.00000   60.000000   60.000000   60.000000   60.000000\n",
      "mean   410.80000  411.266667  411.066667  410.016667  410.083333\n",
      "std     98.18105   96.538192   97.014391   94.493026   97.128831\n",
      "min    280.00000  280.000000  281.000000  281.000000  280.000000\n",
      "25%    293.00000  294.000000  294.750000  294.750000  292.750000\n",
      "50%    419.00000  419.000000  417.500000  419.000000  420.500000\n",
      "75%    521.25000  517.250000  518.000000  516.000000  518.250000\n",
      "max    533.00000  534.000000  532.000000  529.000000  533.000000\n",
      "                0           1           2           3           4\n",
      "count   60.000000   60.000000   60.000000   60.000000   60.000000\n",
      "mean   535.883333  537.900000  535.250000  535.350000  537.033333\n",
      "std     92.131831   91.983363   93.082181   92.388976   93.895356\n",
      "min    416.000000  417.000000  415.000000  415.000000  415.000000\n",
      "25%    430.000000  432.500000  428.500000  429.500000  430.500000\n",
      "50%    535.000000  538.000000  534.000000  536.500000  536.000000\n",
      "75%    642.500000  644.250000  644.250000  642.000000  648.250000\n",
      "max    659.000000  659.000000  659.000000  658.000000  659.000000\n",
      "                0           1           2           3           4\n",
      "count   60.000000   60.000000   60.000000   60.000000   60.000000\n",
      "mean   626.033333  626.383333  625.666667  625.966667  626.050000\n",
      "std     94.649571   94.119306   95.278480   95.909909   93.419489\n",
      "min    500.000000  501.000000  500.000000  501.000000  500.000000\n",
      "25%    515.750000  515.750000  514.000000  512.750000  516.750000\n",
      "50%    629.000000  630.000000  630.000000  632.500000  629.000000\n",
      "75%    735.250000  734.250000  734.000000  735.000000  733.000000\n",
      "max    749.000000  748.000000  749.000000  749.000000  749.000000\n",
      "                0           1           2           3           4\n",
      "count   60.000000   60.000000   60.000000   60.000000   60.000000\n",
      "mean   808.350000  808.550000  809.533333  810.600000  808.166667\n",
      "std     87.532043   88.739463   88.974471   87.894235   88.946788\n",
      "min    696.000000  695.000000  695.000000  698.000000  695.000000\n",
      "25%    709.500000  704.750000  710.750000  711.000000  708.750000\n",
      "50%    800.000000  806.000000  802.500000  805.500000  803.000000\n",
      "75%    913.250000  913.000000  916.000000  914.250000  913.250000\n",
      "max    927.000000  926.000000  929.000000  927.000000  928.000000\n"
     ]
    }
   ],
   "source": [
    "#combine dataframes together for all NFQ levels.\n",
    "# edited from https://pandas.pydata.org/pandas-docs/stable/merging.html\n",
    "#decribe data\n",
    "data = [df, df1, df2]\n",
    "NFQ6 = pd.concat(data)\n",
    "print(NFQ6.describe())\n",
    "\n",
    "\n",
    "df3 = pd.DataFrame(NFQ7_1)\n",
    "df4 = pd.DataFrame(NFQ7_3)\n",
    "df5 = pd.DataFrame(NFQ7_5)\n",
    "data1 = [df3, df4, df5]\n",
    "NFQ7 = pd.concat(data1)\n",
    "print(NFQ7.describe())\n",
    "\n",
    "\n",
    "df6 = pd.DataFrame(NFQ8_1)\n",
    "df7 = pd.DataFrame(NFQ8_3)\n",
    "df8 = pd.DataFrame(NFQ8_5)\n",
    "data2 = [df6, df7, df8]\n",
    "NFQ8 = pd.concat(data2)\n",
    "print(NFQ8.describe())\n",
    "\n",
    "df9 = pd.DataFrame(NFQ9_1)\n",
    "df10 = pd.DataFrame(NFQ9_3)\n",
    "df11 = pd.DataFrame(NFQ9_5)\n",
    "data3 = [df9, df10, df11]\n",
    "NFQ9 = pd.concat(data3)\n",
    "print(NFQ9.describe())\n",
    "\n",
    "\n",
    "df12 = pd.DataFrame(NFQ10_1)\n",
    "df13 = pd.DataFrame(NFQ10_3)\n",
    "df14 = pd.DataFrame(NFQ10_5)\n",
    "data4 = [df12, df13, df14]\n",
    "NFQ10 = pd.concat(data4)\n",
    "print(NFQ10.describe())\n"
   ]
  },
  {
   "cell_type": "code",
   "execution_count": 46,
   "metadata": {},
   "outputs": [
    {
     "name": "stdout",
     "output_type": "stream",
     "text": [
      "Percentage of wages received for NFQ6 in relation to NFQ10 after 5 years is 51.7099878091\n",
      "Percentage of wages received for NFQ7 in relation to NFQ10 after 5 years is 56.9531522118\n",
      "Percentage of wages received for NFQ8 in relation to NFQ10 after 5 years is 70.655912574\n",
      "Percentage of wages received for NFQ9 in relation to NFQ10 after 5 years is 80.4423545803\n"
     ]
    }
   ],
   "source": [
    "#Calculate percentage difference of salary levels after 5 years experience\n",
    "Percentage1=(x3/x15) *100\n",
    "print(\"Percentage of wages received for NFQ6 in relation to NFQ10 after 5 years is\", Percentage1)\n",
    "\n",
    "#Calculate percentage difference of salary levels after 5 years experience\n",
    "Percentage2=(x6/x15) *100\n",
    "print(\"Percentage of wages received for NFQ7 in relation to NFQ10 after 5 years is\", Percentage2)\n",
    "\n",
    "#Calculate percentage difference of salary levels after 5 years experience\n",
    "Percentage3=(x9/x15) *100\n",
    "print(\"Percentage of wages received for NFQ8 in relation to NFQ10 after 5 years is\", Percentage3)\n",
    "\n",
    "#Calculate percentage difference of salary levels after 5 years experience\n",
    "Percentage4=(x12/x15) *100\n",
    "print(\"Percentage of wages received for NFQ9 in relation to NFQ10 after 5 years is\", Percentage4)"
   ]
  },
  {
   "cell_type": "markdown",
   "metadata": {},
   "source": [
    "The above percentages are similar to the data in the in the U.S. census highlighted above. The difference between NFQ10 and NFQ9 is 20% which is the same deviation for graduates of pysical sciences at masters and doctorate level."
   ]
  },
  {
   "cell_type": "code",
   "execution_count": 50,
   "metadata": {},
   "outputs": [
    {
     "data": {
      "image/png": "[encoded data removed]",
      "text/plain": [
       "<matplotlib.figure.Figure at 0x1d53a0239b0>"
      ]
     },
     "metadata": {},
     "output_type": "display_data"
    }
   ],
   "source": [
    "#Edited from https://bespokeblog.wordpress.com/2011/07/07/basic-data-plotting-with-matplotlib-part-2-lines-points-formatting/\n",
    "#Plot percentage difference of salary levels after 5 years experience\n",
    "percentages = (Percentage1, Percentage2, Percentage3, Percentage4,)\n",
    "plt.plot(percentages, marker='o', linestyle='--', color='r', label='Percentages')\n",
    "plt.title(\"Percentage of Salary Difference With Increased NFQ Level Comapared to NFQ Level 10.\")\n",
    "plt.ylabel(\"Percentage of Salary\")\n",
    "plt.show()"
   ]
  },
  {
   "cell_type": "code",
   "execution_count": null,
   "metadata": {
    "collapsed": true
   },
   "outputs": [],
   "source": [
    "#Calculate percentage difference of salary levels after 3 years experience"
   ]
  },
  {
   "cell_type": "markdown",
   "metadata": {},
   "source": [
    "### Conclusion:\n",
    "\n",
    "From the "
   ]
  },
  {
   "cell_type": "markdown",
   "metadata": {
    "collapsed": true
   },
   "source": [
    "### References:\n",
    "\n",
    "[1] https://www.qqi.ie/Articles/Pages/National-Framework-of-Qualifications-(NFQ).aspx\n",
    "\n",
    "[2] https://trends.collegeboard.org/education-pays/figures-tables/lifetime-earnings-education-level\n",
    "\n",
    "[3] Salary Difference Between Master’s and Ph.D. Degrees \n",
    "\n",
    "https://www.wes.org/advisor-blog/salary-difference-masters-phd/\n",
    "\n",
    "\n"
   ]
  },
  {
   "cell_type": "code",
   "execution_count": null,
   "metadata": {
    "collapsed": true
   },
   "outputs": [],
   "source": []
  }
 ],
 "metadata": {
  "kernelspec": {
   "display_name": "Python 3",
   "language": "python",
   "name": "python3"
  },
  "language_info": {
   "codemirror_mode": {
    "name": "ipython",
    "version": 3
   },
   "file_extension": ".py",
   "mimetype": "text/x-python",
   "name": "python",
   "nbconvert_exporter": "python",
   "pygments_lexer": "ipython3",
   "version": "3.6.3"
  }
 },
 "nbformat": 4,
 "nbformat_minor": 2
}
